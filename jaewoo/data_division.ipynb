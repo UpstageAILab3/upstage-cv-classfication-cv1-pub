{
 "cells": [
  {
   "cell_type": "code",
   "execution_count": 3,
   "metadata": {},
   "outputs": [],
   "source": [
    "import os\n",
    "import time\n",
    "import random\n",
    "\n",
    "import timm\n",
    "import torch\n",
    "import albumentations as A\n",
    "import pandas as pd\n",
    "import numpy as np\n",
    "import torch.nn as nn\n",
    "from albumentations.pytorch import ToTensorV2\n",
    "from torch.optim import Adam\n",
    "from torchvision import transforms\n",
    "from torch.utils.data import Dataset, DataLoader, random_split\n",
    "from PIL import Image\n",
    "from tqdm import tqdm\n",
    "from sklearn.metrics import accuracy_score, f1_score\n",
    "\n",
    "import PIL\n",
    "from PIL import Image\n",
    "import matplotlib.pyplot as plt\n",
    "\n",
    "import torchvision # PyTorch의 컴퓨터 비전 라이브러리\n",
    "import torchvision.transforms as T # 이미지 변환을 위한 모듈\n",
    "\n",
    "import torch.nn.functional as F"
   ]
  },
  {
   "cell_type": "code",
   "execution_count": 34,
   "metadata": {},
   "outputs": [],
   "source": [
    "# meta와 train데이터 가져오기\n",
    "meta = pd.read_csv('../datasets_fin/meta.csv')\n",
    "train_data = pd.read_csv('../datasets_fin/train.csv')"
   ]
  },
  {
   "cell_type": "code",
   "execution_count": 92,
   "metadata": {},
   "outputs": [],
   "source": [
    "train = pd.DataFrame()\n",
    "vaild = pd.DataFrame()\n",
    "test = pd.DataFrame()"
   ]
  },
  {
   "cell_type": "code",
   "execution_count": 118,
   "metadata": {},
   "outputs": [],
   "source": [
    "vaild = train_data[train_data['target'] == 0].sample(n=20, random_state=42)[:10]\n",
    "test = train_data[train_data['target'] == 0].sample(n=20, random_state=42)[10:]\n",
    "train = train_data[train_data['target'] == 0].drop(train_data[train_data['target'] == 0].sample(n=20, random_state=42).index, axis=0)"
   ]
  },
  {
   "cell_type": "code",
   "execution_count": 119,
   "metadata": {},
   "outputs": [],
   "source": [
    "vaild = pd.concat([vaild,train_data[train_data['target'] == 1].sample(n=10, random_state=42)[:5]])\n",
    "test = pd.concat([test, train_data[train_data['target'] == 1].sample(n=10, random_state=42)[5:]])\n",
    "train = pd.concat([train, train_data[train_data['target'] == 1].drop(train_data[train_data['target'] == 1].sample(n=10, random_state=42).index, axis=0)])"
   ]
  },
  {
   "cell_type": "code",
   "execution_count": 122,
   "metadata": {},
   "outputs": [],
   "source": [
    "for i in range(2,17):\n",
    "    if i == 13:\n",
    "        vaild = pd.concat([vaild,train_data[train_data['target'] == i].sample(n=14, random_state=42)[:7]])\n",
    "        test = pd.concat([test, train_data[train_data['target'] == i].sample(n=14, random_state=42)[7:]])\n",
    "        train = pd.concat([train, train_data[train_data['target'] == i].drop(train_data[train_data['target'] == i].sample(n=14, random_state=42).index, axis=0)])\n",
    "    elif i == 14:\n",
    "        vaild = pd.concat([vaild,train_data[train_data['target'] == i].sample(n=10, random_state=42)[:5]])\n",
    "        test = pd.concat([test, train_data[train_data['target'] == i].sample(n=10, random_state=42)[5:]])\n",
    "        train = pd.concat([train, train_data[train_data['target'] == i].drop(train_data[train_data['target'] == i].sample(n=10, random_state=42).index, axis=0)])\n",
    "    else:\n",
    "        vaild = pd.concat([vaild,train_data[train_data['target'] == i].sample(n=20, random_state=42)[:10]])\n",
    "        test = pd.concat([test, train_data[train_data['target'] == i].sample(n=20, random_state=42)[10:]])\n",
    "        train = pd.concat([train, train_data[train_data['target'] == i].drop(train_data[train_data['target'] == i].sample(n=20, random_state=42).index, axis=0)])"
   ]
  },
  {
   "cell_type": "code",
   "execution_count": 129,
   "metadata": {},
   "outputs": [],
   "source": [
    "train = train.sort_index()\n",
    "vaild = vaild.sort_index()\n",
    "test = test.sort_index()"
   ]
  },
  {
   "cell_type": "code",
   "execution_count": 135,
   "metadata": {},
   "outputs": [],
   "source": [
    "# 제대로 분할됐는지 확인\n",
    "for i in vaild.index:\n",
    "    if i in train.index:\n",
    "        print(i)\n",
    "    if i in test.index:\n",
    "        print(i)"
   ]
  },
  {
   "cell_type": "code",
   "execution_count": 136,
   "metadata": {},
   "outputs": [],
   "source": [
    "for i in test.index:\n",
    "    if i in train.index:\n",
    "        print(i)\n",
    "    if i in vaild.index:\n",
    "        print(i)"
   ]
  },
  {
   "cell_type": "code",
   "execution_count": 137,
   "metadata": {},
   "outputs": [],
   "source": [
    "train.to_csv('../datasets_fin/divided_train.csv', index=False)\n",
    "vaild.to_csv('../datasets_fin/vaild.csv', index=False)\n",
    "test.to_csv('../datasets_fin/test.csv', index=False)"
   ]
  }
 ],
 "metadata": {
  "kernelspec": {
   "display_name": "base",
   "language": "python",
   "name": "python3"
  },
  "language_info": {
   "codemirror_mode": {
    "name": "ipython",
    "version": 3
   },
   "file_extension": ".py",
   "mimetype": "text/x-python",
   "name": "python",
   "nbconvert_exporter": "python",
   "pygments_lexer": "ipython3",
   "version": "3.10.13"
  }
 },
 "nbformat": 4,
 "nbformat_minor": 2
}
