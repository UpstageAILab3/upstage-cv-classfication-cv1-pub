{
 "cells": [
  {
   "cell_type": "markdown",
   "metadata": {},
   "source": [
    "# augmentation을 적용한 함수 dl모델을 제작"
   ]
  },
  {
   "cell_type": "markdown",
   "metadata": {},
   "source": [
    "데이터 증강 함수\n",
    "- A.Resize(height=256, width=256) : 사이즈 변경\n",
    "- A.Normalize(mean=[0.485, 0.456, 0.406], std=[0.229, 0.224, 0.225]) : 이미지 픽셀 정규화\n",
    "- A.CoarseDropout(max_holes=16, max_height=16, max_width=16, min_holes=1, min_height=16, min_width=16) : 픽셀 드롭아웃(구멍뚫기)\n",
    "- A.Rotate(limit=(115, 115), border_mode=cv2.BORDER_CONSTANT,value=[255, 255, 255], p=1.0) : 비율 유지하여 회전, 빈공간 흰색\n",
    "- A.VerticalFlip(always_apply=False, p=0.5) : 좌우반전\n",
    "- A.HorizontalFlip(always_apply=False, p=1.0) : 상하반전\n",
    "- A.Blur(always_apply=True, p=1.0, blur_limit=(3, 7)) : 블러\n",
    "- A.GaussNoise(always_apply=False, p=1.0, var_limit=(10.0, 50.0)) : 가우시안, 되는지 의문\n",
    "- A.Downscale(always_apply=False, p=1.0, scale_min=0.35, scale_max=0.35, interpolation=0) : 픽셀다운, 모자이크\n",
    "- 믹스 추가필요"
   ]
  },
  {
   "cell_type": "markdown",
   "metadata": {},
   "source": [
    "데이터증강을 확률에 의한 적용 실험\n",
    "생각 보다 성능이 나와주지 않음, 또한 tst set에 대해서도 데이터 증강이 적용 필요해 보임"
   ]
  },
  {
   "cell_type": "code",
   "execution_count": 1,
   "metadata": {},
   "outputs": [],
   "source": [
    "import os\n",
    "import time\n",
    "import random\n",
    "\n",
    "import timm\n",
    "import torch\n",
    "import albumentations as A\n",
    "import pandas as pd\n",
    "import numpy as np\n",
    "import torch.nn as nn\n",
    "from albumentations.pytorch import ToTensorV2\n",
    "from torch.optim import Adam\n",
    "from torchvision import transforms\n",
    "from torch.utils.data import Dataset, DataLoader, ConcatDataset\n",
    "from PIL import Image\n",
    "from tqdm import tqdm\n",
    "from sklearn.metrics import accuracy_score, f1_score\n",
    "\n",
    "import cv2\n",
    "import matplotlib.pyplot as plt\n",
    "\n",
    "from itertools import combinations"
   ]
  },
  {
   "cell_type": "code",
   "execution_count": 2,
   "metadata": {},
   "outputs": [],
   "source": [
    "# 시드를 고정합니다.\n",
    "SEED = 42\n",
    "os.environ['PYTHONHASHSEED'] = str(SEED)\n",
    "random.seed(SEED)\n",
    "np.random.seed(SEED)\n",
    "torch.manual_seed(SEED)\n",
    "torch.cuda.manual_seed(SEED)\n",
    "torch.cuda.manual_seed_all(SEED)\n",
    "torch.backends.cudnn.benchmark = True"
   ]
  },
  {
   "cell_type": "code",
   "execution_count": 3,
   "metadata": {},
   "outputs": [],
   "source": [
    "# 데이터셋 클래스를 정의합니다.\n",
    "class ImageDataset(Dataset):\n",
    "    def __init__(self, csv, path, transform=None):\n",
    "        self.df = pd.read_csv(csv).values\n",
    "        self.path = path\n",
    "        self.transform = transform\n",
    "\n",
    "    def __len__(self):\n",
    "        return len(self.df)\n",
    "\n",
    "    def __getitem__(self, idx):\n",
    "        name, target = self.df[idx]\n",
    "        img = np.array(Image.open(os.path.join(self.path, name)))\n",
    "        if self.transform:\n",
    "            img = self.transform(image=img)['image']\n",
    "        return img, target"
   ]
  },
  {
   "cell_type": "code",
   "execution_count": 4,
   "metadata": {},
   "outputs": [],
   "source": [
    "# one epoch 학습을 위한 함수입니다.\n",
    "def train_one_epoch(loader, vaild_loader, model, optimizer, loss_fn, device):\n",
    "    model.train()\n",
    "    train_loss = 0\n",
    "    preds_list = []\n",
    "    targets_list = []\n",
    "    vaild_preds_list = []\n",
    "    vaild_target_list = []\n",
    "\n",
    "    pbar = tqdm(loader)\n",
    "    for image, targets in pbar:\n",
    "        image = image.float().to(device)\n",
    "        targets = targets.to(device)\n",
    "\n",
    "        model.zero_grad(set_to_none=True)\n",
    "\n",
    "        preds = model(image)\n",
    "        loss = loss_fn(preds, targets)\n",
    "        loss.backward()\n",
    "        optimizer.step()\n",
    "\n",
    "        train_loss += loss.item()\n",
    "        preds_list.extend(preds.argmax(dim=1).detach().cpu().numpy())\n",
    "        targets_list.extend(targets.detach().cpu().numpy())\n",
    "\n",
    "        pbar.set_description(f\"Loss: {loss.item():.4f}\")\n",
    "\n",
    "    train_loss /= len(loader)\n",
    "    train_acc = accuracy_score(targets_list, preds_list)\n",
    "    train_f1 = f1_score(targets_list, preds_list, average='macro')\n",
    "\n",
    "    # vaildation set predict\n",
    "    model.eval()\n",
    "    for image, target in tqdm(vaild_loader):\n",
    "        image = image.float().to(device)\n",
    "\n",
    "        with torch.no_grad():\n",
    "            preds = model(image)\n",
    "        vaild_preds_list.extend(preds.argmax(dim=1).detach().cpu().numpy())\n",
    "        vaild_target_list.extend(target.detach().cpu().numpy())\n",
    "    vaild_acc = accuracy_score(vaild_target_list, vaild_preds_list)\n",
    "    vaild_f1 = f1_score(vaild_target_list, vaild_preds_list, average='macro')\n",
    "\n",
    "    ret = {\n",
    "        \"train_loss\": train_loss,\n",
    "        \"train_acc\": train_acc,\n",
    "        \"train_f1\": train_f1,\n",
    "        \"vaild_acc\": vaild_acc,\n",
    "        \"vaild_f1\": vaild_f1,\n",
    "    }\n",
    "\n",
    "    return ret"
   ]
  },
  {
   "cell_type": "code",
   "execution_count": 5,
   "metadata": {},
   "outputs": [],
   "source": [
    "# vaild_preds_list = []\n",
    "# vaild_target_list = []\n",
    "\n",
    "# model.eval()\n",
    "# for image, target in tqdm(vaild_loader):\n",
    "#     image = image.float().to(device)\n",
    "\n",
    "#     with torch.no_grad():\n",
    "#         preds = model(image)\n",
    "#     vaild_preds_list.extend(preds.argmax(dim=1).detach().cpu().numpy())\n",
    "#     vaild_target_list.extend(target.detach().cpu().numpy())\n",
    "# vaild_acc = accuracy_score(vaild_target_list, preds_list)\n",
    "# vaild_f1 = f1_score(vaild_target_list, preds_list, average='macro')"
   ]
  },
  {
   "cell_type": "code",
   "execution_count": 6,
   "metadata": {},
   "outputs": [],
   "source": [
    "# device\n",
    "device = torch.device('cuda' if torch.cuda.is_available() else 'cpu')\n",
    "\n",
    "# data config\n",
    "data_path = '../datasets_fin/'\n",
    "\n",
    "# model config\n",
    "model_name = 'resnet34' # 'resnet50' 'efficientnet-b0', ...\n",
    "\n",
    "# training config\n",
    "img_size = 256\n",
    "LR = 1e-3\n",
    "EPOCHS = 100\n",
    "BATCH_SIZE = 32\n",
    "num_workers = 0"
   ]
  },
  {
   "cell_type": "markdown",
   "metadata": {},
   "source": [
    "- 일단 단일 augmentation들로 확인\n",
    "- 성능향상시 다양한 데이터증강을 조합하여 추가학습"
   ]
  },
  {
   "cell_type": "code",
   "execution_count": 10,
   "metadata": {},
   "outputs": [],
   "source": [
    "# # augmentation을 위한 transform 코드\n",
    "trn_transform = A.Compose([\n",
    "    A.Resize(height=img_size, width=img_size),\n",
    "    A.Normalize(mean=[0.485, 0.456, 0.406], std=[0.229, 0.224, 0.225]),\n",
    "    ToTensorV2(),\n",
    "])\n",
    "trn_transform_coarseDropout = A.Compose([\n",
    "    A.Resize(height=img_size, width=img_size),\n",
    "    A.Normalize(mean=[0.485, 0.456, 0.406], std=[0.229, 0.224, 0.225]),\n",
    "    A.CoarseDropout(max_holes=30, max_height=16, max_width=16, min_holes=10, min_height=16, min_width=16, p=1),\n",
    "    ToTensorV2(),\n",
    "])\n",
    "trn_transform_rotate45 = A.Compose([\n",
    "    A.Resize(height=img_size, width=img_size),\n",
    "    A.Normalize(mean=[0.485, 0.456, 0.406], std=[0.229, 0.224, 0.225]),\n",
    "    A.Rotate(limit=(45, 45), border_mode=cv2.BORDER_CONSTANT,value=[255, 255, 255], p=1),\n",
    "    ToTensorV2(),\n",
    "])\n",
    "trn_transform_rotate90 = A.Compose([\n",
    "    A.Resize(height=img_size, width=img_size),\n",
    "    A.Normalize(mean=[0.485, 0.456, 0.406], std=[0.229, 0.224, 0.225]), \n",
    "    A.Rotate(limit=(90, 90), border_mode=cv2.BORDER_CONSTANT,value=[255, 255, 255], p=1),\n",
    "    ToTensorV2(),\n",
    "])\n",
    "trn_transform_rotate135 = A.Compose([\n",
    "    A.Resize(height=img_size, width=img_size),\n",
    "    A.Normalize(mean=[0.485, 0.456, 0.406], std=[0.229, 0.224, 0.225]),\n",
    "    A.Rotate(limit=(135, 135), border_mode=cv2.BORDER_CONSTANT,value=[255, 255, 255], p=1),\n",
    "    ToTensorV2(),\n",
    "])\n",
    "trn_transform_rotate180 = A.Compose([\n",
    "    A.Resize(height=img_size, width=img_size),\n",
    "    A.Normalize(mean=[0.485, 0.456, 0.406], std=[0.229, 0.224, 0.225]),\n",
    "    A.Rotate(limit=(180, 180), border_mode=cv2.BORDER_CONSTANT,value=[255, 255, 255], p=1),\n",
    "    ToTensorV2(),\n",
    "])\n",
    "trn_transform_rotate225 = A.Compose([\n",
    "    A.Resize(height=img_size, width=img_size),\n",
    "    A.Normalize(mean=[0.485, 0.456, 0.406], std=[0.229, 0.224, 0.225]),\n",
    "    A.Rotate(limit=(225, 225), border_mode=cv2.BORDER_CONSTANT,value=[255, 255, 255], p=1.0),\n",
    "    ToTensorV2(),\n",
    "])\n",
    "trn_transform_rotate270 = A.Compose([\n",
    "    A.Resize(height=img_size, width=img_size),\n",
    "    A.Normalize(mean=[0.485, 0.456, 0.406], std=[0.229, 0.224, 0.225]),\n",
    "    A.Rotate(limit=(270, 270), border_mode=cv2.BORDER_CONSTANT,value=[255, 255, 255], p=1.0),\n",
    "    ToTensorV2(),\n",
    "])\n",
    "trn_transform_rotate315 = A.Compose([\n",
    "    A.Resize(height=img_size, width=img_size),\n",
    "    A.Normalize(mean=[0.485, 0.456, 0.406], std=[0.229, 0.224, 0.225]),\n",
    "    A.Rotate(limit=(315, 315), border_mode=cv2.BORDER_CONSTANT,value=[255, 255, 255], p=1.0),\n",
    "    ToTensorV2(),\n",
    "])\n",
    "trn_transform_verticalflip = A.Compose([\n",
    "    A.Resize(height=img_size, width=img_size),\n",
    "    A.Normalize(mean=[0.485, 0.456, 0.406], std=[0.229, 0.224, 0.225]),\n",
    "    A.VerticalFlip(always_apply=False, p=1.0),\n",
    "    ToTensorV2(),\n",
    "])\n",
    "trn_transform_horizontalflip = A.Compose([\n",
    "    A.Resize(height=img_size, width=img_size),\n",
    "    A.Normalize(mean=[0.485, 0.456, 0.406], std=[0.229, 0.224, 0.225]),\n",
    "    A.HorizontalFlip(always_apply=False, p=1.0),\n",
    "    ToTensorV2(),\n",
    "])\n",
    "trn_transform_blur = A.Compose([\n",
    "    A.Resize(height=img_size, width=img_size),\n",
    "    A.Normalize(mean=[0.485, 0.456, 0.406], std=[0.229, 0.224, 0.225]),\n",
    "    A.Blur(always_apply=True, p=1.0, blur_limit=(3, 3)),\n",
    "    ToTensorV2(),\n",
    "])\n",
    "trn_transform_gaussnoise = A.Compose([\n",
    "    A.Resize(height=img_size, width=img_size),\n",
    "    A.Normalize(mean=[0.485, 0.456, 0.406], std=[0.229, 0.224, 0.225]),\n",
    "    A.GaussNoise(always_apply=False, p=1.0, var_limit=(500.0, 500.0)),\n",
    "    ToTensorV2(),\n",
    "])\n",
    "trn_transform_downscale = A.Compose([\n",
    "    A.Resize(height=img_size, width=img_size),\n",
    "    A.Normalize(mean=[0.485, 0.456, 0.406], std=[0.229, 0.224, 0.225]),\n",
    "    A.Downscale(always_apply=False, p=1.0, scale_min=0.5, scale_max=0.5, interpolation=0),\n",
    "    ToTensorV2(),\n",
    "])\n",
    "transform_list = [trn_transform, trn_transform_coarseDropout, trn_transform_rotate45, trn_transform_rotate90, trn_transform_rotate135, trn_transform_rotate180, trn_transform_rotate225,\n",
    "                  trn_transform_rotate270, trn_transform_rotate315, trn_transform_verticalflip, trn_transform_horizontalflip, trn_transform_blur, trn_transform_gaussnoise,\n",
    "                  trn_transform_downscale]\n",
    "\n",
    "# # test image 변환을 위한 transform 코드\n",
    "# tst_transform = A.Compose([\n",
    "#     A.Resize(height=img_size, width=img_size),\n",
    "#     A.Normalize(mean=[0.485, 0.456, 0.406], std=[0.229, 0.224, 0.225]),\n",
    "#     ToTensorV2(),\n",
    "# ])"
   ]
  },
  {
   "cell_type": "code",
   "execution_count": 11,
   "metadata": {},
   "outputs": [],
   "source": [
    "trn_transform2 = A.Compose([\n",
    "    A.Resize(height=img_size, width=img_size),\n",
    "    A.Normalize(mean=[0.485, 0.456, 0.406], std=[0.229, 0.224, 0.225]),\n",
    "    A.CoarseDropout(max_holes=30, max_height=16, max_width=16, min_holes=10, min_height=16, min_width=16, p=0.5),\n",
    "    # A.Rotate(limit=(45, 45), border_mode=cv2.BORDER_CONSTANT,value=[255, 255, 255], p=0.3),\n",
    "    # A.Rotate(limit=(90, 90), border_mode=cv2.BORDER_CONSTANT,value=[255, 255, 255], p=0.3),\n",
    "    # A.Rotate(limit=(135, 135), border_mode=cv2.BORDER_CONSTANT,value=[255, 255, 255], p=0.3),\n",
    "    # A.Rotate(limit=(180, 180), border_mode=cv2.BORDER_CONSTANT,value=[255, 255, 255], p=0.3),\n",
    "    # A.Rotate(limit=(225, 225), border_mode=cv2.BORDER_CONSTANT,value=[255, 255, 255], p=0.3),\n",
    "    # A.Rotate(limit=(270, 270), border_mode=cv2.BORDER_CONSTANT,value=[255, 255, 255], p=0.3),\n",
    "    # A.Rotate(limit=(315, 315), border_mode=cv2.BORDER_CONSTANT,value=[255, 255, 255], p=0.3),\n",
    "    A.Rotate(limit=(0, 360), border_mode=cv2.BORDER_CONSTANT,value=[255, 255, 255], p=1),\n",
    "    A.VerticalFlip(always_apply=False, p=0.5),\n",
    "    A.HorizontalFlip(always_apply=False, p=0.5),\n",
    "    A.Blur(always_apply=True, p=0.5, blur_limit=(3, 3)),\n",
    "    A.GaussNoise(always_apply=False, p=0.5, var_limit=(500.0, 1000.0)),\n",
    "    A.Downscale(always_apply=False, p=0.5, scale_min=0.5, scale_max=0.5, interpolation=0),\n",
    "    ToTensorV2(),\n",
    "])\n",
    "tst_transform = A.Compose([\n",
    "    A.Resize(height=img_size, width=img_size),\n",
    "    A.Normalize(mean=[0.485, 0.456, 0.406], std=[0.229, 0.224, 0.225]),\n",
    "    ToTensorV2(),\n",
    "])"
   ]
  },
  {
   "cell_type": "code",
   "execution_count": 8,
   "metadata": {},
   "outputs": [],
   "source": [
    "# transform_list에서 2개 조합으로 데이터 증강\n",
    "# for i in combinations(transform_list, 2):\n",
    "#     print(i, end=\"\\n\")"
   ]
  },
  {
   "cell_type": "code",
   "execution_count": 57,
   "metadata": {},
   "outputs": [],
   "source": [
    "# Dataset 정의를 위한 함수\n",
    "# def make_trn_dataset(transform_list, csv, path):\n",
    "#     trn_dataset = ImageDataset(\n",
    "#         csv,\n",
    "#         path,\n",
    "#         transform=transform_list[0]\n",
    "#     )\n",
    "#     for transform in transform_list[1:]:\n",
    "#         trn_dataset2 = ImageDataset(\n",
    "#             csv,\n",
    "#             path,\n",
    "#             transform=transform\n",
    "#         )\n",
    "#         trn_dataset = ConcatDataset([trn_dataset, trn_dataset2])\n",
    "\n",
    "#     return trn_dataset"
   ]
  },
  {
   "cell_type": "code",
   "execution_count": 12,
   "metadata": {},
   "outputs": [],
   "source": [
    "# vaildation set 정의\n",
    "def make_vaild_dataset(transform_list, csv, path):\n",
    "    trn_dataset = ImageDataset(\n",
    "        csv,\n",
    "        path,\n",
    "        transform=transform_list[0]\n",
    "    )\n",
    "    for transform in transform_list[1:]:\n",
    "        trn_dataset2 = ImageDataset(\n",
    "            csv,\n",
    "            path,\n",
    "            transform=transform\n",
    "        )\n",
    "        trn_dataset = ConcatDataset([trn_dataset, trn_dataset2])\n",
    "\n",
    "    return trn_dataset"
   ]
  },
  {
   "cell_type": "code",
   "execution_count": 59,
   "metadata": {},
   "outputs": [
    {
     "name": "stdout",
     "output_type": "stream",
     "text": [
      "17584 2198 157\n"
     ]
    }
   ],
   "source": [
    "# trn_dataset = make_trn_dataset(transform_list, \"../datasets_fin/divided_train.csv\", \"../datasets_fin/train/\")\n",
    "# vaild_dataset = make_vaild_dataset(transform_list, \"../datasets_fin/vaild.csv\", \"../datasets_fin/train/\",)\n",
    "# tst_dataset = ImageDataset(\n",
    "#     \"../datasets_fin/test.csv\",\n",
    "#     \"../datasets_fin/train/\",\n",
    "#     transform=tst_transform\n",
    "# )\n",
    "# print(len(trn_dataset), len(vaild_dataset), len(tst_dataset))"
   ]
  },
  {
   "cell_type": "code",
   "execution_count": 13,
   "metadata": {},
   "outputs": [
    {
     "name": "stdout",
     "output_type": "stream",
     "text": [
      "1256 2198 157\n"
     ]
    }
   ],
   "source": [
    "# Dataset 정의를 위한 함수\n",
    "trn_dataset = ImageDataset(\n",
    "    \"../datasets_fin/divided_train.csv\",\n",
    "    \"../datasets_fin/train/\",\n",
    "    transform=trn_transform\n",
    ")\n",
    "vaild_dataset = make_vaild_dataset(transform_list, \"../datasets_fin/vaild.csv\", \"../datasets_fin/train/\")\n",
    "tst_dataset = ImageDataset(\n",
    "    \"../datasets_fin/test.csv\",\n",
    "    \"../datasets_fin/train/\",\n",
    "    transform=tst_transform\n",
    ")\n",
    "print(len(trn_dataset), len(vaild_dataset), len(tst_dataset))"
   ]
  },
  {
   "cell_type": "code",
   "execution_count": 14,
   "metadata": {},
   "outputs": [],
   "source": [
    "# DataLoader 정의\n",
    "trn_loader = DataLoader(\n",
    "    trn_dataset,\n",
    "    batch_size=BATCH_SIZE,\n",
    "    shuffle=True,\n",
    "    # shuffle=True,\n",
    "    num_workers=num_workers,\n",
    "    pin_memory=True,\n",
    "    drop_last=False\n",
    ")\n",
    "vaild_loader = DataLoader(\n",
    "    vaild_dataset,\n",
    "    batch_size=BATCH_SIZE,\n",
    "    shuffle=True,\n",
    "    # shuffle=True,\n",
    "    num_workers=num_workers,\n",
    "    pin_memory=True,\n",
    "    drop_last=False\n",
    ")\n",
    "tst_loader = DataLoader(\n",
    "    tst_dataset,\n",
    "    batch_size=BATCH_SIZE,\n",
    "    shuffle=False,\n",
    "    num_workers=0,\n",
    "    pin_memory=True\n",
    ")"
   ]
  },
  {
   "cell_type": "code",
   "execution_count": 15,
   "metadata": {},
   "outputs": [],
   "source": [
    "# load model\n",
    "model = timm.create_model(\n",
    "    model_name,\n",
    "    pretrained=True,\n",
    "    num_classes=17\n",
    ").to(device)\n",
    "loss_fn = nn.CrossEntropyLoss()\n",
    "optimizer = Adam(model.parameters(), lr=LR)"
   ]
  },
  {
   "cell_type": "code",
   "execution_count": 16,
   "metadata": {},
   "outputs": [
    {
     "name": "stderr",
     "output_type": "stream",
     "text": [
      "Loss: 1.3839: 100%|██████████| 40/40 [00:08<00:00,  4.72it/s]\n",
      "100%|██████████| 69/69 [00:11<00:00,  5.95it/s]\n"
     ]
    },
    {
     "name": "stdout",
     "output_type": "stream",
     "text": [
      "0\n",
      "train_loss: 2.0199\n",
      "train_acc: 0.4674\n",
      "train_f1: 0.4329\n",
      "vaild_acc: 0.4413\n",
      "vaild_f1: 0.4257\n",
      "epoch: 0.0000\n",
      "\n"
     ]
    },
    {
     "name": "stderr",
     "output_type": "stream",
     "text": [
      "Loss: 0.4555: 100%|██████████| 40/40 [00:07<00:00,  5.41it/s]\n",
      "100%|██████████| 69/69 [00:11<00:00,  5.95it/s]\n"
     ]
    },
    {
     "name": "stdout",
     "output_type": "stream",
     "text": [
      "0\n",
      "train_loss: 0.5115\n",
      "train_acc: 0.8479\n",
      "train_f1: 0.8087\n",
      "vaild_acc: 0.5159\n",
      "vaild_f1: 0.5147\n",
      "epoch: 1.0000\n",
      "\n"
     ]
    },
    {
     "name": "stderr",
     "output_type": "stream",
     "text": [
      "Loss: 0.4077: 100%|██████████| 40/40 [00:07<00:00,  5.34it/s]\n",
      "100%|██████████| 69/69 [00:11<00:00,  5.85it/s]\n"
     ]
    },
    {
     "name": "stdout",
     "output_type": "stream",
     "text": [
      "1\n",
      "train_loss: 0.2260\n",
      "train_acc: 0.9180\n",
      "train_f1: 0.9053\n",
      "vaild_acc: 0.4750\n",
      "vaild_f1: 0.4886\n",
      "epoch: 2.0000\n",
      "\n"
     ]
    },
    {
     "name": "stderr",
     "output_type": "stream",
     "text": [
      "Loss: 0.1249: 100%|██████████| 40/40 [00:07<00:00,  5.51it/s]\n",
      "100%|██████████| 69/69 [00:11<00:00,  5.88it/s]\n"
     ]
    },
    {
     "name": "stdout",
     "output_type": "stream",
     "text": [
      "0\n",
      "train_loss: 0.1193\n",
      "train_acc: 0.9626\n",
      "train_f1: 0.9617\n",
      "vaild_acc: 0.5064\n",
      "vaild_f1: 0.5376\n",
      "epoch: 3.0000\n",
      "\n"
     ]
    },
    {
     "name": "stderr",
     "output_type": "stream",
     "text": [
      "Loss: 0.2396: 100%|██████████| 40/40 [00:07<00:00,  5.47it/s]\n",
      "100%|██████████| 69/69 [00:11<00:00,  5.93it/s]\n"
     ]
    },
    {
     "name": "stdout",
     "output_type": "stream",
     "text": [
      "1\n",
      "train_loss: 0.0572\n",
      "train_acc: 0.9904\n",
      "train_f1: 0.9911\n",
      "vaild_acc: 0.5155\n",
      "vaild_f1: 0.5335\n",
      "epoch: 4.0000\n",
      "\n"
     ]
    },
    {
     "name": "stderr",
     "output_type": "stream",
     "text": [
      "Loss: 0.2021: 100%|██████████| 40/40 [00:07<00:00,  5.28it/s]\n",
      "100%|██████████| 69/69 [00:11<00:00,  5.98it/s]\n"
     ]
    },
    {
     "name": "stdout",
     "output_type": "stream",
     "text": [
      "0\n",
      "train_loss: 0.0310\n",
      "train_acc: 0.9952\n",
      "train_f1: 0.9956\n",
      "vaild_acc: 0.5177\n",
      "vaild_f1: 0.5522\n",
      "epoch: 5.0000\n",
      "\n"
     ]
    },
    {
     "name": "stderr",
     "output_type": "stream",
     "text": [
      "Loss: 0.1256: 100%|██████████| 40/40 [00:07<00:00,  5.34it/s]\n",
      "100%|██████████| 69/69 [00:11<00:00,  5.90it/s]\n"
     ]
    },
    {
     "name": "stdout",
     "output_type": "stream",
     "text": [
      "1\n",
      "train_loss: 0.0512\n",
      "train_acc: 0.9873\n",
      "train_f1: 0.9859\n",
      "vaild_acc: 0.4914\n",
      "vaild_f1: 0.5007\n",
      "epoch: 6.0000\n",
      "\n"
     ]
    },
    {
     "name": "stderr",
     "output_type": "stream",
     "text": [
      "Loss: 0.2223: 100%|██████████| 40/40 [00:07<00:00,  5.43it/s]\n",
      "100%|██████████| 69/69 [00:11<00:00,  5.95it/s]\n"
     ]
    },
    {
     "name": "stdout",
     "output_type": "stream",
     "text": [
      "2\n",
      "train_loss: 0.0659\n",
      "train_acc: 0.9833\n",
      "train_f1: 0.9805\n",
      "vaild_acc: 0.4754\n",
      "vaild_f1: 0.5022\n",
      "epoch: 7.0000\n",
      "\n"
     ]
    },
    {
     "name": "stderr",
     "output_type": "stream",
     "text": [
      "Loss: 0.0144: 100%|██████████| 40/40 [00:07<00:00,  5.47it/s]\n",
      "100%|██████████| 69/69 [00:11<00:00,  5.89it/s]\n"
     ]
    },
    {
     "name": "stdout",
     "output_type": "stream",
     "text": [
      "3\n",
      "train_loss: 0.0665\n",
      "train_acc: 0.9809\n",
      "train_f1: 0.9801\n",
      "vaild_acc: 0.5055\n",
      "vaild_f1: 0.5319\n",
      "epoch: 8.0000\n",
      "\n"
     ]
    },
    {
     "name": "stderr",
     "output_type": "stream",
     "text": [
      "Loss: 0.0217: 100%|██████████| 40/40 [00:07<00:00,  5.31it/s]\n",
      "100%|██████████| 69/69 [00:11<00:00,  5.88it/s]\n"
     ]
    },
    {
     "name": "stdout",
     "output_type": "stream",
     "text": [
      "4\n",
      "train_loss: 0.0267\n",
      "train_acc: 0.9928\n",
      "train_f1: 0.9923\n",
      "vaild_acc: 0.5114\n",
      "vaild_f1: 0.5466\n",
      "epoch: 9.0000\n",
      "\n"
     ]
    },
    {
     "name": "stderr",
     "output_type": "stream",
     "text": [
      "Loss: 0.0056: 100%|██████████| 40/40 [00:07<00:00,  5.48it/s]\n",
      "100%|██████████| 69/69 [00:11<00:00,  5.87it/s]\n"
     ]
    },
    {
     "name": "stdout",
     "output_type": "stream",
     "text": [
      "5\n",
      "train_loss: 0.0156\n",
      "train_acc: 0.9960\n",
      "train_f1: 0.9963\n",
      "vaild_acc: 0.5073\n",
      "vaild_f1: 0.5381\n",
      "epoch: 10.0000\n",
      "\n"
     ]
    },
    {
     "name": "stderr",
     "output_type": "stream",
     "text": [
      "Loss: 0.0058: 100%|██████████| 40/40 [00:07<00:00,  5.20it/s]\n",
      "100%|██████████| 69/69 [00:11<00:00,  5.79it/s]\n"
     ]
    },
    {
     "name": "stdout",
     "output_type": "stream",
     "text": [
      "6\n",
      "train_loss: 0.0183\n",
      "train_acc: 0.9936\n",
      "train_f1: 0.9934\n",
      "vaild_acc: 0.5027\n",
      "vaild_f1: 0.5314\n",
      "epoch: 11.0000\n",
      "\n"
     ]
    },
    {
     "name": "stderr",
     "output_type": "stream",
     "text": [
      "Loss: 0.0124: 100%|██████████| 40/40 [00:07<00:00,  5.29it/s]\n",
      "100%|██████████| 69/69 [00:11<00:00,  5.89it/s]\n"
     ]
    },
    {
     "name": "stdout",
     "output_type": "stream",
     "text": [
      "7\n",
      "train_loss: 0.0072\n",
      "train_acc: 0.9992\n",
      "train_f1: 0.9993\n",
      "vaild_acc: 0.5146\n",
      "vaild_f1: 0.5507\n",
      "epoch: 12.0000\n",
      "\n"
     ]
    },
    {
     "name": "stderr",
     "output_type": "stream",
     "text": [
      "Loss: 0.0020: 100%|██████████| 40/40 [00:07<00:00,  5.41it/s]\n",
      "100%|██████████| 69/69 [00:11<00:00,  6.01it/s]\n"
     ]
    },
    {
     "name": "stdout",
     "output_type": "stream",
     "text": [
      "8\n",
      "train_loss: 0.0028\n",
      "train_acc: 1.0000\n",
      "train_f1: 1.0000\n",
      "vaild_acc: 0.5136\n",
      "vaild_f1: 0.5472\n",
      "epoch: 13.0000\n",
      "\n"
     ]
    },
    {
     "name": "stderr",
     "output_type": "stream",
     "text": [
      "Loss: 0.0039: 100%|██████████| 40/40 [00:07<00:00,  5.32it/s]\n",
      "100%|██████████| 69/69 [00:11<00:00,  5.85it/s]\n"
     ]
    },
    {
     "name": "stdout",
     "output_type": "stream",
     "text": [
      "9\n",
      "train_loss: 0.0019\n",
      "train_acc: 1.0000\n",
      "train_f1: 1.0000\n",
      "vaild_acc: 0.5100\n",
      "vaild_f1: 0.5474\n",
      "epoch: 14.0000\n",
      "\n"
     ]
    },
    {
     "name": "stderr",
     "output_type": "stream",
     "text": [
      "Loss: 0.0070: 100%|██████████| 40/40 [00:07<00:00,  5.35it/s]\n",
      "100%|██████████| 69/69 [00:11<00:00,  5.89it/s]\n"
     ]
    },
    {
     "name": "stdout",
     "output_type": "stream",
     "text": [
      "10\n",
      "train_loss: 0.0014\n",
      "train_acc: 1.0000\n",
      "train_f1: 1.0000\n",
      "vaild_acc: 0.5059\n",
      "vaild_f1: 0.5385\n",
      "epoch: 15.0000\n",
      "\n"
     ]
    },
    {
     "name": "stderr",
     "output_type": "stream",
     "text": [
      "Loss: 0.0044: 100%|██████████| 40/40 [00:07<00:00,  5.57it/s]\n",
      "100%|██████████| 69/69 [00:11<00:00,  5.97it/s]\n"
     ]
    },
    {
     "name": "stdout",
     "output_type": "stream",
     "text": [
      "11\n",
      "train_loss: 0.0017\n",
      "train_acc: 1.0000\n",
      "train_f1: 1.0000\n",
      "vaild_acc: 0.5123\n",
      "vaild_f1: 0.5476\n",
      "epoch: 16.0000\n",
      "\n"
     ]
    },
    {
     "name": "stderr",
     "output_type": "stream",
     "text": [
      "Loss: 0.0040: 100%|██████████| 40/40 [00:07<00:00,  5.24it/s]\n",
      "100%|██████████| 69/69 [00:11<00:00,  5.96it/s]\n"
     ]
    },
    {
     "name": "stdout",
     "output_type": "stream",
     "text": [
      "12\n",
      "train_loss: 0.0020\n",
      "train_acc: 1.0000\n",
      "train_f1: 1.0000\n",
      "vaild_acc: 0.5100\n",
      "vaild_f1: 0.5457\n",
      "epoch: 17.0000\n",
      "\n"
     ]
    },
    {
     "name": "stderr",
     "output_type": "stream",
     "text": [
      "Loss: 0.0050: 100%|██████████| 40/40 [00:07<00:00,  5.42it/s]\n",
      "100%|██████████| 69/69 [00:11<00:00,  6.00it/s]\n"
     ]
    },
    {
     "name": "stdout",
     "output_type": "stream",
     "text": [
      "0\n",
      "train_loss: 0.0074\n",
      "train_acc: 0.9992\n",
      "train_f1: 0.9993\n",
      "vaild_acc: 0.5314\n",
      "vaild_f1: 0.5572\n",
      "epoch: 18.0000\n",
      "\n"
     ]
    },
    {
     "name": "stderr",
     "output_type": "stream",
     "text": [
      "Loss: 0.0008: 100%|██████████| 40/40 [00:07<00:00,  5.47it/s]\n",
      "100%|██████████| 69/69 [00:11<00:00,  5.83it/s]\n"
     ]
    },
    {
     "name": "stdout",
     "output_type": "stream",
     "text": [
      "0\n",
      "train_loss: 0.0020\n",
      "train_acc: 1.0000\n",
      "train_f1: 1.0000\n",
      "vaild_acc: 0.5241\n",
      "vaild_f1: 0.5601\n",
      "epoch: 19.0000\n",
      "\n"
     ]
    },
    {
     "name": "stderr",
     "output_type": "stream",
     "text": [
      "Loss: 0.0106: 100%|██████████| 40/40 [00:07<00:00,  5.51it/s]\n",
      "100%|██████████| 69/69 [00:11<00:00,  5.91it/s]\n"
     ]
    },
    {
     "name": "stdout",
     "output_type": "stream",
     "text": [
      "0\n",
      "train_loss: 0.0020\n",
      "train_acc: 1.0000\n",
      "train_f1: 1.0000\n",
      "vaild_acc: 0.5296\n",
      "vaild_f1: 0.5635\n",
      "epoch: 20.0000\n",
      "\n"
     ]
    },
    {
     "name": "stderr",
     "output_type": "stream",
     "text": [
      "Loss: 0.0008: 100%|██████████| 40/40 [00:07<00:00,  5.46it/s]\n",
      "100%|██████████| 69/69 [00:11<00:00,  5.99it/s]\n"
     ]
    },
    {
     "name": "stdout",
     "output_type": "stream",
     "text": [
      "1\n",
      "train_loss: 0.0011\n",
      "train_acc: 1.0000\n",
      "train_f1: 1.0000\n",
      "vaild_acc: 0.5214\n",
      "vaild_f1: 0.5547\n",
      "epoch: 21.0000\n",
      "\n"
     ]
    },
    {
     "name": "stderr",
     "output_type": "stream",
     "text": [
      "Loss: 0.0104: 100%|██████████| 40/40 [00:07<00:00,  5.39it/s]\n",
      "100%|██████████| 69/69 [00:11<00:00,  5.83it/s]\n"
     ]
    },
    {
     "name": "stdout",
     "output_type": "stream",
     "text": [
      "0\n",
      "train_loss: 0.0012\n",
      "train_acc: 1.0000\n",
      "train_f1: 1.0000\n",
      "vaild_acc: 0.5223\n",
      "vaild_f1: 0.5720\n",
      "epoch: 22.0000\n",
      "\n"
     ]
    },
    {
     "name": "stderr",
     "output_type": "stream",
     "text": [
      "Loss: 0.0003: 100%|██████████| 40/40 [00:07<00:00,  5.48it/s]\n",
      "100%|██████████| 69/69 [00:11<00:00,  5.91it/s]\n"
     ]
    },
    {
     "name": "stdout",
     "output_type": "stream",
     "text": [
      "1\n",
      "train_loss: 0.0007\n",
      "train_acc: 1.0000\n",
      "train_f1: 1.0000\n",
      "vaild_acc: 0.5232\n",
      "vaild_f1: 0.5697\n",
      "epoch: 23.0000\n",
      "\n"
     ]
    },
    {
     "name": "stderr",
     "output_type": "stream",
     "text": [
      "Loss: 0.0142: 100%|██████████| 40/40 [00:07<00:00,  5.40it/s]\n",
      "100%|██████████| 69/69 [00:11<00:00,  5.91it/s]\n"
     ]
    },
    {
     "name": "stdout",
     "output_type": "stream",
     "text": [
      "2\n",
      "train_loss: 0.0011\n",
      "train_acc: 1.0000\n",
      "train_f1: 1.0000\n",
      "vaild_acc: 0.5077\n",
      "vaild_f1: 0.5561\n",
      "epoch: 24.0000\n",
      "\n"
     ]
    },
    {
     "name": "stderr",
     "output_type": "stream",
     "text": [
      "Loss: 0.0018: 100%|██████████| 40/40 [00:07<00:00,  5.34it/s]\n",
      "100%|██████████| 69/69 [00:11<00:00,  5.99it/s]\n"
     ]
    },
    {
     "name": "stdout",
     "output_type": "stream",
     "text": [
      "3\n",
      "train_loss: 0.0009\n",
      "train_acc: 1.0000\n",
      "train_f1: 1.0000\n",
      "vaild_acc: 0.4968\n",
      "vaild_f1: 0.5468\n",
      "epoch: 25.0000\n",
      "\n"
     ]
    },
    {
     "name": "stderr",
     "output_type": "stream",
     "text": [
      "Loss: 0.0038: 100%|██████████| 40/40 [00:07<00:00,  5.35it/s]\n",
      "100%|██████████| 69/69 [00:11<00:00,  5.92it/s]\n"
     ]
    },
    {
     "name": "stdout",
     "output_type": "stream",
     "text": [
      "4\n",
      "train_loss: 0.0104\n",
      "train_acc: 0.9960\n",
      "train_f1: 0.9958\n",
      "vaild_acc: 0.5109\n",
      "vaild_f1: 0.5471\n",
      "epoch: 26.0000\n",
      "\n"
     ]
    },
    {
     "name": "stderr",
     "output_type": "stream",
     "text": [
      "Loss: 0.0187: 100%|██████████| 40/40 [00:07<00:00,  5.42it/s]\n",
      "100%|██████████| 69/69 [00:11<00:00,  5.81it/s]\n"
     ]
    },
    {
     "name": "stdout",
     "output_type": "stream",
     "text": [
      "5\n",
      "train_loss: 0.0576\n",
      "train_acc: 0.9857\n",
      "train_f1: 0.9842\n",
      "vaild_acc: 0.4741\n",
      "vaild_f1: 0.5002\n",
      "epoch: 27.0000\n",
      "\n"
     ]
    },
    {
     "name": "stderr",
     "output_type": "stream",
     "text": [
      "Loss: 0.1527: 100%|██████████| 40/40 [00:07<00:00,  5.42it/s]\n",
      "100%|██████████| 69/69 [00:11<00:00,  5.90it/s]\n"
     ]
    },
    {
     "name": "stdout",
     "output_type": "stream",
     "text": [
      "6\n",
      "train_loss: 0.0431\n",
      "train_acc: 0.9841\n",
      "train_f1: 0.9834\n",
      "vaild_acc: 0.4459\n",
      "vaild_f1: 0.4906\n",
      "epoch: 28.0000\n",
      "\n"
     ]
    },
    {
     "name": "stderr",
     "output_type": "stream",
     "text": [
      "Loss: 0.0303: 100%|██████████| 40/40 [00:07<00:00,  5.35it/s]\n",
      "100%|██████████| 69/69 [00:11<00:00,  5.91it/s]\n"
     ]
    },
    {
     "name": "stdout",
     "output_type": "stream",
     "text": [
      "7\n",
      "train_loss: 0.0965\n",
      "train_acc: 0.9682\n",
      "train_f1: 0.9671\n",
      "vaild_acc: 0.4422\n",
      "vaild_f1: 0.4832\n",
      "epoch: 29.0000\n",
      "\n"
     ]
    },
    {
     "name": "stderr",
     "output_type": "stream",
     "text": [
      "Loss: 0.0025: 100%|██████████| 40/40 [00:07<00:00,  5.47it/s]\n",
      "100%|██████████| 69/69 [00:11<00:00,  5.99it/s]\n"
     ]
    },
    {
     "name": "stdout",
     "output_type": "stream",
     "text": [
      "8\n",
      "train_loss: 0.0734\n",
      "train_acc: 0.9745\n",
      "train_f1: 0.9743\n",
      "vaild_acc: 0.4163\n",
      "vaild_f1: 0.4528\n",
      "epoch: 30.0000\n",
      "\n"
     ]
    },
    {
     "name": "stderr",
     "output_type": "stream",
     "text": [
      "Loss: 0.0453: 100%|██████████| 40/40 [00:07<00:00,  5.49it/s]\n",
      "100%|██████████| 69/69 [00:11<00:00,  5.94it/s]\n"
     ]
    },
    {
     "name": "stdout",
     "output_type": "stream",
     "text": [
      "9\n",
      "train_loss: 0.0446\n",
      "train_acc: 0.9865\n",
      "train_f1: 0.9871\n",
      "vaild_acc: 0.4581\n",
      "vaild_f1: 0.4864\n",
      "epoch: 31.0000\n",
      "\n"
     ]
    },
    {
     "name": "stderr",
     "output_type": "stream",
     "text": [
      "Loss: 0.0052: 100%|██████████| 40/40 [00:07<00:00,  5.29it/s]\n",
      "100%|██████████| 69/69 [00:11<00:00,  5.94it/s]\n"
     ]
    },
    {
     "name": "stdout",
     "output_type": "stream",
     "text": [
      "10\n",
      "train_loss: 0.0287\n",
      "train_acc: 0.9873\n",
      "train_f1: 0.9876\n",
      "vaild_acc: 0.4695\n",
      "vaild_f1: 0.5279\n",
      "epoch: 32.0000\n",
      "\n"
     ]
    },
    {
     "name": "stderr",
     "output_type": "stream",
     "text": [
      "Loss: 0.0027: 100%|██████████| 40/40 [00:07<00:00,  5.15it/s]\n",
      "100%|██████████| 69/69 [00:11<00:00,  5.96it/s]\n"
     ]
    },
    {
     "name": "stdout",
     "output_type": "stream",
     "text": [
      "11\n",
      "train_loss: 0.0100\n",
      "train_acc: 0.9968\n",
      "train_f1: 0.9969\n",
      "vaild_acc: 0.4818\n",
      "vaild_f1: 0.5416\n",
      "epoch: 33.0000\n",
      "\n"
     ]
    },
    {
     "name": "stderr",
     "output_type": "stream",
     "text": [
      "Loss: 0.0077: 100%|██████████| 40/40 [00:07<00:00,  5.41it/s]\n",
      "100%|██████████| 69/69 [00:11<00:00,  6.04it/s]\n"
     ]
    },
    {
     "name": "stdout",
     "output_type": "stream",
     "text": [
      "12\n",
      "train_loss: 0.0111\n",
      "train_acc: 0.9968\n",
      "train_f1: 0.9963\n",
      "vaild_acc: 0.4854\n",
      "vaild_f1: 0.5404\n",
      "epoch: 34.0000\n",
      "\n"
     ]
    },
    {
     "name": "stderr",
     "output_type": "stream",
     "text": [
      "Loss: 0.0024: 100%|██████████| 40/40 [00:07<00:00,  5.42it/s]\n",
      "100%|██████████| 69/69 [00:11<00:00,  5.95it/s]\n"
     ]
    },
    {
     "name": "stdout",
     "output_type": "stream",
     "text": [
      "13\n",
      "train_loss: 0.0084\n",
      "train_acc: 0.9968\n",
      "train_f1: 0.9960\n",
      "vaild_acc: 0.4823\n",
      "vaild_f1: 0.5459\n",
      "epoch: 35.0000\n",
      "\n"
     ]
    },
    {
     "name": "stderr",
     "output_type": "stream",
     "text": [
      "Loss: 0.0008: 100%|██████████| 40/40 [00:07<00:00,  5.35it/s]\n",
      "100%|██████████| 69/69 [00:11<00:00,  5.89it/s]\n"
     ]
    },
    {
     "name": "stdout",
     "output_type": "stream",
     "text": [
      "14\n",
      "train_loss: 0.0063\n",
      "train_acc: 0.9976\n",
      "train_f1: 0.9978\n",
      "vaild_acc: 0.4909\n",
      "vaild_f1: 0.5509\n",
      "epoch: 36.0000\n",
      "\n"
     ]
    },
    {
     "name": "stderr",
     "output_type": "stream",
     "text": [
      "Loss: 0.0444: 100%|██████████| 40/40 [00:07<00:00,  5.48it/s]\n",
      "100%|██████████| 69/69 [00:11<00:00,  5.89it/s]\n"
     ]
    },
    {
     "name": "stdout",
     "output_type": "stream",
     "text": [
      "15\n",
      "train_loss: 0.0035\n",
      "train_acc: 0.9992\n",
      "train_f1: 0.9991\n",
      "vaild_acc: 0.4895\n",
      "vaild_f1: 0.5457\n",
      "epoch: 37.0000\n",
      "\n"
     ]
    },
    {
     "name": "stderr",
     "output_type": "stream",
     "text": [
      "Loss: 0.1329: 100%|██████████| 40/40 [00:07<00:00,  5.43it/s]\n",
      "100%|██████████| 69/69 [00:11<00:00,  5.94it/s]\n"
     ]
    },
    {
     "name": "stdout",
     "output_type": "stream",
     "text": [
      "16\n",
      "train_loss: 0.0057\n",
      "train_acc: 0.9984\n",
      "train_f1: 0.9982\n",
      "vaild_acc: 0.4841\n",
      "vaild_f1: 0.5387\n",
      "epoch: 38.0000\n",
      "\n"
     ]
    },
    {
     "name": "stderr",
     "output_type": "stream",
     "text": [
      "Loss: 0.0275: 100%|██████████| 40/40 [00:07<00:00,  5.51it/s]\n",
      "100%|██████████| 69/69 [00:11<00:00,  6.00it/s]\n"
     ]
    },
    {
     "name": "stdout",
     "output_type": "stream",
     "text": [
      "17\n",
      "train_loss: 0.0048\n",
      "train_acc: 0.9992\n",
      "train_f1: 0.9993\n",
      "vaild_acc: 0.4882\n",
      "vaild_f1: 0.5553\n",
      "epoch: 39.0000\n",
      "\n"
     ]
    },
    {
     "name": "stderr",
     "output_type": "stream",
     "text": [
      "Loss: 0.0128: 100%|██████████| 40/40 [00:07<00:00,  5.46it/s]\n",
      "100%|██████████| 69/69 [00:11<00:00,  5.95it/s]\n"
     ]
    },
    {
     "name": "stdout",
     "output_type": "stream",
     "text": [
      "18\n",
      "train_loss: 0.0017\n",
      "train_acc: 1.0000\n",
      "train_f1: 1.0000\n",
      "vaild_acc: 0.4836\n",
      "vaild_f1: 0.5467\n",
      "epoch: 40.0000\n",
      "\n"
     ]
    },
    {
     "name": "stderr",
     "output_type": "stream",
     "text": [
      "Loss: 0.0175: 100%|██████████| 40/40 [00:07<00:00,  5.28it/s]\n",
      "100%|██████████| 69/69 [00:11<00:00,  5.95it/s]\n"
     ]
    },
    {
     "name": "stdout",
     "output_type": "stream",
     "text": [
      "19\n",
      "train_loss: 0.0015\n",
      "train_acc: 1.0000\n",
      "train_f1: 1.0000\n",
      "vaild_acc: 0.4964\n",
      "vaild_f1: 0.5619\n",
      "epoch: 41.0000\n",
      "\n"
     ]
    },
    {
     "name": "stderr",
     "output_type": "stream",
     "text": [
      "Loss: 0.0035: 100%|██████████| 40/40 [00:07<00:00,  5.44it/s]\n",
      "100%|██████████| 69/69 [00:10<00:00,  6.33it/s]\n"
     ]
    },
    {
     "name": "stdout",
     "output_type": "stream",
     "text": [
      "20\n",
      "train_loss: 0.0006\n",
      "train_acc: 1.0000\n",
      "train_f1: 1.0000\n",
      "vaild_acc: 0.4932\n",
      "vaild_f1: 0.5612\n",
      "epoch: 42.0000\n",
      "\n"
     ]
    },
    {
     "name": "stderr",
     "output_type": "stream",
     "text": [
      "Loss: 0.0273: 100%|██████████| 40/40 [00:06<00:00,  5.77it/s]\n",
      "100%|██████████| 69/69 [00:10<00:00,  6.33it/s]\n"
     ]
    },
    {
     "name": "stdout",
     "output_type": "stream",
     "text": [
      "21\n",
      "train_loss: 0.0011\n",
      "train_acc: 1.0000\n",
      "train_f1: 1.0000\n",
      "vaild_acc: 0.4973\n",
      "vaild_f1: 0.5640\n",
      "epoch: 43.0000\n",
      "\n"
     ]
    },
    {
     "name": "stderr",
     "output_type": "stream",
     "text": [
      "Loss: 0.0140: 100%|██████████| 40/40 [00:06<00:00,  5.80it/s]\n",
      "100%|██████████| 69/69 [00:10<00:00,  6.35it/s]\n"
     ]
    },
    {
     "name": "stdout",
     "output_type": "stream",
     "text": [
      "22\n",
      "train_loss: 0.0006\n",
      "train_acc: 1.0000\n",
      "train_f1: 1.0000\n",
      "vaild_acc: 0.4909\n",
      "vaild_f1: 0.5577\n",
      "epoch: 44.0000\n",
      "\n"
     ]
    },
    {
     "name": "stderr",
     "output_type": "stream",
     "text": [
      "Loss: 0.0005: 100%|██████████| 40/40 [00:06<00:00,  5.80it/s]\n",
      "100%|██████████| 69/69 [00:10<00:00,  6.30it/s]\n"
     ]
    },
    {
     "name": "stdout",
     "output_type": "stream",
     "text": [
      "23\n",
      "train_loss: 0.0005\n",
      "train_acc: 1.0000\n",
      "train_f1: 1.0000\n",
      "vaild_acc: 0.4959\n",
      "vaild_f1: 0.5622\n",
      "epoch: 45.0000\n",
      "\n"
     ]
    },
    {
     "name": "stderr",
     "output_type": "stream",
     "text": [
      "Loss: 0.1033: 100%|██████████| 40/40 [00:06<00:00,  5.80it/s]\n",
      "100%|██████████| 69/69 [00:10<00:00,  6.33it/s]\n"
     ]
    },
    {
     "name": "stdout",
     "output_type": "stream",
     "text": [
      "24\n",
      "train_loss: 0.0029\n",
      "train_acc: 1.0000\n",
      "train_f1: 1.0000\n",
      "vaild_acc: 0.5014\n",
      "vaild_f1: 0.5698\n",
      "epoch: 46.0000\n",
      "\n"
     ]
    },
    {
     "name": "stderr",
     "output_type": "stream",
     "text": [
      "Loss: 0.0002: 100%|██████████| 40/40 [00:06<00:00,  5.72it/s]\n",
      "100%|██████████| 69/69 [00:10<00:00,  6.35it/s]\n"
     ]
    },
    {
     "name": "stdout",
     "output_type": "stream",
     "text": [
      "25\n",
      "train_loss: 0.0033\n",
      "train_acc: 0.9992\n",
      "train_f1: 0.9993\n",
      "vaild_acc: 0.4823\n",
      "vaild_f1: 0.5459\n",
      "epoch: 47.0000\n",
      "\n"
     ]
    },
    {
     "name": "stderr",
     "output_type": "stream",
     "text": [
      "Loss: 0.0042: 100%|██████████| 40/40 [00:06<00:00,  5.78it/s]\n",
      "100%|██████████| 69/69 [00:10<00:00,  6.30it/s]\n"
     ]
    },
    {
     "name": "stdout",
     "output_type": "stream",
     "text": [
      "26\n",
      "train_loss: 0.0036\n",
      "train_acc: 0.9992\n",
      "train_f1: 0.9993\n",
      "vaild_acc: 0.4845\n",
      "vaild_f1: 0.5497\n",
      "epoch: 48.0000\n",
      "\n"
     ]
    },
    {
     "name": "stderr",
     "output_type": "stream",
     "text": [
      "Loss: 0.0003: 100%|██████████| 40/40 [00:06<00:00,  5.74it/s]\n",
      "100%|██████████| 69/69 [00:10<00:00,  6.36it/s]\n"
     ]
    },
    {
     "name": "stdout",
     "output_type": "stream",
     "text": [
      "27\n",
      "train_loss: 0.0008\n",
      "train_acc: 1.0000\n",
      "train_f1: 1.0000\n",
      "vaild_acc: 0.4864\n",
      "vaild_f1: 0.5508\n",
      "epoch: 49.0000\n",
      "\n"
     ]
    },
    {
     "name": "stderr",
     "output_type": "stream",
     "text": [
      "Loss: 0.0011: 100%|██████████| 40/40 [00:06<00:00,  5.82it/s]\n",
      "100%|██████████| 69/69 [00:10<00:00,  6.35it/s]\n"
     ]
    },
    {
     "name": "stdout",
     "output_type": "stream",
     "text": [
      "28\n",
      "train_loss: 0.0005\n",
      "train_acc: 1.0000\n",
      "train_f1: 1.0000\n",
      "vaild_acc: 0.4873\n",
      "vaild_f1: 0.5526\n",
      "epoch: 50.0000\n",
      "\n"
     ]
    },
    {
     "name": "stderr",
     "output_type": "stream",
     "text": [
      "Loss: 0.0008: 100%|██████████| 40/40 [00:06<00:00,  5.82it/s]\n",
      "100%|██████████| 69/69 [00:10<00:00,  6.34it/s]\n"
     ]
    },
    {
     "name": "stdout",
     "output_type": "stream",
     "text": [
      "29\n",
      "train_loss: 0.0011\n",
      "train_acc: 1.0000\n",
      "train_f1: 1.0000\n",
      "vaild_acc: 0.4877\n",
      "vaild_f1: 0.5517\n",
      "epoch: 51.0000\n",
      "\n"
     ]
    },
    {
     "name": "stderr",
     "output_type": "stream",
     "text": [
      "Loss: 0.0066: 100%|██████████| 40/40 [00:07<00:00,  5.67it/s]\n",
      "100%|██████████| 69/69 [00:10<00:00,  6.32it/s]\n"
     ]
    },
    {
     "name": "stdout",
     "output_type": "stream",
     "text": [
      "30\n",
      "train_loss: 0.0003\n",
      "train_acc: 1.0000\n",
      "train_f1: 1.0000\n",
      "vaild_acc: 0.4813\n",
      "vaild_f1: 0.5462\n",
      "epoch: 52.0000\n",
      "\n"
     ]
    },
    {
     "name": "stderr",
     "output_type": "stream",
     "text": [
      "Loss: 0.0001: 100%|██████████| 40/40 [00:06<00:00,  5.74it/s]\n",
      "100%|██████████| 69/69 [00:10<00:00,  6.35it/s]\n"
     ]
    },
    {
     "name": "stdout",
     "output_type": "stream",
     "text": [
      "31\n",
      "train_loss: 0.0001\n",
      "train_acc: 1.0000\n",
      "train_f1: 1.0000\n",
      "vaild_acc: 0.4854\n",
      "vaild_f1: 0.5501\n",
      "epoch: 53.0000\n",
      "\n"
     ]
    },
    {
     "name": "stderr",
     "output_type": "stream",
     "text": [
      "Loss: 0.0122: 100%|██████████| 40/40 [00:06<00:00,  5.78it/s]\n",
      "100%|██████████| 69/69 [00:10<00:00,  6.38it/s]\n"
     ]
    },
    {
     "name": "stdout",
     "output_type": "stream",
     "text": [
      "32\n",
      "train_loss: 0.0004\n",
      "train_acc: 1.0000\n",
      "train_f1: 1.0000\n",
      "vaild_acc: 0.4859\n",
      "vaild_f1: 0.5495\n",
      "epoch: 54.0000\n",
      "\n"
     ]
    },
    {
     "name": "stderr",
     "output_type": "stream",
     "text": [
      "Loss: 0.0028: 100%|██████████| 40/40 [00:06<00:00,  5.84it/s]\n",
      "100%|██████████| 69/69 [00:10<00:00,  6.37it/s]\n"
     ]
    },
    {
     "name": "stdout",
     "output_type": "stream",
     "text": [
      "33\n",
      "train_loss: 0.0002\n",
      "train_acc: 1.0000\n",
      "train_f1: 1.0000\n",
      "vaild_acc: 0.4850\n",
      "vaild_f1: 0.5527\n",
      "epoch: 55.0000\n",
      "\n"
     ]
    },
    {
     "name": "stderr",
     "output_type": "stream",
     "text": [
      "Loss: 0.0001: 100%|██████████| 40/40 [00:07<00:00,  5.71it/s]\n",
      "100%|██████████| 69/69 [00:10<00:00,  6.36it/s]\n"
     ]
    },
    {
     "name": "stdout",
     "output_type": "stream",
     "text": [
      "34\n",
      "train_loss: 0.0001\n",
      "train_acc: 1.0000\n",
      "train_f1: 1.0000\n",
      "vaild_acc: 0.4891\n",
      "vaild_f1: 0.5572\n",
      "epoch: 56.0000\n",
      "\n"
     ]
    },
    {
     "name": "stderr",
     "output_type": "stream",
     "text": [
      "Loss: 0.1674: 100%|██████████| 40/40 [00:06<00:00,  5.80it/s]\n",
      "100%|██████████| 69/69 [00:10<00:00,  6.37it/s]\n"
     ]
    },
    {
     "name": "stdout",
     "output_type": "stream",
     "text": [
      "35\n",
      "train_loss: 0.0043\n",
      "train_acc: 0.9992\n",
      "train_f1: 0.9988\n",
      "vaild_acc: 0.4918\n",
      "vaild_f1: 0.5596\n",
      "epoch: 57.0000\n",
      "\n"
     ]
    },
    {
     "name": "stderr",
     "output_type": "stream",
     "text": [
      "Loss: 0.0558: 100%|██████████| 40/40 [00:07<00:00,  5.69it/s]\n",
      "100%|██████████| 69/69 [00:10<00:00,  6.37it/s]\n"
     ]
    },
    {
     "name": "stdout",
     "output_type": "stream",
     "text": [
      "36\n",
      "train_loss: 0.0349\n",
      "train_acc: 0.9889\n",
      "train_f1: 0.9870\n",
      "vaild_acc: 0.4395\n",
      "vaild_f1: 0.4812\n",
      "epoch: 58.0000\n",
      "\n"
     ]
    },
    {
     "name": "stderr",
     "output_type": "stream",
     "text": [
      "Loss: 0.0385: 100%|██████████| 40/40 [00:06<00:00,  5.87it/s]\n",
      "100%|██████████| 69/69 [00:11<00:00,  6.18it/s]\n"
     ]
    },
    {
     "name": "stdout",
     "output_type": "stream",
     "text": [
      "37\n",
      "train_loss: 0.0525\n",
      "train_acc: 0.9849\n",
      "train_f1: 0.9837\n",
      "vaild_acc: 0.4076\n",
      "vaild_f1: 0.4214\n",
      "epoch: 59.0000\n",
      "\n"
     ]
    },
    {
     "name": "stderr",
     "output_type": "stream",
     "text": [
      "Loss: 0.0772: 100%|██████████| 40/40 [00:06<00:00,  5.78it/s]\n",
      "100%|██████████| 69/69 [00:10<00:00,  6.36it/s]\n"
     ]
    },
    {
     "name": "stdout",
     "output_type": "stream",
     "text": [
      "38\n",
      "train_loss: 0.0413\n",
      "train_acc: 0.9889\n",
      "train_f1: 0.9877\n",
      "vaild_acc: 0.4818\n",
      "vaild_f1: 0.5270\n",
      "epoch: 60.0000\n",
      "\n"
     ]
    },
    {
     "name": "stderr",
     "output_type": "stream",
     "text": [
      "Loss: 0.0287: 100%|██████████| 40/40 [00:06<00:00,  5.72it/s]\n",
      "100%|██████████| 69/69 [00:10<00:00,  6.34it/s]\n"
     ]
    },
    {
     "name": "stdout",
     "output_type": "stream",
     "text": [
      "39\n",
      "train_loss: 0.0380\n",
      "train_acc: 0.9896\n",
      "train_f1: 0.9900\n",
      "vaild_acc: 0.4622\n",
      "vaild_f1: 0.5041\n",
      "epoch: 61.0000\n",
      "\n"
     ]
    },
    {
     "name": "stderr",
     "output_type": "stream",
     "text": [
      "Loss: 0.0004: 100%|██████████| 40/40 [00:06<00:00,  5.79it/s]\n",
      "100%|██████████| 69/69 [00:10<00:00,  6.32it/s]\n"
     ]
    },
    {
     "name": "stdout",
     "output_type": "stream",
     "text": [
      "40\n",
      "train_loss: 0.0058\n",
      "train_acc: 1.0000\n",
      "train_f1: 1.0000\n",
      "vaild_acc: 0.4763\n",
      "vaild_f1: 0.5241\n",
      "epoch: 62.0000\n",
      "\n"
     ]
    },
    {
     "name": "stderr",
     "output_type": "stream",
     "text": [
      "Loss: 0.0022: 100%|██████████| 40/40 [00:06<00:00,  5.82it/s]\n",
      "100%|██████████| 69/69 [00:10<00:00,  6.36it/s]\n"
     ]
    },
    {
     "name": "stdout",
     "output_type": "stream",
     "text": [
      "41\n",
      "train_loss: 0.0017\n",
      "train_acc: 1.0000\n",
      "train_f1: 1.0000\n",
      "vaild_acc: 0.4727\n",
      "vaild_f1: 0.5253\n",
      "epoch: 63.0000\n",
      "\n"
     ]
    },
    {
     "name": "stderr",
     "output_type": "stream",
     "text": [
      "Loss: 0.0134: 100%|██████████| 40/40 [00:06<00:00,  5.81it/s]\n",
      "100%|██████████| 69/69 [00:10<00:00,  6.35it/s]\n"
     ]
    },
    {
     "name": "stdout",
     "output_type": "stream",
     "text": [
      "42\n",
      "train_loss: 0.0066\n",
      "train_acc: 0.9968\n",
      "train_f1: 0.9971\n",
      "vaild_acc: 0.4386\n",
      "vaild_f1: 0.4852\n",
      "epoch: 64.0000\n",
      "\n"
     ]
    },
    {
     "name": "stderr",
     "output_type": "stream",
     "text": [
      "Loss: 0.0038: 100%|██████████| 40/40 [00:06<00:00,  5.80it/s]\n",
      "100%|██████████| 69/69 [00:10<00:00,  6.36it/s]\n"
     ]
    },
    {
     "name": "stdout",
     "output_type": "stream",
     "text": [
      "43\n",
      "train_loss: 0.0037\n",
      "train_acc: 0.9992\n",
      "train_f1: 0.9993\n",
      "vaild_acc: 0.4677\n",
      "vaild_f1: 0.5185\n",
      "epoch: 65.0000\n",
      "\n"
     ]
    },
    {
     "name": "stderr",
     "output_type": "stream",
     "text": [
      "Loss: 0.0001: 100%|██████████| 40/40 [00:06<00:00,  5.78it/s]\n",
      "100%|██████████| 69/69 [00:10<00:00,  6.40it/s]\n"
     ]
    },
    {
     "name": "stdout",
     "output_type": "stream",
     "text": [
      "44\n",
      "train_loss: 0.0010\n",
      "train_acc: 1.0000\n",
      "train_f1: 1.0000\n",
      "vaild_acc: 0.4668\n",
      "vaild_f1: 0.5221\n",
      "epoch: 66.0000\n",
      "\n"
     ]
    },
    {
     "name": "stderr",
     "output_type": "stream",
     "text": [
      "Loss: 0.0104: 100%|██████████| 40/40 [00:06<00:00,  5.81it/s]\n",
      "100%|██████████| 69/69 [00:10<00:00,  6.39it/s]\n"
     ]
    },
    {
     "name": "stdout",
     "output_type": "stream",
     "text": [
      "45\n",
      "train_loss: 0.0007\n",
      "train_acc: 1.0000\n",
      "train_f1: 1.0000\n",
      "vaild_acc: 0.4709\n",
      "vaild_f1: 0.5236\n",
      "epoch: 67.0000\n",
      "\n"
     ]
    },
    {
     "name": "stderr",
     "output_type": "stream",
     "text": [
      "Loss: 0.0181: 100%|██████████| 40/40 [00:06<00:00,  5.73it/s]\n",
      "100%|██████████| 69/69 [00:10<00:00,  6.33it/s]\n"
     ]
    },
    {
     "name": "stdout",
     "output_type": "stream",
     "text": [
      "46\n",
      "train_loss: 0.0014\n",
      "train_acc: 1.0000\n",
      "train_f1: 1.0000\n",
      "vaild_acc: 0.4700\n",
      "vaild_f1: 0.5258\n",
      "epoch: 68.0000\n",
      "\n"
     ]
    },
    {
     "name": "stderr",
     "output_type": "stream",
     "text": [
      "Loss: 0.0009: 100%|██████████| 40/40 [00:06<00:00,  5.75it/s]\n",
      "100%|██████████| 69/69 [00:10<00:00,  6.40it/s]\n"
     ]
    },
    {
     "name": "stdout",
     "output_type": "stream",
     "text": [
      "47\n",
      "train_loss: 0.0004\n",
      "train_acc: 1.0000\n",
      "train_f1: 1.0000\n",
      "vaild_acc: 0.4722\n",
      "vaild_f1: 0.5245\n",
      "epoch: 69.0000\n",
      "\n"
     ]
    },
    {
     "name": "stderr",
     "output_type": "stream",
     "text": [
      "Loss: 0.0001: 100%|██████████| 40/40 [00:06<00:00,  5.79it/s]\n",
      "100%|██████████| 69/69 [00:10<00:00,  6.37it/s]\n"
     ]
    },
    {
     "name": "stdout",
     "output_type": "stream",
     "text": [
      "48\n",
      "train_loss: 0.0002\n",
      "train_acc: 1.0000\n",
      "train_f1: 1.0000\n",
      "vaild_acc: 0.4763\n",
      "vaild_f1: 0.5319\n",
      "epoch: 70.0000\n",
      "\n"
     ]
    },
    {
     "name": "stderr",
     "output_type": "stream",
     "text": [
      "Loss: 0.0364: 100%|██████████| 40/40 [00:06<00:00,  5.79it/s]\n",
      "100%|██████████| 69/69 [00:10<00:00,  6.38it/s]\n"
     ]
    },
    {
     "name": "stdout",
     "output_type": "stream",
     "text": [
      "49\n",
      "train_loss: 0.0010\n",
      "train_acc: 1.0000\n",
      "train_f1: 1.0000\n",
      "vaild_acc: 0.4782\n",
      "vaild_f1: 0.5282\n",
      "epoch: 71.0000\n",
      "\n"
     ]
    },
    {
     "name": "stderr",
     "output_type": "stream",
     "text": [
      "Loss: 0.0018: 100%|██████████| 40/40 [00:06<00:00,  5.87it/s]\n",
      "100%|██████████| 69/69 [00:10<00:00,  6.36it/s]\n"
     ]
    },
    {
     "name": "stdout",
     "output_type": "stream",
     "text": [
      "50\n",
      "train_loss: 0.0064\n",
      "train_acc: 0.9976\n",
      "train_f1: 0.9971\n",
      "vaild_acc: 0.4627\n",
      "vaild_f1: 0.5186\n",
      "epoch: 72.0000\n",
      "\n"
     ]
    },
    {
     "name": "stderr",
     "output_type": "stream",
     "text": [
      "Loss: 0.0136: 100%|██████████| 40/40 [00:06<00:00,  5.78it/s]\n",
      "100%|██████████| 69/69 [00:10<00:00,  6.34it/s]\n"
     ]
    },
    {
     "name": "stdout",
     "output_type": "stream",
     "text": [
      "51\n",
      "train_loss: 0.0023\n",
      "train_acc: 1.0000\n",
      "train_f1: 1.0000\n",
      "vaild_acc: 0.4650\n",
      "vaild_f1: 0.5211\n",
      "epoch: 73.0000\n",
      "\n"
     ]
    },
    {
     "name": "stderr",
     "output_type": "stream",
     "text": [
      "Loss: 0.6814: 100%|██████████| 40/40 [00:06<00:00,  5.89it/s]\n",
      "100%|██████████| 69/69 [00:10<00:00,  6.36it/s]\n"
     ]
    },
    {
     "name": "stdout",
     "output_type": "stream",
     "text": [
      "52\n",
      "train_loss: 0.0498\n",
      "train_acc: 0.9912\n",
      "train_f1: 0.9894\n",
      "vaild_acc: 0.4509\n",
      "vaild_f1: 0.4817\n",
      "epoch: 74.0000\n",
      "\n"
     ]
    },
    {
     "name": "stderr",
     "output_type": "stream",
     "text": [
      "Loss: 0.0024: 100%|██████████| 40/40 [00:06<00:00,  5.80it/s]\n",
      "100%|██████████| 69/69 [00:10<00:00,  6.35it/s]\n"
     ]
    },
    {
     "name": "stdout",
     "output_type": "stream",
     "text": [
      "53\n",
      "train_loss: 0.0580\n",
      "train_acc: 0.9825\n",
      "train_f1: 0.9800\n",
      "vaild_acc: 0.4227\n",
      "vaild_f1: 0.4524\n",
      "epoch: 75.0000\n",
      "\n"
     ]
    },
    {
     "name": "stderr",
     "output_type": "stream",
     "text": [
      "Loss: 0.1504: 100%|██████████| 40/40 [00:06<00:00,  5.80it/s]\n",
      "100%|██████████| 69/69 [00:10<00:00,  6.35it/s]\n"
     ]
    },
    {
     "name": "stdout",
     "output_type": "stream",
     "text": [
      "54\n",
      "train_loss: 0.0443\n",
      "train_acc: 0.9865\n",
      "train_f1: 0.9855\n",
      "vaild_acc: 0.4622\n",
      "vaild_f1: 0.5039\n",
      "epoch: 76.0000\n",
      "\n"
     ]
    },
    {
     "name": "stderr",
     "output_type": "stream",
     "text": [
      "Loss: 0.0036: 100%|██████████| 40/40 [00:07<00:00,  5.70it/s]\n",
      "100%|██████████| 69/69 [00:10<00:00,  6.44it/s]\n"
     ]
    },
    {
     "name": "stdout",
     "output_type": "stream",
     "text": [
      "55\n",
      "train_loss: 0.0253\n",
      "train_acc: 0.9920\n",
      "train_f1: 0.9913\n",
      "vaild_acc: 0.4595\n",
      "vaild_f1: 0.4986\n",
      "epoch: 77.0000\n",
      "\n"
     ]
    },
    {
     "name": "stderr",
     "output_type": "stream",
     "text": [
      "Loss: 0.0217: 100%|██████████| 40/40 [00:06<00:00,  5.79it/s]\n",
      "100%|██████████| 69/69 [00:10<00:00,  6.36it/s]\n"
     ]
    },
    {
     "name": "stdout",
     "output_type": "stream",
     "text": [
      "56\n",
      "train_loss: 0.0195\n",
      "train_acc: 0.9936\n",
      "train_f1: 0.9941\n",
      "vaild_acc: 0.4531\n",
      "vaild_f1: 0.4958\n",
      "epoch: 78.0000\n",
      "\n"
     ]
    },
    {
     "name": "stderr",
     "output_type": "stream",
     "text": [
      "Loss: 0.0380: 100%|██████████| 40/40 [00:06<00:00,  5.75it/s]\n",
      "100%|██████████| 69/69 [00:10<00:00,  6.34it/s]\n"
     ]
    },
    {
     "name": "stdout",
     "output_type": "stream",
     "text": [
      "57\n",
      "train_loss: 0.0119\n",
      "train_acc: 0.9968\n",
      "train_f1: 0.9971\n",
      "vaild_acc: 0.4686\n",
      "vaild_f1: 0.5218\n",
      "epoch: 79.0000\n",
      "\n"
     ]
    },
    {
     "name": "stderr",
     "output_type": "stream",
     "text": [
      "Loss: 0.0076: 100%|██████████| 40/40 [00:06<00:00,  5.80it/s]\n",
      "100%|██████████| 69/69 [00:10<00:00,  6.29it/s]\n"
     ]
    },
    {
     "name": "stdout",
     "output_type": "stream",
     "text": [
      "58\n",
      "train_loss: 0.0067\n",
      "train_acc: 0.9992\n",
      "train_f1: 0.9993\n",
      "vaild_acc: 0.4713\n",
      "vaild_f1: 0.5145\n",
      "epoch: 80.0000\n",
      "\n"
     ]
    },
    {
     "name": "stderr",
     "output_type": "stream",
     "text": [
      "Loss: 0.0003: 100%|██████████| 40/40 [00:06<00:00,  5.79it/s]\n",
      "100%|██████████| 69/69 [00:10<00:00,  6.36it/s]\n"
     ]
    },
    {
     "name": "stdout",
     "output_type": "stream",
     "text": [
      "59\n",
      "train_loss: 0.0016\n",
      "train_acc: 1.0000\n",
      "train_f1: 1.0000\n",
      "vaild_acc: 0.4754\n",
      "vaild_f1: 0.5167\n",
      "epoch: 81.0000\n",
      "\n"
     ]
    },
    {
     "name": "stderr",
     "output_type": "stream",
     "text": [
      "Loss: 0.0026: 100%|██████████| 40/40 [00:06<00:00,  5.87it/s]\n",
      "100%|██████████| 69/69 [00:10<00:00,  6.41it/s]\n"
     ]
    },
    {
     "name": "stdout",
     "output_type": "stream",
     "text": [
      "60\n",
      "train_loss: 0.0006\n",
      "train_acc: 1.0000\n",
      "train_f1: 1.0000\n",
      "vaild_acc: 0.4763\n",
      "vaild_f1: 0.5173\n",
      "epoch: 82.0000\n",
      "\n"
     ]
    },
    {
     "name": "stderr",
     "output_type": "stream",
     "text": [
      "Loss: 0.0002: 100%|██████████| 40/40 [00:07<00:00,  5.69it/s]\n",
      "100%|██████████| 69/69 [00:10<00:00,  6.38it/s]\n"
     ]
    },
    {
     "name": "stdout",
     "output_type": "stream",
     "text": [
      "61\n",
      "train_loss: 0.0005\n",
      "train_acc: 1.0000\n",
      "train_f1: 1.0000\n",
      "vaild_acc: 0.4813\n",
      "vaild_f1: 0.5242\n",
      "epoch: 83.0000\n",
      "\n"
     ]
    },
    {
     "name": "stderr",
     "output_type": "stream",
     "text": [
      "Loss: 0.0002: 100%|██████████| 40/40 [00:06<00:00,  5.76it/s]\n",
      "100%|██████████| 69/69 [00:10<00:00,  6.35it/s]\n"
     ]
    },
    {
     "name": "stdout",
     "output_type": "stream",
     "text": [
      "62\n",
      "train_loss: 0.0002\n",
      "train_acc: 1.0000\n",
      "train_f1: 1.0000\n",
      "vaild_acc: 0.4809\n",
      "vaild_f1: 0.5244\n",
      "epoch: 84.0000\n",
      "\n"
     ]
    },
    {
     "name": "stderr",
     "output_type": "stream",
     "text": [
      "Loss: 0.0004: 100%|██████████| 40/40 [00:06<00:00,  5.82it/s]\n",
      "100%|██████████| 69/69 [00:10<00:00,  6.34it/s]\n"
     ]
    },
    {
     "name": "stdout",
     "output_type": "stream",
     "text": [
      "63\n",
      "train_loss: 0.0003\n",
      "train_acc: 1.0000\n",
      "train_f1: 1.0000\n",
      "vaild_acc: 0.4804\n",
      "vaild_f1: 0.5236\n",
      "epoch: 85.0000\n",
      "\n"
     ]
    },
    {
     "name": "stderr",
     "output_type": "stream",
     "text": [
      "Loss: 0.0005: 100%|██████████| 40/40 [00:06<00:00,  5.76it/s]\n",
      "100%|██████████| 69/69 [00:10<00:00,  6.41it/s]\n"
     ]
    },
    {
     "name": "stdout",
     "output_type": "stream",
     "text": [
      "64\n",
      "train_loss: 0.0003\n",
      "train_acc: 1.0000\n",
      "train_f1: 1.0000\n",
      "vaild_acc: 0.4795\n",
      "vaild_f1: 0.5223\n",
      "epoch: 86.0000\n",
      "\n"
     ]
    },
    {
     "name": "stderr",
     "output_type": "stream",
     "text": [
      "Loss: 0.0008: 100%|██████████| 40/40 [00:06<00:00,  5.82it/s]\n",
      "100%|██████████| 69/69 [00:10<00:00,  6.41it/s]\n"
     ]
    },
    {
     "name": "stdout",
     "output_type": "stream",
     "text": [
      "65\n",
      "train_loss: 0.0003\n",
      "train_acc: 1.0000\n",
      "train_f1: 1.0000\n",
      "vaild_acc: 0.4773\n",
      "vaild_f1: 0.5211\n",
      "epoch: 87.0000\n",
      "\n"
     ]
    },
    {
     "name": "stderr",
     "output_type": "stream",
     "text": [
      "Loss: 0.0003: 100%|██████████| 40/40 [00:06<00:00,  5.76it/s]\n",
      "100%|██████████| 69/69 [00:10<00:00,  6.41it/s]\n"
     ]
    },
    {
     "name": "stdout",
     "output_type": "stream",
     "text": [
      "66\n",
      "train_loss: 0.0002\n",
      "train_acc: 1.0000\n",
      "train_f1: 1.0000\n",
      "vaild_acc: 0.4827\n",
      "vaild_f1: 0.5253\n",
      "epoch: 88.0000\n",
      "\n"
     ]
    },
    {
     "name": "stderr",
     "output_type": "stream",
     "text": [
      "Loss: 0.0003: 100%|██████████| 40/40 [00:06<00:00,  5.84it/s]\n",
      "100%|██████████| 69/69 [00:10<00:00,  6.35it/s]\n"
     ]
    },
    {
     "name": "stdout",
     "output_type": "stream",
     "text": [
      "67\n",
      "train_loss: 0.0002\n",
      "train_acc: 1.0000\n",
      "train_f1: 1.0000\n",
      "vaild_acc: 0.4823\n",
      "vaild_f1: 0.5263\n",
      "epoch: 89.0000\n",
      "\n"
     ]
    },
    {
     "name": "stderr",
     "output_type": "stream",
     "text": [
      "Loss: 0.0002: 100%|██████████| 40/40 [00:06<00:00,  5.77it/s]\n",
      "100%|██████████| 69/69 [00:10<00:00,  6.29it/s]\n"
     ]
    },
    {
     "name": "stdout",
     "output_type": "stream",
     "text": [
      "68\n",
      "train_loss: 0.0001\n",
      "train_acc: 1.0000\n",
      "train_f1: 1.0000\n",
      "vaild_acc: 0.4773\n",
      "vaild_f1: 0.5217\n",
      "epoch: 90.0000\n",
      "\n"
     ]
    },
    {
     "name": "stderr",
     "output_type": "stream",
     "text": [
      "Loss: 0.0007: 100%|██████████| 40/40 [00:06<00:00,  5.79it/s]\n",
      "100%|██████████| 69/69 [00:10<00:00,  6.34it/s]\n"
     ]
    },
    {
     "name": "stdout",
     "output_type": "stream",
     "text": [
      "69\n",
      "train_loss: 0.0001\n",
      "train_acc: 1.0000\n",
      "train_f1: 1.0000\n",
      "vaild_acc: 0.4736\n",
      "vaild_f1: 0.5181\n",
      "epoch: 91.0000\n",
      "\n"
     ]
    },
    {
     "name": "stderr",
     "output_type": "stream",
     "text": [
      "Loss: 0.0014: 100%|██████████| 40/40 [00:06<00:00,  5.79it/s]\n",
      "100%|██████████| 69/69 [00:10<00:00,  6.34it/s]\n"
     ]
    },
    {
     "name": "stdout",
     "output_type": "stream",
     "text": [
      "70\n",
      "train_loss: 0.0001\n",
      "train_acc: 1.0000\n",
      "train_f1: 1.0000\n",
      "vaild_acc: 0.4845\n",
      "vaild_f1: 0.5273\n",
      "epoch: 92.0000\n",
      "\n"
     ]
    },
    {
     "name": "stderr",
     "output_type": "stream",
     "text": [
      "Loss: 0.0000: 100%|██████████| 40/40 [00:06<00:00,  5.76it/s]\n",
      "100%|██████████| 69/69 [00:10<00:00,  6.35it/s]\n"
     ]
    },
    {
     "name": "stdout",
     "output_type": "stream",
     "text": [
      "71\n",
      "train_loss: 0.0001\n",
      "train_acc: 1.0000\n",
      "train_f1: 1.0000\n",
      "vaild_acc: 0.4786\n",
      "vaild_f1: 0.5224\n",
      "epoch: 93.0000\n",
      "\n"
     ]
    },
    {
     "name": "stderr",
     "output_type": "stream",
     "text": [
      "Loss: 0.0001: 100%|██████████| 40/40 [00:06<00:00,  5.86it/s]\n",
      "100%|██████████| 69/69 [00:10<00:00,  6.30it/s]\n"
     ]
    },
    {
     "name": "stdout",
     "output_type": "stream",
     "text": [
      "72\n",
      "train_loss: 0.0001\n",
      "train_acc: 1.0000\n",
      "train_f1: 1.0000\n",
      "vaild_acc: 0.4813\n",
      "vaild_f1: 0.5260\n",
      "epoch: 94.0000\n",
      "\n"
     ]
    },
    {
     "name": "stderr",
     "output_type": "stream",
     "text": [
      "Loss: 0.0000: 100%|██████████| 40/40 [00:06<00:00,  5.75it/s]\n",
      "100%|██████████| 69/69 [00:10<00:00,  6.40it/s]\n"
     ]
    },
    {
     "name": "stdout",
     "output_type": "stream",
     "text": [
      "73\n",
      "train_loss: 0.0001\n",
      "train_acc: 1.0000\n",
      "train_f1: 1.0000\n",
      "vaild_acc: 0.4827\n",
      "vaild_f1: 0.5259\n",
      "epoch: 95.0000\n",
      "\n"
     ]
    },
    {
     "name": "stderr",
     "output_type": "stream",
     "text": [
      "Loss: 0.0002: 100%|██████████| 40/40 [00:06<00:00,  5.85it/s]\n",
      "100%|██████████| 69/69 [00:10<00:00,  6.33it/s]\n"
     ]
    },
    {
     "name": "stdout",
     "output_type": "stream",
     "text": [
      "74\n",
      "train_loss: 0.0001\n",
      "train_acc: 1.0000\n",
      "train_f1: 1.0000\n",
      "vaild_acc: 0.4854\n",
      "vaild_f1: 0.5277\n",
      "epoch: 96.0000\n",
      "\n"
     ]
    },
    {
     "name": "stderr",
     "output_type": "stream",
     "text": [
      "Loss: 0.0015: 100%|██████████| 40/40 [00:06<00:00,  5.74it/s]\n",
      "100%|██████████| 69/69 [00:10<00:00,  6.37it/s]\n"
     ]
    },
    {
     "name": "stdout",
     "output_type": "stream",
     "text": [
      "75\n",
      "train_loss: 0.0001\n",
      "train_acc: 1.0000\n",
      "train_f1: 1.0000\n",
      "vaild_acc: 0.4818\n",
      "vaild_f1: 0.5257\n",
      "epoch: 97.0000\n",
      "\n"
     ]
    },
    {
     "name": "stderr",
     "output_type": "stream",
     "text": [
      "Loss: 0.0021: 100%|██████████| 40/40 [00:06<00:00,  5.85it/s]\n",
      "100%|██████████| 69/69 [00:10<00:00,  6.34it/s]\n"
     ]
    },
    {
     "name": "stdout",
     "output_type": "stream",
     "text": [
      "76\n",
      "train_loss: 0.0001\n",
      "train_acc: 1.0000\n",
      "train_f1: 1.0000\n",
      "vaild_acc: 0.4850\n",
      "vaild_f1: 0.5292\n",
      "epoch: 98.0000\n",
      "\n"
     ]
    },
    {
     "name": "stderr",
     "output_type": "stream",
     "text": [
      "Loss: 0.0007: 100%|██████████| 40/40 [00:06<00:00,  5.79it/s]\n",
      "100%|██████████| 69/69 [00:10<00:00,  6.31it/s]"
     ]
    },
    {
     "name": "stdout",
     "output_type": "stream",
     "text": [
      "77\n",
      "train_loss: 0.0001\n",
      "train_acc: 1.0000\n",
      "train_f1: 1.0000\n",
      "vaild_acc: 0.4836\n",
      "vaild_f1: 0.5291\n",
      "epoch: 99.0000\n",
      "\n"
     ]
    },
    {
     "name": "stderr",
     "output_type": "stream",
     "text": [
      "\n"
     ]
    }
   ],
   "source": [
    "early_stop = 0\n",
    "best_model = model\n",
    "best_epoch = 0\n",
    "best_vaild_f1 = 0\n",
    "for epoch in range(EPOCHS):\n",
    "   if early_stop > 100: # earlystop없이 모든 애폭을 사용하여 학습, 단 best model을 따로 저장\n",
    "      torch.save(best_model, '../model/best_augmentation3_'+str(img_size)+'_'+str(best_epoch)+'.pt')\n",
    "      break\n",
    "   ret = train_one_epoch(trn_loader, vaild_loader, model, optimizer, loss_fn, device=device)\n",
    "   ret['epoch'] = epoch\n",
    "   if best_vaild_f1 < ret['vaild_f1']:\n",
    "      best_vaild_f1 = ret['vaild_f1']\n",
    "      best_model = model\n",
    "      best_epoch = epoch+1\n",
    "      early_stop = 0\n",
    "   else:\n",
    "      early_stop += 1\n",
    "\n",
    "   print(early_stop)\n",
    "\n",
    "   log = \"\"\n",
    "   for k, v in ret.items():\n",
    "      log += f\"{k}: {v:.4f}\\n\"\n",
    "   print(log)"
   ]
  },
  {
   "cell_type": "code",
   "execution_count": 40,
   "metadata": {},
   "outputs": [],
   "source": [
    "# 베스트 모델 저장\n",
    "torch.save(best_model, '../model/best_augmentation5_'+str(img_size)+'_'+str(best_epoch)+'.pt')"
   ]
  },
  {
   "cell_type": "code",
   "execution_count": 20,
   "metadata": {},
   "outputs": [],
   "source": [
    "# 그냥 모델 저장\n",
    "torch.save(model, '../model/augmentation5_'+str(img_size)+'_'+str(epoch+1)+'.pt')"
   ]
  },
  {
   "cell_type": "code",
   "execution_count": 16,
   "metadata": {},
   "outputs": [],
   "source": [
    "# for epoch in range(20):\n",
    "#     ret = train_one_epoch(trn_loader, vaild_loader, model, optimizer, loss_fn, device=device)\n",
    "#     ret['epoch'] = epoch\n",
    "\n",
    "#     log = \"\"\n",
    "#     for k, v in ret.items():\n",
    "#       log += f\"{k}: {v:.4f}\\n\"\n",
    "#     print(log)"
   ]
  },
  {
   "cell_type": "markdown",
   "metadata": {},
   "source": [
    "100 번 학습한 모델의 데이터셋 확인 및 실제 데이터 추측"
   ]
  },
  {
   "cell_type": "code",
   "execution_count": 18,
   "metadata": {},
   "outputs": [
    {
     "name": "stderr",
     "output_type": "stream",
     "text": [
      "100%|██████████| 5/5 [00:00<00:00,  5.80it/s]\n"
     ]
    },
    {
     "data": {
      "text/plain": [
       "(0.9363057324840764, 0.9339566873792841)"
      ]
     },
     "execution_count": 18,
     "metadata": {},
     "output_type": "execute_result"
    }
   ],
   "source": [
    "# test 데이터 확인\n",
    "tst_preds_list = []\n",
    "tst_target_list = []\n",
    "\n",
    "model.eval()\n",
    "for image, target in tqdm(tst_loader):\n",
    "    image = image.float().to(device)\n",
    "\n",
    "    with torch.no_grad():\n",
    "        preds = model(image)\n",
    "    tst_preds_list.extend(preds.argmax(dim=1).detach().cpu().numpy())\n",
    "    tst_target_list.extend(target.detach().cpu().numpy())\n",
    "tst_acc = accuracy_score(tst_target_list, tst_preds_list)\n",
    "tst_f1 = f1_score(tst_target_list, tst_preds_list, average='macro')\n",
    "\n",
    "tst_acc, tst_f1"
   ]
  },
  {
   "cell_type": "code",
   "execution_count": 21,
   "metadata": {},
   "outputs": [],
   "source": [
    "# 실제 test데이터\n",
    "test_dataset = ImageDataset(\n",
    "    \"../datasets_fin/sample_submission.csv\",\n",
    "    \"../datasets_fin/test/\",\n",
    "    transform=tst_transform\n",
    ")\n",
    "test_loader = DataLoader(\n",
    "    test_dataset,\n",
    "    batch_size=BATCH_SIZE,\n",
    "    shuffle=False,\n",
    "    num_workers=0,\n",
    "    pin_memory=True\n",
    ")"
   ]
  },
  {
   "cell_type": "code",
   "execution_count": 22,
   "metadata": {},
   "outputs": [
    {
     "name": "stderr",
     "output_type": "stream",
     "text": [
      "100%|██████████| 99/99 [00:13<00:00,  7.09it/s]\n"
     ]
    }
   ],
   "source": [
    "preds_list = []\n",
    "\n",
    "model.eval()\n",
    "for image, _ in tqdm(test_loader):\n",
    "    image = image.to(device)\n",
    "\n",
    "    with torch.no_grad():\n",
    "        preds = model(image)\n",
    "    preds_list.extend(preds.argmax(dim=1).detach().cpu().numpy())"
   ]
  },
  {
   "cell_type": "code",
   "execution_count": 24,
   "metadata": {},
   "outputs": [],
   "source": [
    "pred_df = pd.DataFrame(test_dataset.df, columns=['ID', 'target'])\n",
    "pred_df['target'] = preds_list"
   ]
  },
  {
   "cell_type": "code",
   "execution_count": 25,
   "metadata": {},
   "outputs": [],
   "source": [
    "sample_submission_df = pd.read_csv(\"../datasets_fin/sample_submission.csv\")\n",
    "assert (sample_submission_df['ID'] == pred_df['ID']).all()"
   ]
  },
  {
   "cell_type": "code",
   "execution_count": 26,
   "metadata": {},
   "outputs": [],
   "source": [
    "pred_df.to_csv(\"../output/augmentation5_pred_256_\"+str(epoch+1)+\".csv\", index=False)"
   ]
  },
  {
   "cell_type": "code",
   "execution_count": 27,
   "metadata": {},
   "outputs": [
    {
     "data": {
      "text/html": [
       "<div>\n",
       "<style scoped>\n",
       "    .dataframe tbody tr th:only-of-type {\n",
       "        vertical-align: middle;\n",
       "    }\n",
       "\n",
       "    .dataframe tbody tr th {\n",
       "        vertical-align: top;\n",
       "    }\n",
       "\n",
       "    .dataframe thead th {\n",
       "        text-align: right;\n",
       "    }\n",
       "</style>\n",
       "<table border=\"1\" class=\"dataframe\">\n",
       "  <thead>\n",
       "    <tr style=\"text-align: right;\">\n",
       "      <th></th>\n",
       "      <th>ID</th>\n",
       "      <th>target</th>\n",
       "    </tr>\n",
       "  </thead>\n",
       "  <tbody>\n",
       "    <tr>\n",
       "      <th>0</th>\n",
       "      <td>0008fdb22ddce0ce.jpg</td>\n",
       "      <td>2</td>\n",
       "    </tr>\n",
       "    <tr>\n",
       "      <th>1</th>\n",
       "      <td>00091bffdffd83de.jpg</td>\n",
       "      <td>11</td>\n",
       "    </tr>\n",
       "    <tr>\n",
       "      <th>2</th>\n",
       "      <td>00396fbc1f6cc21d.jpg</td>\n",
       "      <td>8</td>\n",
       "    </tr>\n",
       "    <tr>\n",
       "      <th>3</th>\n",
       "      <td>00471f8038d9c4b6.jpg</td>\n",
       "      <td>11</td>\n",
       "    </tr>\n",
       "    <tr>\n",
       "      <th>4</th>\n",
       "      <td>00901f504008d884.jpg</td>\n",
       "      <td>2</td>\n",
       "    </tr>\n",
       "  </tbody>\n",
       "</table>\n",
       "</div>"
      ],
      "text/plain": [
       "                     ID  target\n",
       "0  0008fdb22ddce0ce.jpg       2\n",
       "1  00091bffdffd83de.jpg      11\n",
       "2  00396fbc1f6cc21d.jpg       8\n",
       "3  00471f8038d9c4b6.jpg      11\n",
       "4  00901f504008d884.jpg       2"
      ]
     },
     "execution_count": 27,
     "metadata": {},
     "output_type": "execute_result"
    }
   ],
   "source": [
    "pred_df.head()"
   ]
  },
  {
   "cell_type": "markdown",
   "metadata": {},
   "source": [
    "best case의 test set확인 및 실제 데이터 추측"
   ]
  },
  {
   "cell_type": "code",
   "execution_count": 41,
   "metadata": {},
   "outputs": [],
   "source": [
    "# 저장한 베스트 모델 로드\n",
    "model = torch.load('../model/best_augmentation5_'+str(img_size)+'_'+str(best_epoch)+'.pt')"
   ]
  },
  {
   "cell_type": "code",
   "execution_count": 44,
   "metadata": {},
   "outputs": [
    {
     "name": "stderr",
     "output_type": "stream",
     "text": [
      "100%|██████████| 5/5 [00:00<00:00,  7.09it/s]\n"
     ]
    },
    {
     "data": {
      "text/plain": [
       "(0.9363057324840764, 0.9339566873792841)"
      ]
     },
     "execution_count": 44,
     "metadata": {},
     "output_type": "execute_result"
    }
   ],
   "source": [
    "# test 데이터 확인\n",
    "tst_preds_list = []\n",
    "tst_target_list = []\n",
    "\n",
    "model.eval()\n",
    "for image, target in tqdm(tst_loader):\n",
    "    image = image.float().to(device)\n",
    "\n",
    "    with torch.no_grad():\n",
    "        preds = model(image)\n",
    "    tst_preds_list.extend(preds.argmax(dim=1).detach().cpu().numpy())\n",
    "    tst_target_list.extend(target.detach().cpu().numpy())\n",
    "tst_acc = accuracy_score(tst_target_list, tst_preds_list)\n",
    "tst_f1 = f1_score(tst_target_list, tst_preds_list, average='macro')\n",
    "\n",
    "tst_acc, tst_f1"
   ]
  },
  {
   "cell_type": "code",
   "execution_count": 45,
   "metadata": {},
   "outputs": [],
   "source": [
    "# 실제 test데이터\n",
    "test_dataset = ImageDataset(\n",
    "    \"../datasets_fin/sample_submission.csv\",\n",
    "    \"../datasets_fin/test/\",\n",
    "    transform=tst_transform\n",
    ")\n",
    "test_loader = DataLoader(\n",
    "    test_dataset,\n",
    "    batch_size=BATCH_SIZE,\n",
    "    shuffle=False,\n",
    "    num_workers=0,\n",
    "    pin_memory=True\n",
    ")"
   ]
  },
  {
   "cell_type": "code",
   "execution_count": 46,
   "metadata": {},
   "outputs": [
    {
     "name": "stderr",
     "output_type": "stream",
     "text": [
      "100%|██████████| 99/99 [00:14<00:00,  7.07it/s]\n"
     ]
    }
   ],
   "source": [
    "preds_list = []\n",
    "\n",
    "model.eval()\n",
    "for image, _ in tqdm(test_loader):\n",
    "    image = image.to(device)\n",
    "\n",
    "    with torch.no_grad():\n",
    "        preds = model(image)\n",
    "    preds_list.extend(preds.argmax(dim=1).detach().cpu().numpy())"
   ]
  },
  {
   "cell_type": "code",
   "execution_count": 47,
   "metadata": {},
   "outputs": [],
   "source": [
    "pred_df = pd.DataFrame(test_dataset.df, columns=['ID', 'target'])\n",
    "pred_df['target'] = preds_list"
   ]
  },
  {
   "cell_type": "code",
   "execution_count": 48,
   "metadata": {},
   "outputs": [],
   "source": [
    "sample_submission_df = pd.read_csv(\"../datasets_fin/sample_submission.csv\")\n",
    "assert (sample_submission_df['ID'] == pred_df['ID']).all()"
   ]
  },
  {
   "cell_type": "code",
   "execution_count": 49,
   "metadata": {},
   "outputs": [],
   "source": [
    "pred_df.to_csv(\"../output/augmentation5_pred_256_\"+str(best_epoch)+\".csv\", index=False)"
   ]
  },
  {
   "cell_type": "code",
   "execution_count": 50,
   "metadata": {},
   "outputs": [
    {
     "data": {
      "text/html": [
       "<div>\n",
       "<style scoped>\n",
       "    .dataframe tbody tr th:only-of-type {\n",
       "        vertical-align: middle;\n",
       "    }\n",
       "\n",
       "    .dataframe tbody tr th {\n",
       "        vertical-align: top;\n",
       "    }\n",
       "\n",
       "    .dataframe thead th {\n",
       "        text-align: right;\n",
       "    }\n",
       "</style>\n",
       "<table border=\"1\" class=\"dataframe\">\n",
       "  <thead>\n",
       "    <tr style=\"text-align: right;\">\n",
       "      <th></th>\n",
       "      <th>ID</th>\n",
       "      <th>target</th>\n",
       "    </tr>\n",
       "  </thead>\n",
       "  <tbody>\n",
       "    <tr>\n",
       "      <th>0</th>\n",
       "      <td>0008fdb22ddce0ce.jpg</td>\n",
       "      <td>2</td>\n",
       "    </tr>\n",
       "    <tr>\n",
       "      <th>1</th>\n",
       "      <td>00091bffdffd83de.jpg</td>\n",
       "      <td>11</td>\n",
       "    </tr>\n",
       "    <tr>\n",
       "      <th>2</th>\n",
       "      <td>00396fbc1f6cc21d.jpg</td>\n",
       "      <td>8</td>\n",
       "    </tr>\n",
       "    <tr>\n",
       "      <th>3</th>\n",
       "      <td>00471f8038d9c4b6.jpg</td>\n",
       "      <td>11</td>\n",
       "    </tr>\n",
       "    <tr>\n",
       "      <th>4</th>\n",
       "      <td>00901f504008d884.jpg</td>\n",
       "      <td>2</td>\n",
       "    </tr>\n",
       "  </tbody>\n",
       "</table>\n",
       "</div>"
      ],
      "text/plain": [
       "                     ID  target\n",
       "0  0008fdb22ddce0ce.jpg       2\n",
       "1  00091bffdffd83de.jpg      11\n",
       "2  00396fbc1f6cc21d.jpg       8\n",
       "3  00471f8038d9c4b6.jpg      11\n",
       "4  00901f504008d884.jpg       2"
      ]
     },
     "execution_count": 50,
     "metadata": {},
     "output_type": "execute_result"
    }
   ],
   "source": [
    "pred_df.head()"
   ]
  }
 ],
 "metadata": {
  "kernelspec": {
   "display_name": "base",
   "language": "python",
   "name": "python3"
  },
  "language_info": {
   "codemirror_mode": {
    "name": "ipython",
    "version": 3
   },
   "file_extension": ".py",
   "mimetype": "text/x-python",
   "name": "python",
   "nbconvert_exporter": "python",
   "pygments_lexer": "ipython3",
   "version": "3.10.13"
  }
 },
 "nbformat": 4,
 "nbformat_minor": 2
}
