{
 "cells": [
  {
   "cell_type": "markdown",
   "metadata": {},
   "source": [
    "# augmentation을 적용한 함수 dl모델을 제작"
   ]
  },
  {
   "cell_type": "markdown",
   "metadata": {},
   "source": [
    "데이터 증강 함수\n",
    "- A.Resize(height=256, width=256) : 사이즈 변경\n",
    "- A.Normalize(mean=[0.485, 0.456, 0.406], std=[0.229, 0.224, 0.225]) : 이미지 픽셀 정규화\n",
    "- A.CoarseDropout(max_holes=16, max_height=16, max_width=16, min_holes=1, min_height=16, min_width=16) : 픽셀 드롭아웃(구멍뚫기)\n",
    "- A.Rotate(limit=(115, 115), border_mode=cv2.BORDER_CONSTANT,value=[255, 255, 255], p=1.0) : 비율 유지하여 회전, 빈공간 흰색\n",
    "- A.VerticalFlip(always_apply=False, p=0.5) : 좌우반전\n",
    "- A.HorizontalFlip(always_apply=False, p=1.0) : 상하반전\n",
    "- A.Blur(always_apply=True, p=1.0, blur_limit=(3, 7)) : 블러\n",
    "- A.GaussNoise(always_apply=False, p=1.0, var_limit=(10.0, 50.0)) : 가우시안, 되는지 의문\n",
    "- A.Downscale(always_apply=False, p=1.0, scale_min=0.35, scale_max=0.35, interpolation=0) : 픽셀다운, 모자이크\n",
    "- 믹스 추가필요"
   ]
  },
  {
   "cell_type": "markdown",
   "metadata": {},
   "source": [
    "증강이 너무 심한것으로 확인하고 약화시켜봄\n",
    "- 가설 3 : 이미지의 사이즈를 키우면 노이즈의 영향이 줄어 더 좋은 성능을 보일 것이다."
   ]
  },
  {
   "cell_type": "code",
   "execution_count": 1,
   "metadata": {},
   "outputs": [],
   "source": [
    "# # wandb 연결\n",
    "# import wandb\n",
    "# import random  # 데모 스크립트용"
   ]
  },
  {
   "cell_type": "code",
   "execution_count": 4,
   "metadata": {},
   "outputs": [
    {
     "data": {
      "text/plain": [
       "True"
      ]
     },
     "execution_count": 4,
     "metadata": {},
     "output_type": "execute_result"
    }
   ],
   "source": [
    "# wandb.login()"
   ]
  },
  {
   "cell_type": "code",
   "execution_count": null,
   "metadata": {},
   "outputs": [],
   "source": [
    "# args = {\n",
    "#     'learning_rate' : learning_rate,\n",
    "#     'epochs': epochs,\n",
    "#     'batch_size' : batch_size\n",
    "# }\n",
    "# wandb.config.update(args)"
   ]
  },
  {
   "cell_type": "code",
   "execution_count": 11,
   "metadata": {},
   "outputs": [
    {
     "data": {
      "text/html": [
       "Finishing last run (ID:ex1qlpq0) before initializing another..."
      ],
      "text/plain": [
       "<IPython.core.display.HTML object>"
      ]
     },
     "metadata": {},
     "output_type": "display_data"
    },
    {
     "data": {
      "application/vnd.jupyter.widget-view+json": {
       "model_id": "4a8d8675b236422aa154699e3942d1dd",
       "version_major": 2,
       "version_minor": 0
      },
      "text/plain": [
       "VBox(children=(Label(value='0.018 MB of 0.018 MB uploaded\\r'), FloatProgress(value=1.0, max=1.0)))"
      ]
     },
     "metadata": {},
     "output_type": "display_data"
    },
    {
     "data": {
      "text/html": [
       " View run <strong style=\"color:#cdcd00\">lunar-gorge-2</strong> at: <a href='https://wandb.ai/je_/%EC%97%B0%EC%8A%B5/runs/ex1qlpq0' target=\"_blank\">https://wandb.ai/je_/%EC%97%B0%EC%8A%B5/runs/ex1qlpq0</a><br/> View project at: <a href='https://wandb.ai/je_/%EC%97%B0%EC%8A%B5' target=\"_blank\">https://wandb.ai/je_/%EC%97%B0%EC%8A%B5</a><br/>Synced 5 W&B file(s), 0 media file(s), 0 artifact file(s) and 0 other file(s)"
      ],
      "text/plain": [
       "<IPython.core.display.HTML object>"
      ]
     },
     "metadata": {},
     "output_type": "display_data"
    },
    {
     "data": {
      "text/html": [
       "Find logs at: <code>./wandb/run-20240807_055934-ex1qlpq0/logs</code>"
      ],
      "text/plain": [
       "<IPython.core.display.HTML object>"
      ]
     },
     "metadata": {},
     "output_type": "display_data"
    },
    {
     "data": {
      "text/html": [
       "The new W&B backend becomes opt-out in version 0.18.0; try it out with `wandb.require(\"core\")`! See https://wandb.me/wandb-core for more information."
      ],
      "text/plain": [
       "<IPython.core.display.HTML object>"
      ]
     },
     "metadata": {},
     "output_type": "display_data"
    },
    {
     "data": {
      "text/html": [
       "Successfully finished last run (ID:ex1qlpq0). Initializing new run:<br/>"
      ],
      "text/plain": [
       "<IPython.core.display.HTML object>"
      ]
     },
     "metadata": {},
     "output_type": "display_data"
    },
    {
     "data": {
      "application/vnd.jupyter.widget-view+json": {
       "model_id": "9bebf669224f4baeacdbff32d91e22e2",
       "version_major": 2,
       "version_minor": 0
      },
      "text/plain": [
       "VBox(children=(Label(value='Waiting for wandb.init()...\\r'), FloatProgress(value=0.011112130350536771, max=1.0…"
      ]
     },
     "metadata": {},
     "output_type": "display_data"
    },
    {
     "data": {
      "text/html": [
       "Tracking run with wandb version 0.17.5"
      ],
      "text/plain": [
       "<IPython.core.display.HTML object>"
      ]
     },
     "metadata": {},
     "output_type": "display_data"
    },
    {
     "data": {
      "text/html": [
       "Run data is saved locally in <code>/root/code/wandb/run-20240807_060039-iofd27h5</code>"
      ],
      "text/plain": [
       "<IPython.core.display.HTML object>"
      ]
     },
     "metadata": {},
     "output_type": "display_data"
    },
    {
     "data": {
      "text/html": [
       "Syncing run <strong><a href='https://wandb.ai/je_/%EC%97%B0%EC%8A%B5/runs/iofd27h5' target=\"_blank\">proud-pond-3</a></strong> to <a href='https://wandb.ai/je_/%EC%97%B0%EC%8A%B5' target=\"_blank\">Weights & Biases</a> (<a href='https://wandb.me/run' target=\"_blank\">docs</a>)<br/>"
      ],
      "text/plain": [
       "<IPython.core.display.HTML object>"
      ]
     },
     "metadata": {},
     "output_type": "display_data"
    },
    {
     "data": {
      "text/html": [
       " View project at <a href='https://wandb.ai/je_/%EC%97%B0%EC%8A%B5' target=\"_blank\">https://wandb.ai/je_/%EC%97%B0%EC%8A%B5</a>"
      ],
      "text/plain": [
       "<IPython.core.display.HTML object>"
      ]
     },
     "metadata": {},
     "output_type": "display_data"
    },
    {
     "data": {
      "text/html": [
       " View run at <a href='https://wandb.ai/je_/%EC%97%B0%EC%8A%B5/runs/iofd27h5' target=\"_blank\">https://wandb.ai/je_/%EC%97%B0%EC%8A%B5/runs/iofd27h5</a>"
      ],
      "text/plain": [
       "<IPython.core.display.HTML object>"
      ]
     },
     "metadata": {},
     "output_type": "display_data"
    },
    {
     "name": "stdout",
     "output_type": "stream",
     "text": [
      "lr: 0.01\n",
      "epoch=2, accuracy=0.5833887672517647, loss=0.6732414707558301\n",
      "epoch=3, accuracy=0.594427640518539, loss=0.4773990529087723\n",
      "epoch=4, accuracy=0.8607594281688221, loss=0.22298631859514145\n"
     ]
    }
   ],
   "source": [
    "# run = wandb.init(\n",
    "#     # Set the project where this run will be logged\n",
    "#     project=\"연습\",\n",
    "#     # Track hyperparameters and run metadata\n",
    "#     config={\n",
    "#         \"learning_rate\": 0.01,\n",
    "#         \"epochs\": 50,\n",
    "#     },\n",
    "# )\n",
    "# lr = 0.01\n",
    "# offset = random.random() / 5\n",
    "# print(f\"lr: {lr}\")\n",
    "\n",
    "# # 트레이닝 run을 시뮬레이션\n",
    "# for epoch in range(2, 5):\n",
    "#     acc = 1 - 2**-epoch - random.random() / epoch - offset\n",
    "#     loss = 2**-epoch + random.random() / epoch + offset\n",
    "#     print(f\"epoch={epoch}, accuracy={acc}, loss={loss}\")\n",
    "#     wandb.log({\"accuracy\": acc, \"loss\": loss})\n",
    "\n",
    "# # run.log_code()"
   ]
  },
  {
   "cell_type": "code",
   "execution_count": 19,
   "metadata": {},
   "outputs": [],
   "source": [
    "import os\n",
    "import time\n",
    "import random\n",
    "\n",
    "import timm\n",
    "import torch\n",
    "import albumentations as A\n",
    "import pandas as pd\n",
    "import numpy as np\n",
    "import torch.nn as nn\n",
    "from albumentations.pytorch import ToTensorV2\n",
    "from torch.optim import Adam\n",
    "from torchvision import transforms\n",
    "from torch.utils.data import Dataset, DataLoader, ConcatDataset\n",
    "from PIL import Image\n",
    "from tqdm import tqdm\n",
    "from sklearn.metrics import accuracy_score, f1_score\n",
    "\n",
    "import cv2\n",
    "import matplotlib.pyplot as plt\n",
    "\n",
    "from itertools import combinations"
   ]
  },
  {
   "cell_type": "code",
   "execution_count": 20,
   "metadata": {},
   "outputs": [],
   "source": [
    "# 시드를 고정합니다.\n",
    "SEED = 42\n",
    "os.environ['PYTHONHASHSEED'] = str(SEED)\n",
    "random.seed(SEED)\n",
    "np.random.seed(SEED)\n",
    "torch.manual_seed(SEED)\n",
    "torch.cuda.manual_seed(SEED)\n",
    "torch.cuda.manual_seed_all(SEED)\n",
    "torch.backends.cudnn.benchmark = True"
   ]
  },
  {
   "cell_type": "code",
   "execution_count": 21,
   "metadata": {},
   "outputs": [],
   "source": [
    "# 데이터셋 클래스를 정의합니다.\n",
    "class ImageDataset(Dataset):\n",
    "    def __init__(self, csv, path, transform=None):\n",
    "        self.df = pd.read_csv(csv).values\n",
    "        self.path = path\n",
    "        self.transform = transform\n",
    "\n",
    "    def __len__(self):\n",
    "        return len(self.df)\n",
    "\n",
    "    def __getitem__(self, idx):\n",
    "        name, target = self.df[idx]\n",
    "        img = np.array(Image.open(os.path.join(self.path, name)))\n",
    "        if self.transform:\n",
    "            img = self.transform(image=img)['image']\n",
    "        return img, target\n",
    "    "
   ]
  },
  {
   "cell_type": "code",
   "execution_count": 22,
   "metadata": {},
   "outputs": [],
   "source": [
    "# one epoch 학습을 위한 함수입니다.\n",
    "def train_one_epoch(loader, vaild_loader, model, optimizer, loss_fn, device):\n",
    "    model.train()\n",
    "    train_loss = 0\n",
    "    preds_list = []\n",
    "    targets_list = []\n",
    "    vaild_preds_list = []\n",
    "    vaild_target_list = []\n",
    "\n",
    "    pbar = tqdm(loader)\n",
    "    for image, targets in pbar:\n",
    "        image = image.float().to(device)\n",
    "        targets = targets.to(device)\n",
    "\n",
    "        model.zero_grad(set_to_none=True)\n",
    "\n",
    "        preds = model(image)\n",
    "        loss = loss_fn(preds, targets)\n",
    "        loss.backward()\n",
    "        optimizer.step()\n",
    "\n",
    "        train_loss += loss.item()\n",
    "        preds_list.extend(preds.argmax(dim=1).detach().cpu().numpy())\n",
    "        targets_list.extend(targets.detach().cpu().numpy())\n",
    "\n",
    "        pbar.set_description(f\"Loss: {loss.item():.4f}\")\n",
    "\n",
    "    train_loss /= len(loader)\n",
    "    train_acc = accuracy_score(targets_list, preds_list)\n",
    "    train_f1 = f1_score(targets_list, preds_list, average='macro')\n",
    "\n",
    "    # vaildation set predict\n",
    "    model.eval()\n",
    "    for image, target in tqdm(vaild_loader):\n",
    "        image = image.float().to(device)\n",
    "\n",
    "        with torch.no_grad():\n",
    "            preds = model(image)\n",
    "        vaild_preds_list.extend(preds.argmax(dim=1).detach().cpu().numpy())\n",
    "        vaild_target_list.extend(target.detach().cpu().numpy())\n",
    "    vaild_acc = accuracy_score(vaild_target_list, vaild_preds_list)\n",
    "    vaild_f1 = f1_score(vaild_target_list, vaild_preds_list, average='macro')\n",
    "\n",
    "    ret = {\n",
    "        \"train_loss\": train_loss,\n",
    "        \"train_acc\": train_acc,\n",
    "        \"train_f1\": train_f1,\n",
    "        \"vaild_acc\": vaild_acc,\n",
    "        \"vaild_f1\": vaild_f1,\n",
    "    }\n",
    "\n",
    "    return ret"
   ]
  },
  {
   "cell_type": "code",
   "execution_count": 23,
   "metadata": {},
   "outputs": [],
   "source": [
    "# vaild_preds_list = []\n",
    "# vaild_target_list = []\n",
    "\n",
    "# model.eval()\n",
    "# for image, target in tqdm(vaild_loader):\n",
    "#     image = image.float().to(device)\n",
    "\n",
    "#     with torch.no_grad():\n",
    "#         preds = model(image)\n",
    "#     vaild_preds_list.extend(preds.argmax(dim=1).detach().cpu().numpy())\n",
    "#     vaild_target_list.extend(target.detach().cpu().numpy())\n",
    "# vaild_acc = accuracy_score(vaild_target_list, preds_list)\n",
    "# vaild_f1 = f1_score(vaild_target_list, preds_list, average='macro')"
   ]
  },
  {
   "cell_type": "code",
   "execution_count": 26,
   "metadata": {},
   "outputs": [],
   "source": [
    "# device\n",
    "device = torch.device('cuda' if torch.cuda.is_available() else 'cpu')\n",
    "\n",
    "# data config\n",
    "data_path = '../datasets_fin/'\n",
    "\n",
    "# model config\n",
    "model_name = 'resnet34' # 'resnet50' 'efficientnet-b0', ...\n",
    "\n",
    "# training config\n",
    "img_size = 256 * 2\n",
    "LR = 1e-3\n",
    "EPOCHS = 100\n",
    "BATCH_SIZE = 32\n",
    "num_workers = 0"
   ]
  },
  {
   "cell_type": "markdown",
   "metadata": {},
   "source": [
    "- 일단 단일 augmentation들로 확인\n",
    "- 성능향상시 다양한 데이터증강을 조합하여 추가학습"
   ]
  },
  {
   "cell_type": "code",
   "execution_count": 25,
   "metadata": {},
   "outputs": [],
   "source": [
    "# # augmentation을 위한 transform 코드\n",
    "# trn_transform = A.Compose([\n",
    "#     A.Resize(height=img_size, width=img_size),\n",
    "#     A.Normalize(mean=[0.485, 0.456, 0.406], std=[0.229, 0.224, 0.225]),\n",
    "#     ToTensorV2(),\n",
    "# ])\n",
    "# trn_transform_coarseDropout = A.Compose([\n",
    "#     A.Resize(height=img_size, width=img_size),\n",
    "#     A.Normalize(mean=[0.485, 0.456, 0.406], std=[0.229, 0.224, 0.225]),\n",
    "#     A.CoarseDropout(max_holes=30, max_height=16, max_width=16, min_holes=10, min_height=16, min_width=16, p=1),\n",
    "#     ToTensorV2(),\n",
    "# ])\n",
    "# trn_transform_rotate45 = A.Compose([\n",
    "#     A.Resize(height=img_size, width=img_size),\n",
    "#     A.Normalize(mean=[0.485, 0.456, 0.406], std=[0.229, 0.224, 0.225]),\n",
    "#     A.Rotate(limit=(45, 45), border_mode=cv2.BORDER_CONSTANT,value=[255, 255, 255], p=1),\n",
    "#     ToTensorV2(),\n",
    "# ])\n",
    "# trn_transform_rotate90 = A.Compose([\n",
    "#     A.Resize(height=img_size, width=img_size),\n",
    "#     A.Normalize(mean=[0.485, 0.456, 0.406], std=[0.229, 0.224, 0.225]), \n",
    "#     A.Rotate(limit=(90, 90), border_mode=cv2.BORDER_CONSTANT,value=[255, 255, 255], p=1),\n",
    "#     ToTensorV2(),\n",
    "# ])\n",
    "# trn_transform_rotate135 = A.Compose([\n",
    "#     A.Resize(height=img_size, width=img_size),\n",
    "#     A.Normalize(mean=[0.485, 0.456, 0.406], std=[0.229, 0.224, 0.225]),\n",
    "#     A.Rotate(limit=(135, 135), border_mode=cv2.BORDER_CONSTANT,value=[255, 255, 255], p=1),\n",
    "#     ToTensorV2(),\n",
    "# ])\n",
    "# trn_transform_rotate180 = A.Compose([\n",
    "#     A.Resize(height=img_size, width=img_size),\n",
    "#     A.Normalize(mean=[0.485, 0.456, 0.406], std=[0.229, 0.224, 0.225]),\n",
    "#     A.Rotate(limit=(180, 180), border_mode=cv2.BORDER_CONSTANT,value=[255, 255, 255], p=1),\n",
    "#     ToTensorV2(),\n",
    "# ])\n",
    "# trn_transform_rotate225 = A.Compose([\n",
    "#     A.Resize(height=img_size, width=img_size),\n",
    "#     A.Normalize(mean=[0.485, 0.456, 0.406], std=[0.229, 0.224, 0.225]),\n",
    "#     A.Rotate(limit=(225, 225), border_mode=cv2.BORDER_CONSTANT,value=[255, 255, 255], p=1.0),\n",
    "#     ToTensorV2(),\n",
    "# ])\n",
    "# trn_transform_rotate270 = A.Compose([\n",
    "#     A.Resize(height=img_size, width=img_size),\n",
    "#     A.Normalize(mean=[0.485, 0.456, 0.406], std=[0.229, 0.224, 0.225]),\n",
    "#     A.Rotate(limit=(270, 270), border_mode=cv2.BORDER_CONSTANT,value=[255, 255, 255], p=1.0),\n",
    "#     ToTensorV2(),\n",
    "# ])\n",
    "# trn_transform_rotate315 = A.Compose([\n",
    "#     A.Resize(height=img_size, width=img_size),\n",
    "#     A.Normalize(mean=[0.485, 0.456, 0.406], std=[0.229, 0.224, 0.225]),\n",
    "#     A.Rotate(limit=(315, 315), border_mode=cv2.BORDER_CONSTANT,value=[255, 255, 255], p=1.0),\n",
    "#     ToTensorV2(),\n",
    "# ])\n",
    "# trn_transform_verticalflip = A.Compose([\n",
    "#     A.Resize(height=img_size, width=img_size),\n",
    "#     A.Normalize(mean=[0.485, 0.456, 0.406], std=[0.229, 0.224, 0.225]),\n",
    "#     A.VerticalFlip(always_apply=False, p=1.0),\n",
    "#     ToTensorV2(),\n",
    "# ])\n",
    "# trn_transform_horizontalflip = A.Compose([\n",
    "#     A.Resize(height=img_size, width=img_size),\n",
    "#     A.Normalize(mean=[0.485, 0.456, 0.406], std=[0.229, 0.224, 0.225]),\n",
    "#     A.HorizontalFlip(always_apply=False, p=1.0),\n",
    "#     ToTensorV2(),\n",
    "# ])\n",
    "# trn_transform_blur = A.Compose([\n",
    "#     A.Resize(height=img_size, width=img_size),\n",
    "#     A.Normalize(mean=[0.485, 0.456, 0.406], std=[0.229, 0.224, 0.225]),\n",
    "#     A.Blur(always_apply=True, p=1.0, blur_limit=(3, 3)),\n",
    "#     ToTensorV2(),\n",
    "# ])\n",
    "# trn_transform_gaussnoise = A.Compose([\n",
    "#     A.Resize(height=img_size, width=img_size),\n",
    "#     A.Normalize(mean=[0.485, 0.456, 0.406], std=[0.229, 0.224, 0.225]),\n",
    "#     A.GaussNoise(always_apply=False, p=1.0, var_limit=(500.0, 500.0)),\n",
    "#     ToTensorV2(),\n",
    "# ])\n",
    "# trn_transform_downscale = A.Compose([\n",
    "#     A.Resize(height=img_size, width=img_size),\n",
    "#     A.Normalize(mean=[0.485, 0.456, 0.406], std=[0.229, 0.224, 0.225]),\n",
    "#     A.Downscale(always_apply=False, p=1.0, scale_min=0.5, scale_max=0.5, interpolation=0),\n",
    "#     ToTensorV2(),\n",
    "# ])\n",
    "# transform_list = [trn_transform, trn_transform_coarseDropout, trn_transform_rotate45, trn_transform_rotate90, trn_transform_rotate135, trn_transform_rotate180, trn_transform_rotate225,\n",
    "#                   trn_transform_rotate270, trn_transform_rotate315, trn_transform_verticalflip, trn_transform_horizontalflip, trn_transform_blur, trn_transform_gaussnoise,\n",
    "#                   trn_transform_downscale]\n",
    "\n",
    "# # test image 변환을 위한 transform 코드\n",
    "# tst_transform = A.Compose([\n",
    "#     A.Resize(height=img_size, width=img_size),\n",
    "#     A.Normalize(mean=[0.485, 0.456, 0.406], std=[0.229, 0.224, 0.225]),\n",
    "#     ToTensorV2(),\n",
    "# ])"
   ]
  },
  {
   "cell_type": "code",
   "execution_count": 28,
   "metadata": {},
   "outputs": [],
   "source": [
    "trn_transform = A.Compose([\n",
    "    A.Resize(height=img_size, width=img_size),\n",
    "    A.Normalize(mean=[0.485, 0.456, 0.406], std=[0.229, 0.224, 0.225]),\n",
    "    ToTensorV2()\n",
    "])\n",
    "transform_list = [A.CoarseDropout(max_holes=30, max_height=16, max_width=16, min_holes=10, min_height=16, min_width=16, p=1),\n",
    "                  A.Rotate(limit=(45, 45), border_mode=cv2.BORDER_CONSTANT,value=[255, 255, 255], p=1),\n",
    "                  A.Rotate(limit=(90, 90), border_mode=cv2.BORDER_CONSTANT,value=[255, 255, 255], p=1),\n",
    "                  A.Rotate(limit=(135, 135), border_mode=cv2.BORDER_CONSTANT,value=[255, 255, 255], p=1),\n",
    "                  A.Rotate(limit=(180, 180), border_mode=cv2.BORDER_CONSTANT,value=[255, 255, 255], p=1),\n",
    "                  A.Rotate(limit=(225, 225), border_mode=cv2.BORDER_CONSTANT,value=[255, 255, 255], p=1),\n",
    "                  A.Rotate(limit=(270, 270), border_mode=cv2.BORDER_CONSTANT,value=[255, 255, 255], p=1),\n",
    "                  A.Rotate(limit=(315, 315), border_mode=cv2.BORDER_CONSTANT,value=[255, 255, 255], p=1),\n",
    "                  # A.Rotate(limit=(0, 360), border_mode=cv2.BORDER_CONSTANT,value=[255, 255, 255], p=1),\n",
    "                  A.VerticalFlip(always_apply=False, p=1),\n",
    "                  A.HorizontalFlip(always_apply=False, p=1),\n",
    "                  A.Blur(always_apply=True, p=1, blur_limit=(3, 3)),\n",
    "                  A.GaussNoise(always_apply=False, p=1, var_limit=(0.5, 0.5)),\n",
    "                  A.Downscale(always_apply=False, p=1, scale_min=0.5, scale_max=0.5, interpolation=0),]\n",
    "\n",
    "tst_transform = A.Compose([ \n",
    "    A.Resize(height=img_size, width=img_size),\n",
    "    A.Normalize(mean=[0.485, 0.456, 0.406], std=[0.229, 0.224, 0.225]),\n",
    "    ToTensorV2()\n",
    "])"
   ]
  },
  {
   "cell_type": "code",
   "execution_count": 29,
   "metadata": {},
   "outputs": [
    {
     "name": "stdout",
     "output_type": "stream",
     "text": [
      "CoarseDropout(always_apply=False, p=1, max_holes=30, max_height=16, max_width=16, min_holes=10, min_height=16, min_width=16, fill_value=0, mask_fill_value=None) Rotate(always_apply=False, p=1, limit=(45, 45), interpolation=1, border_mode=0, value=[255, 255, 255], mask_value=None, rotate_method='largest_box', crop_border=False)\n",
      "CoarseDropout(always_apply=False, p=1, max_holes=30, max_height=16, max_width=16, min_holes=10, min_height=16, min_width=16, fill_value=0, mask_fill_value=None) Rotate(always_apply=False, p=1, limit=(90, 90), interpolation=1, border_mode=0, value=[255, 255, 255], mask_value=None, rotate_method='largest_box', crop_border=False)\n",
      "CoarseDropout(always_apply=False, p=1, max_holes=30, max_height=16, max_width=16, min_holes=10, min_height=16, min_width=16, fill_value=0, mask_fill_value=None) Rotate(always_apply=False, p=1, limit=(135, 135), interpolation=1, border_mode=0, value=[255, 255, 255], mask_value=None, rotate_method='largest_box', crop_border=False)\n",
      "CoarseDropout(always_apply=False, p=1, max_holes=30, max_height=16, max_width=16, min_holes=10, min_height=16, min_width=16, fill_value=0, mask_fill_value=None) Rotate(always_apply=False, p=1, limit=(180, 180), interpolation=1, border_mode=0, value=[255, 255, 255], mask_value=None, rotate_method='largest_box', crop_border=False)\n",
      "CoarseDropout(always_apply=False, p=1, max_holes=30, max_height=16, max_width=16, min_holes=10, min_height=16, min_width=16, fill_value=0, mask_fill_value=None) Rotate(always_apply=False, p=1, limit=(225, 225), interpolation=1, border_mode=0, value=[255, 255, 255], mask_value=None, rotate_method='largest_box', crop_border=False)\n",
      "CoarseDropout(always_apply=False, p=1, max_holes=30, max_height=16, max_width=16, min_holes=10, min_height=16, min_width=16, fill_value=0, mask_fill_value=None) Rotate(always_apply=False, p=1, limit=(270, 270), interpolation=1, border_mode=0, value=[255, 255, 255], mask_value=None, rotate_method='largest_box', crop_border=False)\n",
      "CoarseDropout(always_apply=False, p=1, max_holes=30, max_height=16, max_width=16, min_holes=10, min_height=16, min_width=16, fill_value=0, mask_fill_value=None) Rotate(always_apply=False, p=1, limit=(315, 315), interpolation=1, border_mode=0, value=[255, 255, 255], mask_value=None, rotate_method='largest_box', crop_border=False)\n",
      "CoarseDropout(always_apply=False, p=1, max_holes=30, max_height=16, max_width=16, min_holes=10, min_height=16, min_width=16, fill_value=0, mask_fill_value=None) VerticalFlip(always_apply=False, p=1)\n",
      "CoarseDropout(always_apply=False, p=1, max_holes=30, max_height=16, max_width=16, min_holes=10, min_height=16, min_width=16, fill_value=0, mask_fill_value=None) HorizontalFlip(always_apply=False, p=1)\n",
      "CoarseDropout(always_apply=False, p=1, max_holes=30, max_height=16, max_width=16, min_holes=10, min_height=16, min_width=16, fill_value=0, mask_fill_value=None) Blur(always_apply=True, p=1, blur_limit=(3, 3))\n",
      "CoarseDropout(always_apply=False, p=1, max_holes=30, max_height=16, max_width=16, min_holes=10, min_height=16, min_width=16, fill_value=0, mask_fill_value=None) GaussNoise(always_apply=False, p=1, var_limit=(0.5, 0.5), per_channel=True, mean=0)\n",
      "CoarseDropout(always_apply=False, p=1, max_holes=30, max_height=16, max_width=16, min_holes=10, min_height=16, min_width=16, fill_value=0, mask_fill_value=None) Downscale(always_apply=False, p=1, scale_min=0.5, scale_max=0.5)\n",
      "Rotate(always_apply=False, p=1, limit=(45, 45), interpolation=1, border_mode=0, value=[255, 255, 255], mask_value=None, rotate_method='largest_box', crop_border=False) Rotate(always_apply=False, p=1, limit=(90, 90), interpolation=1, border_mode=0, value=[255, 255, 255], mask_value=None, rotate_method='largest_box', crop_border=False)\n",
      "Rotate(always_apply=False, p=1, limit=(45, 45), interpolation=1, border_mode=0, value=[255, 255, 255], mask_value=None, rotate_method='largest_box', crop_border=False) Rotate(always_apply=False, p=1, limit=(135, 135), interpolation=1, border_mode=0, value=[255, 255, 255], mask_value=None, rotate_method='largest_box', crop_border=False)\n",
      "Rotate(always_apply=False, p=1, limit=(45, 45), interpolation=1, border_mode=0, value=[255, 255, 255], mask_value=None, rotate_method='largest_box', crop_border=False) Rotate(always_apply=False, p=1, limit=(180, 180), interpolation=1, border_mode=0, value=[255, 255, 255], mask_value=None, rotate_method='largest_box', crop_border=False)\n",
      "Rotate(always_apply=False, p=1, limit=(45, 45), interpolation=1, border_mode=0, value=[255, 255, 255], mask_value=None, rotate_method='largest_box', crop_border=False) Rotate(always_apply=False, p=1, limit=(225, 225), interpolation=1, border_mode=0, value=[255, 255, 255], mask_value=None, rotate_method='largest_box', crop_border=False)\n",
      "Rotate(always_apply=False, p=1, limit=(45, 45), interpolation=1, border_mode=0, value=[255, 255, 255], mask_value=None, rotate_method='largest_box', crop_border=False) Rotate(always_apply=False, p=1, limit=(270, 270), interpolation=1, border_mode=0, value=[255, 255, 255], mask_value=None, rotate_method='largest_box', crop_border=False)\n",
      "Rotate(always_apply=False, p=1, limit=(45, 45), interpolation=1, border_mode=0, value=[255, 255, 255], mask_value=None, rotate_method='largest_box', crop_border=False) Rotate(always_apply=False, p=1, limit=(315, 315), interpolation=1, border_mode=0, value=[255, 255, 255], mask_value=None, rotate_method='largest_box', crop_border=False)\n",
      "Rotate(always_apply=False, p=1, limit=(45, 45), interpolation=1, border_mode=0, value=[255, 255, 255], mask_value=None, rotate_method='largest_box', crop_border=False) VerticalFlip(always_apply=False, p=1)\n",
      "Rotate(always_apply=False, p=1, limit=(45, 45), interpolation=1, border_mode=0, value=[255, 255, 255], mask_value=None, rotate_method='largest_box', crop_border=False) HorizontalFlip(always_apply=False, p=1)\n",
      "Rotate(always_apply=False, p=1, limit=(45, 45), interpolation=1, border_mode=0, value=[255, 255, 255], mask_value=None, rotate_method='largest_box', crop_border=False) Blur(always_apply=True, p=1, blur_limit=(3, 3))\n",
      "Rotate(always_apply=False, p=1, limit=(45, 45), interpolation=1, border_mode=0, value=[255, 255, 255], mask_value=None, rotate_method='largest_box', crop_border=False) GaussNoise(always_apply=False, p=1, var_limit=(0.5, 0.5), per_channel=True, mean=0)\n",
      "Rotate(always_apply=False, p=1, limit=(45, 45), interpolation=1, border_mode=0, value=[255, 255, 255], mask_value=None, rotate_method='largest_box', crop_border=False) Downscale(always_apply=False, p=1, scale_min=0.5, scale_max=0.5)\n",
      "Rotate(always_apply=False, p=1, limit=(90, 90), interpolation=1, border_mode=0, value=[255, 255, 255], mask_value=None, rotate_method='largest_box', crop_border=False) Rotate(always_apply=False, p=1, limit=(135, 135), interpolation=1, border_mode=0, value=[255, 255, 255], mask_value=None, rotate_method='largest_box', crop_border=False)\n",
      "Rotate(always_apply=False, p=1, limit=(90, 90), interpolation=1, border_mode=0, value=[255, 255, 255], mask_value=None, rotate_method='largest_box', crop_border=False) Rotate(always_apply=False, p=1, limit=(180, 180), interpolation=1, border_mode=0, value=[255, 255, 255], mask_value=None, rotate_method='largest_box', crop_border=False)\n",
      "Rotate(always_apply=False, p=1, limit=(90, 90), interpolation=1, border_mode=0, value=[255, 255, 255], mask_value=None, rotate_method='largest_box', crop_border=False) Rotate(always_apply=False, p=1, limit=(225, 225), interpolation=1, border_mode=0, value=[255, 255, 255], mask_value=None, rotate_method='largest_box', crop_border=False)\n",
      "Rotate(always_apply=False, p=1, limit=(90, 90), interpolation=1, border_mode=0, value=[255, 255, 255], mask_value=None, rotate_method='largest_box', crop_border=False) Rotate(always_apply=False, p=1, limit=(270, 270), interpolation=1, border_mode=0, value=[255, 255, 255], mask_value=None, rotate_method='largest_box', crop_border=False)\n",
      "Rotate(always_apply=False, p=1, limit=(90, 90), interpolation=1, border_mode=0, value=[255, 255, 255], mask_value=None, rotate_method='largest_box', crop_border=False) Rotate(always_apply=False, p=1, limit=(315, 315), interpolation=1, border_mode=0, value=[255, 255, 255], mask_value=None, rotate_method='largest_box', crop_border=False)\n",
      "Rotate(always_apply=False, p=1, limit=(90, 90), interpolation=1, border_mode=0, value=[255, 255, 255], mask_value=None, rotate_method='largest_box', crop_border=False) VerticalFlip(always_apply=False, p=1)\n",
      "Rotate(always_apply=False, p=1, limit=(90, 90), interpolation=1, border_mode=0, value=[255, 255, 255], mask_value=None, rotate_method='largest_box', crop_border=False) HorizontalFlip(always_apply=False, p=1)\n",
      "Rotate(always_apply=False, p=1, limit=(90, 90), interpolation=1, border_mode=0, value=[255, 255, 255], mask_value=None, rotate_method='largest_box', crop_border=False) Blur(always_apply=True, p=1, blur_limit=(3, 3))\n",
      "Rotate(always_apply=False, p=1, limit=(90, 90), interpolation=1, border_mode=0, value=[255, 255, 255], mask_value=None, rotate_method='largest_box', crop_border=False) GaussNoise(always_apply=False, p=1, var_limit=(0.5, 0.5), per_channel=True, mean=0)\n",
      "Rotate(always_apply=False, p=1, limit=(90, 90), interpolation=1, border_mode=0, value=[255, 255, 255], mask_value=None, rotate_method='largest_box', crop_border=False) Downscale(always_apply=False, p=1, scale_min=0.5, scale_max=0.5)\n",
      "Rotate(always_apply=False, p=1, limit=(135, 135), interpolation=1, border_mode=0, value=[255, 255, 255], mask_value=None, rotate_method='largest_box', crop_border=False) Rotate(always_apply=False, p=1, limit=(180, 180), interpolation=1, border_mode=0, value=[255, 255, 255], mask_value=None, rotate_method='largest_box', crop_border=False)\n",
      "Rotate(always_apply=False, p=1, limit=(135, 135), interpolation=1, border_mode=0, value=[255, 255, 255], mask_value=None, rotate_method='largest_box', crop_border=False) Rotate(always_apply=False, p=1, limit=(225, 225), interpolation=1, border_mode=0, value=[255, 255, 255], mask_value=None, rotate_method='largest_box', crop_border=False)\n",
      "Rotate(always_apply=False, p=1, limit=(135, 135), interpolation=1, border_mode=0, value=[255, 255, 255], mask_value=None, rotate_method='largest_box', crop_border=False) Rotate(always_apply=False, p=1, limit=(270, 270), interpolation=1, border_mode=0, value=[255, 255, 255], mask_value=None, rotate_method='largest_box', crop_border=False)\n",
      "Rotate(always_apply=False, p=1, limit=(135, 135), interpolation=1, border_mode=0, value=[255, 255, 255], mask_value=None, rotate_method='largest_box', crop_border=False) Rotate(always_apply=False, p=1, limit=(315, 315), interpolation=1, border_mode=0, value=[255, 255, 255], mask_value=None, rotate_method='largest_box', crop_border=False)\n",
      "Rotate(always_apply=False, p=1, limit=(135, 135), interpolation=1, border_mode=0, value=[255, 255, 255], mask_value=None, rotate_method='largest_box', crop_border=False) VerticalFlip(always_apply=False, p=1)\n",
      "Rotate(always_apply=False, p=1, limit=(135, 135), interpolation=1, border_mode=0, value=[255, 255, 255], mask_value=None, rotate_method='largest_box', crop_border=False) HorizontalFlip(always_apply=False, p=1)\n",
      "Rotate(always_apply=False, p=1, limit=(135, 135), interpolation=1, border_mode=0, value=[255, 255, 255], mask_value=None, rotate_method='largest_box', crop_border=False) Blur(always_apply=True, p=1, blur_limit=(3, 3))\n",
      "Rotate(always_apply=False, p=1, limit=(135, 135), interpolation=1, border_mode=0, value=[255, 255, 255], mask_value=None, rotate_method='largest_box', crop_border=False) GaussNoise(always_apply=False, p=1, var_limit=(0.5, 0.5), per_channel=True, mean=0)\n",
      "Rotate(always_apply=False, p=1, limit=(135, 135), interpolation=1, border_mode=0, value=[255, 255, 255], mask_value=None, rotate_method='largest_box', crop_border=False) Downscale(always_apply=False, p=1, scale_min=0.5, scale_max=0.5)\n",
      "Rotate(always_apply=False, p=1, limit=(180, 180), interpolation=1, border_mode=0, value=[255, 255, 255], mask_value=None, rotate_method='largest_box', crop_border=False) Rotate(always_apply=False, p=1, limit=(225, 225), interpolation=1, border_mode=0, value=[255, 255, 255], mask_value=None, rotate_method='largest_box', crop_border=False)\n",
      "Rotate(always_apply=False, p=1, limit=(180, 180), interpolation=1, border_mode=0, value=[255, 255, 255], mask_value=None, rotate_method='largest_box', crop_border=False) Rotate(always_apply=False, p=1, limit=(270, 270), interpolation=1, border_mode=0, value=[255, 255, 255], mask_value=None, rotate_method='largest_box', crop_border=False)\n",
      "Rotate(always_apply=False, p=1, limit=(180, 180), interpolation=1, border_mode=0, value=[255, 255, 255], mask_value=None, rotate_method='largest_box', crop_border=False) Rotate(always_apply=False, p=1, limit=(315, 315), interpolation=1, border_mode=0, value=[255, 255, 255], mask_value=None, rotate_method='largest_box', crop_border=False)\n",
      "Rotate(always_apply=False, p=1, limit=(180, 180), interpolation=1, border_mode=0, value=[255, 255, 255], mask_value=None, rotate_method='largest_box', crop_border=False) VerticalFlip(always_apply=False, p=1)\n",
      "Rotate(always_apply=False, p=1, limit=(180, 180), interpolation=1, border_mode=0, value=[255, 255, 255], mask_value=None, rotate_method='largest_box', crop_border=False) HorizontalFlip(always_apply=False, p=1)\n",
      "Rotate(always_apply=False, p=1, limit=(180, 180), interpolation=1, border_mode=0, value=[255, 255, 255], mask_value=None, rotate_method='largest_box', crop_border=False) Blur(always_apply=True, p=1, blur_limit=(3, 3))\n",
      "Rotate(always_apply=False, p=1, limit=(180, 180), interpolation=1, border_mode=0, value=[255, 255, 255], mask_value=None, rotate_method='largest_box', crop_border=False) GaussNoise(always_apply=False, p=1, var_limit=(0.5, 0.5), per_channel=True, mean=0)\n",
      "Rotate(always_apply=False, p=1, limit=(180, 180), interpolation=1, border_mode=0, value=[255, 255, 255], mask_value=None, rotate_method='largest_box', crop_border=False) Downscale(always_apply=False, p=1, scale_min=0.5, scale_max=0.5)\n",
      "Rotate(always_apply=False, p=1, limit=(225, 225), interpolation=1, border_mode=0, value=[255, 255, 255], mask_value=None, rotate_method='largest_box', crop_border=False) Rotate(always_apply=False, p=1, limit=(270, 270), interpolation=1, border_mode=0, value=[255, 255, 255], mask_value=None, rotate_method='largest_box', crop_border=False)\n",
      "Rotate(always_apply=False, p=1, limit=(225, 225), interpolation=1, border_mode=0, value=[255, 255, 255], mask_value=None, rotate_method='largest_box', crop_border=False) Rotate(always_apply=False, p=1, limit=(315, 315), interpolation=1, border_mode=0, value=[255, 255, 255], mask_value=None, rotate_method='largest_box', crop_border=False)\n",
      "Rotate(always_apply=False, p=1, limit=(225, 225), interpolation=1, border_mode=0, value=[255, 255, 255], mask_value=None, rotate_method='largest_box', crop_border=False) VerticalFlip(always_apply=False, p=1)\n",
      "Rotate(always_apply=False, p=1, limit=(225, 225), interpolation=1, border_mode=0, value=[255, 255, 255], mask_value=None, rotate_method='largest_box', crop_border=False) HorizontalFlip(always_apply=False, p=1)\n",
      "Rotate(always_apply=False, p=1, limit=(225, 225), interpolation=1, border_mode=0, value=[255, 255, 255], mask_value=None, rotate_method='largest_box', crop_border=False) Blur(always_apply=True, p=1, blur_limit=(3, 3))\n",
      "Rotate(always_apply=False, p=1, limit=(225, 225), interpolation=1, border_mode=0, value=[255, 255, 255], mask_value=None, rotate_method='largest_box', crop_border=False) GaussNoise(always_apply=False, p=1, var_limit=(0.5, 0.5), per_channel=True, mean=0)\n",
      "Rotate(always_apply=False, p=1, limit=(225, 225), interpolation=1, border_mode=0, value=[255, 255, 255], mask_value=None, rotate_method='largest_box', crop_border=False) Downscale(always_apply=False, p=1, scale_min=0.5, scale_max=0.5)\n",
      "Rotate(always_apply=False, p=1, limit=(270, 270), interpolation=1, border_mode=0, value=[255, 255, 255], mask_value=None, rotate_method='largest_box', crop_border=False) Rotate(always_apply=False, p=1, limit=(315, 315), interpolation=1, border_mode=0, value=[255, 255, 255], mask_value=None, rotate_method='largest_box', crop_border=False)\n",
      "Rotate(always_apply=False, p=1, limit=(270, 270), interpolation=1, border_mode=0, value=[255, 255, 255], mask_value=None, rotate_method='largest_box', crop_border=False) VerticalFlip(always_apply=False, p=1)\n",
      "Rotate(always_apply=False, p=1, limit=(270, 270), interpolation=1, border_mode=0, value=[255, 255, 255], mask_value=None, rotate_method='largest_box', crop_border=False) HorizontalFlip(always_apply=False, p=1)\n",
      "Rotate(always_apply=False, p=1, limit=(270, 270), interpolation=1, border_mode=0, value=[255, 255, 255], mask_value=None, rotate_method='largest_box', crop_border=False) Blur(always_apply=True, p=1, blur_limit=(3, 3))\n",
      "Rotate(always_apply=False, p=1, limit=(270, 270), interpolation=1, border_mode=0, value=[255, 255, 255], mask_value=None, rotate_method='largest_box', crop_border=False) GaussNoise(always_apply=False, p=1, var_limit=(0.5, 0.5), per_channel=True, mean=0)\n",
      "Rotate(always_apply=False, p=1, limit=(270, 270), interpolation=1, border_mode=0, value=[255, 255, 255], mask_value=None, rotate_method='largest_box', crop_border=False) Downscale(always_apply=False, p=1, scale_min=0.5, scale_max=0.5)\n",
      "Rotate(always_apply=False, p=1, limit=(315, 315), interpolation=1, border_mode=0, value=[255, 255, 255], mask_value=None, rotate_method='largest_box', crop_border=False) VerticalFlip(always_apply=False, p=1)\n",
      "Rotate(always_apply=False, p=1, limit=(315, 315), interpolation=1, border_mode=0, value=[255, 255, 255], mask_value=None, rotate_method='largest_box', crop_border=False) HorizontalFlip(always_apply=False, p=1)\n",
      "Rotate(always_apply=False, p=1, limit=(315, 315), interpolation=1, border_mode=0, value=[255, 255, 255], mask_value=None, rotate_method='largest_box', crop_border=False) Blur(always_apply=True, p=1, blur_limit=(3, 3))\n",
      "Rotate(always_apply=False, p=1, limit=(315, 315), interpolation=1, border_mode=0, value=[255, 255, 255], mask_value=None, rotate_method='largest_box', crop_border=False) GaussNoise(always_apply=False, p=1, var_limit=(0.5, 0.5), per_channel=True, mean=0)\n",
      "Rotate(always_apply=False, p=1, limit=(315, 315), interpolation=1, border_mode=0, value=[255, 255, 255], mask_value=None, rotate_method='largest_box', crop_border=False) Downscale(always_apply=False, p=1, scale_min=0.5, scale_max=0.5)\n",
      "VerticalFlip(always_apply=False, p=1) HorizontalFlip(always_apply=False, p=1)\n",
      "VerticalFlip(always_apply=False, p=1) Blur(always_apply=True, p=1, blur_limit=(3, 3))\n",
      "VerticalFlip(always_apply=False, p=1) GaussNoise(always_apply=False, p=1, var_limit=(0.5, 0.5), per_channel=True, mean=0)\n",
      "VerticalFlip(always_apply=False, p=1) Downscale(always_apply=False, p=1, scale_min=0.5, scale_max=0.5)\n",
      "HorizontalFlip(always_apply=False, p=1) Blur(always_apply=True, p=1, blur_limit=(3, 3))\n",
      "HorizontalFlip(always_apply=False, p=1) GaussNoise(always_apply=False, p=1, var_limit=(0.5, 0.5), per_channel=True, mean=0)\n",
      "HorizontalFlip(always_apply=False, p=1) Downscale(always_apply=False, p=1, scale_min=0.5, scale_max=0.5)\n",
      "Blur(always_apply=True, p=1, blur_limit=(3, 3)) GaussNoise(always_apply=False, p=1, var_limit=(0.5, 0.5), per_channel=True, mean=0)\n",
      "Blur(always_apply=True, p=1, blur_limit=(3, 3)) Downscale(always_apply=False, p=1, scale_min=0.5, scale_max=0.5)\n",
      "GaussNoise(always_apply=False, p=1, var_limit=(0.5, 0.5), per_channel=True, mean=0) Downscale(always_apply=False, p=1, scale_min=0.5, scale_max=0.5)\n"
     ]
    }
   ],
   "source": [
    "# transform_list에서 2개 조합으로 데이터 증강\n",
    "for a, b in combinations(transform_list, 2):\n",
    "    print(a, b, end=\"\\n\")"
   ]
  },
  {
   "cell_type": "code",
   "execution_count": 30,
   "metadata": {},
   "outputs": [],
   "source": [
    "# Dataset 정의를 위한 함수\n",
    "def make_dataset(transform_list, csv, path):\n",
    "    trn_dataset = ImageDataset(\n",
    "        csv,\n",
    "        path,\n",
    "        # transform=transform_list[0]\n",
    "        transform = trn_transform\n",
    "    )\n",
    "    for transform in transform_list:\n",
    "        trn_dataset2 = ImageDataset(\n",
    "            csv,\n",
    "            path,\n",
    "            transform=A.Compose([\n",
    "                A.Resize(height=img_size, width=img_size),\n",
    "                A.Normalize(mean=[0.485, 0.456, 0.406], std=[0.229, 0.224, 0.225]),\n",
    "                transform,\n",
    "                ToTensorV2()\n",
    "            ])\n",
    "        )\n",
    "        trn_dataset = ConcatDataset([trn_dataset, trn_dataset2])\n",
    "\n",
    "    for transform1, transform2 in combinations(transform_list, 2):\n",
    "        trn_dataset2 = ImageDataset(\n",
    "            csv,\n",
    "            path,\n",
    "            transform=A.Compose([\n",
    "                A.Resize(height=img_size, width=img_size),\n",
    "                A.Normalize(mean=[0.485, 0.456, 0.406], std=[0.229, 0.224, 0.225]),\n",
    "                transform1,\n",
    "                transform2,\n",
    "                ToTensorV2()\n",
    "            ])\n",
    "        )\n",
    "        trn_dataset = ConcatDataset([trn_dataset, trn_dataset2])\n",
    "\n",
    "\n",
    "    return trn_dataset"
   ]
  },
  {
   "cell_type": "code",
   "execution_count": 12,
   "metadata": {},
   "outputs": [],
   "source": [
    "# # vaildation set 정의\n",
    "# def make_vaild_dataset(transform_list, csv, path):\n",
    "#     trn_dataset = ImageDataset(\n",
    "#         csv,\n",
    "#         path,\n",
    "#         transform=transform_list[0]\n",
    "#     )\n",
    "#     for transform in transform_list[1:]:\n",
    "#         trn_dataset2 = ImageDataset(\n",
    "#             csv,\n",
    "#             path,\n",
    "#             transform=A.Compose([\n",
    "#                 A.Resize(height=img_size, width=img_size),\n",
    "#                 A.Normalize(mean=[0.485, 0.456, 0.406], std=[0.229, 0.224, 0.225]),\n",
    "#                 transform_list[0],\n",
    "#                 ToTensorV2()\n",
    "#             ])\n",
    "#         )\n",
    "#         trn_dataset = ConcatDataset([trn_dataset, trn_dataset2])\n",
    "    \n",
    "#     for transform in transform_list[1:]:\n",
    "#         trn_dataset2 = ImageDataset(\n",
    "#             csv,\n",
    "#             path,\n",
    "#             transform=A.Compose([\n",
    "#                 A.Resize(height=img_size, width=img_size),\n",
    "#                 A.Normalize(mean=[0.485, 0.456, 0.406], std=[0.229, 0.224, 0.225]),\n",
    "#                 transform,\n",
    "#                 ToTensorV2()\n",
    "#             ])\n",
    "#         )\n",
    "#         trn_dataset = ConcatDataset([trn_dataset, trn_dataset2])\n",
    "\n",
    "#     for transform1, transform2 in combinations(transform_list, 2):\n",
    "#         trn_dataset2 = ImageDataset(\n",
    "#             csv,\n",
    "#             path,\n",
    "#             transform=A.Compose([\n",
    "#                 A.Resize(height=img_size, width=img_size),\n",
    "#                 A.Normalize(mean=[0.485, 0.456, 0.406], std=[0.229, 0.224, 0.225]),\n",
    "#                 transform1,\n",
    "#                 transform2,\n",
    "#                 ToTensorV2()\n",
    "#             ])\n",
    "#         )\n",
    "\n",
    "#     return trn_dataset"
   ]
  },
  {
   "cell_type": "code",
   "execution_count": 31,
   "metadata": {},
   "outputs": [
    {
     "name": "stdout",
     "output_type": "stream",
     "text": [
      "115552 14444 157\n"
     ]
    }
   ],
   "source": [
    "trn_dataset = make_dataset(transform_list, \"../datasets_fin/divided_train.csv\", \"../datasets_fin/train/\")\n",
    "vaild_dataset = make_dataset(transform_list, \"../datasets_fin/vaild.csv\", \"../datasets_fin/train/\",)\n",
    "tst_dataset = ImageDataset(\n",
    "    \"../datasets_fin/test.csv\",\n",
    "    \"../datasets_fin/train/\",\n",
    "    transform=tst_transform\n",
    ")\n",
    "print(len(trn_dataset), len(vaild_dataset), len(tst_dataset))"
   ]
  },
  {
   "cell_type": "code",
   "execution_count": 28,
   "metadata": {},
   "outputs": [
    {
     "name": "stdout",
     "output_type": "stream",
     "text": [
      "115552 14444 157\n"
     ]
    }
   ],
   "source": [
    "# Dataset 정의를 위한 함수\n",
    "# trn_dataset = ImageDataset(\n",
    "#     \"../datasets_fin/divided_train.csv\",\n",
    "#     \"../datasets_fin/train/\",\n",
    "#     transform=trn_transform\n",
    "# )\n",
    "# vaild_dataset = make_vaild_dataset(transform_list, \"../datasets_fin/vaild.csv\", \"../datasets_fin/train/\")\n",
    "# tst_dataset = ImageDataset(\n",
    "#     \"../datasets_fin/test.csv\",\n",
    "#     \"../datasets_fin/train/\",\n",
    "#     transform=tst_transform\n",
    "# )\n",
    "# print(len(trn_dataset), len(vaild_dataset), len(tst_dataset))"
   ]
  },
  {
   "cell_type": "code",
   "execution_count": 32,
   "metadata": {},
   "outputs": [],
   "source": [
    "# DataLoader 정의\n",
    "trn_loader = DataLoader(\n",
    "    trn_dataset,\n",
    "    batch_size=BATCH_SIZE,\n",
    "    shuffle=True,\n",
    "    # shuffle=True,\n",
    "    num_workers=num_workers,\n",
    "    pin_memory=True,\n",
    "    drop_last=False\n",
    ")\n",
    "vaild_loader = DataLoader(\n",
    "    vaild_dataset,\n",
    "    batch_size=BATCH_SIZE,\n",
    "    shuffle=False,\n",
    "    # shuffle=True,\n",
    "    num_workers=num_workers,\n",
    "    pin_memory=True,\n",
    "    # drop_last=False\n",
    ")\n",
    "tst_loader = DataLoader(\n",
    "    tst_dataset,\n",
    "    batch_size=BATCH_SIZE,\n",
    "    shuffle=False,\n",
    "    num_workers=0,\n",
    "    pin_memory=True\n",
    ")"
   ]
  },
  {
   "cell_type": "code",
   "execution_count": 38,
   "metadata": {},
   "outputs": [],
   "source": [
    "# load model\n",
    "model = timm.create_model(\n",
    "    model_name,\n",
    "    pretrained=True,\n",
    "    num_classes=17\n",
    ").to(device)\n",
    "loss_fn = nn.CrossEntropyLoss()\n",
    "optimizer = Adam(model.parameters(), lr=LR)"
   ]
  },
  {
   "cell_type": "code",
   "execution_count": 39,
   "metadata": {},
   "outputs": [
    {
     "name": "stderr",
     "output_type": "stream",
     "text": [
      "Loss: 0.0127: 100%|██████████| 3611/3611 [31:36<00:00,  1.90it/s]\n",
      "100%|██████████| 452/452 [03:39<00:00,  2.06it/s]\n"
     ]
    },
    {
     "name": "stdout",
     "output_type": "stream",
     "text": [
      "0\n",
      "train_loss: 0.1660\n",
      "train_acc: 0.9444\n",
      "train_f1: 0.9423\n",
      "vaild_acc: 0.8344\n",
      "vaild_f1: 0.8279\n",
      "epoch: 0.0000\n",
      "\n"
     ]
    },
    {
     "name": "stderr",
     "output_type": "stream",
     "text": [
      "Loss: 0.0252: 100%|██████████| 3611/3611 [31:33<00:00,  1.91it/s]\n",
      "100%|██████████| 452/452 [03:37<00:00,  2.08it/s]\n"
     ]
    },
    {
     "name": "stdout",
     "output_type": "stream",
     "text": [
      "1\n",
      "train_loss: 0.0257\n",
      "train_acc: 0.9917\n",
      "train_f1: 0.9915\n",
      "vaild_acc: 0.6675\n",
      "vaild_f1: 0.6526\n",
      "epoch: 1.0000\n",
      "\n"
     ]
    },
    {
     "name": "stderr",
     "output_type": "stream",
     "text": [
      "Loss: 0.0005: 100%|██████████| 3611/3611 [32:15<00:00,  1.87it/s]\n",
      "100%|██████████| 452/452 [03:43<00:00,  2.02it/s]\n"
     ]
    },
    {
     "name": "stdout",
     "output_type": "stream",
     "text": [
      "0\n",
      "train_loss: 0.0169\n",
      "train_acc: 0.9947\n",
      "train_f1: 0.9944\n",
      "vaild_acc: 0.8465\n",
      "vaild_f1: 0.8437\n",
      "epoch: 2.0000\n",
      "\n"
     ]
    },
    {
     "name": "stderr",
     "output_type": "stream",
     "text": [
      "Loss: 0.0015: 100%|██████████| 3611/3611 [32:28<00:00,  1.85it/s]\n",
      "100%|██████████| 452/452 [03:42<00:00,  2.03it/s]\n"
     ]
    },
    {
     "name": "stdout",
     "output_type": "stream",
     "text": [
      "0\n",
      "train_loss: 0.0141\n",
      "train_acc: 0.9954\n",
      "train_f1: 0.9953\n",
      "vaild_acc: 0.8721\n",
      "vaild_f1: 0.8662\n",
      "epoch: 3.0000\n",
      "\n"
     ]
    },
    {
     "name": "stderr",
     "output_type": "stream",
     "text": [
      "Loss: 0.0029: 100%|██████████| 3611/3611 [32:07<00:00,  1.87it/s]\n",
      "100%|██████████| 452/452 [03:40<00:00,  2.05it/s]\n"
     ]
    },
    {
     "name": "stdout",
     "output_type": "stream",
     "text": [
      "1\n",
      "train_loss: 0.0104\n",
      "train_acc: 0.9967\n",
      "train_f1: 0.9966\n",
      "vaild_acc: 0.8213\n",
      "vaild_f1: 0.8170\n",
      "epoch: 4.0000\n",
      "\n"
     ]
    },
    {
     "name": "stderr",
     "output_type": "stream",
     "text": [
      "Loss: 0.0001: 100%|██████████| 3611/3611 [31:43<00:00,  1.90it/s]\n",
      "100%|██████████| 452/452 [03:38<00:00,  2.07it/s]\n"
     ]
    },
    {
     "name": "stdout",
     "output_type": "stream",
     "text": [
      "0\n",
      "train_loss: 0.0093\n",
      "train_acc: 0.9972\n",
      "train_f1: 0.9972\n",
      "vaild_acc: 0.9175\n",
      "vaild_f1: 0.9133\n",
      "epoch: 5.0000\n",
      "\n"
     ]
    },
    {
     "name": "stderr",
     "output_type": "stream",
     "text": [
      "Loss: 0.0001: 100%|██████████| 3611/3611 [31:28<00:00,  1.91it/s]\n",
      "100%|██████████| 452/452 [03:37<00:00,  2.08it/s]\n"
     ]
    },
    {
     "name": "stdout",
     "output_type": "stream",
     "text": [
      "1\n",
      "train_loss: 0.0073\n",
      "train_acc: 0.9979\n",
      "train_f1: 0.9977\n",
      "vaild_acc: 0.9144\n",
      "vaild_f1: 0.9090\n",
      "epoch: 6.0000\n",
      "\n"
     ]
    },
    {
     "name": "stderr",
     "output_type": "stream",
     "text": [
      "Loss: 0.0031: 100%|██████████| 3611/3611 [31:31<00:00,  1.91it/s]\n",
      "100%|██████████| 452/452 [03:38<00:00,  2.07it/s]\n"
     ]
    },
    {
     "name": "stdout",
     "output_type": "stream",
     "text": [
      "0\n",
      "train_loss: 0.0079\n",
      "train_acc: 0.9976\n",
      "train_f1: 0.9975\n",
      "vaild_acc: 0.9146\n",
      "vaild_f1: 0.9137\n",
      "epoch: 7.0000\n",
      "\n"
     ]
    },
    {
     "name": "stderr",
     "output_type": "stream",
     "text": [
      "Loss: 0.0001: 100%|██████████| 3611/3611 [31:29<00:00,  1.91it/s]\n",
      "100%|██████████| 452/452 [03:37<00:00,  2.08it/s]\n"
     ]
    },
    {
     "name": "stdout",
     "output_type": "stream",
     "text": [
      "1\n",
      "train_loss: 0.0068\n",
      "train_acc: 0.9979\n",
      "train_f1: 0.9978\n",
      "vaild_acc: 0.9155\n",
      "vaild_f1: 0.9124\n",
      "epoch: 8.0000\n",
      "\n"
     ]
    },
    {
     "name": "stderr",
     "output_type": "stream",
     "text": [
      "Loss: 0.0009: 100%|██████████| 3611/3611 [31:18<00:00,  1.92it/s]\n",
      "100%|██████████| 452/452 [03:35<00:00,  2.10it/s]\n"
     ]
    },
    {
     "name": "stdout",
     "output_type": "stream",
     "text": [
      "2\n",
      "train_loss: 0.0052\n",
      "train_acc: 0.9983\n",
      "train_f1: 0.9982\n",
      "vaild_acc: 0.9169\n",
      "vaild_f1: 0.9104\n",
      "epoch: 9.0000\n",
      "\n"
     ]
    },
    {
     "name": "stderr",
     "output_type": "stream",
     "text": [
      "Loss: 0.0014: 100%|██████████| 3611/3611 [31:21<00:00,  1.92it/s]\n",
      "100%|██████████| 452/452 [03:36<00:00,  2.09it/s]\n"
     ]
    },
    {
     "name": "stdout",
     "output_type": "stream",
     "text": [
      "3\n",
      "train_loss: 0.0042\n",
      "train_acc: 0.9986\n",
      "train_f1: 0.9985\n",
      "vaild_acc: 0.8790\n",
      "vaild_f1: 0.8697\n",
      "epoch: 10.0000\n",
      "\n"
     ]
    }
   ],
   "source": [
    "early_stop = 0\n",
    "best_model = model\n",
    "best_epoch = 0\n",
    "best_vaild_f1 = 0\n",
    "resent_model = model\n",
    "before_vaild_f1 = 0\n",
    "for epoch in range(EPOCHS):\n",
    "   \n",
    "   ret = train_one_epoch(trn_loader, vaild_loader, model, optimizer, loss_fn, device=device)\n",
    "   ret['epoch'] = epoch\n",
    "   if before_vaild_f1 < ret['vaild_f1']:\n",
    "      if best_vaild_f1 < ret['vaild_f1']:\n",
    "         best_vaild_f1 = ret['vaild_f1']\n",
    "         best_model = model\n",
    "         best_epoch = epoch+1\n",
    "      resent_model = model\n",
    "      early_stop = 0\n",
    "   else:\n",
    "      early_stop += 1\n",
    "   before_vaild_f1 = ret['vaild_f1']\n",
    "\n",
    "   print(early_stop)\n",
    "\n",
    "   log = \"\"\n",
    "   for k, v in ret.items():\n",
    "      log += f\"{k}: {v:.4f}\\n\"\n",
    "   print(log)\n",
    "\n",
    "   if early_stop > 2: # earlystop없이 모든 애폭을 사용하여 학습, 단 best model을 따로 저장\n",
    "      torch.save(best_model, '../model/best_augmentation7_'+str(img_size)+'_'+str(best_epoch)+'.pt')\n",
    "      break"
   ]
  },
  {
   "cell_type": "code",
   "execution_count": 40,
   "metadata": {},
   "outputs": [],
   "source": [
    "# 베스트 모델 저장\n",
    "torch.save(best_model, '../model/best_augmentation7_'+str(img_size)+'_'+str(best_epoch)+'.pt')"
   ]
  },
  {
   "cell_type": "code",
   "execution_count": 38,
   "metadata": {},
   "outputs": [],
   "source": [
    "# 마지막 모델 저장\n",
    "torch.save(model, '../model/augmentation7_'+str(img_size)+'_'+str(epoch+1)+'.pt')"
   ]
  },
  {
   "cell_type": "code",
   "execution_count": 16,
   "metadata": {},
   "outputs": [],
   "source": [
    "# for epoch in range(20):\n",
    "#     ret = train_one_epoch(trn_loader, vaild_loader, model, optimizer, loss_fn, device=device)\n",
    "#     ret['epoch'] = epoch\n",
    "\n",
    "#     log = \"\"\n",
    "#     for k, v in ret.items():\n",
    "#       log += f\"{k}: {v:.4f}\\n\"\n",
    "#     print(log)"
   ]
  },
  {
   "cell_type": "markdown",
   "metadata": {},
   "source": [
    "마지막 학습한 모델의 데이터셋 확인 및 실제 데이터 추측"
   ]
  },
  {
   "cell_type": "code",
   "execution_count": 39,
   "metadata": {},
   "outputs": [
    {
     "name": "stderr",
     "output_type": "stream",
     "text": [
      "100%|██████████| 5/5 [00:00<00:00,  5.54it/s]\n"
     ]
    },
    {
     "data": {
      "text/plain": [
       "(0.910828025477707, 0.9061289587605378)"
      ]
     },
     "execution_count": 39,
     "metadata": {},
     "output_type": "execute_result"
    }
   ],
   "source": [
    "# # test 데이터 확인\n",
    "# tst_preds_list = []\n",
    "# tst_target_list = []\n",
    "\n",
    "# model.eval()\n",
    "# for image, target in tqdm(tst_loader):\n",
    "#     image = image.float().to(device)\n",
    "\n",
    "#     with torch.no_grad():\n",
    "#         preds = model(image)\n",
    "#     tst_preds_list.extend(preds.argmax(dim=1).detach().cpu().numpy())\n",
    "#     tst_target_list.extend(target.detach().cpu().numpy())\n",
    "# tst_acc = accuracy_score(tst_target_list, tst_preds_list)\n",
    "# tst_f1 = f1_score(tst_target_list, tst_preds_list, average='macro')\n",
    "\n",
    "# tst_acc, tst_f1"
   ]
  },
  {
   "cell_type": "code",
   "execution_count": 40,
   "metadata": {},
   "outputs": [],
   "source": [
    "# # 실제 test데이터\n",
    "# test_dataset = ImageDataset(\n",
    "#     \"../datasets_fin/sample_submission.csv\",\n",
    "#     \"../datasets_fin/test/\",\n",
    "#     transform=tst_transform\n",
    "# )\n",
    "# test_loader = DataLoader(\n",
    "#     test_dataset,\n",
    "#     batch_size=BATCH_SIZE,\n",
    "#     shuffle=False,\n",
    "#     num_workers=0,\n",
    "#     pin_memory=True\n",
    "# )"
   ]
  },
  {
   "cell_type": "code",
   "execution_count": 41,
   "metadata": {},
   "outputs": [
    {
     "name": "stderr",
     "output_type": "stream",
     "text": [
      "100%|██████████| 99/99 [00:15<00:00,  6.42it/s]\n"
     ]
    }
   ],
   "source": [
    "# preds_list = []\n",
    "\n",
    "# model.eval()\n",
    "# for image, _ in tqdm(test_loader):\n",
    "#     image = image.to(device)\n",
    "\n",
    "#     with torch.no_grad():\n",
    "#         preds = model(image)\n",
    "#     preds_list.extend(preds.argmax(dim=1).detach().cpu().numpy())"
   ]
  },
  {
   "cell_type": "code",
   "execution_count": 42,
   "metadata": {},
   "outputs": [],
   "source": [
    "# pred_df = pd.DataFrame(test_dataset.df, columns=['ID', 'target'])\n",
    "# pred_df['target'] = preds_list"
   ]
  },
  {
   "cell_type": "code",
   "execution_count": 43,
   "metadata": {},
   "outputs": [],
   "source": [
    "# sample_submission_df = pd.read_csv(\"../datasets_fin/sample_submission.csv\")\n",
    "# assert (sample_submission_df['ID'] == pred_df['ID']).all()"
   ]
  },
  {
   "cell_type": "code",
   "execution_count": 44,
   "metadata": {},
   "outputs": [],
   "source": [
    "# pred_df.to_csv(\"../output/augmentation6_lastmodel_pred_256_\"+str(epoch+1)+\".csv\", index=False)"
   ]
  },
  {
   "cell_type": "code",
   "execution_count": 45,
   "metadata": {},
   "outputs": [
    {
     "data": {
      "text/html": [
       "<div>\n",
       "<style scoped>\n",
       "    .dataframe tbody tr th:only-of-type {\n",
       "        vertical-align: middle;\n",
       "    }\n",
       "\n",
       "    .dataframe tbody tr th {\n",
       "        vertical-align: top;\n",
       "    }\n",
       "\n",
       "    .dataframe thead th {\n",
       "        text-align: right;\n",
       "    }\n",
       "</style>\n",
       "<table border=\"1\" class=\"dataframe\">\n",
       "  <thead>\n",
       "    <tr style=\"text-align: right;\">\n",
       "      <th></th>\n",
       "      <th>ID</th>\n",
       "      <th>target</th>\n",
       "    </tr>\n",
       "  </thead>\n",
       "  <tbody>\n",
       "    <tr>\n",
       "      <th>0</th>\n",
       "      <td>0008fdb22ddce0ce.jpg</td>\n",
       "      <td>2</td>\n",
       "    </tr>\n",
       "    <tr>\n",
       "      <th>1</th>\n",
       "      <td>00091bffdffd83de.jpg</td>\n",
       "      <td>12</td>\n",
       "    </tr>\n",
       "    <tr>\n",
       "      <th>2</th>\n",
       "      <td>00396fbc1f6cc21d.jpg</td>\n",
       "      <td>5</td>\n",
       "    </tr>\n",
       "    <tr>\n",
       "      <th>3</th>\n",
       "      <td>00471f8038d9c4b6.jpg</td>\n",
       "      <td>7</td>\n",
       "    </tr>\n",
       "    <tr>\n",
       "      <th>4</th>\n",
       "      <td>00901f504008d884.jpg</td>\n",
       "      <td>2</td>\n",
       "    </tr>\n",
       "  </tbody>\n",
       "</table>\n",
       "</div>"
      ],
      "text/plain": [
       "                     ID  target\n",
       "0  0008fdb22ddce0ce.jpg       2\n",
       "1  00091bffdffd83de.jpg      12\n",
       "2  00396fbc1f6cc21d.jpg       5\n",
       "3  00471f8038d9c4b6.jpg       7\n",
       "4  00901f504008d884.jpg       2"
      ]
     },
     "execution_count": 45,
     "metadata": {},
     "output_type": "execute_result"
    }
   ],
   "source": [
    "# pred_df.head()"
   ]
  },
  {
   "cell_type": "markdown",
   "metadata": {},
   "source": [
    "best case의 test set확인 및 실제 데이터 추측"
   ]
  },
  {
   "cell_type": "code",
   "execution_count": 40,
   "metadata": {},
   "outputs": [],
   "source": [
    "# 저장한 베스트 모델 로드\n",
    "model = torch.load('../model/best_augmentation7_'+str(img_size)+'_'+str(best_epoch)+'.pt')"
   ]
  },
  {
   "cell_type": "code",
   "execution_count": 41,
   "metadata": {},
   "outputs": [
    {
     "name": "stderr",
     "output_type": "stream",
     "text": [
      "100%|██████████| 5/5 [00:01<00:00,  2.57it/s]\n"
     ]
    },
    {
     "data": {
      "text/plain": [
       "(0.89171974522293, 0.8763392070403543)"
      ]
     },
     "execution_count": 41,
     "metadata": {},
     "output_type": "execute_result"
    }
   ],
   "source": [
    "# test 데이터 확인\n",
    "tst_preds_list = []\n",
    "tst_target_list = []\n",
    "\n",
    "model.eval()\n",
    "for image, target in tqdm(tst_loader):\n",
    "    image = image.float().to(device)\n",
    "\n",
    "    with torch.no_grad():\n",
    "        preds = model(image)\n",
    "    tst_preds_list.extend(preds.argmax(dim=1).detach().cpu().numpy())\n",
    "    tst_target_list.extend(target.detach().cpu().numpy())\n",
    "tst_acc = accuracy_score(tst_target_list, tst_preds_list)\n",
    "tst_f1 = f1_score(tst_target_list, tst_preds_list, average='macro')\n",
    "\n",
    "tst_acc, tst_f1"
   ]
  },
  {
   "cell_type": "code",
   "execution_count": 42,
   "metadata": {},
   "outputs": [],
   "source": [
    "# 실제 test데이터\n",
    "test_dataset = ImageDataset(\n",
    "    \"../datasets_fin/sample_submission.csv\",\n",
    "    \"../datasets_fin/test/\",\n",
    "    transform=tst_transform\n",
    ")\n",
    "test_loader = DataLoader(\n",
    "    test_dataset,\n",
    "    batch_size=BATCH_SIZE,\n",
    "    shuffle=False,\n",
    "    num_workers=0,\n",
    "    pin_memory=True\n",
    ")"
   ]
  },
  {
   "cell_type": "code",
   "execution_count": 43,
   "metadata": {},
   "outputs": [
    {
     "name": "stderr",
     "output_type": "stream",
     "text": [
      "100%|██████████| 99/99 [00:31<00:00,  3.13it/s]\n"
     ]
    }
   ],
   "source": [
    "preds_list = []\n",
    "\n",
    "model.eval()\n",
    "for image, _ in tqdm(test_loader):\n",
    "    image = image.to(device)\n",
    "\n",
    "    with torch.no_grad():\n",
    "        preds = model(image)\n",
    "    preds_list.extend(preds.argmax(dim=1).detach().cpu().numpy())"
   ]
  },
  {
   "cell_type": "code",
   "execution_count": 44,
   "metadata": {},
   "outputs": [],
   "source": [
    "pred_df = pd.DataFrame(test_dataset.df, columns=['ID', 'target'])\n",
    "pred_df['target'] = preds_list"
   ]
  },
  {
   "cell_type": "code",
   "execution_count": 45,
   "metadata": {},
   "outputs": [],
   "source": [
    "sample_submission_df = pd.read_csv(\"../datasets_fin/sample_submission.csv\")\n",
    "assert (sample_submission_df['ID'] == pred_df['ID']).all()"
   ]
  },
  {
   "cell_type": "code",
   "execution_count": 48,
   "metadata": {},
   "outputs": [],
   "source": [
    "pred_df.to_csv(\"../output/augmentation7_pred_\"+str(img_size)+\"_\"+str(best_epoch)+\".csv\", index=False)"
   ]
  },
  {
   "cell_type": "code",
   "execution_count": 47,
   "metadata": {},
   "outputs": [
    {
     "data": {
      "text/html": [
       "<div>\n",
       "<style scoped>\n",
       "    .dataframe tbody tr th:only-of-type {\n",
       "        vertical-align: middle;\n",
       "    }\n",
       "\n",
       "    .dataframe tbody tr th {\n",
       "        vertical-align: top;\n",
       "    }\n",
       "\n",
       "    .dataframe thead th {\n",
       "        text-align: right;\n",
       "    }\n",
       "</style>\n",
       "<table border=\"1\" class=\"dataframe\">\n",
       "  <thead>\n",
       "    <tr style=\"text-align: right;\">\n",
       "      <th></th>\n",
       "      <th>ID</th>\n",
       "      <th>target</th>\n",
       "    </tr>\n",
       "  </thead>\n",
       "  <tbody>\n",
       "    <tr>\n",
       "      <th>0</th>\n",
       "      <td>0008fdb22ddce0ce.jpg</td>\n",
       "      <td>2</td>\n",
       "    </tr>\n",
       "    <tr>\n",
       "      <th>1</th>\n",
       "      <td>00091bffdffd83de.jpg</td>\n",
       "      <td>6</td>\n",
       "    </tr>\n",
       "    <tr>\n",
       "      <th>2</th>\n",
       "      <td>00396fbc1f6cc21d.jpg</td>\n",
       "      <td>5</td>\n",
       "    </tr>\n",
       "    <tr>\n",
       "      <th>3</th>\n",
       "      <td>00471f8038d9c4b6.jpg</td>\n",
       "      <td>3</td>\n",
       "    </tr>\n",
       "    <tr>\n",
       "      <th>4</th>\n",
       "      <td>00901f504008d884.jpg</td>\n",
       "      <td>2</td>\n",
       "    </tr>\n",
       "  </tbody>\n",
       "</table>\n",
       "</div>"
      ],
      "text/plain": [
       "                     ID  target\n",
       "0  0008fdb22ddce0ce.jpg       2\n",
       "1  00091bffdffd83de.jpg       6\n",
       "2  00396fbc1f6cc21d.jpg       5\n",
       "3  00471f8038d9c4b6.jpg       3\n",
       "4  00901f504008d884.jpg       2"
      ]
     },
     "execution_count": 47,
     "metadata": {},
     "output_type": "execute_result"
    }
   ],
   "source": [
    "pred_df.head()"
   ]
  },
  {
   "cell_type": "markdown",
   "metadata": {},
   "source": [
    "최선 경우와 마지막 경우가 같은 예측을 함"
   ]
  },
  {
   "cell_type": "code",
   "execution_count": 55,
   "metadata": {},
   "outputs": [],
   "source": [
    "# a = pd.read_csv(\"../output/augmentation6_pred_256_\"+str(best_epoch)+\".csv\")\n",
    "# b = pd.read_csv(\"../output/augmentation6_lastmodel_pred_256_\"+str(epoch+1)+\".csv\")"
   ]
  },
  {
   "cell_type": "code",
   "execution_count": 59,
   "metadata": {},
   "outputs": [
    {
     "data": {
      "text/plain": [
       "3140"
      ]
     },
     "execution_count": 59,
     "metadata": {},
     "output_type": "execute_result"
    }
   ],
   "source": [
    "# sum(a['target'] == b['target'])"
   ]
  },
  {
   "cell_type": "code",
   "execution_count": 61,
   "metadata": {},
   "outputs": [
    {
     "data": {
      "text/plain": [
       "3140"
      ]
     },
     "execution_count": 61,
     "metadata": {},
     "output_type": "execute_result"
    }
   ],
   "source": [
    "# len(a['target'])"
   ]
  },
  {
   "cell_type": "markdown",
   "metadata": {},
   "source": [
    "best case의 경우 tst set을 다양한 증강을 더해 검증"
   ]
  },
  {
   "cell_type": "code",
   "execution_count": 14,
   "metadata": {},
   "outputs": [],
   "source": [
    "# 저장한 베스트 모델 로드\n",
    "model = torch.load('../model/best_augmentation7_'+str(img_size)+'_'+str(best_epoch)+'.pt')"
   ]
  },
  {
   "cell_type": "code",
   "execution_count": 49,
   "metadata": {},
   "outputs": [
    {
     "name": "stdout",
     "output_type": "stream",
     "text": [
      "14444\n"
     ]
    }
   ],
   "source": [
    "tst_dataset2 = make_dataset(transform_list, \"../datasets_fin/test.csv\", \"../datasets_fin/train/\",)\n",
    "\n",
    "print(len(tst_dataset2))"
   ]
  },
  {
   "cell_type": "code",
   "execution_count": 50,
   "metadata": {},
   "outputs": [
    {
     "data": {
      "text/plain": [
       "(tensor([[[-1.8782, -1.8782, -1.8439,  ...,  1.2385,  1.2214,  1.2214],\n",
       "          [-1.8610, -1.8439, -1.8268,  ...,  1.2385,  1.2385,  1.2214],\n",
       "          [-1.7925, -1.8268, -1.8268,  ...,  1.2385,  1.2385,  1.2385],\n",
       "          ...,\n",
       "          [-1.8610, -1.8439, -1.8610,  ..., -1.8268, -1.8439, -1.8610],\n",
       "          [-1.8782, -1.8782, -1.8782,  ..., -1.8610, -1.8610, -1.8610],\n",
       "          [-1.8782, -1.8953, -1.8782,  ..., -1.8782, -1.8782, -1.8439]],\n",
       " \n",
       "         [[-1.8256, -1.8606, -1.8256,  ...,  1.3957,  1.3782,  1.3782],\n",
       "          [-1.8256, -1.8256, -1.8081,  ...,  1.3957,  1.3957,  1.3782],\n",
       "          [-1.7381, -1.8081, -1.8081,  ...,  1.3957,  1.3957,  1.3957],\n",
       "          ...,\n",
       "          [-1.8081, -1.7906, -1.7906,  ..., -1.7906, -1.8256, -1.8431],\n",
       "          [-1.8256, -1.8081, -1.7906,  ..., -1.7906, -1.8256, -1.8431],\n",
       "          [-1.8256, -1.8081, -1.7906,  ..., -1.8081, -1.8081, -1.8256]],\n",
       " \n",
       "         [[-1.5779, -1.5953, -1.5779,  ...,  1.6117,  1.5942,  1.5942],\n",
       "          [-1.5779, -1.5779, -1.5604,  ...,  1.6117,  1.6117,  1.5942],\n",
       "          [-1.4907, -1.5604, -1.5604,  ...,  1.6117,  1.6117,  1.6117],\n",
       "          ...,\n",
       "          [-1.5604, -1.5256, -1.5081,  ..., -1.5779, -1.5953, -1.6302],\n",
       "          [-1.5779, -1.5604, -1.5256,  ..., -1.5953, -1.6127, -1.6302],\n",
       "          [-1.5779, -1.5779, -1.5430,  ..., -1.6127, -1.6127, -1.6127]]]),\n",
       " 15)"
      ]
     },
     "execution_count": 50,
     "metadata": {},
     "output_type": "execute_result"
    }
   ],
   "source": [
    "i1, i2 = tst_dataset2.__getitem__(0)\n",
    "i1, i2"
   ]
  },
  {
   "cell_type": "code",
   "execution_count": 51,
   "metadata": {},
   "outputs": [],
   "source": [
    "tst_loader2 = DataLoader(\n",
    "    tst_dataset2,\n",
    "    batch_size=BATCH_SIZE,\n",
    "    shuffle=False,\n",
    "    num_workers=0,\n",
    "    pin_memory=True\n",
    ")"
   ]
  },
  {
   "cell_type": "code",
   "execution_count": 52,
   "metadata": {},
   "outputs": [
    {
     "name": "stderr",
     "output_type": "stream",
     "text": [
      "100%|██████████| 452/452 [03:36<00:00,  2.08it/s]\n"
     ]
    },
    {
     "data": {
      "text/plain": [
       "(0.8974660758792579, 0.8890821984641655)"
      ]
     },
     "execution_count": 52,
     "metadata": {},
     "output_type": "execute_result"
    }
   ],
   "source": [
    "# test 데이터 확인\n",
    "tst_preds_list = []\n",
    "tst_target_list = []\n",
    "# tst_img = []\n",
    "\n",
    "model.eval()\n",
    "for image, target in tqdm(tst_loader2):\n",
    "    # tst_img.extend(image.permute(1, 2, 0).detach().cpu().numpy())\n",
    "    image = image.float().to(device)\n",
    "\n",
    "    with torch.no_grad():\n",
    "        preds = model(image)\n",
    "    tst_preds_list.extend(preds.argmax(dim=1).detach().cpu().numpy())\n",
    "    tst_target_list.extend(target.detach().cpu().numpy())\n",
    "tst_acc = accuracy_score(tst_target_list, tst_preds_list)\n",
    "tst_f1 = f1_score(tst_target_list, tst_preds_list, average='macro')\n",
    "\n",
    "tst_acc, tst_f1"
   ]
  },
  {
   "cell_type": "code",
   "execution_count": 53,
   "metadata": {},
   "outputs": [],
   "source": [
    "# 예측에 사용된 이미지 추출하여 리스트에 저장\n",
    "tst_img = []\n",
    "for idx in range(tst_dataset2.__len__()):\n",
    "# for idx in range(1):\n",
    "    img, target = tst_dataset2.__getitem__(idx)\n",
    "    tst_img.append(img.permute(1, 2, 0).numpy())"
   ]
  },
  {
   "cell_type": "code",
   "execution_count": 54,
   "metadata": {},
   "outputs": [
    {
     "name": "stderr",
     "output_type": "stream",
     "text": [
      "Clipping input data to the valid range for imshow with RGB data ([0..1] for floats or [0..255] for integers). Got range [-2.1179042..255.0].\n"
     ]
    },
    {
     "data": {
      "image/png": "[encoded data removed]",
      "text/plain": [
       "<Figure size 640x480 with 1 Axes>"
      ]
     },
     "metadata": {},
     "output_type": "display_data"
    }
   ],
   "source": [
    "# 저장한 이미지 확인\n",
    "plt.imshow(tst_img[12345])\n",
    "plt.show()"
   ]
  },
  {
   "cell_type": "code",
   "execution_count": 55,
   "metadata": {},
   "outputs": [],
   "source": [
    "tst_df = pd.DataFrame({\n",
    "    'img' : tst_img,\n",
    "    'target' : tst_target_list,\n",
    "    'predict' : tst_preds_list\n",
    "})"
   ]
  },
  {
   "cell_type": "code",
   "execution_count": 56,
   "metadata": {},
   "outputs": [
    {
     "data": {
      "text/plain": [
       "12963"
      ]
     },
     "execution_count": 56,
     "metadata": {},
     "output_type": "execute_result"
    }
   ],
   "source": [
    "# 맞춘 개수\n",
    "(tst_df['predict'] == tst_df['target']).sum()"
   ]
  },
  {
   "cell_type": "code",
   "execution_count": 57,
   "metadata": {},
   "outputs": [
    {
     "data": {
      "text/plain": [
       "1481"
      ]
     },
     "execution_count": 57,
     "metadata": {},
     "output_type": "execute_result"
    }
   ],
   "source": [
    "# 틀린 개수\n",
    "(~(tst_df['predict'] == tst_df['target'])).sum()"
   ]
  },
  {
   "cell_type": "code",
   "execution_count": 58,
   "metadata": {},
   "outputs": [
    {
     "data": {
      "text/html": [
       "<div>\n",
       "<style scoped>\n",
       "    .dataframe tbody tr th:only-of-type {\n",
       "        vertical-align: middle;\n",
       "    }\n",
       "\n",
       "    .dataframe tbody tr th {\n",
       "        vertical-align: top;\n",
       "    }\n",
       "\n",
       "    .dataframe thead th {\n",
       "        text-align: right;\n",
       "    }\n",
       "</style>\n",
       "<table border=\"1\" class=\"dataframe\">\n",
       "  <thead>\n",
       "    <tr style=\"text-align: right;\">\n",
       "      <th></th>\n",
       "      <th>img</th>\n",
       "      <th>target</th>\n",
       "      <th>predict</th>\n",
       "    </tr>\n",
       "  </thead>\n",
       "  <tbody>\n",
       "    <tr>\n",
       "      <th>10</th>\n",
       "      <td>[[[-1.8781574, -1.247899, -0.07895423], [-1.86...</td>\n",
       "      <td>14</td>\n",
       "      <td>3</td>\n",
       "    </tr>\n",
       "    <tr>\n",
       "      <th>29</th>\n",
       "      <td>[[[0.67343086, 0.8879551, 1.1236601], [0.67343...</td>\n",
       "      <td>3</td>\n",
       "      <td>7</td>\n",
       "    </tr>\n",
       "    <tr>\n",
       "      <th>35</th>\n",
       "      <td>[[[-0.18280679, 0.22268908, 0.844793], [-0.199...</td>\n",
       "      <td>4</td>\n",
       "      <td>14</td>\n",
       "    </tr>\n",
       "    <tr>\n",
       "      <th>36</th>\n",
       "      <td>[[[1.4611695, 1.6757703, 1.9776906], [1.444044...</td>\n",
       "      <td>7</td>\n",
       "      <td>3</td>\n",
       "    </tr>\n",
       "    <tr>\n",
       "      <th>53</th>\n",
       "      <td>[[[1.3926705, 1.5532212, 1.7685403], [1.358421...</td>\n",
       "      <td>7</td>\n",
       "      <td>3</td>\n",
       "    </tr>\n",
       "    <tr>\n",
       "      <th>...</th>\n",
       "      <td>...</td>\n",
       "      <td>...</td>\n",
       "      <td>...</td>\n",
       "    </tr>\n",
       "    <tr>\n",
       "      <th>14423</th>\n",
       "      <td>[[[0.7764843, 0.1354368, 0.8930517], [0.776484...</td>\n",
       "      <td>3</td>\n",
       "      <td>7</td>\n",
       "    </tr>\n",
       "    <tr>\n",
       "      <th>14431</th>\n",
       "      <td>[[[0.0, 0.0, 0.20392863], [0.0, 0.0, 0.2039286...</td>\n",
       "      <td>3</td>\n",
       "      <td>7</td>\n",
       "    </tr>\n",
       "    <tr>\n",
       "      <th>14435</th>\n",
       "      <td>[[[1.0, 1.0, 0.8958787], [1.0, 1.0, 0.8958787]...</td>\n",
       "      <td>2</td>\n",
       "      <td>13</td>\n",
       "    </tr>\n",
       "    <tr>\n",
       "      <th>14440</th>\n",
       "      <td>[[[0.0, 0.8329173, 0.0], [0.0, 0.8329173, 0.0]...</td>\n",
       "      <td>4</td>\n",
       "      <td>14</td>\n",
       "    </tr>\n",
       "    <tr>\n",
       "      <th>14443</th>\n",
       "      <td>[[[0.24601454, 1.0, 1.0], [0.24601454, 1.0, 1....</td>\n",
       "      <td>7</td>\n",
       "      <td>3</td>\n",
       "    </tr>\n",
       "  </tbody>\n",
       "</table>\n",
       "<p>1481 rows × 3 columns</p>\n",
       "</div>"
      ],
      "text/plain": [
       "                                                     img  target  predict\n",
       "10     [[[-1.8781574, -1.247899, -0.07895423], [-1.86...      14        3\n",
       "29     [[[0.67343086, 0.8879551, 1.1236601], [0.67343...       3        7\n",
       "35     [[[-0.18280679, 0.22268908, 0.844793], [-0.199...       4       14\n",
       "36     [[[1.4611695, 1.6757703, 1.9776906], [1.444044...       7        3\n",
       "53     [[[1.3926705, 1.5532212, 1.7685403], [1.358421...       7        3\n",
       "...                                                  ...     ...      ...\n",
       "14423  [[[0.7764843, 0.1354368, 0.8930517], [0.776484...       3        7\n",
       "14431  [[[0.0, 0.0, 0.20392863], [0.0, 0.0, 0.2039286...       3        7\n",
       "14435  [[[1.0, 1.0, 0.8958787], [1.0, 1.0, 0.8958787]...       2       13\n",
       "14440  [[[0.0, 0.8329173, 0.0], [0.0, 0.8329173, 0.0]...       4       14\n",
       "14443  [[[0.24601454, 1.0, 1.0], [0.24601454, 1.0, 1....       7        3\n",
       "\n",
       "[1481 rows x 3 columns]"
      ]
     },
     "execution_count": 58,
     "metadata": {},
     "output_type": "execute_result"
    }
   ],
   "source": [
    "tst_df[~(tst_df['predict'] == tst_df['target'])]"
   ]
  },
  {
   "cell_type": "code",
   "execution_count": 70,
   "metadata": {},
   "outputs": [
    {
     "data": {
      "text/html": [
       "<div>\n",
       "<style scoped>\n",
       "    .dataframe tbody tr th:only-of-type {\n",
       "        vertical-align: middle;\n",
       "    }\n",
       "\n",
       "    .dataframe tbody tr th {\n",
       "        vertical-align: top;\n",
       "    }\n",
       "\n",
       "    .dataframe thead th {\n",
       "        text-align: right;\n",
       "    }\n",
       "</style>\n",
       "<table border=\"1\" class=\"dataframe\">\n",
       "  <thead>\n",
       "    <tr style=\"text-align: right;\">\n",
       "      <th></th>\n",
       "      <th>ID</th>\n",
       "      <th>target</th>\n",
       "    </tr>\n",
       "  </thead>\n",
       "  <tbody>\n",
       "    <tr>\n",
       "      <th>0</th>\n",
       "      <td>02d404271e4965fa.jpg</td>\n",
       "      <td>15</td>\n",
       "    </tr>\n",
       "    <tr>\n",
       "      <th>1</th>\n",
       "      <td>03648b6855b9f8c1.jpg</td>\n",
       "      <td>10</td>\n",
       "    </tr>\n",
       "    <tr>\n",
       "      <th>2</th>\n",
       "      <td>0482c84f6e50fc44.jpg</td>\n",
       "      <td>5</td>\n",
       "    </tr>\n",
       "    <tr>\n",
       "      <th>3</th>\n",
       "      <td>05c521f2659c0711.jpg</td>\n",
       "      <td>16</td>\n",
       "    </tr>\n",
       "    <tr>\n",
       "      <th>4</th>\n",
       "      <td>0664699c12c8162c.jpg</td>\n",
       "      <td>11</td>\n",
       "    </tr>\n",
       "    <tr>\n",
       "      <th>...</th>\n",
       "      <td>...</td>\n",
       "      <td>...</td>\n",
       "    </tr>\n",
       "    <tr>\n",
       "      <th>152</th>\n",
       "      <td>e8e8dd06a96f2586.jpg</td>\n",
       "      <td>16</td>\n",
       "    </tr>\n",
       "    <tr>\n",
       "      <th>153</th>\n",
       "      <td>e985d6cb79c79810.jpg</td>\n",
       "      <td>4</td>\n",
       "    </tr>\n",
       "    <tr>\n",
       "      <th>154</th>\n",
       "      <td>ea379b41d59cec36.jpg</td>\n",
       "      <td>9</td>\n",
       "    </tr>\n",
       "    <tr>\n",
       "      <th>155</th>\n",
       "      <td>ebdb6f14d9876caa.jpg</td>\n",
       "      <td>8</td>\n",
       "    </tr>\n",
       "    <tr>\n",
       "      <th>156</th>\n",
       "      <td>f9bfe5eae7d723ce.jpg</td>\n",
       "      <td>7</td>\n",
       "    </tr>\n",
       "  </tbody>\n",
       "</table>\n",
       "<p>157 rows × 2 columns</p>\n",
       "</div>"
      ],
      "text/plain": [
       "                       ID  target\n",
       "0    02d404271e4965fa.jpg      15\n",
       "1    03648b6855b9f8c1.jpg      10\n",
       "2    0482c84f6e50fc44.jpg       5\n",
       "3    05c521f2659c0711.jpg      16\n",
       "4    0664699c12c8162c.jpg      11\n",
       "..                    ...     ...\n",
       "152  e8e8dd06a96f2586.jpg      16\n",
       "153  e985d6cb79c79810.jpg       4\n",
       "154  ea379b41d59cec36.jpg       9\n",
       "155  ebdb6f14d9876caa.jpg       8\n",
       "156  f9bfe5eae7d723ce.jpg       7\n",
       "\n",
       "[157 rows x 2 columns]"
      ]
     },
     "execution_count": 70,
     "metadata": {},
     "output_type": "execute_result"
    }
   ],
   "source": [
    "i = pd.read_csv('../datasets_fin/test.csv')\n",
    "i"
   ]
  },
  {
   "cell_type": "code",
   "execution_count": 71,
   "metadata": {},
   "outputs": [],
   "source": [
    "# 각 예측의 이미지 id 추가\n",
    "tst_df['ID'] = list(i['ID']) * 92"
   ]
  },
  {
   "cell_type": "code",
   "execution_count": 72,
   "metadata": {},
   "outputs": [
    {
     "data": {
      "text/html": [
       "<div>\n",
       "<style scoped>\n",
       "    .dataframe tbody tr th:only-of-type {\n",
       "        vertical-align: middle;\n",
       "    }\n",
       "\n",
       "    .dataframe tbody tr th {\n",
       "        vertical-align: top;\n",
       "    }\n",
       "\n",
       "    .dataframe thead th {\n",
       "        text-align: right;\n",
       "    }\n",
       "</style>\n",
       "<table border=\"1\" class=\"dataframe\">\n",
       "  <thead>\n",
       "    <tr style=\"text-align: right;\">\n",
       "      <th></th>\n",
       "      <th>img</th>\n",
       "      <th>target</th>\n",
       "      <th>predict</th>\n",
       "      <th>ID</th>\n",
       "    </tr>\n",
       "  </thead>\n",
       "  <tbody>\n",
       "    <tr>\n",
       "      <th>0</th>\n",
       "      <td>[[[-1.8781574, -1.8256301, -1.5778649], [-1.87...</td>\n",
       "      <td>15</td>\n",
       "      <td>15</td>\n",
       "      <td>02d404271e4965fa.jpg</td>\n",
       "    </tr>\n",
       "    <tr>\n",
       "      <th>1</th>\n",
       "      <td>[[[0.89605266, 1.1855742, 1.4373856], [0.86180...</td>\n",
       "      <td>10</td>\n",
       "      <td>10</td>\n",
       "      <td>03648b6855b9f8c1.jpg</td>\n",
       "    </tr>\n",
       "    <tr>\n",
       "      <th>2</th>\n",
       "      <td>[[[-0.4054286, 0.030112064, 0.46135077], [-0.4...</td>\n",
       "      <td>5</td>\n",
       "      <td>5</td>\n",
       "      <td>0482c84f6e50fc44.jpg</td>\n",
       "    </tr>\n",
       "    <tr>\n",
       "      <th>3</th>\n",
       "      <td>[[[0.21106254, 0.46778712, 0.8622222], [0.1768...</td>\n",
       "      <td>16</td>\n",
       "      <td>16</td>\n",
       "      <td>05c521f2659c0711.jpg</td>\n",
       "    </tr>\n",
       "    <tr>\n",
       "      <th>4</th>\n",
       "      <td>[[[0.5535576, 0.3102241, 0.16505449], [0.57068...</td>\n",
       "      <td>11</td>\n",
       "      <td>11</td>\n",
       "      <td>0664699c12c8162c.jpg</td>\n",
       "    </tr>\n",
       "    <tr>\n",
       "      <th>...</th>\n",
       "      <td>...</td>\n",
       "      <td>...</td>\n",
       "      <td>...</td>\n",
       "      <td>...</td>\n",
       "    </tr>\n",
       "    <tr>\n",
       "      <th>14439</th>\n",
       "      <td>[[[0.0, 0.0, 0.0], [0.0, 0.0, 0.0], [0.0, 0.0,...</td>\n",
       "      <td>16</td>\n",
       "      <td>16</td>\n",
       "      <td>e8e8dd06a96f2586.jpg</td>\n",
       "    </tr>\n",
       "    <tr>\n",
       "      <th>14440</th>\n",
       "      <td>[[[0.0, 0.8329173, 0.0], [0.0, 0.8329173, 0.0]...</td>\n",
       "      <td>4</td>\n",
       "      <td>14</td>\n",
       "      <td>e985d6cb79c79810.jpg</td>\n",
       "    </tr>\n",
       "    <tr>\n",
       "      <th>14441</th>\n",
       "      <td>[[[0.0, 0.0, 0.0], [0.0, 0.0, 0.0], [0.0, 0.0,...</td>\n",
       "      <td>9</td>\n",
       "      <td>9</td>\n",
       "      <td>ea379b41d59cec36.jpg</td>\n",
       "    </tr>\n",
       "    <tr>\n",
       "      <th>14442</th>\n",
       "      <td>[[[1.0, 1.0, 1.0], [1.0, 1.0, 1.0], [0.2071282...</td>\n",
       "      <td>8</td>\n",
       "      <td>8</td>\n",
       "      <td>ebdb6f14d9876caa.jpg</td>\n",
       "    </tr>\n",
       "    <tr>\n",
       "      <th>14443</th>\n",
       "      <td>[[[0.24601454, 1.0, 1.0], [0.24601454, 1.0, 1....</td>\n",
       "      <td>7</td>\n",
       "      <td>3</td>\n",
       "      <td>f9bfe5eae7d723ce.jpg</td>\n",
       "    </tr>\n",
       "  </tbody>\n",
       "</table>\n",
       "<p>14444 rows × 4 columns</p>\n",
       "</div>"
      ],
      "text/plain": [
       "                                                     img  target  predict  \\\n",
       "0      [[[-1.8781574, -1.8256301, -1.5778649], [-1.87...      15       15   \n",
       "1      [[[0.89605266, 1.1855742, 1.4373856], [0.86180...      10       10   \n",
       "2      [[[-0.4054286, 0.030112064, 0.46135077], [-0.4...       5        5   \n",
       "3      [[[0.21106254, 0.46778712, 0.8622222], [0.1768...      16       16   \n",
       "4      [[[0.5535576, 0.3102241, 0.16505449], [0.57068...      11       11   \n",
       "...                                                  ...     ...      ...   \n",
       "14439  [[[0.0, 0.0, 0.0], [0.0, 0.0, 0.0], [0.0, 0.0,...      16       16   \n",
       "14440  [[[0.0, 0.8329173, 0.0], [0.0, 0.8329173, 0.0]...       4       14   \n",
       "14441  [[[0.0, 0.0, 0.0], [0.0, 0.0, 0.0], [0.0, 0.0,...       9        9   \n",
       "14442  [[[1.0, 1.0, 1.0], [1.0, 1.0, 1.0], [0.2071282...       8        8   \n",
       "14443  [[[0.24601454, 1.0, 1.0], [0.24601454, 1.0, 1....       7        3   \n",
       "\n",
       "                         ID  \n",
       "0      02d404271e4965fa.jpg  \n",
       "1      03648b6855b9f8c1.jpg  \n",
       "2      0482c84f6e50fc44.jpg  \n",
       "3      05c521f2659c0711.jpg  \n",
       "4      0664699c12c8162c.jpg  \n",
       "...                     ...  \n",
       "14439  e8e8dd06a96f2586.jpg  \n",
       "14440  e985d6cb79c79810.jpg  \n",
       "14441  ea379b41d59cec36.jpg  \n",
       "14442  ebdb6f14d9876caa.jpg  \n",
       "14443  f9bfe5eae7d723ce.jpg  \n",
       "\n",
       "[14444 rows x 4 columns]"
      ]
     },
     "execution_count": 72,
     "metadata": {},
     "output_type": "execute_result"
    }
   ],
   "source": [
    "tst_df"
   ]
  },
  {
   "cell_type": "code",
   "execution_count": 73,
   "metadata": {},
   "outputs": [],
   "source": [
    "def get_item(idx):\n",
    "    image, target, predict, name = tst_df.loc[idx,]\n",
    "    img = np.array(Image.open(os.path.join(\"../datasets_fin/train/\", name)))\n",
    "\n",
    "    # img = trn_transform(image=img)['image']\n",
    "    return img, target, name, predict, image"
   ]
  },
  {
   "cell_type": "code",
   "execution_count": 74,
   "metadata": {},
   "outputs": [
    {
     "data": {
      "text/plain": [
       "target\n",
       "7     416\n",
       "3     353\n",
       "14    205\n",
       "4     134\n",
       "12    130\n",
       "11     96\n",
       "13     48\n",
       "15     33\n",
       "16     22\n",
       "5      14\n",
       "1      10\n",
       "10     10\n",
       "2       9\n",
       "6       1\n",
       "Name: count, dtype: int64"
      ]
     },
     "execution_count": 74,
     "metadata": {},
     "output_type": "execute_result"
    }
   ],
   "source": [
    "tst_df[(tst_df['predict'] != tst_df['target'])].value_counts('target')"
   ]
  },
  {
   "cell_type": "code",
   "execution_count": 75,
   "metadata": {},
   "outputs": [
    {
     "data": {
      "text/plain": [
       "predict\n",
       "3     387\n",
       "7     356\n",
       "14    202\n",
       "13    155\n",
       "6     151\n",
       "12     55\n",
       "10     42\n",
       "4      34\n",
       "11     31\n",
       "0      20\n",
       "8      16\n",
       "15     16\n",
       "2      10\n",
       "16      5\n",
       "9       1\n",
       "Name: count, dtype: int64"
      ]
     },
     "execution_count": 75,
     "metadata": {},
     "output_type": "execute_result"
    }
   ],
   "source": [
    "tst_df[(tst_df['predict'] != tst_df['target'])].value_counts('predict')"
   ]
  },
  {
   "cell_type": "code",
   "execution_count": 76,
   "metadata": {},
   "outputs": [
    {
     "data": {
      "text/html": [
       "<div>\n",
       "<style scoped>\n",
       "    .dataframe tbody tr th:only-of-type {\n",
       "        vertical-align: middle;\n",
       "    }\n",
       "\n",
       "    .dataframe tbody tr th {\n",
       "        vertical-align: top;\n",
       "    }\n",
       "\n",
       "    .dataframe thead th {\n",
       "        text-align: right;\n",
       "    }\n",
       "</style>\n",
       "<table border=\"1\" class=\"dataframe\">\n",
       "  <thead>\n",
       "    <tr style=\"text-align: right;\">\n",
       "      <th></th>\n",
       "      <th>img</th>\n",
       "      <th>target</th>\n",
       "      <th>predict</th>\n",
       "      <th>ID</th>\n",
       "    </tr>\n",
       "  </thead>\n",
       "  <tbody>\n",
       "    <tr>\n",
       "      <th>35</th>\n",
       "      <td>[[[-0.18280679, 0.22268908, 0.844793], [-0.199...</td>\n",
       "      <td>4</td>\n",
       "      <td>14</td>\n",
       "      <td>2db10d90789ed7e6.jpg</td>\n",
       "    </tr>\n",
       "    <tr>\n",
       "      <th>91</th>\n",
       "      <td>[[[-1.2959157, -0.897759, 1.1759477], [-1.2787...</td>\n",
       "      <td>4</td>\n",
       "      <td>14</td>\n",
       "      <td>654e10bb8ec38099.jpg</td>\n",
       "    </tr>\n",
       "    <tr>\n",
       "      <th>192</th>\n",
       "      <td>[[[-0.18280679, 0.22268908, 0.844793], [-0.199...</td>\n",
       "      <td>4</td>\n",
       "      <td>14</td>\n",
       "      <td>2db10d90789ed7e6.jpg</td>\n",
       "    </tr>\n",
       "    <tr>\n",
       "      <th>876</th>\n",
       "      <td>[[[0.2281873, 0.46778712, 0.6879303], [0.22818...</td>\n",
       "      <td>4</td>\n",
       "      <td>14</td>\n",
       "      <td>654e10bb8ec38099.jpg</td>\n",
       "    </tr>\n",
       "    <tr>\n",
       "      <th>960</th>\n",
       "      <td>[[[255.0, 255.0, 255.0], [255.0, 255.0, 255.0]...</td>\n",
       "      <td>4</td>\n",
       "      <td>14</td>\n",
       "      <td>16176cca20eed3c8.jpg</td>\n",
       "    </tr>\n",
       "    <tr>\n",
       "      <th>...</th>\n",
       "      <td>...</td>\n",
       "      <td>...</td>\n",
       "      <td>...</td>\n",
       "      <td>...</td>\n",
       "    </tr>\n",
       "    <tr>\n",
       "      <th>14322</th>\n",
       "      <td>[[[0.46127754, 0.67712903, 1.0], [0.46127754, ...</td>\n",
       "      <td>4</td>\n",
       "      <td>14</td>\n",
       "      <td>2db10d90789ed7e6.jpg</td>\n",
       "    </tr>\n",
       "    <tr>\n",
       "      <th>14375</th>\n",
       "      <td>[[[0.0, 0.0, 0.0], [0.0, 0.0, 0.0], [0.0, 0.0,...</td>\n",
       "      <td>4</td>\n",
       "      <td>14</td>\n",
       "      <td>60d372fb5e69fafe.jpg</td>\n",
       "    </tr>\n",
       "    <tr>\n",
       "      <th>14382</th>\n",
       "      <td>[[[0.0, 0.0, 1.0], [0.0, 0.0, 1.0], [0.0, 0.0,...</td>\n",
       "      <td>4</td>\n",
       "      <td>14</td>\n",
       "      <td>81dbdb42bedcde5e.jpg</td>\n",
       "    </tr>\n",
       "    <tr>\n",
       "      <th>14400</th>\n",
       "      <td>[[[0.9673866, 1.0, 1.0], [0.9673866, 1.0, 1.0]...</td>\n",
       "      <td>4</td>\n",
       "      <td>7</td>\n",
       "      <td>b92152203e68a586.jpg</td>\n",
       "    </tr>\n",
       "    <tr>\n",
       "      <th>14440</th>\n",
       "      <td>[[[0.0, 0.8329173, 0.0], [0.0, 0.8329173, 0.0]...</td>\n",
       "      <td>4</td>\n",
       "      <td>14</td>\n",
       "      <td>e985d6cb79c79810.jpg</td>\n",
       "    </tr>\n",
       "  </tbody>\n",
       "</table>\n",
       "<p>134 rows × 4 columns</p>\n",
       "</div>"
      ],
      "text/plain": [
       "                                                     img  target  predict  \\\n",
       "35     [[[-0.18280679, 0.22268908, 0.844793], [-0.199...       4       14   \n",
       "91     [[[-1.2959157, -0.897759, 1.1759477], [-1.2787...       4       14   \n",
       "192    [[[-0.18280679, 0.22268908, 0.844793], [-0.199...       4       14   \n",
       "876    [[[0.2281873, 0.46778712, 0.6879303], [0.22818...       4       14   \n",
       "960    [[[255.0, 255.0, 255.0], [255.0, 255.0, 255.0]...       4       14   \n",
       "...                                                  ...     ...      ...   \n",
       "14322  [[[0.46127754, 0.67712903, 1.0], [0.46127754, ...       4       14   \n",
       "14375  [[[0.0, 0.0, 0.0], [0.0, 0.0, 0.0], [0.0, 0.0,...       4       14   \n",
       "14382  [[[0.0, 0.0, 1.0], [0.0, 0.0, 1.0], [0.0, 0.0,...       4       14   \n",
       "14400  [[[0.9673866, 1.0, 1.0], [0.9673866, 1.0, 1.0]...       4        7   \n",
       "14440  [[[0.0, 0.8329173, 0.0], [0.0, 0.8329173, 0.0]...       4       14   \n",
       "\n",
       "                         ID  \n",
       "35     2db10d90789ed7e6.jpg  \n",
       "91     654e10bb8ec38099.jpg  \n",
       "192    2db10d90789ed7e6.jpg  \n",
       "876    654e10bb8ec38099.jpg  \n",
       "960    16176cca20eed3c8.jpg  \n",
       "...                     ...  \n",
       "14322  2db10d90789ed7e6.jpg  \n",
       "14375  60d372fb5e69fafe.jpg  \n",
       "14382  81dbdb42bedcde5e.jpg  \n",
       "14400  b92152203e68a586.jpg  \n",
       "14440  e985d6cb79c79810.jpg  \n",
       "\n",
       "[134 rows x 4 columns]"
      ]
     },
     "execution_count": 76,
     "metadata": {},
     "output_type": "execute_result"
    }
   ],
   "source": [
    "qw = tst_df[(tst_df['predict'] != tst_df['target'])&(tst_df['target'] == 4)]\n",
    "qw"
   ]
  },
  {
   "cell_type": "code",
   "execution_count": 77,
   "metadata": {},
   "outputs": [
    {
     "data": {
      "text/plain": [
       "predict\n",
       "14    101\n",
       "7      10\n",
       "3       8\n",
       "15      5\n",
       "6       3\n",
       "13      2\n",
       "16      2\n",
       "0       1\n",
       "9       1\n",
       "11      1\n",
       "Name: count, dtype: int64"
      ]
     },
     "execution_count": 77,
     "metadata": {},
     "output_type": "execute_result"
    }
   ],
   "source": [
    "qw.value_counts('predict')"
   ]
  },
  {
   "cell_type": "code",
   "execution_count": 78,
   "metadata": {},
   "outputs": [
    {
     "data": {
      "text/plain": [
       "Index([   67,   101,   189,   224,   258,   538,   817,   849,   852,  1166,\n",
       "       ...\n",
       "       13883, 13917, 14005, 14037, 14040, 14111, 14197, 14231, 14351, 14388],\n",
       "      dtype='int64', length=130)"
      ]
     },
     "execution_count": 78,
     "metadata": {},
     "output_type": "execute_result"
    }
   ],
   "source": [
    "tst_df[(tst_df['predict'] != tst_df['target'])&(tst_df['target'] == 12)].index"
   ]
  },
  {
   "cell_type": "code",
   "execution_count": 1,
   "metadata": {},
   "outputs": [],
   "source": [
    "# # target과 predict가 일치하지 않는 이미지 시각화, target별로 확인\n",
    "# check_target = 12\n",
    "# for idx in tst_df[(tst_df['predict'] != tst_df['target'])&(tst_df['target'] == check_target)].index:\n",
    "#     img, target, name, predict, image = get_item(idx)\n",
    "#     print(img.shape, name, target, predict)\n",
    "#     # plt.imshow(img) #원본 이미지\n",
    "#     # plt.show()\n",
    "#     plt.imshow(image) #학습에 사용된 이미지\n",
    "#     plt.show()\n",
    "#     # print(idx)"
   ]
  },
  {
   "cell_type": "code",
   "execution_count": 112,
   "metadata": {},
   "outputs": [
    {
     "data": {
      "text/html": [
       "<div>\n",
       "<style scoped>\n",
       "    .dataframe tbody tr th:only-of-type {\n",
       "        vertical-align: middle;\n",
       "    }\n",
       "\n",
       "    .dataframe tbody tr th {\n",
       "        vertical-align: top;\n",
       "    }\n",
       "\n",
       "    .dataframe thead th {\n",
       "        text-align: right;\n",
       "    }\n",
       "</style>\n",
       "<table border=\"1\" class=\"dataframe\">\n",
       "  <thead>\n",
       "    <tr style=\"text-align: right;\">\n",
       "      <th></th>\n",
       "      <th>img</th>\n",
       "      <th>target</th>\n",
       "      <th>predict</th>\n",
       "      <th>ID</th>\n",
       "    </tr>\n",
       "  </thead>\n",
       "  <tbody>\n",
       "    <tr>\n",
       "      <th>17</th>\n",
       "      <td>[[[-1.6555356, -1.545518, -1.4035729], [-1.724...</td>\n",
       "      <td>13</td>\n",
       "      <td>13</td>\n",
       "      <td>149c8444ae80d630.jpg</td>\n",
       "    </tr>\n",
       "    <tr>\n",
       "      <th>28</th>\n",
       "      <td>[[[1.7522904, 1.9558823, 2.1519825], [1.735165...</td>\n",
       "      <td>13</td>\n",
       "      <td>13</td>\n",
       "      <td>233685659ef1ed84.jpg</td>\n",
       "    </tr>\n",
       "    <tr>\n",
       "      <th>81</th>\n",
       "      <td>[[[0.108314015, 0.3452381, 0.56592596], [0.142...</td>\n",
       "      <td>13</td>\n",
       "      <td>13</td>\n",
       "      <td>590a4befbe2db3cc.jpg</td>\n",
       "    </tr>\n",
       "    <tr>\n",
       "      <th>83</th>\n",
       "      <td>[[[0.36518532, 0.80042017, 1.1585186], [0.3823...</td>\n",
       "      <td>13</td>\n",
       "      <td>13</td>\n",
       "      <td>5be46f4d1470b120.jpg</td>\n",
       "    </tr>\n",
       "    <tr>\n",
       "      <th>96</th>\n",
       "      <td>[[[0.8618032, 1.1330532, 1.4896731], [0.878927...</td>\n",
       "      <td>13</td>\n",
       "      <td>13</td>\n",
       "      <td>81e5282c3c19a13b.jpg</td>\n",
       "    </tr>\n",
       "    <tr>\n",
       "      <th>...</th>\n",
       "      <td>...</td>\n",
       "      <td>...</td>\n",
       "      <td>...</td>\n",
       "      <td>...</td>\n",
       "    </tr>\n",
       "    <tr>\n",
       "      <th>14368</th>\n",
       "      <td>[[[0.0, 0.80398476, 0.7526777], [0.0, 0.803984...</td>\n",
       "      <td>13</td>\n",
       "      <td>7</td>\n",
       "      <td>590a4befbe2db3cc.jpg</td>\n",
       "    </tr>\n",
       "    <tr>\n",
       "      <th>14370</th>\n",
       "      <td>[[[0.0, 0.0, 1.0], [0.0, 0.0, 1.0], [0.1174487...</td>\n",
       "      <td>13</td>\n",
       "      <td>12</td>\n",
       "      <td>5be46f4d1470b120.jpg</td>\n",
       "    </tr>\n",
       "    <tr>\n",
       "      <th>14383</th>\n",
       "      <td>[[[1.0, 1.0, 1.0], [1.0, 1.0, 1.0], [0.5157264...</td>\n",
       "      <td>13</td>\n",
       "      <td>13</td>\n",
       "      <td>81e5282c3c19a13b.jpg</td>\n",
       "    </tr>\n",
       "    <tr>\n",
       "      <th>14392</th>\n",
       "      <td>[[[0.0, 0.0, 0.0], [0.0, 0.0, 0.0], [0.0, 0.0,...</td>\n",
       "      <td>13</td>\n",
       "      <td>7</td>\n",
       "      <td>b0ab48967aaabefe.jpg</td>\n",
       "    </tr>\n",
       "    <tr>\n",
       "      <th>14429</th>\n",
       "      <td>[[[0.0, 0.0, 0.0], [0.0, 0.0, 0.0], [0.0, 0.0,...</td>\n",
       "      <td>13</td>\n",
       "      <td>13</td>\n",
       "      <td>d26e9455cfbf6083.jpg</td>\n",
       "    </tr>\n",
       "  </tbody>\n",
       "</table>\n",
       "<p>644 rows × 4 columns</p>\n",
       "</div>"
      ],
      "text/plain": [
       "                                                     img  target  predict  \\\n",
       "17     [[[-1.6555356, -1.545518, -1.4035729], [-1.724...      13       13   \n",
       "28     [[[1.7522904, 1.9558823, 2.1519825], [1.735165...      13       13   \n",
       "81     [[[0.108314015, 0.3452381, 0.56592596], [0.142...      13       13   \n",
       "83     [[[0.36518532, 0.80042017, 1.1585186], [0.3823...      13       13   \n",
       "96     [[[0.8618032, 1.1330532, 1.4896731], [0.878927...      13       13   \n",
       "...                                                  ...     ...      ...   \n",
       "14368  [[[0.0, 0.80398476, 0.7526777], [0.0, 0.803984...      13        7   \n",
       "14370  [[[0.0, 0.0, 1.0], [0.0, 0.0, 1.0], [0.1174487...      13       12   \n",
       "14383  [[[1.0, 1.0, 1.0], [1.0, 1.0, 1.0], [0.5157264...      13       13   \n",
       "14392  [[[0.0, 0.0, 0.0], [0.0, 0.0, 0.0], [0.0, 0.0,...      13        7   \n",
       "14429  [[[0.0, 0.0, 0.0], [0.0, 0.0, 0.0], [0.0, 0.0,...      13       13   \n",
       "\n",
       "                         ID  \n",
       "17     149c8444ae80d630.jpg  \n",
       "28     233685659ef1ed84.jpg  \n",
       "81     590a4befbe2db3cc.jpg  \n",
       "83     5be46f4d1470b120.jpg  \n",
       "96     81e5282c3c19a13b.jpg  \n",
       "...                     ...  \n",
       "14368  590a4befbe2db3cc.jpg  \n",
       "14370  5be46f4d1470b120.jpg  \n",
       "14383  81e5282c3c19a13b.jpg  \n",
       "14392  b0ab48967aaabefe.jpg  \n",
       "14429  d26e9455cfbf6083.jpg  \n",
       "\n",
       "[644 rows x 4 columns]"
      ]
     },
     "execution_count": 112,
     "metadata": {},
     "output_type": "execute_result"
    }
   ],
   "source": [
    "qw = tst_df[tst_df['target'] == 13]\n",
    "qw"
   ]
  },
  {
   "cell_type": "code",
   "execution_count": 111,
   "metadata": {},
   "outputs": [
    {
     "data": {
      "text/plain": [
       "126"
      ]
     },
     "execution_count": 111,
     "metadata": {},
     "output_type": "execute_result"
    }
   ],
   "source": [
    "(qw['predict'] != qw['target']).sum()"
   ]
  }
 ],
 "metadata": {
  "kernelspec": {
   "display_name": "base",
   "language": "python",
   "name": "python3"
  },
  "language_info": {
   "codemirror_mode": {
    "name": "ipython",
    "version": 3
   },
   "file_extension": ".py",
   "mimetype": "text/x-python",
   "name": "python",
   "nbconvert_exporter": "python",
   "pygments_lexer": "ipython3",
   "version": "3.10.13"
  }
 },
 "nbformat": 4,
 "nbformat_minor": 2
}
