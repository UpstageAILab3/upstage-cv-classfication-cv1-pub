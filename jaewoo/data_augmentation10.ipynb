{
 "cells": [
  {
   "cell_type": "markdown",
   "metadata": {},
   "source": [
    "# augmentation을 적용한 함수 dl모델을 제작"
   ]
  },
  {
   "cell_type": "markdown",
   "metadata": {},
   "source": [
    "기존의 resnet34에서 더욱 다양한 모델을 적용해봄\n",
    "- resnet50\n",
    "- efficientnet\n",
    "- efficientnetv2\n",
    "- ...."
   ]
  },
  {
   "cell_type": "code",
   "execution_count": 1,
   "metadata": {},
   "outputs": [],
   "source": [
    "# wandb 연결\n",
    "import wandb"
   ]
  },
  {
   "cell_type": "code",
   "execution_count": 2,
   "metadata": {},
   "outputs": [
    {
     "name": "stderr",
     "output_type": "stream",
     "text": [
      "Failed to detect the name of this notebook, you can set it manually with the WANDB_NOTEBOOK_NAME environment variable to enable code saving.\n",
      "\u001b[34m\u001b[1mwandb\u001b[0m: Currently logged in as: \u001b[33mwpdn0134\u001b[0m (\u001b[33mje_\u001b[0m). Use \u001b[1m`wandb login --relogin`\u001b[0m to force relogin\n"
     ]
    },
    {
     "data": {
      "text/plain": [
       "True"
      ]
     },
     "execution_count": 2,
     "metadata": {},
     "output_type": "execute_result"
    }
   ],
   "source": [
    "wandb.login()"
   ]
  },
  {
   "cell_type": "code",
   "execution_count": 3,
   "metadata": {},
   "outputs": [],
   "source": [
    "import os\n",
    "import time\n",
    "import random\n",
    "\n",
    "import timm\n",
    "import torch\n",
    "import albumentations as A\n",
    "import pandas as pd\n",
    "import numpy as np\n",
    "import torch.nn as nn\n",
    "from albumentations.pytorch import ToTensorV2\n",
    "from torch.optim import Adam\n",
    "from torchvision import transforms\n",
    "from torch.utils.data import Dataset, DataLoader, ConcatDataset\n",
    "from PIL import Image\n",
    "from tqdm import tqdm\n",
    "from sklearn.metrics import accuracy_score, f1_score\n",
    "\n",
    "import cv2\n",
    "import matplotlib.pyplot as plt\n",
    "\n",
    "from itertools import combinations"
   ]
  },
  {
   "cell_type": "code",
   "execution_count": 4,
   "metadata": {},
   "outputs": [],
   "source": [
    "# 시드를 고정합니다.\n",
    "SEED = 42\n",
    "os.environ['PYTHONHASHSEED'] = str(SEED)\n",
    "random.seed(SEED)\n",
    "np.random.seed(SEED)\n",
    "torch.manual_seed(SEED)\n",
    "torch.cuda.manual_seed(SEED)\n",
    "torch.cuda.manual_seed_all(SEED)\n",
    "torch.backends.cudnn.benchmark = True"
   ]
  },
  {
   "cell_type": "code",
   "execution_count": 6,
   "metadata": {},
   "outputs": [
    {
     "data": {
      "text/html": [
       "Finishing last run (ID:f159omhy) before initializing another..."
      ],
      "text/plain": [
       "<IPython.core.display.HTML object>"
      ]
     },
     "metadata": {},
     "output_type": "display_data"
    },
    {
     "data": {
      "application/vnd.jupyter.widget-view+json": {
       "model_id": "73e35dab1780411a8f0028bbf1706b4c",
       "version_major": 2,
       "version_minor": 0
      },
      "text/plain": [
       "VBox(children=(Label(value='0.006 MB of 0.006 MB uploaded\\r'), FloatProgress(value=1.0, max=1.0)))"
      ]
     },
     "metadata": {},
     "output_type": "display_data"
    },
    {
     "data": {
      "text/html": [
       " View run <strong style=\"color:#cdcd00\">rural-sun-3</strong> at: <a href='https://wandb.ai/je_/cv_project/runs/f159omhy' target=\"_blank\">https://wandb.ai/je_/cv_project/runs/f159omhy</a><br/> View project at: <a href='https://wandb.ai/je_/cv_project' target=\"_blank\">https://wandb.ai/je_/cv_project</a><br/>Synced 6 W&B file(s), 0 media file(s), 0 artifact file(s) and 0 other file(s)"
      ],
      "text/plain": [
       "<IPython.core.display.HTML object>"
      ]
     },
     "metadata": {},
     "output_type": "display_data"
    },
    {
     "data": {
      "text/html": [
       "Find logs at: <code>./wandb/run-20240809_013702-f159omhy/logs</code>"
      ],
      "text/plain": [
       "<IPython.core.display.HTML object>"
      ]
     },
     "metadata": {},
     "output_type": "display_data"
    },
    {
     "data": {
      "text/html": [
       "The new W&B backend becomes opt-out in version 0.18.0; try it out with `wandb.require(\"core\")`! See https://wandb.me/wandb-core for more information."
      ],
      "text/plain": [
       "<IPython.core.display.HTML object>"
      ]
     },
     "metadata": {},
     "output_type": "display_data"
    },
    {
     "data": {
      "text/html": [
       "Successfully finished last run (ID:f159omhy). Initializing new run:<br/>"
      ],
      "text/plain": [
       "<IPython.core.display.HTML object>"
      ]
     },
     "metadata": {},
     "output_type": "display_data"
    },
    {
     "data": {
      "application/vnd.jupyter.widget-view+json": {
       "model_id": "bf98ff8c270340fcb0fb9faf0dab5c75",
       "version_major": 2,
       "version_minor": 0
      },
      "text/plain": [
       "VBox(children=(Label(value='Waiting for wandb.init()...\\r'), FloatProgress(value=0.011112269345257017, max=1.0…"
      ]
     },
     "metadata": {},
     "output_type": "display_data"
    },
    {
     "data": {
      "text/html": [
       "wandb version 0.17.6 is available!  To upgrade, please run:\n",
       " $ pip install wandb --upgrade"
      ],
      "text/plain": [
       "<IPython.core.display.HTML object>"
      ]
     },
     "metadata": {},
     "output_type": "display_data"
    },
    {
     "data": {
      "text/html": [
       "Tracking run with wandb version 0.17.5"
      ],
      "text/plain": [
       "<IPython.core.display.HTML object>"
      ]
     },
     "metadata": {},
     "output_type": "display_data"
    },
    {
     "data": {
      "text/html": [
       "Run data is saved locally in <code>/root/code/wandb/run-20240809_013708-0s2xkhew</code>"
      ],
      "text/plain": [
       "<IPython.core.display.HTML object>"
      ]
     },
     "metadata": {},
     "output_type": "display_data"
    },
    {
     "data": {
      "text/html": [
       "Syncing run <strong><a href='https://wandb.ai/je_/cv_project/runs/0s2xkhew' target=\"_blank\">peach-salad-4</a></strong> to <a href='https://wandb.ai/je_/cv_project' target=\"_blank\">Weights & Biases</a> (<a href='https://wandb.me/run' target=\"_blank\">docs</a>)<br/>"
      ],
      "text/plain": [
       "<IPython.core.display.HTML object>"
      ]
     },
     "metadata": {},
     "output_type": "display_data"
    },
    {
     "data": {
      "text/html": [
       " View project at <a href='https://wandb.ai/je_/cv_project' target=\"_blank\">https://wandb.ai/je_/cv_project</a>"
      ],
      "text/plain": [
       "<IPython.core.display.HTML object>"
      ]
     },
     "metadata": {},
     "output_type": "display_data"
    },
    {
     "data": {
      "text/html": [
       " View run at <a href='https://wandb.ai/je_/cv_project/runs/0s2xkhew' target=\"_blank\">https://wandb.ai/je_/cv_project/runs/0s2xkhew</a>"
      ],
      "text/plain": [
       "<IPython.core.display.HTML object>"
      ]
     },
     "metadata": {},
     "output_type": "display_data"
    },
    {
     "data": {
      "text/plain": [
       "True"
      ]
     },
     "execution_count": 6,
     "metadata": {},
     "output_type": "execute_result"
    }
   ],
   "source": [
    "wandb.init(\n",
    "    # Set the project where this run will be logged\n",
    "    project=\"cv_project\",\n",
    "    # Track hyperparameters and run metadata\n",
    "    # config={\n",
    "    #     \"learning_rate\": 0.01,\n",
    "    #     \"epochs\": 50,\n",
    "    # },\n",
    ")\n",
    "wandb.run.name = 'data_augmentation10'\n",
    "wandb.run.save()"
   ]
  },
  {
   "cell_type": "code",
   "execution_count": 21,
   "metadata": {},
   "outputs": [
    {
     "data": {
      "text/plain": [
       "['resnet10t',\n",
       " 'resnet14t',\n",
       " 'resnet18',\n",
       " 'resnet18d',\n",
       " 'resnet26',\n",
       " 'resnet26d',\n",
       " 'resnet26t',\n",
       " 'resnet32ts',\n",
       " 'resnet33ts',\n",
       " 'resnet34',\n",
       " 'resnet34d',\n",
       " 'resnet50',\n",
       " 'resnet50_gn',\n",
       " 'resnet50c',\n",
       " 'resnet50d',\n",
       " 'resnet50s',\n",
       " 'resnet50t',\n",
       " 'resnet51q',\n",
       " 'resnet61q',\n",
       " 'resnet101',\n",
       " 'resnet101c',\n",
       " 'resnet101d',\n",
       " 'resnet101s',\n",
       " 'resnet152',\n",
       " 'resnet152c',\n",
       " 'resnet152d',\n",
       " 'resnet152s',\n",
       " 'resnet200',\n",
       " 'resnet200d',\n",
       " 'resnetaa34d',\n",
       " 'resnetaa50',\n",
       " 'resnetaa50d',\n",
       " 'resnetaa101d',\n",
       " 'resnetblur18',\n",
       " 'resnetblur50',\n",
       " 'resnetblur50d',\n",
       " 'resnetblur101d',\n",
       " 'resnetrs50',\n",
       " 'resnetrs101',\n",
       " 'resnetrs152',\n",
       " 'resnetrs200',\n",
       " 'resnetrs270',\n",
       " 'resnetrs350',\n",
       " 'resnetrs420',\n",
       " 'resnetv2_50',\n",
       " 'resnetv2_50d',\n",
       " 'resnetv2_50d_evos',\n",
       " 'resnetv2_50d_frn',\n",
       " 'resnetv2_50d_gn',\n",
       " 'resnetv2_50t',\n",
       " 'resnetv2_50x1_bit',\n",
       " 'resnetv2_50x3_bit',\n",
       " 'resnetv2_101',\n",
       " 'resnetv2_101d',\n",
       " 'resnetv2_101x1_bit',\n",
       " 'resnetv2_101x3_bit',\n",
       " 'resnetv2_152',\n",
       " 'resnetv2_152d',\n",
       " 'resnetv2_152x2_bit',\n",
       " 'resnetv2_152x4_bit']"
      ]
     },
     "execution_count": 21,
     "metadata": {},
     "output_type": "execute_result"
    }
   ],
   "source": [
    "timm.list_models('resnet*')"
   ]
  },
  {
   "cell_type": "code",
   "execution_count": 22,
   "metadata": {},
   "outputs": [],
   "source": [
    "# device\n",
    "device = torch.device('cuda' if torch.cuda.is_available() else 'cpu')\n",
    "\n",
    "# data config\n",
    "data_path = '../datasets_fin/'\n",
    "\n",
    "# model config\n",
    "model_name = 'resnet50' # 'resnet50' 'efficientnet-b0', ...\n",
    "\n",
    "# training config\n",
    "img_size = 256\n",
    "LR = 1e-3\n",
    "EPOCHS = 100\n",
    "BATCH_SIZE = 32\n",
    "num_workers = 0"
   ]
  },
  {
   "cell_type": "code",
   "execution_count": 8,
   "metadata": {},
   "outputs": [],
   "source": [
    "# wandb에 저장할 요소\n",
    "args = {\n",
    "    'learning_rate' : LR,\n",
    "    'epochs': EPOCHS,\n",
    "    'batch_size' : BATCH_SIZE\n",
    "}\n",
    "wandb.config.update(args)"
   ]
  },
  {
   "cell_type": "code",
   "execution_count": 9,
   "metadata": {},
   "outputs": [],
   "source": [
    "# 데이터셋 클래스를 정의합니다.\n",
    "class ImageDataset(Dataset):\n",
    "    def __init__(self, csv, path, transform=None):\n",
    "        self.df = pd.read_csv(csv).values\n",
    "        self.path = path\n",
    "        self.transform = transform\n",
    "\n",
    "    def __len__(self):\n",
    "        return len(self.df)\n",
    "\n",
    "    def __getitem__(self, idx):\n",
    "        name, target = self.df[idx]\n",
    "        img = np.array(Image.open(os.path.join(self.path, name)))\n",
    "        if self.transform:\n",
    "            img = self.transform(image=img)['image']\n",
    "        return img, target\n",
    "    "
   ]
  },
  {
   "cell_type": "code",
   "execution_count": 10,
   "metadata": {},
   "outputs": [],
   "source": [
    "# one epoch 학습을 위한 함수입니다.\n",
    "def train_one_epoch(loader, vaild_loader, model, optimizer, loss_fn, device):\n",
    "    model.train()\n",
    "    train_loss = 0\n",
    "    preds_list = []\n",
    "    targets_list = []\n",
    "    vaild_preds_list = []\n",
    "    vaild_target_list = []\n",
    "\n",
    "    pbar = tqdm(loader)\n",
    "    for image, targets in pbar:\n",
    "        image = image.float().to(device)\n",
    "        targets = targets.to(device)\n",
    "\n",
    "        model.zero_grad(set_to_none=True)\n",
    "\n",
    "        preds = model(image)\n",
    "        loss = loss_fn(preds, targets)\n",
    "        loss.backward()\n",
    "        optimizer.step()\n",
    "\n",
    "        train_loss += loss.item()\n",
    "        preds_list.extend(preds.argmax(dim=1).detach().cpu().numpy())\n",
    "        targets_list.extend(targets.detach().cpu().numpy())\n",
    "\n",
    "        pbar.set_description(f\"Loss: {loss.item():.4f}\")\n",
    "\n",
    "    train_loss /= len(loader)\n",
    "    train_acc = accuracy_score(targets_list, preds_list)\n",
    "    train_f1 = f1_score(targets_list, preds_list, average='macro')\n",
    "\n",
    "    # vaildation set predict\n",
    "    model.eval()\n",
    "    for image, target in tqdm(vaild_loader):\n",
    "        image = image.float().to(device)\n",
    "\n",
    "        with torch.no_grad():\n",
    "            preds = model(image)\n",
    "        vaild_preds_list.extend(preds.argmax(dim=1).detach().cpu().numpy())\n",
    "        vaild_target_list.extend(target.detach().cpu().numpy())\n",
    "    vaild_acc = accuracy_score(vaild_target_list, vaild_preds_list)\n",
    "    vaild_f1 = f1_score(vaild_target_list, vaild_preds_list, average='macro')\n",
    "\n",
    "    wandb.log({\n",
    "        \"train_loss\": train_loss,\n",
    "        \"train_acc\": train_acc,\n",
    "        \"train_f1\": train_f1,\n",
    "        \"vaild_acc\": vaild_acc,\n",
    "        \"vaild_f1\" : vaild_f1,\n",
    "    })\n",
    "\n",
    "    ret = {\n",
    "        \"train_loss\": train_loss,\n",
    "        \"train_acc\": train_acc,\n",
    "        \"train_f1\": train_f1,\n",
    "        \"vaild_acc\": vaild_acc,\n",
    "        \"vaild_f1\": vaild_f1,\n",
    "    }\n",
    "\n",
    "    return ret"
   ]
  },
  {
   "cell_type": "code",
   "execution_count": 11,
   "metadata": {},
   "outputs": [],
   "source": [
    "# vaild_preds_list = []\n",
    "# vaild_target_list = []\n",
    "\n",
    "# model.eval()\n",
    "# for image, target in tqdm(vaild_loader):\n",
    "#     image = image.float().to(device)\n",
    "\n",
    "#     with torch.no_grad():\n",
    "#         preds = model(image)\n",
    "#     vaild_preds_list.extend(preds.argmax(dim=1).detach().cpu().numpy())\n",
    "#     vaild_target_list.extend(target.detach().cpu().numpy())\n",
    "# vaild_acc = accuracy_score(vaild_target_list, preds_list)\n",
    "# vaild_f1 = f1_score(vaild_target_list, preds_list, average='macro')"
   ]
  },
  {
   "cell_type": "markdown",
   "metadata": {},
   "source": [
    "- 일단 단일 augmentation들로 확인\n",
    "- 성능향상시 다양한 데이터증강을 조합하여 추가학습"
   ]
  },
  {
   "cell_type": "code",
   "execution_count": 12,
   "metadata": {},
   "outputs": [],
   "source": [
    "# # augmentation을 위한 transform 코드\n",
    "# trn_transform = A.Compose([\n",
    "#     A.Resize(height=img_size, width=img_size),\n",
    "#     A.Normalize(mean=[0.485, 0.456, 0.406], std=[0.229, 0.224, 0.225]),\n",
    "#     ToTensorV2(),\n",
    "# ])\n",
    "# trn_transform_coarseDropout = A.Compose([\n",
    "#     A.Resize(height=img_size, width=img_size),\n",
    "#     A.Normalize(mean=[0.485, 0.456, 0.406], std=[0.229, 0.224, 0.225]),\n",
    "#     A.CoarseDropout(max_holes=30, max_height=16, max_width=16, min_holes=10, min_height=16, min_width=16, p=1),\n",
    "#     ToTensorV2(),\n",
    "# ])\n",
    "# trn_transform_rotate45 = A.Compose([\n",
    "#     A.Resize(height=img_size, width=img_size),\n",
    "#     A.Normalize(mean=[0.485, 0.456, 0.406], std=[0.229, 0.224, 0.225]),\n",
    "#     A.Rotate(limit=(45, 45), border_mode=cv2.BORDER_CONSTANT,value=[255, 255, 255], p=1),\n",
    "#     ToTensorV2(),\n",
    "# ])\n",
    "# trn_transform_rotate90 = A.Compose([\n",
    "#     A.Resize(height=img_size, width=img_size),\n",
    "#     A.Normalize(mean=[0.485, 0.456, 0.406], std=[0.229, 0.224, 0.225]), \n",
    "#     A.Rotate(limit=(90, 90), border_mode=cv2.BORDER_CONSTANT,value=[255, 255, 255], p=1),\n",
    "#     ToTensorV2(),\n",
    "# ])\n",
    "# trn_transform_rotate135 = A.Compose([\n",
    "#     A.Resize(height=img_size, width=img_size),\n",
    "#     A.Normalize(mean=[0.485, 0.456, 0.406], std=[0.229, 0.224, 0.225]),\n",
    "#     A.Rotate(limit=(135, 135), border_mode=cv2.BORDER_CONSTANT,value=[255, 255, 255], p=1),\n",
    "#     ToTensorV2(),\n",
    "# ])\n",
    "# trn_transform_rotate180 = A.Compose([\n",
    "#     A.Resize(height=img_size, width=img_size),\n",
    "#     A.Normalize(mean=[0.485, 0.456, 0.406], std=[0.229, 0.224, 0.225]),\n",
    "#     A.Rotate(limit=(180, 180), border_mode=cv2.BORDER_CONSTANT,value=[255, 255, 255], p=1),\n",
    "#     ToTensorV2(),\n",
    "# ])\n",
    "# trn_transform_rotate225 = A.Compose([\n",
    "#     A.Resize(height=img_size, width=img_size),\n",
    "#     A.Normalize(mean=[0.485, 0.456, 0.406], std=[0.229, 0.224, 0.225]),\n",
    "#     A.Rotate(limit=(225, 225), border_mode=cv2.BORDER_CONSTANT,value=[255, 255, 255], p=1.0),\n",
    "#     ToTensorV2(),\n",
    "# ])\n",
    "# trn_transform_rotate270 = A.Compose([\n",
    "#     A.Resize(height=img_size, width=img_size),\n",
    "#     A.Normalize(mean=[0.485, 0.456, 0.406], std=[0.229, 0.224, 0.225]),\n",
    "#     A.Rotate(limit=(270, 270), border_mode=cv2.BORDER_CONSTANT,value=[255, 255, 255], p=1.0),\n",
    "#     ToTensorV2(),\n",
    "# ])\n",
    "# trn_transform_rotate315 = A.Compose([\n",
    "#     A.Resize(height=img_size, width=img_size),\n",
    "#     A.Normalize(mean=[0.485, 0.456, 0.406], std=[0.229, 0.224, 0.225]),\n",
    "#     A.Rotate(limit=(315, 315), border_mode=cv2.BORDER_CONSTANT,value=[255, 255, 255], p=1.0),\n",
    "#     ToTensorV2(),\n",
    "# ])\n",
    "# trn_transform_verticalflip = A.Compose([\n",
    "#     A.Resize(height=img_size, width=img_size),\n",
    "#     A.Normalize(mean=[0.485, 0.456, 0.406], std=[0.229, 0.224, 0.225]),\n",
    "#     A.VerticalFlip(always_apply=False, p=1.0),\n",
    "#     ToTensorV2(),\n",
    "# ])\n",
    "# trn_transform_horizontalflip = A.Compose([\n",
    "#     A.Resize(height=img_size, width=img_size),\n",
    "#     A.Normalize(mean=[0.485, 0.456, 0.406], std=[0.229, 0.224, 0.225]),\n",
    "#     A.HorizontalFlip(always_apply=False, p=1.0),\n",
    "#     ToTensorV2(),\n",
    "# ])\n",
    "# trn_transform_blur = A.Compose([\n",
    "#     A.Resize(height=img_size, width=img_size),\n",
    "#     A.Normalize(mean=[0.485, 0.456, 0.406], std=[0.229, 0.224, 0.225]),\n",
    "#     A.Blur(always_apply=True, p=1.0, blur_limit=(3, 3)),\n",
    "#     ToTensorV2(),\n",
    "# ])\n",
    "# trn_transform_gaussnoise = A.Compose([\n",
    "#     A.Resize(height=img_size, width=img_size),\n",
    "#     A.Normalize(mean=[0.485, 0.456, 0.406], std=[0.229, 0.224, 0.225]),\n",
    "#     A.GaussNoise(always_apply=False, p=1.0, var_limit=(500.0, 500.0)),\n",
    "#     ToTensorV2(),\n",
    "# ])\n",
    "# trn_transform_downscale = A.Compose([\n",
    "#     A.Resize(height=img_size, width=img_size),\n",
    "#     A.Normalize(mean=[0.485, 0.456, 0.406], std=[0.229, 0.224, 0.225]),\n",
    "#     A.Downscale(always_apply=False, p=1.0, scale_min=0.5, scale_max=0.5, interpolation=0),\n",
    "#     ToTensorV2(),\n",
    "# ])\n",
    "# transform_list = [trn_transform, trn_transform_coarseDropout, trn_transform_rotate45, trn_transform_rotate90, trn_transform_rotate135, trn_transform_rotate180, trn_transform_rotate225,\n",
    "#                   trn_transform_rotate270, trn_transform_rotate315, trn_transform_verticalflip, trn_transform_horizontalflip, trn_transform_blur, trn_transform_gaussnoise,\n",
    "#                   trn_transform_downscale]\n",
    "\n",
    "# # test image 변환을 위한 transform 코드\n",
    "# tst_transform = A.Compose([\n",
    "#     A.Resize(height=img_size, width=img_size),\n",
    "#     A.Normalize(mean=[0.485, 0.456, 0.406], std=[0.229, 0.224, 0.225]),\n",
    "#     ToTensorV2(),\n",
    "# ])"
   ]
  },
  {
   "cell_type": "code",
   "execution_count": 15,
   "metadata": {},
   "outputs": [
    {
     "name": "stderr",
     "output_type": "stream",
     "text": [
      "/opt/conda/lib/python3.10/site-packages/albumentations/augmentations/transforms.py:1258: FutureWarning: This class has been deprecated. Please use RandomBrightnessContrast\n",
      "  warnings.warn(\n"
     ]
    }
   ],
   "source": [
    "trn_transform = A.Compose([\n",
    "    A.Resize(height=img_size, width=img_size),\n",
    "    A.Normalize(mean=[0.485, 0.456, 0.406], std=[0.229, 0.224, 0.225]),\n",
    "    A.CenterCrop( 224 , 224 , always_apply = False , p = 1.0 ),\n",
    "    # A.PadIfNeeded(min_height=256, min_width=256, border_mode=cv2.BORDER_CONSTANT, value=0),\n",
    "    ToTensorV2()\n",
    "])\n",
    "transform_list = [A.CoarseDropout(max_holes=30, max_height=16, max_width=16, min_holes=10, min_height=16, min_width=16, p=1),\n",
    "                #   A.Rotate(limit=(45, 45), border_mode=cv2.BORDER_CONSTANT,value=[255, 255, 255], p=1),\n",
    "                #   A.Rotate(limit=(90, 90), border_mode=cv2.BORDER_CONSTANT,value=[255, 255, 255], p=1),\n",
    "                #   A.Rotate(limit=(135, 135), border_mode=cv2.BORDER_CONSTANT,value=[255, 255, 255], p=1),\n",
    "                #   A.Rotate(limit=(180, 180), border_mode=cv2.BORDER_CONSTANT,value=[255, 255, 255], p=1),\n",
    "                #   A.Rotate(limit=(225, 225), border_mode=cv2.BORDER_CONSTANT,value=[255, 255, 255], p=1),\n",
    "                #   A.Rotate(limit=(270, 270), border_mode=cv2.BORDER_CONSTANT,value=[255, 255, 255], p=1),\n",
    "                #   A.Rotate(limit=(315, 315), border_mode=cv2.BORDER_CONSTANT,value=[255, 255, 255], p=1),\n",
    "                  A.Rotate(limit=(0, 360), border_mode=cv2.BORDER_CONSTANT,value=[255, 255, 255], p=1),\n",
    "                  A.VerticalFlip(always_apply=False, p=1),\n",
    "                  A.HorizontalFlip(always_apply=False, p=1),\n",
    "                #   A.Blur(always_apply=True, p=1, blur_limit=(3, 3)),\n",
    "                  A.GaussNoise(always_apply=False, p=1, var_limit=(0.2, 0.2)),\n",
    "                  A.Downscale(always_apply=False, p=1, scale_min=0.5, scale_max=0.5, interpolation=0),\n",
    "                  A.GaussianBlur(blur_limit=(3, 7), p=1.0),\n",
    "                  A.RandomGridShuffle( grid = (3 , 3) , always_apply = False , p = 1 ),\n",
    "                  A.RandomBrightness( limit = 0.2 , always_apply = False , p = 1 ),\n",
    "                  A.GaussianBlur( blur_limit = (3,7) , always_apply = False , p = 1 ),\n",
    "                  A.ToGray( always_apply = False , p = 1 ),\n",
    "                #   A.CenterCrop( 224 , 224 , always_apply = False , p = 1.0 ),\n",
    "                #   A.RandomCrop(224, 224, always_apply=False, p=1.0)\n",
    "                  ]\n",
    "\n",
    "tst_transform = A.Compose([ \n",
    "    A.Resize(height=img_size, width=img_size),\n",
    "    A.Normalize(mean=[0.485, 0.456, 0.406], std=[0.229, 0.224, 0.225]),\n",
    "    # A.PadIfNeeded(min_height=256, min_width=256, border_mode=cv2.BORDER_CONSTANT, value=0),\n",
    "    ToTensorV2()\n",
    "])"
   ]
  },
  {
   "cell_type": "code",
   "execution_count": 13,
   "metadata": {},
   "outputs": [
    {
     "name": "stdout",
     "output_type": "stream",
     "text": [
      "CoarseDropout(always_apply=False, p=1, max_holes=30, max_height=16, max_width=16, min_holes=10, min_height=16, min_width=16, fill_value=0, mask_fill_value=None) Rotate(always_apply=False, p=1, limit=(45, 45), interpolation=1, border_mode=0, value=[255, 255, 255], mask_value=None, rotate_method='largest_box', crop_border=False)\n",
      "CoarseDropout(always_apply=False, p=1, max_holes=30, max_height=16, max_width=16, min_holes=10, min_height=16, min_width=16, fill_value=0, mask_fill_value=None) Rotate(always_apply=False, p=1, limit=(90, 90), interpolation=1, border_mode=0, value=[255, 255, 255], mask_value=None, rotate_method='largest_box', crop_border=False)\n",
      "CoarseDropout(always_apply=False, p=1, max_holes=30, max_height=16, max_width=16, min_holes=10, min_height=16, min_width=16, fill_value=0, mask_fill_value=None) Rotate(always_apply=False, p=1, limit=(135, 135), interpolation=1, border_mode=0, value=[255, 255, 255], mask_value=None, rotate_method='largest_box', crop_border=False)\n",
      "CoarseDropout(always_apply=False, p=1, max_holes=30, max_height=16, max_width=16, min_holes=10, min_height=16, min_width=16, fill_value=0, mask_fill_value=None) Rotate(always_apply=False, p=1, limit=(180, 180), interpolation=1, border_mode=0, value=[255, 255, 255], mask_value=None, rotate_method='largest_box', crop_border=False)\n",
      "CoarseDropout(always_apply=False, p=1, max_holes=30, max_height=16, max_width=16, min_holes=10, min_height=16, min_width=16, fill_value=0, mask_fill_value=None) Rotate(always_apply=False, p=1, limit=(225, 225), interpolation=1, border_mode=0, value=[255, 255, 255], mask_value=None, rotate_method='largest_box', crop_border=False)\n",
      "CoarseDropout(always_apply=False, p=1, max_holes=30, max_height=16, max_width=16, min_holes=10, min_height=16, min_width=16, fill_value=0, mask_fill_value=None) Rotate(always_apply=False, p=1, limit=(270, 270), interpolation=1, border_mode=0, value=[255, 255, 255], mask_value=None, rotate_method='largest_box', crop_border=False)\n",
      "CoarseDropout(always_apply=False, p=1, max_holes=30, max_height=16, max_width=16, min_holes=10, min_height=16, min_width=16, fill_value=0, mask_fill_value=None) Rotate(always_apply=False, p=1, limit=(315, 315), interpolation=1, border_mode=0, value=[255, 255, 255], mask_value=None, rotate_method='largest_box', crop_border=False)\n",
      "CoarseDropout(always_apply=False, p=1, max_holes=30, max_height=16, max_width=16, min_holes=10, min_height=16, min_width=16, fill_value=0, mask_fill_value=None) VerticalFlip(always_apply=False, p=1)\n",
      "CoarseDropout(always_apply=False, p=1, max_holes=30, max_height=16, max_width=16, min_holes=10, min_height=16, min_width=16, fill_value=0, mask_fill_value=None) HorizontalFlip(always_apply=False, p=1)\n",
      "CoarseDropout(always_apply=False, p=1, max_holes=30, max_height=16, max_width=16, min_holes=10, min_height=16, min_width=16, fill_value=0, mask_fill_value=None) Blur(always_apply=True, p=1, blur_limit=(3, 3))\n",
      "CoarseDropout(always_apply=False, p=1, max_holes=30, max_height=16, max_width=16, min_holes=10, min_height=16, min_width=16, fill_value=0, mask_fill_value=None) GaussNoise(always_apply=False, p=1, var_limit=(0.2, 0.2), per_channel=True, mean=0)\n",
      "CoarseDropout(always_apply=False, p=1, max_holes=30, max_height=16, max_width=16, min_holes=10, min_height=16, min_width=16, fill_value=0, mask_fill_value=None) Downscale(always_apply=False, p=1, scale_min=0.5, scale_max=0.5)\n",
      "CoarseDropout(always_apply=False, p=1, max_holes=30, max_height=16, max_width=16, min_holes=10, min_height=16, min_width=16, fill_value=0, mask_fill_value=None) RandomCrop(always_apply=False, p=1.0, height=224, width=224)\n",
      "CoarseDropout(always_apply=False, p=1, max_holes=30, max_height=16, max_width=16, min_holes=10, min_height=16, min_width=16, fill_value=0, mask_fill_value=None) GaussianBlur(always_apply=False, p=1.0, blur_limit=(3, 7), sigma_limit=(0, 0))\n",
      "CoarseDropout(always_apply=False, p=1, max_holes=30, max_height=16, max_width=16, min_holes=10, min_height=16, min_width=16, fill_value=0, mask_fill_value=None) RandomGridShuffle(always_apply=False, p=1, grid=(3, 3))\n",
      "CoarseDropout(always_apply=False, p=1, max_holes=30, max_height=16, max_width=16, min_holes=10, min_height=16, min_width=16, fill_value=0, mask_fill_value=None) RandomBrightness(always_apply=False, p=1, limit=(-0.2, 0.2))\n",
      "CoarseDropout(always_apply=False, p=1, max_holes=30, max_height=16, max_width=16, min_holes=10, min_height=16, min_width=16, fill_value=0, mask_fill_value=None) GaussianBlur(always_apply=False, p=1, blur_limit=(3, 7), sigma_limit=(0, 0))\n",
      "CoarseDropout(always_apply=False, p=1, max_holes=30, max_height=16, max_width=16, min_holes=10, min_height=16, min_width=16, fill_value=0, mask_fill_value=None) ToGray(always_apply=False, p=1)\n",
      "CoarseDropout(always_apply=False, p=1, max_holes=30, max_height=16, max_width=16, min_holes=10, min_height=16, min_width=16, fill_value=0, mask_fill_value=None) CenterCrop(always_apply=False, p=1.0, height=224, width=224)\n",
      "CoarseDropout(always_apply=False, p=1, max_holes=30, max_height=16, max_width=16, min_holes=10, min_height=16, min_width=16, fill_value=0, mask_fill_value=None) RandomCrop(always_apply=False, p=1.0, height=224, width=224)\n",
      "Rotate(always_apply=False, p=1, limit=(45, 45), interpolation=1, border_mode=0, value=[255, 255, 255], mask_value=None, rotate_method='largest_box', crop_border=False) Rotate(always_apply=False, p=1, limit=(90, 90), interpolation=1, border_mode=0, value=[255, 255, 255], mask_value=None, rotate_method='largest_box', crop_border=False)\n",
      "Rotate(always_apply=False, p=1, limit=(45, 45), interpolation=1, border_mode=0, value=[255, 255, 255], mask_value=None, rotate_method='largest_box', crop_border=False) Rotate(always_apply=False, p=1, limit=(135, 135), interpolation=1, border_mode=0, value=[255, 255, 255], mask_value=None, rotate_method='largest_box', crop_border=False)\n",
      "Rotate(always_apply=False, p=1, limit=(45, 45), interpolation=1, border_mode=0, value=[255, 255, 255], mask_value=None, rotate_method='largest_box', crop_border=False) Rotate(always_apply=False, p=1, limit=(180, 180), interpolation=1, border_mode=0, value=[255, 255, 255], mask_value=None, rotate_method='largest_box', crop_border=False)\n",
      "Rotate(always_apply=False, p=1, limit=(45, 45), interpolation=1, border_mode=0, value=[255, 255, 255], mask_value=None, rotate_method='largest_box', crop_border=False) Rotate(always_apply=False, p=1, limit=(225, 225), interpolation=1, border_mode=0, value=[255, 255, 255], mask_value=None, rotate_method='largest_box', crop_border=False)\n",
      "Rotate(always_apply=False, p=1, limit=(45, 45), interpolation=1, border_mode=0, value=[255, 255, 255], mask_value=None, rotate_method='largest_box', crop_border=False) Rotate(always_apply=False, p=1, limit=(270, 270), interpolation=1, border_mode=0, value=[255, 255, 255], mask_value=None, rotate_method='largest_box', crop_border=False)\n",
      "Rotate(always_apply=False, p=1, limit=(45, 45), interpolation=1, border_mode=0, value=[255, 255, 255], mask_value=None, rotate_method='largest_box', crop_border=False) Rotate(always_apply=False, p=1, limit=(315, 315), interpolation=1, border_mode=0, value=[255, 255, 255], mask_value=None, rotate_method='largest_box', crop_border=False)\n",
      "Rotate(always_apply=False, p=1, limit=(45, 45), interpolation=1, border_mode=0, value=[255, 255, 255], mask_value=None, rotate_method='largest_box', crop_border=False) VerticalFlip(always_apply=False, p=1)\n",
      "Rotate(always_apply=False, p=1, limit=(45, 45), interpolation=1, border_mode=0, value=[255, 255, 255], mask_value=None, rotate_method='largest_box', crop_border=False) HorizontalFlip(always_apply=False, p=1)\n",
      "Rotate(always_apply=False, p=1, limit=(45, 45), interpolation=1, border_mode=0, value=[255, 255, 255], mask_value=None, rotate_method='largest_box', crop_border=False) Blur(always_apply=True, p=1, blur_limit=(3, 3))\n",
      "Rotate(always_apply=False, p=1, limit=(45, 45), interpolation=1, border_mode=0, value=[255, 255, 255], mask_value=None, rotate_method='largest_box', crop_border=False) GaussNoise(always_apply=False, p=1, var_limit=(0.2, 0.2), per_channel=True, mean=0)\n",
      "Rotate(always_apply=False, p=1, limit=(45, 45), interpolation=1, border_mode=0, value=[255, 255, 255], mask_value=None, rotate_method='largest_box', crop_border=False) Downscale(always_apply=False, p=1, scale_min=0.5, scale_max=0.5)\n",
      "Rotate(always_apply=False, p=1, limit=(45, 45), interpolation=1, border_mode=0, value=[255, 255, 255], mask_value=None, rotate_method='largest_box', crop_border=False) RandomCrop(always_apply=False, p=1.0, height=224, width=224)\n",
      "Rotate(always_apply=False, p=1, limit=(45, 45), interpolation=1, border_mode=0, value=[255, 255, 255], mask_value=None, rotate_method='largest_box', crop_border=False) GaussianBlur(always_apply=False, p=1.0, blur_limit=(3, 7), sigma_limit=(0, 0))\n",
      "Rotate(always_apply=False, p=1, limit=(45, 45), interpolation=1, border_mode=0, value=[255, 255, 255], mask_value=None, rotate_method='largest_box', crop_border=False) RandomGridShuffle(always_apply=False, p=1, grid=(3, 3))\n",
      "Rotate(always_apply=False, p=1, limit=(45, 45), interpolation=1, border_mode=0, value=[255, 255, 255], mask_value=None, rotate_method='largest_box', crop_border=False) RandomBrightness(always_apply=False, p=1, limit=(-0.2, 0.2))\n",
      "Rotate(always_apply=False, p=1, limit=(45, 45), interpolation=1, border_mode=0, value=[255, 255, 255], mask_value=None, rotate_method='largest_box', crop_border=False) GaussianBlur(always_apply=False, p=1, blur_limit=(3, 7), sigma_limit=(0, 0))\n",
      "Rotate(always_apply=False, p=1, limit=(45, 45), interpolation=1, border_mode=0, value=[255, 255, 255], mask_value=None, rotate_method='largest_box', crop_border=False) ToGray(always_apply=False, p=1)\n",
      "Rotate(always_apply=False, p=1, limit=(45, 45), interpolation=1, border_mode=0, value=[255, 255, 255], mask_value=None, rotate_method='largest_box', crop_border=False) CenterCrop(always_apply=False, p=1.0, height=224, width=224)\n",
      "Rotate(always_apply=False, p=1, limit=(45, 45), interpolation=1, border_mode=0, value=[255, 255, 255], mask_value=None, rotate_method='largest_box', crop_border=False) RandomCrop(always_apply=False, p=1.0, height=224, width=224)\n",
      "Rotate(always_apply=False, p=1, limit=(90, 90), interpolation=1, border_mode=0, value=[255, 255, 255], mask_value=None, rotate_method='largest_box', crop_border=False) Rotate(always_apply=False, p=1, limit=(135, 135), interpolation=1, border_mode=0, value=[255, 255, 255], mask_value=None, rotate_method='largest_box', crop_border=False)\n",
      "Rotate(always_apply=False, p=1, limit=(90, 90), interpolation=1, border_mode=0, value=[255, 255, 255], mask_value=None, rotate_method='largest_box', crop_border=False) Rotate(always_apply=False, p=1, limit=(180, 180), interpolation=1, border_mode=0, value=[255, 255, 255], mask_value=None, rotate_method='largest_box', crop_border=False)\n",
      "Rotate(always_apply=False, p=1, limit=(90, 90), interpolation=1, border_mode=0, value=[255, 255, 255], mask_value=None, rotate_method='largest_box', crop_border=False) Rotate(always_apply=False, p=1, limit=(225, 225), interpolation=1, border_mode=0, value=[255, 255, 255], mask_value=None, rotate_method='largest_box', crop_border=False)\n",
      "Rotate(always_apply=False, p=1, limit=(90, 90), interpolation=1, border_mode=0, value=[255, 255, 255], mask_value=None, rotate_method='largest_box', crop_border=False) Rotate(always_apply=False, p=1, limit=(270, 270), interpolation=1, border_mode=0, value=[255, 255, 255], mask_value=None, rotate_method='largest_box', crop_border=False)\n",
      "Rotate(always_apply=False, p=1, limit=(90, 90), interpolation=1, border_mode=0, value=[255, 255, 255], mask_value=None, rotate_method='largest_box', crop_border=False) Rotate(always_apply=False, p=1, limit=(315, 315), interpolation=1, border_mode=0, value=[255, 255, 255], mask_value=None, rotate_method='largest_box', crop_border=False)\n",
      "Rotate(always_apply=False, p=1, limit=(90, 90), interpolation=1, border_mode=0, value=[255, 255, 255], mask_value=None, rotate_method='largest_box', crop_border=False) VerticalFlip(always_apply=False, p=1)\n",
      "Rotate(always_apply=False, p=1, limit=(90, 90), interpolation=1, border_mode=0, value=[255, 255, 255], mask_value=None, rotate_method='largest_box', crop_border=False) HorizontalFlip(always_apply=False, p=1)\n",
      "Rotate(always_apply=False, p=1, limit=(90, 90), interpolation=1, border_mode=0, value=[255, 255, 255], mask_value=None, rotate_method='largest_box', crop_border=False) Blur(always_apply=True, p=1, blur_limit=(3, 3))\n",
      "Rotate(always_apply=False, p=1, limit=(90, 90), interpolation=1, border_mode=0, value=[255, 255, 255], mask_value=None, rotate_method='largest_box', crop_border=False) GaussNoise(always_apply=False, p=1, var_limit=(0.2, 0.2), per_channel=True, mean=0)\n",
      "Rotate(always_apply=False, p=1, limit=(90, 90), interpolation=1, border_mode=0, value=[255, 255, 255], mask_value=None, rotate_method='largest_box', crop_border=False) Downscale(always_apply=False, p=1, scale_min=0.5, scale_max=0.5)\n",
      "Rotate(always_apply=False, p=1, limit=(90, 90), interpolation=1, border_mode=0, value=[255, 255, 255], mask_value=None, rotate_method='largest_box', crop_border=False) RandomCrop(always_apply=False, p=1.0, height=224, width=224)\n",
      "Rotate(always_apply=False, p=1, limit=(90, 90), interpolation=1, border_mode=0, value=[255, 255, 255], mask_value=None, rotate_method='largest_box', crop_border=False) GaussianBlur(always_apply=False, p=1.0, blur_limit=(3, 7), sigma_limit=(0, 0))\n",
      "Rotate(always_apply=False, p=1, limit=(90, 90), interpolation=1, border_mode=0, value=[255, 255, 255], mask_value=None, rotate_method='largest_box', crop_border=False) RandomGridShuffle(always_apply=False, p=1, grid=(3, 3))\n",
      "Rotate(always_apply=False, p=1, limit=(90, 90), interpolation=1, border_mode=0, value=[255, 255, 255], mask_value=None, rotate_method='largest_box', crop_border=False) RandomBrightness(always_apply=False, p=1, limit=(-0.2, 0.2))\n",
      "Rotate(always_apply=False, p=1, limit=(90, 90), interpolation=1, border_mode=0, value=[255, 255, 255], mask_value=None, rotate_method='largest_box', crop_border=False) GaussianBlur(always_apply=False, p=1, blur_limit=(3, 7), sigma_limit=(0, 0))\n",
      "Rotate(always_apply=False, p=1, limit=(90, 90), interpolation=1, border_mode=0, value=[255, 255, 255], mask_value=None, rotate_method='largest_box', crop_border=False) ToGray(always_apply=False, p=1)\n",
      "Rotate(always_apply=False, p=1, limit=(90, 90), interpolation=1, border_mode=0, value=[255, 255, 255], mask_value=None, rotate_method='largest_box', crop_border=False) CenterCrop(always_apply=False, p=1.0, height=224, width=224)\n",
      "Rotate(always_apply=False, p=1, limit=(90, 90), interpolation=1, border_mode=0, value=[255, 255, 255], mask_value=None, rotate_method='largest_box', crop_border=False) RandomCrop(always_apply=False, p=1.0, height=224, width=224)\n",
      "Rotate(always_apply=False, p=1, limit=(135, 135), interpolation=1, border_mode=0, value=[255, 255, 255], mask_value=None, rotate_method='largest_box', crop_border=False) Rotate(always_apply=False, p=1, limit=(180, 180), interpolation=1, border_mode=0, value=[255, 255, 255], mask_value=None, rotate_method='largest_box', crop_border=False)\n",
      "Rotate(always_apply=False, p=1, limit=(135, 135), interpolation=1, border_mode=0, value=[255, 255, 255], mask_value=None, rotate_method='largest_box', crop_border=False) Rotate(always_apply=False, p=1, limit=(225, 225), interpolation=1, border_mode=0, value=[255, 255, 255], mask_value=None, rotate_method='largest_box', crop_border=False)\n",
      "Rotate(always_apply=False, p=1, limit=(135, 135), interpolation=1, border_mode=0, value=[255, 255, 255], mask_value=None, rotate_method='largest_box', crop_border=False) Rotate(always_apply=False, p=1, limit=(270, 270), interpolation=1, border_mode=0, value=[255, 255, 255], mask_value=None, rotate_method='largest_box', crop_border=False)\n",
      "Rotate(always_apply=False, p=1, limit=(135, 135), interpolation=1, border_mode=0, value=[255, 255, 255], mask_value=None, rotate_method='largest_box', crop_border=False) Rotate(always_apply=False, p=1, limit=(315, 315), interpolation=1, border_mode=0, value=[255, 255, 255], mask_value=None, rotate_method='largest_box', crop_border=False)\n",
      "Rotate(always_apply=False, p=1, limit=(135, 135), interpolation=1, border_mode=0, value=[255, 255, 255], mask_value=None, rotate_method='largest_box', crop_border=False) VerticalFlip(always_apply=False, p=1)\n",
      "Rotate(always_apply=False, p=1, limit=(135, 135), interpolation=1, border_mode=0, value=[255, 255, 255], mask_value=None, rotate_method='largest_box', crop_border=False) HorizontalFlip(always_apply=False, p=1)\n",
      "Rotate(always_apply=False, p=1, limit=(135, 135), interpolation=1, border_mode=0, value=[255, 255, 255], mask_value=None, rotate_method='largest_box', crop_border=False) Blur(always_apply=True, p=1, blur_limit=(3, 3))\n",
      "Rotate(always_apply=False, p=1, limit=(135, 135), interpolation=1, border_mode=0, value=[255, 255, 255], mask_value=None, rotate_method='largest_box', crop_border=False) GaussNoise(always_apply=False, p=1, var_limit=(0.2, 0.2), per_channel=True, mean=0)\n",
      "Rotate(always_apply=False, p=1, limit=(135, 135), interpolation=1, border_mode=0, value=[255, 255, 255], mask_value=None, rotate_method='largest_box', crop_border=False) Downscale(always_apply=False, p=1, scale_min=0.5, scale_max=0.5)\n",
      "Rotate(always_apply=False, p=1, limit=(135, 135), interpolation=1, border_mode=0, value=[255, 255, 255], mask_value=None, rotate_method='largest_box', crop_border=False) RandomCrop(always_apply=False, p=1.0, height=224, width=224)\n",
      "Rotate(always_apply=False, p=1, limit=(135, 135), interpolation=1, border_mode=0, value=[255, 255, 255], mask_value=None, rotate_method='largest_box', crop_border=False) GaussianBlur(always_apply=False, p=1.0, blur_limit=(3, 7), sigma_limit=(0, 0))\n",
      "Rotate(always_apply=False, p=1, limit=(135, 135), interpolation=1, border_mode=0, value=[255, 255, 255], mask_value=None, rotate_method='largest_box', crop_border=False) RandomGridShuffle(always_apply=False, p=1, grid=(3, 3))\n",
      "Rotate(always_apply=False, p=1, limit=(135, 135), interpolation=1, border_mode=0, value=[255, 255, 255], mask_value=None, rotate_method='largest_box', crop_border=False) RandomBrightness(always_apply=False, p=1, limit=(-0.2, 0.2))\n",
      "Rotate(always_apply=False, p=1, limit=(135, 135), interpolation=1, border_mode=0, value=[255, 255, 255], mask_value=None, rotate_method='largest_box', crop_border=False) GaussianBlur(always_apply=False, p=1, blur_limit=(3, 7), sigma_limit=(0, 0))\n",
      "Rotate(always_apply=False, p=1, limit=(135, 135), interpolation=1, border_mode=0, value=[255, 255, 255], mask_value=None, rotate_method='largest_box', crop_border=False) ToGray(always_apply=False, p=1)\n",
      "Rotate(always_apply=False, p=1, limit=(135, 135), interpolation=1, border_mode=0, value=[255, 255, 255], mask_value=None, rotate_method='largest_box', crop_border=False) CenterCrop(always_apply=False, p=1.0, height=224, width=224)\n",
      "Rotate(always_apply=False, p=1, limit=(135, 135), interpolation=1, border_mode=0, value=[255, 255, 255], mask_value=None, rotate_method='largest_box', crop_border=False) RandomCrop(always_apply=False, p=1.0, height=224, width=224)\n",
      "Rotate(always_apply=False, p=1, limit=(180, 180), interpolation=1, border_mode=0, value=[255, 255, 255], mask_value=None, rotate_method='largest_box', crop_border=False) Rotate(always_apply=False, p=1, limit=(225, 225), interpolation=1, border_mode=0, value=[255, 255, 255], mask_value=None, rotate_method='largest_box', crop_border=False)\n",
      "Rotate(always_apply=False, p=1, limit=(180, 180), interpolation=1, border_mode=0, value=[255, 255, 255], mask_value=None, rotate_method='largest_box', crop_border=False) Rotate(always_apply=False, p=1, limit=(270, 270), interpolation=1, border_mode=0, value=[255, 255, 255], mask_value=None, rotate_method='largest_box', crop_border=False)\n",
      "Rotate(always_apply=False, p=1, limit=(180, 180), interpolation=1, border_mode=0, value=[255, 255, 255], mask_value=None, rotate_method='largest_box', crop_border=False) Rotate(always_apply=False, p=1, limit=(315, 315), interpolation=1, border_mode=0, value=[255, 255, 255], mask_value=None, rotate_method='largest_box', crop_border=False)\n",
      "Rotate(always_apply=False, p=1, limit=(180, 180), interpolation=1, border_mode=0, value=[255, 255, 255], mask_value=None, rotate_method='largest_box', crop_border=False) VerticalFlip(always_apply=False, p=1)\n",
      "Rotate(always_apply=False, p=1, limit=(180, 180), interpolation=1, border_mode=0, value=[255, 255, 255], mask_value=None, rotate_method='largest_box', crop_border=False) HorizontalFlip(always_apply=False, p=1)\n",
      "Rotate(always_apply=False, p=1, limit=(180, 180), interpolation=1, border_mode=0, value=[255, 255, 255], mask_value=None, rotate_method='largest_box', crop_border=False) Blur(always_apply=True, p=1, blur_limit=(3, 3))\n",
      "Rotate(always_apply=False, p=1, limit=(180, 180), interpolation=1, border_mode=0, value=[255, 255, 255], mask_value=None, rotate_method='largest_box', crop_border=False) GaussNoise(always_apply=False, p=1, var_limit=(0.2, 0.2), per_channel=True, mean=0)\n",
      "Rotate(always_apply=False, p=1, limit=(180, 180), interpolation=1, border_mode=0, value=[255, 255, 255], mask_value=None, rotate_method='largest_box', crop_border=False) Downscale(always_apply=False, p=1, scale_min=0.5, scale_max=0.5)\n",
      "Rotate(always_apply=False, p=1, limit=(180, 180), interpolation=1, border_mode=0, value=[255, 255, 255], mask_value=None, rotate_method='largest_box', crop_border=False) RandomCrop(always_apply=False, p=1.0, height=224, width=224)\n",
      "Rotate(always_apply=False, p=1, limit=(180, 180), interpolation=1, border_mode=0, value=[255, 255, 255], mask_value=None, rotate_method='largest_box', crop_border=False) GaussianBlur(always_apply=False, p=1.0, blur_limit=(3, 7), sigma_limit=(0, 0))\n",
      "Rotate(always_apply=False, p=1, limit=(180, 180), interpolation=1, border_mode=0, value=[255, 255, 255], mask_value=None, rotate_method='largest_box', crop_border=False) RandomGridShuffle(always_apply=False, p=1, grid=(3, 3))\n",
      "Rotate(always_apply=False, p=1, limit=(180, 180), interpolation=1, border_mode=0, value=[255, 255, 255], mask_value=None, rotate_method='largest_box', crop_border=False) RandomBrightness(always_apply=False, p=1, limit=(-0.2, 0.2))\n",
      "Rotate(always_apply=False, p=1, limit=(180, 180), interpolation=1, border_mode=0, value=[255, 255, 255], mask_value=None, rotate_method='largest_box', crop_border=False) GaussianBlur(always_apply=False, p=1, blur_limit=(3, 7), sigma_limit=(0, 0))\n",
      "Rotate(always_apply=False, p=1, limit=(180, 180), interpolation=1, border_mode=0, value=[255, 255, 255], mask_value=None, rotate_method='largest_box', crop_border=False) ToGray(always_apply=False, p=1)\n",
      "Rotate(always_apply=False, p=1, limit=(180, 180), interpolation=1, border_mode=0, value=[255, 255, 255], mask_value=None, rotate_method='largest_box', crop_border=False) CenterCrop(always_apply=False, p=1.0, height=224, width=224)\n",
      "Rotate(always_apply=False, p=1, limit=(180, 180), interpolation=1, border_mode=0, value=[255, 255, 255], mask_value=None, rotate_method='largest_box', crop_border=False) RandomCrop(always_apply=False, p=1.0, height=224, width=224)\n",
      "Rotate(always_apply=False, p=1, limit=(225, 225), interpolation=1, border_mode=0, value=[255, 255, 255], mask_value=None, rotate_method='largest_box', crop_border=False) Rotate(always_apply=False, p=1, limit=(270, 270), interpolation=1, border_mode=0, value=[255, 255, 255], mask_value=None, rotate_method='largest_box', crop_border=False)\n",
      "Rotate(always_apply=False, p=1, limit=(225, 225), interpolation=1, border_mode=0, value=[255, 255, 255], mask_value=None, rotate_method='largest_box', crop_border=False) Rotate(always_apply=False, p=1, limit=(315, 315), interpolation=1, border_mode=0, value=[255, 255, 255], mask_value=None, rotate_method='largest_box', crop_border=False)\n",
      "Rotate(always_apply=False, p=1, limit=(225, 225), interpolation=1, border_mode=0, value=[255, 255, 255], mask_value=None, rotate_method='largest_box', crop_border=False) VerticalFlip(always_apply=False, p=1)\n",
      "Rotate(always_apply=False, p=1, limit=(225, 225), interpolation=1, border_mode=0, value=[255, 255, 255], mask_value=None, rotate_method='largest_box', crop_border=False) HorizontalFlip(always_apply=False, p=1)\n",
      "Rotate(always_apply=False, p=1, limit=(225, 225), interpolation=1, border_mode=0, value=[255, 255, 255], mask_value=None, rotate_method='largest_box', crop_border=False) Blur(always_apply=True, p=1, blur_limit=(3, 3))\n",
      "Rotate(always_apply=False, p=1, limit=(225, 225), interpolation=1, border_mode=0, value=[255, 255, 255], mask_value=None, rotate_method='largest_box', crop_border=False) GaussNoise(always_apply=False, p=1, var_limit=(0.2, 0.2), per_channel=True, mean=0)\n",
      "Rotate(always_apply=False, p=1, limit=(225, 225), interpolation=1, border_mode=0, value=[255, 255, 255], mask_value=None, rotate_method='largest_box', crop_border=False) Downscale(always_apply=False, p=1, scale_min=0.5, scale_max=0.5)\n",
      "Rotate(always_apply=False, p=1, limit=(225, 225), interpolation=1, border_mode=0, value=[255, 255, 255], mask_value=None, rotate_method='largest_box', crop_border=False) RandomCrop(always_apply=False, p=1.0, height=224, width=224)\n",
      "Rotate(always_apply=False, p=1, limit=(225, 225), interpolation=1, border_mode=0, value=[255, 255, 255], mask_value=None, rotate_method='largest_box', crop_border=False) GaussianBlur(always_apply=False, p=1.0, blur_limit=(3, 7), sigma_limit=(0, 0))\n",
      "Rotate(always_apply=False, p=1, limit=(225, 225), interpolation=1, border_mode=0, value=[255, 255, 255], mask_value=None, rotate_method='largest_box', crop_border=False) RandomGridShuffle(always_apply=False, p=1, grid=(3, 3))\n",
      "Rotate(always_apply=False, p=1, limit=(225, 225), interpolation=1, border_mode=0, value=[255, 255, 255], mask_value=None, rotate_method='largest_box', crop_border=False) RandomBrightness(always_apply=False, p=1, limit=(-0.2, 0.2))\n",
      "Rotate(always_apply=False, p=1, limit=(225, 225), interpolation=1, border_mode=0, value=[255, 255, 255], mask_value=None, rotate_method='largest_box', crop_border=False) GaussianBlur(always_apply=False, p=1, blur_limit=(3, 7), sigma_limit=(0, 0))\n",
      "Rotate(always_apply=False, p=1, limit=(225, 225), interpolation=1, border_mode=0, value=[255, 255, 255], mask_value=None, rotate_method='largest_box', crop_border=False) ToGray(always_apply=False, p=1)\n",
      "Rotate(always_apply=False, p=1, limit=(225, 225), interpolation=1, border_mode=0, value=[255, 255, 255], mask_value=None, rotate_method='largest_box', crop_border=False) CenterCrop(always_apply=False, p=1.0, height=224, width=224)\n",
      "Rotate(always_apply=False, p=1, limit=(225, 225), interpolation=1, border_mode=0, value=[255, 255, 255], mask_value=None, rotate_method='largest_box', crop_border=False) RandomCrop(always_apply=False, p=1.0, height=224, width=224)\n",
      "Rotate(always_apply=False, p=1, limit=(270, 270), interpolation=1, border_mode=0, value=[255, 255, 255], mask_value=None, rotate_method='largest_box', crop_border=False) Rotate(always_apply=False, p=1, limit=(315, 315), interpolation=1, border_mode=0, value=[255, 255, 255], mask_value=None, rotate_method='largest_box', crop_border=False)\n",
      "Rotate(always_apply=False, p=1, limit=(270, 270), interpolation=1, border_mode=0, value=[255, 255, 255], mask_value=None, rotate_method='largest_box', crop_border=False) VerticalFlip(always_apply=False, p=1)\n",
      "Rotate(always_apply=False, p=1, limit=(270, 270), interpolation=1, border_mode=0, value=[255, 255, 255], mask_value=None, rotate_method='largest_box', crop_border=False) HorizontalFlip(always_apply=False, p=1)\n",
      "Rotate(always_apply=False, p=1, limit=(270, 270), interpolation=1, border_mode=0, value=[255, 255, 255], mask_value=None, rotate_method='largest_box', crop_border=False) Blur(always_apply=True, p=1, blur_limit=(3, 3))\n",
      "Rotate(always_apply=False, p=1, limit=(270, 270), interpolation=1, border_mode=0, value=[255, 255, 255], mask_value=None, rotate_method='largest_box', crop_border=False) GaussNoise(always_apply=False, p=1, var_limit=(0.2, 0.2), per_channel=True, mean=0)\n",
      "Rotate(always_apply=False, p=1, limit=(270, 270), interpolation=1, border_mode=0, value=[255, 255, 255], mask_value=None, rotate_method='largest_box', crop_border=False) Downscale(always_apply=False, p=1, scale_min=0.5, scale_max=0.5)\n",
      "Rotate(always_apply=False, p=1, limit=(270, 270), interpolation=1, border_mode=0, value=[255, 255, 255], mask_value=None, rotate_method='largest_box', crop_border=False) RandomCrop(always_apply=False, p=1.0, height=224, width=224)\n",
      "Rotate(always_apply=False, p=1, limit=(270, 270), interpolation=1, border_mode=0, value=[255, 255, 255], mask_value=None, rotate_method='largest_box', crop_border=False) GaussianBlur(always_apply=False, p=1.0, blur_limit=(3, 7), sigma_limit=(0, 0))\n",
      "Rotate(always_apply=False, p=1, limit=(270, 270), interpolation=1, border_mode=0, value=[255, 255, 255], mask_value=None, rotate_method='largest_box', crop_border=False) RandomGridShuffle(always_apply=False, p=1, grid=(3, 3))\n",
      "Rotate(always_apply=False, p=1, limit=(270, 270), interpolation=1, border_mode=0, value=[255, 255, 255], mask_value=None, rotate_method='largest_box', crop_border=False) RandomBrightness(always_apply=False, p=1, limit=(-0.2, 0.2))\n",
      "Rotate(always_apply=False, p=1, limit=(270, 270), interpolation=1, border_mode=0, value=[255, 255, 255], mask_value=None, rotate_method='largest_box', crop_border=False) GaussianBlur(always_apply=False, p=1, blur_limit=(3, 7), sigma_limit=(0, 0))\n",
      "Rotate(always_apply=False, p=1, limit=(270, 270), interpolation=1, border_mode=0, value=[255, 255, 255], mask_value=None, rotate_method='largest_box', crop_border=False) ToGray(always_apply=False, p=1)\n",
      "Rotate(always_apply=False, p=1, limit=(270, 270), interpolation=1, border_mode=0, value=[255, 255, 255], mask_value=None, rotate_method='largest_box', crop_border=False) CenterCrop(always_apply=False, p=1.0, height=224, width=224)\n",
      "Rotate(always_apply=False, p=1, limit=(270, 270), interpolation=1, border_mode=0, value=[255, 255, 255], mask_value=None, rotate_method='largest_box', crop_border=False) RandomCrop(always_apply=False, p=1.0, height=224, width=224)\n",
      "Rotate(always_apply=False, p=1, limit=(315, 315), interpolation=1, border_mode=0, value=[255, 255, 255], mask_value=None, rotate_method='largest_box', crop_border=False) VerticalFlip(always_apply=False, p=1)\n",
      "Rotate(always_apply=False, p=1, limit=(315, 315), interpolation=1, border_mode=0, value=[255, 255, 255], mask_value=None, rotate_method='largest_box', crop_border=False) HorizontalFlip(always_apply=False, p=1)\n",
      "Rotate(always_apply=False, p=1, limit=(315, 315), interpolation=1, border_mode=0, value=[255, 255, 255], mask_value=None, rotate_method='largest_box', crop_border=False) Blur(always_apply=True, p=1, blur_limit=(3, 3))\n",
      "Rotate(always_apply=False, p=1, limit=(315, 315), interpolation=1, border_mode=0, value=[255, 255, 255], mask_value=None, rotate_method='largest_box', crop_border=False) GaussNoise(always_apply=False, p=1, var_limit=(0.2, 0.2), per_channel=True, mean=0)\n",
      "Rotate(always_apply=False, p=1, limit=(315, 315), interpolation=1, border_mode=0, value=[255, 255, 255], mask_value=None, rotate_method='largest_box', crop_border=False) Downscale(always_apply=False, p=1, scale_min=0.5, scale_max=0.5)\n",
      "Rotate(always_apply=False, p=1, limit=(315, 315), interpolation=1, border_mode=0, value=[255, 255, 255], mask_value=None, rotate_method='largest_box', crop_border=False) RandomCrop(always_apply=False, p=1.0, height=224, width=224)\n",
      "Rotate(always_apply=False, p=1, limit=(315, 315), interpolation=1, border_mode=0, value=[255, 255, 255], mask_value=None, rotate_method='largest_box', crop_border=False) GaussianBlur(always_apply=False, p=1.0, blur_limit=(3, 7), sigma_limit=(0, 0))\n",
      "Rotate(always_apply=False, p=1, limit=(315, 315), interpolation=1, border_mode=0, value=[255, 255, 255], mask_value=None, rotate_method='largest_box', crop_border=False) RandomGridShuffle(always_apply=False, p=1, grid=(3, 3))\n",
      "Rotate(always_apply=False, p=1, limit=(315, 315), interpolation=1, border_mode=0, value=[255, 255, 255], mask_value=None, rotate_method='largest_box', crop_border=False) RandomBrightness(always_apply=False, p=1, limit=(-0.2, 0.2))\n",
      "Rotate(always_apply=False, p=1, limit=(315, 315), interpolation=1, border_mode=0, value=[255, 255, 255], mask_value=None, rotate_method='largest_box', crop_border=False) GaussianBlur(always_apply=False, p=1, blur_limit=(3, 7), sigma_limit=(0, 0))\n",
      "Rotate(always_apply=False, p=1, limit=(315, 315), interpolation=1, border_mode=0, value=[255, 255, 255], mask_value=None, rotate_method='largest_box', crop_border=False) ToGray(always_apply=False, p=1)\n",
      "Rotate(always_apply=False, p=1, limit=(315, 315), interpolation=1, border_mode=0, value=[255, 255, 255], mask_value=None, rotate_method='largest_box', crop_border=False) CenterCrop(always_apply=False, p=1.0, height=224, width=224)\n",
      "Rotate(always_apply=False, p=1, limit=(315, 315), interpolation=1, border_mode=0, value=[255, 255, 255], mask_value=None, rotate_method='largest_box', crop_border=False) RandomCrop(always_apply=False, p=1.0, height=224, width=224)\n",
      "VerticalFlip(always_apply=False, p=1) HorizontalFlip(always_apply=False, p=1)\n",
      "VerticalFlip(always_apply=False, p=1) Blur(always_apply=True, p=1, blur_limit=(3, 3))\n",
      "VerticalFlip(always_apply=False, p=1) GaussNoise(always_apply=False, p=1, var_limit=(0.2, 0.2), per_channel=True, mean=0)\n",
      "VerticalFlip(always_apply=False, p=1) Downscale(always_apply=False, p=1, scale_min=0.5, scale_max=0.5)\n",
      "VerticalFlip(always_apply=False, p=1) RandomCrop(always_apply=False, p=1.0, height=224, width=224)\n",
      "VerticalFlip(always_apply=False, p=1) GaussianBlur(always_apply=False, p=1.0, blur_limit=(3, 7), sigma_limit=(0, 0))\n",
      "VerticalFlip(always_apply=False, p=1) RandomGridShuffle(always_apply=False, p=1, grid=(3, 3))\n",
      "VerticalFlip(always_apply=False, p=1) RandomBrightness(always_apply=False, p=1, limit=(-0.2, 0.2))\n",
      "VerticalFlip(always_apply=False, p=1) GaussianBlur(always_apply=False, p=1, blur_limit=(3, 7), sigma_limit=(0, 0))\n",
      "VerticalFlip(always_apply=False, p=1) ToGray(always_apply=False, p=1)\n",
      "VerticalFlip(always_apply=False, p=1) CenterCrop(always_apply=False, p=1.0, height=224, width=224)\n",
      "VerticalFlip(always_apply=False, p=1) RandomCrop(always_apply=False, p=1.0, height=224, width=224)\n",
      "HorizontalFlip(always_apply=False, p=1) Blur(always_apply=True, p=1, blur_limit=(3, 3))\n",
      "HorizontalFlip(always_apply=False, p=1) GaussNoise(always_apply=False, p=1, var_limit=(0.2, 0.2), per_channel=True, mean=0)\n",
      "HorizontalFlip(always_apply=False, p=1) Downscale(always_apply=False, p=1, scale_min=0.5, scale_max=0.5)\n",
      "HorizontalFlip(always_apply=False, p=1) RandomCrop(always_apply=False, p=1.0, height=224, width=224)\n",
      "HorizontalFlip(always_apply=False, p=1) GaussianBlur(always_apply=False, p=1.0, blur_limit=(3, 7), sigma_limit=(0, 0))\n",
      "HorizontalFlip(always_apply=False, p=1) RandomGridShuffle(always_apply=False, p=1, grid=(3, 3))\n",
      "HorizontalFlip(always_apply=False, p=1) RandomBrightness(always_apply=False, p=1, limit=(-0.2, 0.2))\n",
      "HorizontalFlip(always_apply=False, p=1) GaussianBlur(always_apply=False, p=1, blur_limit=(3, 7), sigma_limit=(0, 0))\n",
      "HorizontalFlip(always_apply=False, p=1) ToGray(always_apply=False, p=1)\n",
      "HorizontalFlip(always_apply=False, p=1) CenterCrop(always_apply=False, p=1.0, height=224, width=224)\n",
      "HorizontalFlip(always_apply=False, p=1) RandomCrop(always_apply=False, p=1.0, height=224, width=224)\n",
      "Blur(always_apply=True, p=1, blur_limit=(3, 3)) GaussNoise(always_apply=False, p=1, var_limit=(0.2, 0.2), per_channel=True, mean=0)\n",
      "Blur(always_apply=True, p=1, blur_limit=(3, 3)) Downscale(always_apply=False, p=1, scale_min=0.5, scale_max=0.5)\n",
      "Blur(always_apply=True, p=1, blur_limit=(3, 3)) RandomCrop(always_apply=False, p=1.0, height=224, width=224)\n",
      "Blur(always_apply=True, p=1, blur_limit=(3, 3)) GaussianBlur(always_apply=False, p=1.0, blur_limit=(3, 7), sigma_limit=(0, 0))\n",
      "Blur(always_apply=True, p=1, blur_limit=(3, 3)) RandomGridShuffle(always_apply=False, p=1, grid=(3, 3))\n",
      "Blur(always_apply=True, p=1, blur_limit=(3, 3)) RandomBrightness(always_apply=False, p=1, limit=(-0.2, 0.2))\n",
      "Blur(always_apply=True, p=1, blur_limit=(3, 3)) GaussianBlur(always_apply=False, p=1, blur_limit=(3, 7), sigma_limit=(0, 0))\n",
      "Blur(always_apply=True, p=1, blur_limit=(3, 3)) ToGray(always_apply=False, p=1)\n",
      "Blur(always_apply=True, p=1, blur_limit=(3, 3)) CenterCrop(always_apply=False, p=1.0, height=224, width=224)\n",
      "Blur(always_apply=True, p=1, blur_limit=(3, 3)) RandomCrop(always_apply=False, p=1.0, height=224, width=224)\n",
      "GaussNoise(always_apply=False, p=1, var_limit=(0.2, 0.2), per_channel=True, mean=0) Downscale(always_apply=False, p=1, scale_min=0.5, scale_max=0.5)\n",
      "GaussNoise(always_apply=False, p=1, var_limit=(0.2, 0.2), per_channel=True, mean=0) RandomCrop(always_apply=False, p=1.0, height=224, width=224)\n",
      "GaussNoise(always_apply=False, p=1, var_limit=(0.2, 0.2), per_channel=True, mean=0) GaussianBlur(always_apply=False, p=1.0, blur_limit=(3, 7), sigma_limit=(0, 0))\n",
      "GaussNoise(always_apply=False, p=1, var_limit=(0.2, 0.2), per_channel=True, mean=0) RandomGridShuffle(always_apply=False, p=1, grid=(3, 3))\n",
      "GaussNoise(always_apply=False, p=1, var_limit=(0.2, 0.2), per_channel=True, mean=0) RandomBrightness(always_apply=False, p=1, limit=(-0.2, 0.2))\n",
      "GaussNoise(always_apply=False, p=1, var_limit=(0.2, 0.2), per_channel=True, mean=0) GaussianBlur(always_apply=False, p=1, blur_limit=(3, 7), sigma_limit=(0, 0))\n",
      "GaussNoise(always_apply=False, p=1, var_limit=(0.2, 0.2), per_channel=True, mean=0) ToGray(always_apply=False, p=1)\n",
      "GaussNoise(always_apply=False, p=1, var_limit=(0.2, 0.2), per_channel=True, mean=0) CenterCrop(always_apply=False, p=1.0, height=224, width=224)\n",
      "GaussNoise(always_apply=False, p=1, var_limit=(0.2, 0.2), per_channel=True, mean=0) RandomCrop(always_apply=False, p=1.0, height=224, width=224)\n",
      "Downscale(always_apply=False, p=1, scale_min=0.5, scale_max=0.5) RandomCrop(always_apply=False, p=1.0, height=224, width=224)\n",
      "Downscale(always_apply=False, p=1, scale_min=0.5, scale_max=0.5) GaussianBlur(always_apply=False, p=1.0, blur_limit=(3, 7), sigma_limit=(0, 0))\n",
      "Downscale(always_apply=False, p=1, scale_min=0.5, scale_max=0.5) RandomGridShuffle(always_apply=False, p=1, grid=(3, 3))\n",
      "Downscale(always_apply=False, p=1, scale_min=0.5, scale_max=0.5) RandomBrightness(always_apply=False, p=1, limit=(-0.2, 0.2))\n",
      "Downscale(always_apply=False, p=1, scale_min=0.5, scale_max=0.5) GaussianBlur(always_apply=False, p=1, blur_limit=(3, 7), sigma_limit=(0, 0))\n",
      "Downscale(always_apply=False, p=1, scale_min=0.5, scale_max=0.5) ToGray(always_apply=False, p=1)\n",
      "Downscale(always_apply=False, p=1, scale_min=0.5, scale_max=0.5) CenterCrop(always_apply=False, p=1.0, height=224, width=224)\n",
      "Downscale(always_apply=False, p=1, scale_min=0.5, scale_max=0.5) RandomCrop(always_apply=False, p=1.0, height=224, width=224)\n",
      "RandomCrop(always_apply=False, p=1.0, height=224, width=224) GaussianBlur(always_apply=False, p=1.0, blur_limit=(3, 7), sigma_limit=(0, 0))\n",
      "RandomCrop(always_apply=False, p=1.0, height=224, width=224) RandomGridShuffle(always_apply=False, p=1, grid=(3, 3))\n",
      "RandomCrop(always_apply=False, p=1.0, height=224, width=224) RandomBrightness(always_apply=False, p=1, limit=(-0.2, 0.2))\n",
      "RandomCrop(always_apply=False, p=1.0, height=224, width=224) GaussianBlur(always_apply=False, p=1, blur_limit=(3, 7), sigma_limit=(0, 0))\n",
      "RandomCrop(always_apply=False, p=1.0, height=224, width=224) ToGray(always_apply=False, p=1)\n",
      "RandomCrop(always_apply=False, p=1.0, height=224, width=224) CenterCrop(always_apply=False, p=1.0, height=224, width=224)\n",
      "RandomCrop(always_apply=False, p=1.0, height=224, width=224) RandomCrop(always_apply=False, p=1.0, height=224, width=224)\n",
      "GaussianBlur(always_apply=False, p=1.0, blur_limit=(3, 7), sigma_limit=(0, 0)) RandomGridShuffle(always_apply=False, p=1, grid=(3, 3))\n",
      "GaussianBlur(always_apply=False, p=1.0, blur_limit=(3, 7), sigma_limit=(0, 0)) RandomBrightness(always_apply=False, p=1, limit=(-0.2, 0.2))\n",
      "GaussianBlur(always_apply=False, p=1.0, blur_limit=(3, 7), sigma_limit=(0, 0)) GaussianBlur(always_apply=False, p=1, blur_limit=(3, 7), sigma_limit=(0, 0))\n",
      "GaussianBlur(always_apply=False, p=1.0, blur_limit=(3, 7), sigma_limit=(0, 0)) ToGray(always_apply=False, p=1)\n",
      "GaussianBlur(always_apply=False, p=1.0, blur_limit=(3, 7), sigma_limit=(0, 0)) CenterCrop(always_apply=False, p=1.0, height=224, width=224)\n",
      "GaussianBlur(always_apply=False, p=1.0, blur_limit=(3, 7), sigma_limit=(0, 0)) RandomCrop(always_apply=False, p=1.0, height=224, width=224)\n",
      "RandomGridShuffle(always_apply=False, p=1, grid=(3, 3)) RandomBrightness(always_apply=False, p=1, limit=(-0.2, 0.2))\n",
      "RandomGridShuffle(always_apply=False, p=1, grid=(3, 3)) GaussianBlur(always_apply=False, p=1, blur_limit=(3, 7), sigma_limit=(0, 0))\n",
      "RandomGridShuffle(always_apply=False, p=1, grid=(3, 3)) ToGray(always_apply=False, p=1)\n",
      "RandomGridShuffle(always_apply=False, p=1, grid=(3, 3)) CenterCrop(always_apply=False, p=1.0, height=224, width=224)\n",
      "RandomGridShuffle(always_apply=False, p=1, grid=(3, 3)) RandomCrop(always_apply=False, p=1.0, height=224, width=224)\n",
      "RandomBrightness(always_apply=False, p=1, limit=(-0.2, 0.2)) GaussianBlur(always_apply=False, p=1, blur_limit=(3, 7), sigma_limit=(0, 0))\n",
      "RandomBrightness(always_apply=False, p=1, limit=(-0.2, 0.2)) ToGray(always_apply=False, p=1)\n",
      "RandomBrightness(always_apply=False, p=1, limit=(-0.2, 0.2)) CenterCrop(always_apply=False, p=1.0, height=224, width=224)\n",
      "RandomBrightness(always_apply=False, p=1, limit=(-0.2, 0.2)) RandomCrop(always_apply=False, p=1.0, height=224, width=224)\n",
      "GaussianBlur(always_apply=False, p=1, blur_limit=(3, 7), sigma_limit=(0, 0)) ToGray(always_apply=False, p=1)\n",
      "GaussianBlur(always_apply=False, p=1, blur_limit=(3, 7), sigma_limit=(0, 0)) CenterCrop(always_apply=False, p=1.0, height=224, width=224)\n",
      "GaussianBlur(always_apply=False, p=1, blur_limit=(3, 7), sigma_limit=(0, 0)) RandomCrop(always_apply=False, p=1.0, height=224, width=224)\n",
      "ToGray(always_apply=False, p=1) CenterCrop(always_apply=False, p=1.0, height=224, width=224)\n",
      "ToGray(always_apply=False, p=1) RandomCrop(always_apply=False, p=1.0, height=224, width=224)\n",
      "CenterCrop(always_apply=False, p=1.0, height=224, width=224) RandomCrop(always_apply=False, p=1.0, height=224, width=224)\n"
     ]
    }
   ],
   "source": [
    "# transform_list에서 2개 조합으로 데이터 증강\n",
    "for a, b in combinations(transform_list, 2):\n",
    "    print(a, b, end=\"\\n\")"
   ]
  },
  {
   "cell_type": "code",
   "execution_count": 13,
   "metadata": {},
   "outputs": [],
   "source": [
    "# Dataset 정의를 위한 함수\n",
    "def make_dataset(transform_list, csv, path):\n",
    "    trn_dataset = ImageDataset(\n",
    "        csv,\n",
    "        path,\n",
    "        # transform=transform_list[0]\n",
    "        transform = trn_transform\n",
    "    )\n",
    "    for transform in transform_list:\n",
    "        trn_dataset2 = ImageDataset(\n",
    "            csv,\n",
    "            path,\n",
    "            transform=A.Compose([\n",
    "                A.Resize(height=img_size, width=img_size),\n",
    "                transform,\n",
    "                A.RandomCrop(224, 224, always_apply=False, p=1.0),\n",
    "                A.Normalize(mean=[0.485, 0.456, 0.406], std=[0.229, 0.224, 0.225]),\n",
    "                # A.PadIfNeeded(min_height=256, min_width=256, border_mode=cv2.BORDER_CONSTANT, value=0),\n",
    "                ToTensorV2()\n",
    "            ])\n",
    "        )\n",
    "        trn_dataset = ConcatDataset([trn_dataset, trn_dataset2])\n",
    "\n",
    "    for transform1, transform2 in combinations(transform_list, 2):\n",
    "        trn_dataset2 = ImageDataset(\n",
    "            csv,\n",
    "            path,\n",
    "            transform=A.Compose([\n",
    "                A.Resize(height=img_size, width=img_size),\n",
    "                \n",
    "                transform1,\n",
    "                transform2,\n",
    "                A.RandomCrop(224, 224, always_apply=False, p=1.0),\n",
    "                A.Normalize(mean=[0.485, 0.456, 0.406], std=[0.229, 0.224, 0.225]),\n",
    "                # A.PadIfNeeded(min_height=256, min_width=256, border_mode=cv2.BORDER_CONSTANT, value=0),\n",
    "                ToTensorV2()\n",
    "            ])\n",
    "        )\n",
    "        trn_dataset = ConcatDataset([trn_dataset, trn_dataset2])\n",
    "\n",
    "\n",
    "    return trn_dataset"
   ]
  },
  {
   "cell_type": "code",
   "execution_count": 12,
   "metadata": {},
   "outputs": [],
   "source": [
    "# # vaildation set 정의\n",
    "# def make_vaild_dataset(transform_list, csv, path):\n",
    "#     trn_dataset = ImageDataset(\n",
    "#         csv,\n",
    "#         path,\n",
    "#         transform=transform_list[0]\n",
    "#     )\n",
    "#     for transform in transform_list[1:]:\n",
    "#         trn_dataset2 = ImageDataset(\n",
    "#             csv,\n",
    "#             path,\n",
    "#             transform=A.Compose([\n",
    "#                 A.Resize(height=img_size, width=img_size),\n",
    "#                 A.Normalize(mean=[0.485, 0.456, 0.406], std=[0.229, 0.224, 0.225]),\n",
    "#                 transform_list[0],\n",
    "#                 ToTensorV2()\n",
    "#             ])\n",
    "#         )\n",
    "#         trn_dataset = ConcatDataset([trn_dataset, trn_dataset2])\n",
    "    \n",
    "#     for transform in transform_list[1:]:\n",
    "#         trn_dataset2 = ImageDataset(\n",
    "#             csv,\n",
    "#             path,\n",
    "#             transform=A.Compose([\n",
    "#                 A.Resize(height=img_size, width=img_size),\n",
    "#                 A.Normalize(mean=[0.485, 0.456, 0.406], std=[0.229, 0.224, 0.225]),\n",
    "#                 transform,\n",
    "#                 ToTensorV2()\n",
    "#             ])\n",
    "#         )\n",
    "#         trn_dataset = ConcatDataset([trn_dataset, trn_dataset2])\n",
    "\n",
    "#     for transform1, transform2 in combinations(transform_list, 2):\n",
    "#         trn_dataset2 = ImageDataset(\n",
    "#             csv,\n",
    "#             path,\n",
    "#             transform=A.Compose([\n",
    "#                 A.Resize(height=img_size, width=img_size),\n",
    "#                 A.Normalize(mean=[0.485, 0.456, 0.406], std=[0.229, 0.224, 0.225]),\n",
    "#                 transform1,\n",
    "#                 transform2,\n",
    "#                 ToTensorV2()\n",
    "#             ])\n",
    "#         )\n",
    "\n",
    "#     return trn_dataset"
   ]
  },
  {
   "cell_type": "code",
   "execution_count": 16,
   "metadata": {},
   "outputs": [
    {
     "name": "stdout",
     "output_type": "stream",
     "text": [
      "84152 10519 157\n"
     ]
    }
   ],
   "source": [
    "trn_dataset = make_dataset(transform_list, \"../datasets_fin/divided_train.csv\", \"../datasets_fin/train/\")\n",
    "vaild_dataset = make_dataset(transform_list, \"../datasets_fin/vaild.csv\", \"../datasets_fin/train/\",)\n",
    "tst_dataset = ImageDataset(\n",
    "    \"../datasets_fin/test.csv\",\n",
    "    \"../datasets_fin/train/\",\n",
    "    transform=tst_transform\n",
    ")\n",
    "print(len(trn_dataset), len(vaild_dataset), len(tst_dataset))"
   ]
  },
  {
   "cell_type": "code",
   "execution_count": 23,
   "metadata": {},
   "outputs": [],
   "source": [
    "# DataLoader 정의\n",
    "trn_loader = DataLoader(\n",
    "    trn_dataset,\n",
    "    batch_size=BATCH_SIZE,\n",
    "    shuffle=True,\n",
    "    # shuffle=True,\n",
    "    num_workers=num_workers,\n",
    "    pin_memory=True,\n",
    "    drop_last=False\n",
    ")\n",
    "vaild_loader = DataLoader(\n",
    "    vaild_dataset,\n",
    "    batch_size=BATCH_SIZE,\n",
    "    shuffle=False,\n",
    "    # shuffle=True,\n",
    "    num_workers=num_workers,\n",
    "    pin_memory=True,\n",
    "    # drop_last=False\n",
    ")\n",
    "tst_loader = DataLoader(\n",
    "    tst_dataset,\n",
    "    batch_size=BATCH_SIZE,\n",
    "    shuffle=False,\n",
    "    num_workers=0,\n",
    "    pin_memory=True\n",
    ")"
   ]
  },
  {
   "cell_type": "code",
   "execution_count": 24,
   "metadata": {},
   "outputs": [
    {
     "data": {
      "application/vnd.jupyter.widget-view+json": {
       "model_id": "cd5f55aa832e489b835c34648debf502",
       "version_major": 2,
       "version_minor": 0
      },
      "text/plain": [
       "model.safetensors:   0%|          | 0.00/102M [00:00<?, ?B/s]"
      ]
     },
     "metadata": {},
     "output_type": "display_data"
    }
   ],
   "source": [
    "# load model\n",
    "model = timm.create_model(\n",
    "    model_name,\n",
    "    pretrained=True,\n",
    "    num_classes=17\n",
    ").to(device)\n",
    "loss_fn = nn.CrossEntropyLoss()\n",
    "optimizer = Adam(model.parameters(), lr=LR)"
   ]
  },
  {
   "cell_type": "code",
   "execution_count": 25,
   "metadata": {},
   "outputs": [
    {
     "name": "stderr",
     "output_type": "stream",
     "text": [
      "Loss: 0.0084: 100%|██████████| 2630/2630 [13:44<00:00,  3.19it/s]\n",
      "100%|██████████| 329/329 [01:42<00:00,  3.22it/s]\n"
     ]
    },
    {
     "name": "stdout",
     "output_type": "stream",
     "text": [
      "0\n",
      "train_loss: 0.1629\n",
      "train_acc: 0.9453\n",
      "train_f1: 0.9424\n",
      "vaild_acc: 0.8883\n",
      "vaild_f1: 0.8818\n",
      "epoch: 0.0000\n",
      "\n"
     ]
    },
    {
     "name": "stderr",
     "output_type": "stream",
     "text": [
      "Loss: 0.0161: 100%|██████████| 2630/2630 [13:55<00:00,  3.15it/s]\n",
      "100%|██████████| 329/329 [01:42<00:00,  3.20it/s]\n"
     ]
    },
    {
     "name": "stdout",
     "output_type": "stream",
     "text": [
      "0\n",
      "train_loss: 0.0382\n",
      "train_acc: 0.9873\n",
      "train_f1: 0.9866\n",
      "vaild_acc: 0.8993\n",
      "vaild_f1: 0.8969\n",
      "epoch: 1.0000\n",
      "\n"
     ]
    },
    {
     "name": "stderr",
     "output_type": "stream",
     "text": [
      "Loss: 0.0737: 100%|██████████| 2630/2630 [13:53<00:00,  3.15it/s]\n",
      "100%|██████████| 329/329 [01:42<00:00,  3.22it/s]\n"
     ]
    },
    {
     "name": "stdout",
     "output_type": "stream",
     "text": [
      "1\n",
      "train_loss: 0.0278\n",
      "train_acc: 0.9908\n",
      "train_f1: 0.9902\n",
      "vaild_acc: 0.8822\n",
      "vaild_f1: 0.8819\n",
      "epoch: 2.0000\n",
      "\n"
     ]
    },
    {
     "name": "stderr",
     "output_type": "stream",
     "text": [
      "Loss: 0.0081: 100%|██████████| 2630/2630 [13:53<00:00,  3.16it/s]\n",
      "100%|██████████| 329/329 [01:42<00:00,  3.20it/s]\n"
     ]
    },
    {
     "name": "stdout",
     "output_type": "stream",
     "text": [
      "0\n",
      "train_loss: 0.0216\n",
      "train_acc: 0.9927\n",
      "train_f1: 0.9923\n",
      "vaild_acc: 0.9005\n",
      "vaild_f1: 0.8952\n",
      "epoch: 3.0000\n",
      "\n"
     ]
    },
    {
     "name": "stderr",
     "output_type": "stream",
     "text": [
      "Loss: 0.0027: 100%|██████████| 2630/2630 [13:57<00:00,  3.14it/s]\n",
      "100%|██████████| 329/329 [01:43<00:00,  3.19it/s]\n"
     ]
    },
    {
     "name": "stdout",
     "output_type": "stream",
     "text": [
      "1\n",
      "train_loss: 0.0179\n",
      "train_acc: 0.9940\n",
      "train_f1: 0.9937\n",
      "vaild_acc: 0.8943\n",
      "vaild_f1: 0.8879\n",
      "epoch: 4.0000\n",
      "\n"
     ]
    },
    {
     "name": "stderr",
     "output_type": "stream",
     "text": [
      "Loss: 0.0005: 100%|██████████| 2630/2630 [13:57<00:00,  3.14it/s]\n",
      "100%|██████████| 329/329 [01:43<00:00,  3.19it/s]\n"
     ]
    },
    {
     "name": "stdout",
     "output_type": "stream",
     "text": [
      "0\n",
      "train_loss: 0.0147\n",
      "train_acc: 0.9951\n",
      "train_f1: 0.9949\n",
      "vaild_acc: 0.8986\n",
      "vaild_f1: 0.8915\n",
      "epoch: 5.0000\n",
      "\n"
     ]
    },
    {
     "name": "stderr",
     "output_type": "stream",
     "text": [
      "Loss: 0.0004: 100%|██████████| 2630/2630 [13:55<00:00,  3.15it/s]\n",
      "100%|██████████| 329/329 [01:42<00:00,  3.20it/s]\n"
     ]
    },
    {
     "name": "stdout",
     "output_type": "stream",
     "text": [
      "1\n",
      "train_loss: 0.0147\n",
      "train_acc: 0.9953\n",
      "train_f1: 0.9950\n",
      "vaild_acc: 0.8976\n",
      "vaild_f1: 0.8909\n",
      "epoch: 6.0000\n",
      "\n"
     ]
    },
    {
     "name": "stderr",
     "output_type": "stream",
     "text": [
      "Loss: 0.0004: 100%|██████████| 2630/2630 [13:47<00:00,  3.18it/s]\n",
      "100%|██████████| 329/329 [01:41<00:00,  3.24it/s]\n"
     ]
    },
    {
     "name": "stdout",
     "output_type": "stream",
     "text": [
      "0\n",
      "train_loss: 0.0108\n",
      "train_acc: 0.9966\n",
      "train_f1: 0.9964\n",
      "vaild_acc: 0.8977\n",
      "vaild_f1: 0.8927\n",
      "epoch: 7.0000\n",
      "\n"
     ]
    },
    {
     "name": "stderr",
     "output_type": "stream",
     "text": [
      "Loss: 0.0002: 100%|██████████| 2630/2630 [13:39<00:00,  3.21it/s]\n",
      "100%|██████████| 329/329 [01:42<00:00,  3.22it/s]\n"
     ]
    },
    {
     "name": "stdout",
     "output_type": "stream",
     "text": [
      "0\n",
      "train_loss: 0.0108\n",
      "train_acc: 0.9964\n",
      "train_f1: 0.9963\n",
      "vaild_acc: 0.8969\n",
      "vaild_f1: 0.8957\n",
      "epoch: 8.0000\n",
      "\n"
     ]
    },
    {
     "name": "stderr",
     "output_type": "stream",
     "text": [
      "Loss: 0.0000: 100%|██████████| 2630/2630 [13:39<00:00,  3.21it/s]\n",
      "100%|██████████| 329/329 [01:41<00:00,  3.24it/s]\n"
     ]
    },
    {
     "name": "stdout",
     "output_type": "stream",
     "text": [
      "0\n",
      "train_loss: 0.0097\n",
      "train_acc: 0.9968\n",
      "train_f1: 0.9966\n",
      "vaild_acc: 0.9065\n",
      "vaild_f1: 0.9010\n",
      "epoch: 9.0000\n",
      "\n"
     ]
    },
    {
     "name": "stderr",
     "output_type": "stream",
     "text": [
      "Loss: 0.0000: 100%|██████████| 2630/2630 [13:39<00:00,  3.21it/s]\n",
      "100%|██████████| 329/329 [01:41<00:00,  3.23it/s]\n"
     ]
    },
    {
     "name": "stdout",
     "output_type": "stream",
     "text": [
      "1\n",
      "train_loss: 0.0090\n",
      "train_acc: 0.9971\n",
      "train_f1: 0.9969\n",
      "vaild_acc: 0.8958\n",
      "vaild_f1: 0.8863\n",
      "epoch: 10.0000\n",
      "\n"
     ]
    },
    {
     "name": "stderr",
     "output_type": "stream",
     "text": [
      "Loss: 0.0009: 100%|██████████| 2630/2630 [13:39<00:00,  3.21it/s]\n",
      "100%|██████████| 329/329 [01:40<00:00,  3.28it/s]\n"
     ]
    },
    {
     "name": "stdout",
     "output_type": "stream",
     "text": [
      "0\n",
      "train_loss: 0.0083\n",
      "train_acc: 0.9972\n",
      "train_f1: 0.9970\n",
      "vaild_acc: 0.9034\n",
      "vaild_f1: 0.9001\n",
      "epoch: 11.0000\n",
      "\n"
     ]
    },
    {
     "name": "stderr",
     "output_type": "stream",
     "text": [
      "Loss: 0.0003: 100%|██████████| 2630/2630 [13:24<00:00,  3.27it/s]\n",
      "100%|██████████| 329/329 [01:39<00:00,  3.30it/s]\n"
     ]
    },
    {
     "name": "stdout",
     "output_type": "stream",
     "text": [
      "0\n",
      "train_loss: 0.0079\n",
      "train_acc: 0.9974\n",
      "train_f1: 0.9973\n",
      "vaild_acc: 0.9159\n",
      "vaild_f1: 0.9098\n",
      "epoch: 12.0000\n",
      "\n"
     ]
    },
    {
     "name": "stderr",
     "output_type": "stream",
     "text": [
      "Loss: 0.0003: 100%|██████████| 2630/2630 [13:23<00:00,  3.27it/s]\n",
      "100%|██████████| 329/329 [01:39<00:00,  3.29it/s]\n"
     ]
    },
    {
     "name": "stdout",
     "output_type": "stream",
     "text": [
      "0\n",
      "train_loss: 0.0075\n",
      "train_acc: 0.9976\n",
      "train_f1: 0.9975\n",
      "vaild_acc: 0.9166\n",
      "vaild_f1: 0.9122\n",
      "epoch: 13.0000\n",
      "\n"
     ]
    },
    {
     "name": "stderr",
     "output_type": "stream",
     "text": [
      "Loss: 0.0000: 100%|██████████| 2630/2630 [13:20<00:00,  3.28it/s]\n",
      "100%|██████████| 329/329 [01:40<00:00,  3.29it/s]\n"
     ]
    },
    {
     "name": "stdout",
     "output_type": "stream",
     "text": [
      "1\n",
      "train_loss: 0.0072\n",
      "train_acc: 0.9979\n",
      "train_f1: 0.9978\n",
      "vaild_acc: 0.9110\n",
      "vaild_f1: 0.9083\n",
      "epoch: 14.0000\n",
      "\n"
     ]
    },
    {
     "name": "stderr",
     "output_type": "stream",
     "text": [
      "Loss: 0.0003: 100%|██████████| 2630/2630 [13:28<00:00,  3.25it/s]\n",
      "100%|██████████| 329/329 [01:41<00:00,  3.25it/s]\n"
     ]
    },
    {
     "name": "stdout",
     "output_type": "stream",
     "text": [
      "2\n",
      "train_loss: 0.0061\n",
      "train_acc: 0.9981\n",
      "train_f1: 0.9980\n",
      "vaild_acc: 0.9132\n",
      "vaild_f1: 0.9051\n",
      "epoch: 15.0000\n",
      "\n"
     ]
    }
   ],
   "source": [
    "early_stop = 0\n",
    "best_model = model\n",
    "best_epoch = 0\n",
    "best_vaild_f1 = 0\n",
    "resent_model = model\n",
    "before_vaild_f1 = 0\n",
    "for epoch in range(EPOCHS):\n",
    "   \n",
    "   ret = train_one_epoch(trn_loader, vaild_loader, model, optimizer, loss_fn, device=device)\n",
    "   ret['epoch'] = epoch\n",
    "   if before_vaild_f1 < ret['vaild_f1']:\n",
    "      if best_vaild_f1 < ret['vaild_f1']:\n",
    "         best_vaild_f1 = ret['vaild_f1']\n",
    "         best_model = model\n",
    "         best_epoch = epoch+1\n",
    "      resent_model = model\n",
    "      early_stop = 0\n",
    "   else:\n",
    "      early_stop += 1\n",
    "   before_vaild_f1 = ret['vaild_f1']\n",
    "\n",
    "   print(early_stop)\n",
    "\n",
    "   log = \"\"\n",
    "   for k, v in ret.items():\n",
    "      log += f\"{k}: {v:.4f}\\n\"\n",
    "   print(log)\n",
    "\n",
    "   if early_stop >= 2: # earlystop없이 모든 애폭을 사용하여 학습, 단 best model을 따로 저장\n",
    "      torch.save(best_model, '../model/best_augmentation9_'+str(img_size)+'_'+str(best_epoch)+'.pt')\n",
    "      break"
   ]
  },
  {
   "cell_type": "code",
   "execution_count": 19,
   "metadata": {},
   "outputs": [],
   "source": [
    "# 베스트 모델 저장\n",
    "torch.save(best_model, '../model/best_augmentation10_'+str(img_size)+'_'+str(best_epoch)+'.pt')"
   ]
  },
  {
   "cell_type": "code",
   "execution_count": 20,
   "metadata": {},
   "outputs": [],
   "source": [
    "# 마지막 모델 저장\n",
    "torch.save(resent_model, '../model/augmentation10_'+str(img_size)+'_'+str(epoch+1)+'.pt')"
   ]
  },
  {
   "cell_type": "code",
   "execution_count": 16,
   "metadata": {},
   "outputs": [],
   "source": [
    "# for epoch in range(20):\n",
    "#     ret = train_one_epoch(trn_loader, vaild_loader, model, optimizer, loss_fn, device=device)\n",
    "#     ret['epoch'] = epoch\n",
    "\n",
    "#     log = \"\"\n",
    "#     for k, v in ret.items():\n",
    "#       log += f\"{k}: {v:.4f}\\n\"\n",
    "#     print(log)"
   ]
  },
  {
   "cell_type": "markdown",
   "metadata": {},
   "source": [
    "마지막 학습한 모델의 데이터셋 확인 및 실제 데이터 추측"
   ]
  },
  {
   "cell_type": "code",
   "execution_count": 26,
   "metadata": {},
   "outputs": [
    {
     "name": "stderr",
     "output_type": "stream",
     "text": [
      "100%|██████████| 5/5 [00:01<00:00,  2.57it/s]\n"
     ]
    },
    {
     "data": {
      "text/plain": [
       "(0.9235668789808917, 0.9165192392746572)"
      ]
     },
     "execution_count": 26,
     "metadata": {},
     "output_type": "execute_result"
    }
   ],
   "source": [
    "# test 데이터 확인\n",
    "tst_preds_list = []\n",
    "tst_target_list = []\n",
    "\n",
    "model.eval()\n",
    "for image, target in tqdm(tst_loader):\n",
    "    image = image.float().to(device)\n",
    "\n",
    "    with torch.no_grad():\n",
    "        preds = model(image)\n",
    "    tst_preds_list.extend(preds.argmax(dim=1).detach().cpu().numpy())\n",
    "    tst_target_list.extend(target.detach().cpu().numpy())\n",
    "tst_acc = accuracy_score(tst_target_list, tst_preds_list)\n",
    "tst_f1 = f1_score(tst_target_list, tst_preds_list, average='macro')\n",
    "\n",
    "tst_acc, tst_f1"
   ]
  },
  {
   "cell_type": "code",
   "execution_count": 27,
   "metadata": {},
   "outputs": [],
   "source": [
    "# 실제 test데이터\n",
    "test_dataset = ImageDataset(\n",
    "    \"../datasets_fin/sample_submission.csv\",\n",
    "    \"../datasets_fin/test/\",\n",
    "    transform=tst_transform\n",
    ")\n",
    "test_loader = DataLoader(\n",
    "    test_dataset,\n",
    "    batch_size=BATCH_SIZE,\n",
    "    shuffle=False,\n",
    "    num_workers=0,\n",
    "    pin_memory=True\n",
    ")"
   ]
  },
  {
   "cell_type": "code",
   "execution_count": 28,
   "metadata": {},
   "outputs": [
    {
     "name": "stderr",
     "output_type": "stream",
     "text": [
      "100%|██████████| 99/99 [00:28<00:00,  3.48it/s]\n"
     ]
    }
   ],
   "source": [
    "preds_list = []\n",
    "\n",
    "model.eval()\n",
    "for image, _ in tqdm(test_loader):\n",
    "    image = image.to(device)\n",
    "\n",
    "    with torch.no_grad():\n",
    "        preds = model(image)\n",
    "    preds_list.extend(preds.argmax(dim=1).detach().cpu().numpy())"
   ]
  },
  {
   "cell_type": "code",
   "execution_count": 29,
   "metadata": {},
   "outputs": [],
   "source": [
    "pred_df = pd.DataFrame(test_dataset.df, columns=['ID', 'target'])\n",
    "pred_df['target'] = preds_list"
   ]
  },
  {
   "cell_type": "code",
   "execution_count": 30,
   "metadata": {},
   "outputs": [],
   "source": [
    "sample_submission_df = pd.read_csv(\"../datasets_fin/sample_submission.csv\")\n",
    "assert (sample_submission_df['ID'] == pred_df['ID']).all()"
   ]
  },
  {
   "cell_type": "code",
   "execution_count": 31,
   "metadata": {},
   "outputs": [],
   "source": [
    "pred_df.to_csv(\"../output/augmentation10_lastmodel_pred_256_\"+str(epoch+1)+\".csv\", index=False)"
   ]
  },
  {
   "cell_type": "code",
   "execution_count": 32,
   "metadata": {},
   "outputs": [
    {
     "data": {
      "text/html": [
       "<div>\n",
       "<style scoped>\n",
       "    .dataframe tbody tr th:only-of-type {\n",
       "        vertical-align: middle;\n",
       "    }\n",
       "\n",
       "    .dataframe tbody tr th {\n",
       "        vertical-align: top;\n",
       "    }\n",
       "\n",
       "    .dataframe thead th {\n",
       "        text-align: right;\n",
       "    }\n",
       "</style>\n",
       "<table border=\"1\" class=\"dataframe\">\n",
       "  <thead>\n",
       "    <tr style=\"text-align: right;\">\n",
       "      <th></th>\n",
       "      <th>ID</th>\n",
       "      <th>target</th>\n",
       "    </tr>\n",
       "  </thead>\n",
       "  <tbody>\n",
       "    <tr>\n",
       "      <th>0</th>\n",
       "      <td>0008fdb22ddce0ce.jpg</td>\n",
       "      <td>2</td>\n",
       "    </tr>\n",
       "    <tr>\n",
       "      <th>1</th>\n",
       "      <td>00091bffdffd83de.jpg</td>\n",
       "      <td>12</td>\n",
       "    </tr>\n",
       "    <tr>\n",
       "      <th>2</th>\n",
       "      <td>00396fbc1f6cc21d.jpg</td>\n",
       "      <td>5</td>\n",
       "    </tr>\n",
       "    <tr>\n",
       "      <th>3</th>\n",
       "      <td>00471f8038d9c4b6.jpg</td>\n",
       "      <td>12</td>\n",
       "    </tr>\n",
       "    <tr>\n",
       "      <th>4</th>\n",
       "      <td>00901f504008d884.jpg</td>\n",
       "      <td>2</td>\n",
       "    </tr>\n",
       "  </tbody>\n",
       "</table>\n",
       "</div>"
      ],
      "text/plain": [
       "                     ID  target\n",
       "0  0008fdb22ddce0ce.jpg       2\n",
       "1  00091bffdffd83de.jpg      12\n",
       "2  00396fbc1f6cc21d.jpg       5\n",
       "3  00471f8038d9c4b6.jpg      12\n",
       "4  00901f504008d884.jpg       2"
      ]
     },
     "execution_count": 32,
     "metadata": {},
     "output_type": "execute_result"
    }
   ],
   "source": [
    "pred_df.head()"
   ]
  },
  {
   "cell_type": "markdown",
   "metadata": {},
   "source": [
    "best case의 test set확인 및 실제 데이터 추측"
   ]
  },
  {
   "cell_type": "code",
   "execution_count": 33,
   "metadata": {},
   "outputs": [],
   "source": [
    "# 저장한 베스트 모델 로드\n",
    "model = torch.load('../model/best_augmentation10_'+str(img_size)+'_'+str(best_epoch)+'.pt')"
   ]
  },
  {
   "cell_type": "code",
   "execution_count": 34,
   "metadata": {},
   "outputs": [
    {
     "name": "stderr",
     "output_type": "stream",
     "text": [
      "100%|██████████| 5/5 [00:01<00:00,  3.85it/s]\n"
     ]
    },
    {
     "data": {
      "text/plain": [
       "(0.9235668789808917, 0.9165192392746572)"
      ]
     },
     "execution_count": 34,
     "metadata": {},
     "output_type": "execute_result"
    }
   ],
   "source": [
    "# test 데이터 확인\n",
    "tst_preds_list = []\n",
    "tst_target_list = []\n",
    "\n",
    "model.eval()\n",
    "for image, target in tqdm(tst_loader):\n",
    "    image = image.float().to(device)\n",
    "\n",
    "    with torch.no_grad():\n",
    "        preds = model(image)\n",
    "    tst_preds_list.extend(preds.argmax(dim=1).detach().cpu().numpy())\n",
    "    tst_target_list.extend(target.detach().cpu().numpy())\n",
    "tst_acc = accuracy_score(tst_target_list, tst_preds_list)\n",
    "tst_f1 = f1_score(tst_target_list, tst_preds_list, average='macro')\n",
    "\n",
    "tst_acc, tst_f1"
   ]
  },
  {
   "cell_type": "code",
   "execution_count": 35,
   "metadata": {},
   "outputs": [],
   "source": [
    "# 실제 test데이터\n",
    "test_dataset = ImageDataset(\n",
    "    \"../datasets_fin/sample_submission.csv\",\n",
    "    \"../datasets_fin/test/\",\n",
    "    transform=tst_transform\n",
    ")\n",
    "test_loader = DataLoader(\n",
    "    test_dataset,\n",
    "    batch_size=BATCH_SIZE,\n",
    "    shuffle=False,\n",
    "    num_workers=0,\n",
    "    pin_memory=True\n",
    ")"
   ]
  },
  {
   "cell_type": "code",
   "execution_count": 37,
   "metadata": {},
   "outputs": [
    {
     "name": "stderr",
     "output_type": "stream",
     "text": [
      "100%|██████████| 99/99 [00:27<00:00,  3.64it/s]\n"
     ]
    }
   ],
   "source": [
    "preds_list = []\n",
    "\n",
    "model.eval()\n",
    "for image, _ in tqdm(test_loader):\n",
    "    image = image.to(device)\n",
    "\n",
    "    with torch.no_grad():\n",
    "        preds = model(image)\n",
    "    preds_list.extend(preds.argmax(dim=1).detach().cpu().numpy())"
   ]
  },
  {
   "cell_type": "code",
   "execution_count": 38,
   "metadata": {},
   "outputs": [],
   "source": [
    "pred_df = pd.DataFrame(test_dataset.df, columns=['ID', 'target'])\n",
    "pred_df['target'] = preds_list"
   ]
  },
  {
   "cell_type": "code",
   "execution_count": 39,
   "metadata": {},
   "outputs": [],
   "source": [
    "sample_submission_df = pd.read_csv(\"../datasets_fin/sample_submission.csv\")\n",
    "assert (sample_submission_df['ID'] == pred_df['ID']).all()"
   ]
  },
  {
   "cell_type": "code",
   "execution_count": 40,
   "metadata": {},
   "outputs": [],
   "source": [
    "pred_df.to_csv(\"../output/augmentation10_pred_256_\"+str(best_epoch)+\".csv\", index=False)"
   ]
  },
  {
   "cell_type": "code",
   "execution_count": 41,
   "metadata": {},
   "outputs": [
    {
     "data": {
      "text/html": [
       "<div>\n",
       "<style scoped>\n",
       "    .dataframe tbody tr th:only-of-type {\n",
       "        vertical-align: middle;\n",
       "    }\n",
       "\n",
       "    .dataframe tbody tr th {\n",
       "        vertical-align: top;\n",
       "    }\n",
       "\n",
       "    .dataframe thead th {\n",
       "        text-align: right;\n",
       "    }\n",
       "</style>\n",
       "<table border=\"1\" class=\"dataframe\">\n",
       "  <thead>\n",
       "    <tr style=\"text-align: right;\">\n",
       "      <th></th>\n",
       "      <th>ID</th>\n",
       "      <th>target</th>\n",
       "    </tr>\n",
       "  </thead>\n",
       "  <tbody>\n",
       "    <tr>\n",
       "      <th>0</th>\n",
       "      <td>0008fdb22ddce0ce.jpg</td>\n",
       "      <td>2</td>\n",
       "    </tr>\n",
       "    <tr>\n",
       "      <th>1</th>\n",
       "      <td>00091bffdffd83de.jpg</td>\n",
       "      <td>12</td>\n",
       "    </tr>\n",
       "    <tr>\n",
       "      <th>2</th>\n",
       "      <td>00396fbc1f6cc21d.jpg</td>\n",
       "      <td>5</td>\n",
       "    </tr>\n",
       "    <tr>\n",
       "      <th>3</th>\n",
       "      <td>00471f8038d9c4b6.jpg</td>\n",
       "      <td>12</td>\n",
       "    </tr>\n",
       "    <tr>\n",
       "      <th>4</th>\n",
       "      <td>00901f504008d884.jpg</td>\n",
       "      <td>2</td>\n",
       "    </tr>\n",
       "  </tbody>\n",
       "</table>\n",
       "</div>"
      ],
      "text/plain": [
       "                     ID  target\n",
       "0  0008fdb22ddce0ce.jpg       2\n",
       "1  00091bffdffd83de.jpg      12\n",
       "2  00396fbc1f6cc21d.jpg       5\n",
       "3  00471f8038d9c4b6.jpg      12\n",
       "4  00901f504008d884.jpg       2"
      ]
     },
     "execution_count": 41,
     "metadata": {},
     "output_type": "execute_result"
    }
   ],
   "source": [
    "pred_df.head()"
   ]
  },
  {
   "cell_type": "markdown",
   "metadata": {},
   "source": [
    "최선 경우와 마지막 경우가 같은 예측을 함"
   ]
  },
  {
   "cell_type": "code",
   "execution_count": 42,
   "metadata": {},
   "outputs": [],
   "source": [
    "a = pd.read_csv(\"../output/augmentation10_pred_256_\"+str(best_epoch)+\".csv\")\n",
    "b = pd.read_csv(\"../output/augmentation10_lastmodel_pred_256_\"+str(epoch+1)+\".csv\")"
   ]
  },
  {
   "cell_type": "code",
   "execution_count": 43,
   "metadata": {},
   "outputs": [
    {
     "data": {
      "text/plain": [
       "3140"
      ]
     },
     "execution_count": 43,
     "metadata": {},
     "output_type": "execute_result"
    }
   ],
   "source": [
    "sum(a['target'] == b['target'])"
   ]
  },
  {
   "cell_type": "code",
   "execution_count": 44,
   "metadata": {},
   "outputs": [
    {
     "data": {
      "text/plain": [
       "3140"
      ]
     },
     "execution_count": 44,
     "metadata": {},
     "output_type": "execute_result"
    }
   ],
   "source": [
    "len(a['target'])"
   ]
  },
  {
   "cell_type": "markdown",
   "metadata": {},
   "source": [
    "best case의 경우 tst set을 다양한 증강을 더해 검증"
   ]
  },
  {
   "cell_type": "code",
   "execution_count": 42,
   "metadata": {},
   "outputs": [],
   "source": [
    "# 저장한 베스트 모델 로드\n",
    "model = torch.load('../model/best_augmentation10_'+str(img_size)+'_'+str(best_epoch)+'.pt')"
   ]
  },
  {
   "cell_type": "code",
   "execution_count": 45,
   "metadata": {},
   "outputs": [
    {
     "name": "stdout",
     "output_type": "stream",
     "text": [
      "10519\n"
     ]
    }
   ],
   "source": [
    "tst_dataset2 = make_dataset(transform_list, \"../datasets_fin/test.csv\", \"../datasets_fin/train/\",)\n",
    "\n",
    "print(len(tst_dataset2))"
   ]
  },
  {
   "cell_type": "code",
   "execution_count": 46,
   "metadata": {},
   "outputs": [
    {
     "data": {
      "text/plain": [
       "(tensor([[[-0.0458,  1.2557,  1.2385,  ...,  1.3584,  1.3755,  1.3755],\n",
       "          [-0.1999,  1.2557,  1.2385,  ...,  1.3584,  1.3584,  1.3584],\n",
       "          [-0.3198,  1.2385,  1.2557,  ...,  1.3413,  1.3413,  1.3413],\n",
       "          ...,\n",
       "          [ 0.5878,  0.6049,  0.5536,  ...,  0.8276,  0.8447,  0.8276],\n",
       "          [ 1.0502,  1.0502,  1.0502,  ...,  0.8104,  0.8104,  0.7933],\n",
       "          [ 0.9988,  1.0331,  1.0159,  ...,  0.8276,  0.8104,  0.8276]],\n",
       " \n",
       "         [[ 0.0651,  1.3957,  1.3782,  ...,  1.4832,  1.5007,  1.5007],\n",
       "          [-0.0924,  1.4132,  1.3782,  ...,  1.5182,  1.5182,  1.5182],\n",
       "          [-0.2150,  1.3782,  1.3957,  ...,  1.5357,  1.5357,  1.5357],\n",
       "          ...,\n",
       "          [ 0.7304,  0.7304,  0.6954,  ...,  1.0455,  1.0630,  1.0455],\n",
       "          [ 1.1856,  1.1856,  1.2031,  ...,  1.0280,  1.0455,  1.0280],\n",
       "          [ 1.1681,  1.2031,  1.1856,  ...,  1.0455,  1.0280,  1.0805]],\n",
       " \n",
       "         [[ 0.2522,  1.5768,  1.5594,  ...,  1.7163,  1.7337,  1.7337],\n",
       "          [ 0.0953,  1.5942,  1.5594,  ...,  1.6988,  1.6988,  1.6988],\n",
       "          [-0.0267,  1.5594,  1.5768,  ...,  1.6988,  1.6988,  1.6988],\n",
       "          ...,\n",
       "          [ 1.0365,  1.0365,  0.9842,  ...,  1.2805,  1.3328,  1.3154],\n",
       "          [ 1.4897,  1.4897,  1.4722,  ...,  1.2631,  1.3154,  1.2980],\n",
       "          [ 1.4548,  1.5071,  1.4548,  ...,  1.3154,  1.2631,  1.2980]]]),\n",
       " 15)"
      ]
     },
     "execution_count": 46,
     "metadata": {},
     "output_type": "execute_result"
    }
   ],
   "source": [
    "i1, i2 = tst_dataset2.__getitem__(0)\n",
    "i1, i2"
   ]
  },
  {
   "cell_type": "code",
   "execution_count": 47,
   "metadata": {},
   "outputs": [],
   "source": [
    "tst_loader2 = DataLoader(\n",
    "    tst_dataset2,\n",
    "    batch_size=BATCH_SIZE,\n",
    "    shuffle=False,\n",
    "    num_workers=0,\n",
    "    pin_memory=True\n",
    ")"
   ]
  },
  {
   "cell_type": "code",
   "execution_count": 48,
   "metadata": {},
   "outputs": [
    {
     "name": "stderr",
     "output_type": "stream",
     "text": [
      "100%|██████████| 329/329 [01:41<00:00,  3.24it/s]\n"
     ]
    },
    {
     "data": {
      "text/plain": [
       "(0.9167221218747029, 0.906043162863894)"
      ]
     },
     "execution_count": 48,
     "metadata": {},
     "output_type": "execute_result"
    }
   ],
   "source": [
    "# test 데이터 확인\n",
    "tst_preds_list = []\n",
    "tst_target_list = []\n",
    "# tst_img = []\n",
    "\n",
    "model.eval()\n",
    "for image, target in tqdm(tst_loader2):\n",
    "    # tst_img.extend(image.permute(1, 2, 0).detach().cpu().numpy())\n",
    "    image = image.float().to(device)\n",
    "\n",
    "    with torch.no_grad():\n",
    "        preds = model(image)\n",
    "    tst_preds_list.extend(preds.argmax(dim=1).detach().cpu().numpy())\n",
    "    tst_target_list.extend(target.detach().cpu().numpy())\n",
    "tst_acc = accuracy_score(tst_target_list, tst_preds_list)\n",
    "tst_f1 = f1_score(tst_target_list, tst_preds_list, average='macro')\n",
    "\n",
    "tst_acc, tst_f1"
   ]
  },
  {
   "cell_type": "code",
   "execution_count": 49,
   "metadata": {},
   "outputs": [],
   "source": [
    "# 예측에 사용된 이미지 추출하여 리스트에 저장\n",
    "tst_img = []\n",
    "for idx in range(tst_dataset2.__len__()):\n",
    "# for idx in range(1):\n",
    "    img, target = tst_dataset2.__getitem__(idx)\n",
    "    tst_img.append(img.permute(1, 2, 0).numpy())"
   ]
  },
  {
   "cell_type": "code",
   "execution_count": 50,
   "metadata": {},
   "outputs": [
    {
     "name": "stderr",
     "output_type": "stream",
     "text": [
      "Clipping input data to the valid range for imshow with RGB data ([0..1] for floats or [0..255] for integers). Got range [-2.117904..2.2216992].\n"
     ]
    },
    {
     "data": {
      "image/png": "[encoded data removed]",
      "text/plain": [
       "<Figure size 640x480 with 1 Axes>"
      ]
     },
     "metadata": {},
     "output_type": "display_data"
    }
   ],
   "source": [
    "# 저장한 이미지 확인\n",
    "plt.imshow(tst_img[134])\n",
    "plt.show()"
   ]
  },
  {
   "cell_type": "code",
   "execution_count": 51,
   "metadata": {},
   "outputs": [],
   "source": [
    "tst_df = pd.DataFrame({\n",
    "    'img' : tst_img,\n",
    "    'target' : tst_target_list,\n",
    "    'predict' : tst_preds_list\n",
    "})"
   ]
  },
  {
   "cell_type": "code",
   "execution_count": 55,
   "metadata": {},
   "outputs": [
    {
     "data": {
      "text/plain": [
       "10519"
      ]
     },
     "execution_count": 55,
     "metadata": {},
     "output_type": "execute_result"
    }
   ],
   "source": [
    "len(tst_df['target'])"
   ]
  },
  {
   "cell_type": "code",
   "execution_count": 52,
   "metadata": {},
   "outputs": [
    {
     "data": {
      "text/plain": [
       "9643"
      ]
     },
     "execution_count": 52,
     "metadata": {},
     "output_type": "execute_result"
    }
   ],
   "source": [
    "# 맞춘 개수\n",
    "(tst_df['predict'] == tst_df['target']).sum()"
   ]
  },
  {
   "cell_type": "code",
   "execution_count": 53,
   "metadata": {},
   "outputs": [
    {
     "data": {
      "text/plain": [
       "876"
      ]
     },
     "execution_count": 53,
     "metadata": {},
     "output_type": "execute_result"
    }
   ],
   "source": [
    "# 틀린 개수\n",
    "(~(tst_df['predict'] == tst_df['target'])).sum()"
   ]
  },
  {
   "cell_type": "code",
   "execution_count": 56,
   "metadata": {},
   "outputs": [
    {
     "data": {
      "text/plain": [
       "0.9167221218747029"
      ]
     },
     "execution_count": 56,
     "metadata": {},
     "output_type": "execute_result"
    }
   ],
   "source": [
    "(~(tst_df['predict'] != tst_df['target'])).sum()/((tst_df['predict'] == tst_df['target']).sum()+(~(tst_df['predict'] == tst_df['target'])).sum())"
   ]
  },
  {
   "cell_type": "code",
   "execution_count": 38,
   "metadata": {},
   "outputs": [
    {
     "data": {
      "text/html": [
       "<div>\n",
       "<style scoped>\n",
       "    .dataframe tbody tr th:only-of-type {\n",
       "        vertical-align: middle;\n",
       "    }\n",
       "\n",
       "    .dataframe tbody tr th {\n",
       "        vertical-align: top;\n",
       "    }\n",
       "\n",
       "    .dataframe thead th {\n",
       "        text-align: right;\n",
       "    }\n",
       "</style>\n",
       "<table border=\"1\" class=\"dataframe\">\n",
       "  <thead>\n",
       "    <tr style=\"text-align: right;\">\n",
       "      <th></th>\n",
       "      <th>img</th>\n",
       "      <th>target</th>\n",
       "      <th>predict</th>\n",
       "    </tr>\n",
       "  </thead>\n",
       "  <tbody>\n",
       "    <tr>\n",
       "      <th>29</th>\n",
       "      <td>[[[0.67343086, 0.8879551, 1.1236601], [0.67343...</td>\n",
       "      <td>3</td>\n",
       "      <td>7</td>\n",
       "    </tr>\n",
       "    <tr>\n",
       "      <th>36</th>\n",
       "      <td>[[[1.4611695, 1.6757703, 1.9776906], [1.444044...</td>\n",
       "      <td>7</td>\n",
       "      <td>3</td>\n",
       "    </tr>\n",
       "    <tr>\n",
       "      <th>43</th>\n",
       "      <td>[[[0.5535576, 0.8179271, 1.2108061], [0.724805...</td>\n",
       "      <td>11</td>\n",
       "      <td>10</td>\n",
       "    </tr>\n",
       "    <tr>\n",
       "      <th>68</th>\n",
       "      <td>[[[0.6220566, 1.0630251, 1.5942483], [0.604931...</td>\n",
       "      <td>7</td>\n",
       "      <td>3</td>\n",
       "    </tr>\n",
       "    <tr>\n",
       "      <th>70</th>\n",
       "      <td>[[[-0.6622999, -0.26750696, 0.23477125], [-0.6...</td>\n",
       "      <td>7</td>\n",
       "      <td>3</td>\n",
       "    </tr>\n",
       "    <tr>\n",
       "      <th>...</th>\n",
       "      <td>...</td>\n",
       "      <td>...</td>\n",
       "      <td>...</td>\n",
       "    </tr>\n",
       "    <tr>\n",
       "      <th>14437</th>\n",
       "      <td>[[[0.2589247, 1.0, 1.0], [0.2589247, 1.0, 1.0]...</td>\n",
       "      <td>11</td>\n",
       "      <td>16</td>\n",
       "    </tr>\n",
       "    <tr>\n",
       "      <th>14438</th>\n",
       "      <td>[[[0.0, 0.0, 0.0], [0.0, 0.0, 0.0], [0.0, 0.0,...</td>\n",
       "      <td>5</td>\n",
       "      <td>16</td>\n",
       "    </tr>\n",
       "    <tr>\n",
       "      <th>14440</th>\n",
       "      <td>[[[0.0, 0.0, 0.5441721], [0.0, 0.0, 0.5441721]...</td>\n",
       "      <td>4</td>\n",
       "      <td>3</td>\n",
       "    </tr>\n",
       "    <tr>\n",
       "      <th>14441</th>\n",
       "      <td>[[[0.0, 0.0, 0.0], [0.0, 0.0, 0.0], [0.0, 0.0,...</td>\n",
       "      <td>9</td>\n",
       "      <td>16</td>\n",
       "    </tr>\n",
       "    <tr>\n",
       "      <th>14442</th>\n",
       "      <td>[[[0.92098033, 1.0, 1.0], [0.92098033, 1.0, 1....</td>\n",
       "      <td>8</td>\n",
       "      <td>2</td>\n",
       "    </tr>\n",
       "  </tbody>\n",
       "</table>\n",
       "<p>2927 rows × 3 columns</p>\n",
       "</div>"
      ],
      "text/plain": [
       "                                                     img  target  predict\n",
       "29     [[[0.67343086, 0.8879551, 1.1236601], [0.67343...       3        7\n",
       "36     [[[1.4611695, 1.6757703, 1.9776906], [1.444044...       7        3\n",
       "43     [[[0.5535576, 0.8179271, 1.2108061], [0.724805...      11       10\n",
       "68     [[[0.6220566, 1.0630251, 1.5942483], [0.604931...       7        3\n",
       "70     [[[-0.6622999, -0.26750696, 0.23477125], [-0.6...       7        3\n",
       "...                                                  ...     ...      ...\n",
       "14437  [[[0.2589247, 1.0, 1.0], [0.2589247, 1.0, 1.0]...      11       16\n",
       "14438  [[[0.0, 0.0, 0.0], [0.0, 0.0, 0.0], [0.0, 0.0,...       5       16\n",
       "14440  [[[0.0, 0.0, 0.5441721], [0.0, 0.0, 0.5441721]...       4        3\n",
       "14441  [[[0.0, 0.0, 0.0], [0.0, 0.0, 0.0], [0.0, 0.0,...       9       16\n",
       "14442  [[[0.92098033, 1.0, 1.0], [0.92098033, 1.0, 1....       8        2\n",
       "\n",
       "[2927 rows x 3 columns]"
      ]
     },
     "execution_count": 38,
     "metadata": {},
     "output_type": "execute_result"
    }
   ],
   "source": [
    "tst_df[~(tst_df['predict'] == tst_df['target'])]"
   ]
  },
  {
   "cell_type": "code",
   "execution_count": 57,
   "metadata": {},
   "outputs": [
    {
     "data": {
      "text/html": [
       "<div>\n",
       "<style scoped>\n",
       "    .dataframe tbody tr th:only-of-type {\n",
       "        vertical-align: middle;\n",
       "    }\n",
       "\n",
       "    .dataframe tbody tr th {\n",
       "        vertical-align: top;\n",
       "    }\n",
       "\n",
       "    .dataframe thead th {\n",
       "        text-align: right;\n",
       "    }\n",
       "</style>\n",
       "<table border=\"1\" class=\"dataframe\">\n",
       "  <thead>\n",
       "    <tr style=\"text-align: right;\">\n",
       "      <th></th>\n",
       "      <th>ID</th>\n",
       "      <th>target</th>\n",
       "    </tr>\n",
       "  </thead>\n",
       "  <tbody>\n",
       "    <tr>\n",
       "      <th>0</th>\n",
       "      <td>02d404271e4965fa.jpg</td>\n",
       "      <td>15</td>\n",
       "    </tr>\n",
       "    <tr>\n",
       "      <th>1</th>\n",
       "      <td>03648b6855b9f8c1.jpg</td>\n",
       "      <td>10</td>\n",
       "    </tr>\n",
       "    <tr>\n",
       "      <th>2</th>\n",
       "      <td>0482c84f6e50fc44.jpg</td>\n",
       "      <td>5</td>\n",
       "    </tr>\n",
       "    <tr>\n",
       "      <th>3</th>\n",
       "      <td>05c521f2659c0711.jpg</td>\n",
       "      <td>16</td>\n",
       "    </tr>\n",
       "    <tr>\n",
       "      <th>4</th>\n",
       "      <td>0664699c12c8162c.jpg</td>\n",
       "      <td>11</td>\n",
       "    </tr>\n",
       "    <tr>\n",
       "      <th>...</th>\n",
       "      <td>...</td>\n",
       "      <td>...</td>\n",
       "    </tr>\n",
       "    <tr>\n",
       "      <th>152</th>\n",
       "      <td>e8e8dd06a96f2586.jpg</td>\n",
       "      <td>16</td>\n",
       "    </tr>\n",
       "    <tr>\n",
       "      <th>153</th>\n",
       "      <td>e985d6cb79c79810.jpg</td>\n",
       "      <td>4</td>\n",
       "    </tr>\n",
       "    <tr>\n",
       "      <th>154</th>\n",
       "      <td>ea379b41d59cec36.jpg</td>\n",
       "      <td>9</td>\n",
       "    </tr>\n",
       "    <tr>\n",
       "      <th>155</th>\n",
       "      <td>ebdb6f14d9876caa.jpg</td>\n",
       "      <td>8</td>\n",
       "    </tr>\n",
       "    <tr>\n",
       "      <th>156</th>\n",
       "      <td>f9bfe5eae7d723ce.jpg</td>\n",
       "      <td>7</td>\n",
       "    </tr>\n",
       "  </tbody>\n",
       "</table>\n",
       "<p>157 rows × 2 columns</p>\n",
       "</div>"
      ],
      "text/plain": [
       "                       ID  target\n",
       "0    02d404271e4965fa.jpg      15\n",
       "1    03648b6855b9f8c1.jpg      10\n",
       "2    0482c84f6e50fc44.jpg       5\n",
       "3    05c521f2659c0711.jpg      16\n",
       "4    0664699c12c8162c.jpg      11\n",
       "..                    ...     ...\n",
       "152  e8e8dd06a96f2586.jpg      16\n",
       "153  e985d6cb79c79810.jpg       4\n",
       "154  ea379b41d59cec36.jpg       9\n",
       "155  ebdb6f14d9876caa.jpg       8\n",
       "156  f9bfe5eae7d723ce.jpg       7\n",
       "\n",
       "[157 rows x 2 columns]"
      ]
     },
     "execution_count": 57,
     "metadata": {},
     "output_type": "execute_result"
    }
   ],
   "source": [
    "i = pd.read_csv('../datasets_fin/test.csv')\n",
    "i"
   ]
  },
  {
   "cell_type": "code",
   "execution_count": 58,
   "metadata": {},
   "outputs": [],
   "source": [
    "# 각 예측의 이미지 id 추가\n",
    "tst_df['ID'] = list(i['ID']) * 67"
   ]
  },
  {
   "cell_type": "code",
   "execution_count": 59,
   "metadata": {},
   "outputs": [
    {
     "data": {
      "text/html": [
       "<div>\n",
       "<style scoped>\n",
       "    .dataframe tbody tr th:only-of-type {\n",
       "        vertical-align: middle;\n",
       "    }\n",
       "\n",
       "    .dataframe tbody tr th {\n",
       "        vertical-align: top;\n",
       "    }\n",
       "\n",
       "    .dataframe thead th {\n",
       "        text-align: right;\n",
       "    }\n",
       "</style>\n",
       "<table border=\"1\" class=\"dataframe\">\n",
       "  <thead>\n",
       "    <tr style=\"text-align: right;\">\n",
       "      <th></th>\n",
       "      <th>img</th>\n",
       "      <th>target</th>\n",
       "      <th>predict</th>\n",
       "      <th>ID</th>\n",
       "    </tr>\n",
       "  </thead>\n",
       "  <tbody>\n",
       "    <tr>\n",
       "      <th>0</th>\n",
       "      <td>[[[-0.045808766, 0.06512607, 0.25220045], [1.2...</td>\n",
       "      <td>15</td>\n",
       "      <td>15</td>\n",
       "      <td>02d404271e4965fa.jpg</td>\n",
       "    </tr>\n",
       "    <tr>\n",
       "      <th>1</th>\n",
       "      <td>[[[1.1357992, 1.3256302, 1.5245316], [1.135799...</td>\n",
       "      <td>10</td>\n",
       "      <td>10</td>\n",
       "      <td>03648b6855b9f8c1.jpg</td>\n",
       "    </tr>\n",
       "    <tr>\n",
       "      <th>2</th>\n",
       "      <td>[[[1.5981675, 2.0259104, 2.2914162], [1.563918...</td>\n",
       "      <td>5</td>\n",
       "      <td>5</td>\n",
       "      <td>0482c84f6e50fc44.jpg</td>\n",
       "    </tr>\n",
       "    <tr>\n",
       "      <th>3</th>\n",
       "      <td>[[[0.15968828, 0.4152661, 0.77507627], [0.1596...</td>\n",
       "      <td>16</td>\n",
       "      <td>16</td>\n",
       "      <td>05c521f2659c0711.jpg</td>\n",
       "    </tr>\n",
       "    <tr>\n",
       "      <th>4</th>\n",
       "      <td>[[[0.82755363, 0.7478991, 0.9842266], [0.26243...</td>\n",
       "      <td>11</td>\n",
       "      <td>11</td>\n",
       "      <td>0664699c12c8162c.jpg</td>\n",
       "    </tr>\n",
       "    <tr>\n",
       "      <th>...</th>\n",
       "      <td>...</td>\n",
       "      <td>...</td>\n",
       "      <td>...</td>\n",
       "      <td>...</td>\n",
       "    </tr>\n",
       "    <tr>\n",
       "      <th>10514</th>\n",
       "      <td>[[[-1.5014129, -1.405462, -1.1769934], [-1.484...</td>\n",
       "      <td>16</td>\n",
       "      <td>16</td>\n",
       "      <td>e8e8dd06a96f2586.jpg</td>\n",
       "    </tr>\n",
       "    <tr>\n",
       "      <th>10515</th>\n",
       "      <td>[[[-0.49105236, -0.37254897, -0.148671], [-0.4...</td>\n",
       "      <td>4</td>\n",
       "      <td>4</td>\n",
       "      <td>e985d6cb79c79810.jpg</td>\n",
       "    </tr>\n",
       "    <tr>\n",
       "      <th>10516</th>\n",
       "      <td>[[[-1.6041614, -1.5105041, -1.2815685], [-1.60...</td>\n",
       "      <td>9</td>\n",
       "      <td>9</td>\n",
       "      <td>ea379b41d59cec36.jpg</td>\n",
       "    </tr>\n",
       "    <tr>\n",
       "      <th>10517</th>\n",
       "      <td>[[[0.9303022, 1.0805322, 1.297952], [0.9474269...</td>\n",
       "      <td>8</td>\n",
       "      <td>8</td>\n",
       "      <td>ebdb6f14d9876caa.jpg</td>\n",
       "    </tr>\n",
       "    <tr>\n",
       "      <th>10518</th>\n",
       "      <td>[[[0.9988012, 1.1505601, 1.3676689], [0.998801...</td>\n",
       "      <td>7</td>\n",
       "      <td>3</td>\n",
       "      <td>f9bfe5eae7d723ce.jpg</td>\n",
       "    </tr>\n",
       "  </tbody>\n",
       "</table>\n",
       "<p>10519 rows × 4 columns</p>\n",
       "</div>"
      ],
      "text/plain": [
       "                                                     img  target  predict  \\\n",
       "0      [[[-0.045808766, 0.06512607, 0.25220045], [1.2...      15       15   \n",
       "1      [[[1.1357992, 1.3256302, 1.5245316], [1.135799...      10       10   \n",
       "2      [[[1.5981675, 2.0259104, 2.2914162], [1.563918...       5        5   \n",
       "3      [[[0.15968828, 0.4152661, 0.77507627], [0.1596...      16       16   \n",
       "4      [[[0.82755363, 0.7478991, 0.9842266], [0.26243...      11       11   \n",
       "...                                                  ...     ...      ...   \n",
       "10514  [[[-1.5014129, -1.405462, -1.1769934], [-1.484...      16       16   \n",
       "10515  [[[-0.49105236, -0.37254897, -0.148671], [-0.4...       4        4   \n",
       "10516  [[[-1.6041614, -1.5105041, -1.2815685], [-1.60...       9        9   \n",
       "10517  [[[0.9303022, 1.0805322, 1.297952], [0.9474269...       8        8   \n",
       "10518  [[[0.9988012, 1.1505601, 1.3676689], [0.998801...       7        3   \n",
       "\n",
       "                         ID  \n",
       "0      02d404271e4965fa.jpg  \n",
       "1      03648b6855b9f8c1.jpg  \n",
       "2      0482c84f6e50fc44.jpg  \n",
       "3      05c521f2659c0711.jpg  \n",
       "4      0664699c12c8162c.jpg  \n",
       "...                     ...  \n",
       "10514  e8e8dd06a96f2586.jpg  \n",
       "10515  e985d6cb79c79810.jpg  \n",
       "10516  ea379b41d59cec36.jpg  \n",
       "10517  ebdb6f14d9876caa.jpg  \n",
       "10518  f9bfe5eae7d723ce.jpg  \n",
       "\n",
       "[10519 rows x 4 columns]"
      ]
     },
     "execution_count": 59,
     "metadata": {},
     "output_type": "execute_result"
    }
   ],
   "source": [
    "tst_df"
   ]
  },
  {
   "cell_type": "code",
   "execution_count": 60,
   "metadata": {},
   "outputs": [],
   "source": [
    "def get_item(idx):\n",
    "    image, target, predict, name = tst_df.loc[idx,]\n",
    "    img = np.array(Image.open(os.path.join(\"../datasets_fin/train/\", name)))\n",
    "\n",
    "    # img = trn_transform(image=img)['image']\n",
    "    return img, target, name, predict, image"
   ]
  },
  {
   "cell_type": "code",
   "execution_count": 61,
   "metadata": {},
   "outputs": [
    {
     "data": {
      "text/plain": [
       "target\n",
       "7     442\n",
       "3     197\n",
       "14    187\n",
       "11     40\n",
       "4       7\n",
       "5       1\n",
       "9       1\n",
       "12      1\n",
       "Name: count, dtype: int64"
      ]
     },
     "execution_count": 61,
     "metadata": {},
     "output_type": "execute_result"
    }
   ],
   "source": [
    "tst_df[(tst_df['predict'] != tst_df['target'])].value_counts('target')"
   ]
  },
  {
   "cell_type": "code",
   "execution_count": 62,
   "metadata": {},
   "outputs": [
    {
     "data": {
      "text/plain": [
       "predict\n",
       "3     461\n",
       "7     181\n",
       "4     128\n",
       "14     42\n",
       "10     41\n",
       "12     18\n",
       "13      2\n",
       "1       1\n",
       "5       1\n",
       "9       1\n",
       "Name: count, dtype: int64"
      ]
     },
     "execution_count": 62,
     "metadata": {},
     "output_type": "execute_result"
    }
   ],
   "source": [
    "tst_df[(tst_df['predict'] != tst_df['target'])].value_counts('predict')"
   ]
  },
  {
   "cell_type": "code",
   "execution_count": 47,
   "metadata": {},
   "outputs": [
    {
     "data": {
      "text/html": [
       "<div>\n",
       "<style scoped>\n",
       "    .dataframe tbody tr th:only-of-type {\n",
       "        vertical-align: middle;\n",
       "    }\n",
       "\n",
       "    .dataframe tbody tr th {\n",
       "        vertical-align: top;\n",
       "    }\n",
       "\n",
       "    .dataframe thead th {\n",
       "        text-align: right;\n",
       "    }\n",
       "</style>\n",
       "<table border=\"1\" class=\"dataframe\">\n",
       "  <thead>\n",
       "    <tr style=\"text-align: right;\">\n",
       "      <th></th>\n",
       "      <th>img</th>\n",
       "      <th>target</th>\n",
       "      <th>predict</th>\n",
       "      <th>ID</th>\n",
       "    </tr>\n",
       "  </thead>\n",
       "  <tbody>\n",
       "    <tr>\n",
       "      <th>36</th>\n",
       "      <td>[[[1.4611695, 1.6757703, 1.9776906], [1.444044...</td>\n",
       "      <td>7</td>\n",
       "      <td>3</td>\n",
       "      <td>2e939381a84d19cf.jpg</td>\n",
       "    </tr>\n",
       "    <tr>\n",
       "      <th>68</th>\n",
       "      <td>[[[0.6220566, 1.0630251, 1.5942483], [0.604931...</td>\n",
       "      <td>7</td>\n",
       "      <td>3</td>\n",
       "      <td>4e5848a4ad483009.jpg</td>\n",
       "    </tr>\n",
       "    <tr>\n",
       "      <th>70</th>\n",
       "      <td>[[[-0.6622999, -0.26750696, 0.23477125], [-0.6...</td>\n",
       "      <td>7</td>\n",
       "      <td>3</td>\n",
       "      <td>4f1a0debe89c7641.jpg</td>\n",
       "    </tr>\n",
       "    <tr>\n",
       "      <th>99</th>\n",
       "      <td>[[[-0.54242665, 0.10014007, 0.844793], [-0.730...</td>\n",
       "      <td>7</td>\n",
       "      <td>3</td>\n",
       "      <td>a376fbdb67bc4a92.jpg</td>\n",
       "    </tr>\n",
       "    <tr>\n",
       "      <th>100</th>\n",
       "      <td>[[[0.9303022, 1.1330532, 1.4373856], [0.998801...</td>\n",
       "      <td>7</td>\n",
       "      <td>4</td>\n",
       "      <td>aac6d02aa2f222af.jpg</td>\n",
       "    </tr>\n",
       "    <tr>\n",
       "      <th>...</th>\n",
       "      <td>...</td>\n",
       "      <td>...</td>\n",
       "      <td>...</td>\n",
       "      <td>...</td>\n",
       "    </tr>\n",
       "    <tr>\n",
       "      <th>14286</th>\n",
       "      <td>[[[1.0102177, 1.1972455, 1.3967174], [1.010217...</td>\n",
       "      <td>7</td>\n",
       "      <td>3</td>\n",
       "      <td>f9bfe5eae7d723ce.jpg</td>\n",
       "    </tr>\n",
       "    <tr>\n",
       "      <th>14310</th>\n",
       "      <td>[[[0.0, 0.0, 0.094373226], [0.0, 0.0, 0.094373...</td>\n",
       "      <td>7</td>\n",
       "      <td>3</td>\n",
       "      <td>1e5bf6fe5e8686d6.jpg</td>\n",
       "    </tr>\n",
       "    <tr>\n",
       "      <th>14323</th>\n",
       "      <td>[[[0.7984081, 1.0, 1.0], [0.7984081, 1.0, 1.0]...</td>\n",
       "      <td>7</td>\n",
       "      <td>3</td>\n",
       "      <td>2e939381a84d19cf.jpg</td>\n",
       "    </tr>\n",
       "    <tr>\n",
       "      <th>14355</th>\n",
       "      <td>[[[1.0, 1.0, 1.0], [1.0, 1.0, 1.0], [0.4450237...</td>\n",
       "      <td>7</td>\n",
       "      <td>3</td>\n",
       "      <td>4e5848a4ad483009.jpg</td>\n",
       "    </tr>\n",
       "    <tr>\n",
       "      <th>14421</th>\n",
       "      <td>[[[0.42428628, 0.6197083, 0.94972825], [0.4242...</td>\n",
       "      <td>7</td>\n",
       "      <td>3</td>\n",
       "      <td>c8cd1751b80440c2.jpg</td>\n",
       "    </tr>\n",
       "  </tbody>\n",
       "</table>\n",
       "<p>472 rows × 4 columns</p>\n",
       "</div>"
      ],
      "text/plain": [
       "                                                     img  target  predict  \\\n",
       "36     [[[1.4611695, 1.6757703, 1.9776906], [1.444044...       7        3   \n",
       "68     [[[0.6220566, 1.0630251, 1.5942483], [0.604931...       7        3   \n",
       "70     [[[-0.6622999, -0.26750696, 0.23477125], [-0.6...       7        3   \n",
       "99     [[[-0.54242665, 0.10014007, 0.844793], [-0.730...       7        3   \n",
       "100    [[[0.9303022, 1.1330532, 1.4373856], [0.998801...       7        4   \n",
       "...                                                  ...     ...      ...   \n",
       "14286  [[[1.0102177, 1.1972455, 1.3967174], [1.010217...       7        3   \n",
       "14310  [[[0.0, 0.0, 0.094373226], [0.0, 0.0, 0.094373...       7        3   \n",
       "14323  [[[0.7984081, 1.0, 1.0], [0.7984081, 1.0, 1.0]...       7        3   \n",
       "14355  [[[1.0, 1.0, 1.0], [1.0, 1.0, 1.0], [0.4450237...       7        3   \n",
       "14421  [[[0.42428628, 0.6197083, 0.94972825], [0.4242...       7        3   \n",
       "\n",
       "                         ID  \n",
       "36     2e939381a84d19cf.jpg  \n",
       "68     4e5848a4ad483009.jpg  \n",
       "70     4f1a0debe89c7641.jpg  \n",
       "99     a376fbdb67bc4a92.jpg  \n",
       "100    aac6d02aa2f222af.jpg  \n",
       "...                     ...  \n",
       "14286  f9bfe5eae7d723ce.jpg  \n",
       "14310  1e5bf6fe5e8686d6.jpg  \n",
       "14323  2e939381a84d19cf.jpg  \n",
       "14355  4e5848a4ad483009.jpg  \n",
       "14421  c8cd1751b80440c2.jpg  \n",
       "\n",
       "[472 rows x 4 columns]"
      ]
     },
     "execution_count": 47,
     "metadata": {},
     "output_type": "execute_result"
    }
   ],
   "source": [
    "qw = tst_df[(tst_df['predict'] != tst_df['target'])&(tst_df['target'] == 7)]\n",
    "qw"
   ]
  },
  {
   "cell_type": "code",
   "execution_count": 48,
   "metadata": {},
   "outputs": [
    {
     "data": {
      "text/plain": [
       "predict\n",
       "3     362\n",
       "4      41\n",
       "2      22\n",
       "13     18\n",
       "10      7\n",
       "12      6\n",
       "14      6\n",
       "16      5\n",
       "1       4\n",
       "15      1\n",
       "Name: count, dtype: int64"
      ]
     },
     "execution_count": 48,
     "metadata": {},
     "output_type": "execute_result"
    }
   ],
   "source": [
    "qw.value_counts('predict')"
   ]
  },
  {
   "cell_type": "code",
   "execution_count": 1,
   "metadata": {},
   "outputs": [],
   "source": [
    "# # target과 predict가 일치하지 않는 이미지 시각화, target별로 확인\n",
    "# check_target = 7\n",
    "# for idx in tst_df[(tst_df['predict'] != tst_df['target'])&(tst_df['target'] == check_target)].index:\n",
    "#     img, target, name, predict, image = get_item(idx)\n",
    "#     print(img.shape, name, target, predict)\n",
    "#     # plt.imshow(img) #원본 이미지\n",
    "#     # plt.show()\n",
    "#     plt.imshow(image) #학습에 사용된 이미지\n",
    "#     plt.show()\n",
    "#     # print(idx)"
   ]
  },
  {
   "cell_type": "code",
   "execution_count": 112,
   "metadata": {},
   "outputs": [
    {
     "data": {
      "text/html": [
       "<div>\n",
       "<style scoped>\n",
       "    .dataframe tbody tr th:only-of-type {\n",
       "        vertical-align: middle;\n",
       "    }\n",
       "\n",
       "    .dataframe tbody tr th {\n",
       "        vertical-align: top;\n",
       "    }\n",
       "\n",
       "    .dataframe thead th {\n",
       "        text-align: right;\n",
       "    }\n",
       "</style>\n",
       "<table border=\"1\" class=\"dataframe\">\n",
       "  <thead>\n",
       "    <tr style=\"text-align: right;\">\n",
       "      <th></th>\n",
       "      <th>img</th>\n",
       "      <th>target</th>\n",
       "      <th>predict</th>\n",
       "      <th>ID</th>\n",
       "    </tr>\n",
       "  </thead>\n",
       "  <tbody>\n",
       "    <tr>\n",
       "      <th>17</th>\n",
       "      <td>[[[-1.6555356, -1.545518, -1.4035729], [-1.724...</td>\n",
       "      <td>13</td>\n",
       "      <td>13</td>\n",
       "      <td>149c8444ae80d630.jpg</td>\n",
       "    </tr>\n",
       "    <tr>\n",
       "      <th>28</th>\n",
       "      <td>[[[1.7522904, 1.9558823, 2.1519825], [1.735165...</td>\n",
       "      <td>13</td>\n",
       "      <td>13</td>\n",
       "      <td>233685659ef1ed84.jpg</td>\n",
       "    </tr>\n",
       "    <tr>\n",
       "      <th>81</th>\n",
       "      <td>[[[0.108314015, 0.3452381, 0.56592596], [0.142...</td>\n",
       "      <td>13</td>\n",
       "      <td>13</td>\n",
       "      <td>590a4befbe2db3cc.jpg</td>\n",
       "    </tr>\n",
       "    <tr>\n",
       "      <th>83</th>\n",
       "      <td>[[[0.36518532, 0.80042017, 1.1585186], [0.3823...</td>\n",
       "      <td>13</td>\n",
       "      <td>13</td>\n",
       "      <td>5be46f4d1470b120.jpg</td>\n",
       "    </tr>\n",
       "    <tr>\n",
       "      <th>96</th>\n",
       "      <td>[[[0.8618032, 1.1330532, 1.4896731], [0.878927...</td>\n",
       "      <td>13</td>\n",
       "      <td>13</td>\n",
       "      <td>81e5282c3c19a13b.jpg</td>\n",
       "    </tr>\n",
       "    <tr>\n",
       "      <th>...</th>\n",
       "      <td>...</td>\n",
       "      <td>...</td>\n",
       "      <td>...</td>\n",
       "      <td>...</td>\n",
       "    </tr>\n",
       "    <tr>\n",
       "      <th>14368</th>\n",
       "      <td>[[[0.0, 0.80398476, 0.7526777], [0.0, 0.803984...</td>\n",
       "      <td>13</td>\n",
       "      <td>7</td>\n",
       "      <td>590a4befbe2db3cc.jpg</td>\n",
       "    </tr>\n",
       "    <tr>\n",
       "      <th>14370</th>\n",
       "      <td>[[[0.0, 0.0, 1.0], [0.0, 0.0, 1.0], [0.1174487...</td>\n",
       "      <td>13</td>\n",
       "      <td>12</td>\n",
       "      <td>5be46f4d1470b120.jpg</td>\n",
       "    </tr>\n",
       "    <tr>\n",
       "      <th>14383</th>\n",
       "      <td>[[[1.0, 1.0, 1.0], [1.0, 1.0, 1.0], [0.5157264...</td>\n",
       "      <td>13</td>\n",
       "      <td>13</td>\n",
       "      <td>81e5282c3c19a13b.jpg</td>\n",
       "    </tr>\n",
       "    <tr>\n",
       "      <th>14392</th>\n",
       "      <td>[[[0.0, 0.0, 0.0], [0.0, 0.0, 0.0], [0.0, 0.0,...</td>\n",
       "      <td>13</td>\n",
       "      <td>7</td>\n",
       "      <td>b0ab48967aaabefe.jpg</td>\n",
       "    </tr>\n",
       "    <tr>\n",
       "      <th>14429</th>\n",
       "      <td>[[[0.0, 0.0, 0.0], [0.0, 0.0, 0.0], [0.0, 0.0,...</td>\n",
       "      <td>13</td>\n",
       "      <td>13</td>\n",
       "      <td>d26e9455cfbf6083.jpg</td>\n",
       "    </tr>\n",
       "  </tbody>\n",
       "</table>\n",
       "<p>644 rows × 4 columns</p>\n",
       "</div>"
      ],
      "text/plain": [
       "                                                     img  target  predict  \\\n",
       "17     [[[-1.6555356, -1.545518, -1.4035729], [-1.724...      13       13   \n",
       "28     [[[1.7522904, 1.9558823, 2.1519825], [1.735165...      13       13   \n",
       "81     [[[0.108314015, 0.3452381, 0.56592596], [0.142...      13       13   \n",
       "83     [[[0.36518532, 0.80042017, 1.1585186], [0.3823...      13       13   \n",
       "96     [[[0.8618032, 1.1330532, 1.4896731], [0.878927...      13       13   \n",
       "...                                                  ...     ...      ...   \n",
       "14368  [[[0.0, 0.80398476, 0.7526777], [0.0, 0.803984...      13        7   \n",
       "14370  [[[0.0, 0.0, 1.0], [0.0, 0.0, 1.0], [0.1174487...      13       12   \n",
       "14383  [[[1.0, 1.0, 1.0], [1.0, 1.0, 1.0], [0.5157264...      13       13   \n",
       "14392  [[[0.0, 0.0, 0.0], [0.0, 0.0, 0.0], [0.0, 0.0,...      13        7   \n",
       "14429  [[[0.0, 0.0, 0.0], [0.0, 0.0, 0.0], [0.0, 0.0,...      13       13   \n",
       "\n",
       "                         ID  \n",
       "17     149c8444ae80d630.jpg  \n",
       "28     233685659ef1ed84.jpg  \n",
       "81     590a4befbe2db3cc.jpg  \n",
       "83     5be46f4d1470b120.jpg  \n",
       "96     81e5282c3c19a13b.jpg  \n",
       "...                     ...  \n",
       "14368  590a4befbe2db3cc.jpg  \n",
       "14370  5be46f4d1470b120.jpg  \n",
       "14383  81e5282c3c19a13b.jpg  \n",
       "14392  b0ab48967aaabefe.jpg  \n",
       "14429  d26e9455cfbf6083.jpg  \n",
       "\n",
       "[644 rows x 4 columns]"
      ]
     },
     "execution_count": 112,
     "metadata": {},
     "output_type": "execute_result"
    }
   ],
   "source": [
    "qw = tst_df[tst_df['target'] == 13]\n",
    "qw"
   ]
  },
  {
   "cell_type": "code",
   "execution_count": 111,
   "metadata": {},
   "outputs": [
    {
     "data": {
      "text/plain": [
       "126"
      ]
     },
     "execution_count": 111,
     "metadata": {},
     "output_type": "execute_result"
    }
   ],
   "source": [
    "(qw['predict'] != qw['target']).sum()"
   ]
  }
 ],
 "metadata": {
  "kernelspec": {
   "display_name": "base",
   "language": "python",
   "name": "python3"
  },
  "language_info": {
   "codemirror_mode": {
    "name": "ipython",
    "version": 3
   },
   "file_extension": ".py",
   "mimetype": "text/x-python",
   "name": "python",
   "nbconvert_exporter": "python",
   "pygments_lexer": "ipython3",
   "version": "3.10.13"
  }
 },
 "nbformat": 4,
 "nbformat_minor": 2
}
