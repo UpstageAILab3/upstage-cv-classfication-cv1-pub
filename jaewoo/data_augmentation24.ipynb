{
 "cells": [
  {
   "cell_type": "markdown",
   "metadata": {},
   "source": [
    "# augmentation을 적용한 함수 dl모델을 제작"
   ]
  },
  {
   "cell_type": "markdown",
   "metadata": {},
   "source": [
    "데이터 증강 함수\n",
    "- A.Resize(height=256, width=256) : 사이즈 변경\n",
    "- A.Normalize(mean=[0.485, 0.456, 0.406], std=[0.229, 0.224, 0.225]) : 이미지 픽셀 정규화\n",
    "- A.CoarseDropout(max_holes=16, max_height=16, max_width=16, min_holes=1, min_height=16, min_width=16) : 픽셀 드롭아웃(구멍뚫기)\n",
    "- A.Rotate(limit=(115, 115), border_mode=cv2.BORDER_CONSTANT,value=[255, 255, 255], p=1.0) : 비율 유지하여 회전, 빈공간 흰색\n",
    "- A.VerticalFlip(always_apply=False, p=0.5) : 좌우반전\n",
    "- A.HorizontalFlip(always_apply=False, p=1.0) : 상하반전\n",
    "- A.Blur(always_apply=True, p=1.0, blur_limit=(3, 7)) : 블러\n",
    "- A.GaussNoise(always_apply=False, p=1.0, var_limit=(10.0, 50.0)) : 가우시안, 되는지 의문\n",
    "- A.Downscale(always_apply=False, p=1.0, scale_min=0.35, scale_max=0.35, interpolation=0) : 픽셀다운, 모자이크\n",
    "- 믹스 추가필요"
   ]
  },
  {
   "cell_type": "markdown",
   "metadata": {},
   "source": [
    "기존의 resnet34에서 더욱 다양한 모델을 적용해봄\n",
    "- resnet50\n",
    "- efficientnet\n",
    "- efficientnetv2\n",
    "- ...."
   ]
  },
  {
   "cell_type": "markdown",
   "metadata": {},
   "source": [
    "9번 증강 방식에 백본만 efficientnet으로 변경"
   ]
  },
  {
   "cell_type": "code",
   "execution_count": 5,
   "metadata": {},
   "outputs": [],
   "source": [
    "# wandb 연결\n",
    "import wandb"
   ]
  },
  {
   "cell_type": "code",
   "execution_count": 6,
   "metadata": {},
   "outputs": [
    {
     "name": "stderr",
     "output_type": "stream",
     "text": [
      "Failed to detect the name of this notebook, you can set it manually with the WANDB_NOTEBOOK_NAME environment variable to enable code saving.\n",
      "\u001b[34m\u001b[1mwandb\u001b[0m: Currently logged in as: \u001b[33mwpdn0134\u001b[0m (\u001b[33mje_\u001b[0m). Use \u001b[1m`wandb login --relogin`\u001b[0m to force relogin\n"
     ]
    },
    {
     "data": {
      "text/plain": [
       "True"
      ]
     },
     "execution_count": 6,
     "metadata": {},
     "output_type": "execute_result"
    }
   ],
   "source": [
    "wandb.login()"
   ]
  },
  {
   "cell_type": "code",
   "execution_count": 7,
   "metadata": {},
   "outputs": [],
   "source": [
    "import os\n",
    "import time\n",
    "import random\n",
    "\n",
    "import timm\n",
    "import torch\n",
    "import albumentations as A\n",
    "import pandas as pd\n",
    "import numpy as np\n",
    "import torch.nn as nn\n",
    "from albumentations.pytorch import ToTensorV2\n",
    "from torch.optim import Adam\n",
    "from torchvision import transforms\n",
    "from torch.utils.data import Dataset, DataLoader, ConcatDataset\n",
    "from PIL import Image\n",
    "from tqdm import tqdm\n",
    "from sklearn.metrics import accuracy_score, f1_score\n",
    "\n",
    "import cv2\n",
    "import matplotlib.pyplot as plt\n",
    "\n",
    "from itertools import combinations\n",
    "\n",
    "import torch.optim as optim"
   ]
  },
  {
   "cell_type": "code",
   "execution_count": 8,
   "metadata": {},
   "outputs": [],
   "source": [
    "# 시드를 고정합니다.\n",
    "SEED = 42\n",
    "os.environ['PYTHONHASHSEED'] = str(SEED)\n",
    "random.seed(SEED)\n",
    "np.random.seed(SEED)\n",
    "torch.manual_seed(SEED)\n",
    "torch.cuda.manual_seed(SEED)\n",
    "torch.cuda.manual_seed_all(SEED)\n",
    "torch.backends.cudnn.benchmark = True"
   ]
  },
  {
   "cell_type": "code",
   "execution_count": 9,
   "metadata": {},
   "outputs": [],
   "source": [
    "project_name = 'augmentation24'"
   ]
  },
  {
   "cell_type": "code",
   "execution_count": 10,
   "metadata": {},
   "outputs": [
    {
     "data": {
      "text/html": [
       "Tracking run with wandb version 0.17.6"
      ],
      "text/plain": [
       "<IPython.core.display.HTML object>"
      ]
     },
     "metadata": {},
     "output_type": "display_data"
    },
    {
     "data": {
      "text/html": [
       "Run data is saved locally in <code>c:\\Users\\CHOI Je Woo\\Desktop\\cv_대회\\code\\wandb\\run-20240811_145436-vxplmazw</code>"
      ],
      "text/plain": [
       "<IPython.core.display.HTML object>"
      ]
     },
     "metadata": {},
     "output_type": "display_data"
    },
    {
     "data": {
      "text/html": [
       "Syncing run <strong><a href='https://wandb.ai/je_/cv_project/runs/vxplmazw' target=\"_blank\">autumn-disco-33</a></strong> to <a href='https://wandb.ai/je_/cv_project' target=\"_blank\">Weights & Biases</a> (<a href='https://wandb.me/run' target=\"_blank\">docs</a>)<br/>"
      ],
      "text/plain": [
       "<IPython.core.display.HTML object>"
      ]
     },
     "metadata": {},
     "output_type": "display_data"
    },
    {
     "data": {
      "text/html": [
       " View project at <a href='https://wandb.ai/je_/cv_project' target=\"_blank\">https://wandb.ai/je_/cv_project</a>"
      ],
      "text/plain": [
       "<IPython.core.display.HTML object>"
      ]
     },
     "metadata": {},
     "output_type": "display_data"
    },
    {
     "data": {
      "text/html": [
       " View run at <a href='https://wandb.ai/je_/cv_project/runs/vxplmazw' target=\"_blank\">https://wandb.ai/je_/cv_project/runs/vxplmazw</a>"
      ],
      "text/plain": [
       "<IPython.core.display.HTML object>"
      ]
     },
     "metadata": {},
     "output_type": "display_data"
    },
    {
     "name": "stderr",
     "output_type": "stream",
     "text": [
      "\u001b[34m\u001b[1mwandb\u001b[0m: \u001b[33mWARNING\u001b[0m Calling wandb.run.save without any arguments is deprecated.Changes to attributes are automatically persisted.\n"
     ]
    },
    {
     "data": {
      "text/plain": [
       "True"
      ]
     },
     "execution_count": 10,
     "metadata": {},
     "output_type": "execute_result"
    }
   ],
   "source": [
    "wandb.init(\n",
    "    # Set the project where this run will be logged\n",
    "    project=\"cv_project\",\n",
    "    # Track hyperparameters and run metadata\n",
    "    # config={\n",
    "    #     \"learning_rate\": 0.01,\n",
    "    #     \"epochs\": 50,\n",
    "    # },\n",
    ")\n",
    "wandb.run.name = f'data_{project_name}'\n",
    "wandb.run.save()"
   ]
  },
  {
   "cell_type": "code",
   "execution_count": 11,
   "metadata": {},
   "outputs": [
    {
     "data": {
      "text/plain": [
       "['efficientnetv2_l',\n",
       " 'efficientnetv2_m',\n",
       " 'efficientnetv2_rw_m',\n",
       " 'efficientnetv2_rw_s',\n",
       " 'efficientnetv2_rw_t',\n",
       " 'efficientnetv2_s',\n",
       " 'efficientnetv2_xl']"
      ]
     },
     "execution_count": 11,
     "metadata": {},
     "output_type": "execute_result"
    }
   ],
   "source": [
    "timm.list_models('efficientnetv*')"
   ]
  },
  {
   "cell_type": "code",
   "execution_count": 12,
   "metadata": {},
   "outputs": [],
   "source": [
    "# device\n",
    "device = torch.device('cuda' if torch.cuda.is_available() else 'cpu')\n",
    "\n",
    "# data config\n",
    "data_path = '../datasets_fin/'\n",
    "\n",
    "# model config\n",
    "model_name = 'efficientnet_b0' # 'resnet50' 'efficientnet-b0', ...\n",
    "\n",
    "# training config\n",
    "img_size = 256*2\n",
    "LR = 1e-3\n",
    "EPOCHS = 100\n",
    "BATCH_SIZE = 16\n",
    "num_workers = 0"
   ]
  },
  {
   "cell_type": "code",
   "execution_count": 13,
   "metadata": {},
   "outputs": [],
   "source": [
    "# wandb에 저장할 요소\n",
    "# args = {\n",
    "#     'learning_rate' : LR,\n",
    "#     'epochs': EPOCHS,\n",
    "#     'batch_size' : BATCH_SIZE\n",
    "# }\n",
    "# wandb.config.update(args)"
   ]
  },
  {
   "cell_type": "code",
   "execution_count": 14,
   "metadata": {},
   "outputs": [],
   "source": [
    "# 데이터셋 클래스를 정의합니다.\n",
    "class ImageDataset(Dataset):\n",
    "    def __init__(self, csv, path, transform=None):\n",
    "        self.df = pd.read_csv(csv).values\n",
    "        self.path = path\n",
    "        self.transform = transform\n",
    "\n",
    "    def __len__(self):\n",
    "        return len(self.df)\n",
    "\n",
    "    def __getitem__(self, idx):\n",
    "        name, target = self.df[idx]\n",
    "        img = np.array(Image.open(os.path.join(self.path, name)))\n",
    "        if self.transform:\n",
    "            img = self.transform(image=img)['image']\n",
    "        return img, target"
   ]
  },
  {
   "cell_type": "code",
   "execution_count": 15,
   "metadata": {},
   "outputs": [],
   "source": [
    "# one epoch 학습을 위한 함수입니다.\n",
    "def train_one_epoch(loader, vaild_loader, model, optimizer, loss_fn, device, scheduler):\n",
    "    model.train()\n",
    "    train_loss = 0\n",
    "    preds_list = []\n",
    "    targets_list = []\n",
    "    vaild_preds_list = []\n",
    "    vaild_target_list = []\n",
    "\n",
    "    pbar = tqdm(loader)\n",
    "    for image, targets in pbar:\n",
    "        image = image.float().to(device)\n",
    "        targets = targets.to(device)\n",
    "\n",
    "        model.zero_grad(set_to_none=True)\n",
    "\n",
    "        preds = model(image)\n",
    "        loss = loss_fn(preds, targets)\n",
    "        loss.backward()\n",
    "        optimizer.step()\n",
    "\n",
    "        train_loss += loss.item()\n",
    "        preds_list.extend(preds.argmax(dim=1).detach().cpu().numpy())\n",
    "        targets_list.extend(targets.detach().cpu().numpy())\n",
    "\n",
    "        pbar.set_description(f\"Loss: {loss.item():.4f}\")\n",
    "    scheduler.step()\n",
    "\n",
    "    train_loss /= len(loader)\n",
    "    train_acc = accuracy_score(targets_list, preds_list)\n",
    "    train_f1 = f1_score(targets_list, preds_list, average='macro')\n",
    "\n",
    "    # vaildation set predict\n",
    "    model.eval()\n",
    "    for image, target in tqdm(vaild_loader):\n",
    "        image = image.float().to(device)\n",
    "\n",
    "        with torch.no_grad():\n",
    "            preds = model(image)\n",
    "        vaild_preds_list.extend(preds.argmax(dim=1).detach().cpu().numpy())\n",
    "        vaild_target_list.extend(target.detach().cpu().numpy())\n",
    "    vaild_acc = accuracy_score(vaild_target_list, vaild_preds_list)\n",
    "    vaild_f1 = f1_score(vaild_target_list, vaild_preds_list, average='macro')\n",
    "\n",
    "    wandb.log({\n",
    "        \"train_loss\": train_loss,\n",
    "        \"train_acc\": train_acc,\n",
    "        \"train_f1\": train_f1,\n",
    "        \"vaild_acc\": vaild_acc,\n",
    "        \"vaild_f1\" : vaild_f1,\n",
    "    })\n",
    "\n",
    "    ret = {\n",
    "        \"train_loss\": train_loss,\n",
    "        \"train_acc\": train_acc,\n",
    "        \"train_f1\": train_f1,\n",
    "        \"vaild_acc\": vaild_acc,\n",
    "        \"vaild_f1\": vaild_f1,\n",
    "    }\n",
    "\n",
    "    return ret"
   ]
  },
  {
   "cell_type": "code",
   "execution_count": 16,
   "metadata": {},
   "outputs": [],
   "source": [
    "# vaild_preds_list = []\n",
    "# vaild_target_list = []\n",
    "\n",
    "# model.eval()\n",
    "# for image, target in tqdm(vaild_loader):\n",
    "#     image = image.float().to(device)\n",
    "\n",
    "#     with torch.no_grad():\n",
    "#         preds = model(image)\n",
    "#     vaild_preds_list.extend(preds.argmax(dim=1).detach().cpu().numpy())\n",
    "#     vaild_target_list.extend(target.detach().cpu().numpy())\n",
    "# vaild_acc = accuracy_score(vaild_target_list, preds_list)\n",
    "# vaild_f1 = f1_score(vaild_target_list, preds_list, average='macro')"
   ]
  },
  {
   "cell_type": "markdown",
   "metadata": {},
   "source": [
    "- 일단 단일 augmentation들로 확인\n",
    "- 성능향상시 다양한 데이터증강을 조합하여 추가학습"
   ]
  },
  {
   "cell_type": "code",
   "execution_count": 17,
   "metadata": {},
   "outputs": [],
   "source": [
    "# # # augmentation을 위한 transform 코드\n",
    "# trn_transform = A.Compose([\n",
    "#     A.Resize(height=img_size, width=img_size),\n",
    "#     A.Normalize(mean=[0.485, 0.456, 0.406], std=[0.229, 0.224, 0.225]),\n",
    "#     ToTensorV2(),\n",
    "# ])\n",
    "# trn_transform_coarseDropout = A.Compose([\n",
    "#     A.Resize(height=img_size, width=img_size),\n",
    "#     A.Normalize(mean=[0.485, 0.456, 0.406], std=[0.229, 0.224, 0.225]),\n",
    "#     A.CoarseDropout(max_holes=30, max_height=16, max_width=16, min_holes=10, min_height=16, min_width=16, p=1),\n",
    "#     ToTensorV2(),\n",
    "# ])\n",
    "# trn_transform_rotate45 = A.Compose([\n",
    "#     A.Resize(height=img_size, width=img_size),\n",
    "#     A.Normalize(mean=[0.485, 0.456, 0.406], std=[0.229, 0.224, 0.225]),\n",
    "#     A.Rotate(limit=(45, 45), border_mode=cv2.BORDER_CONSTANT,value=[255, 255, 255], p=1),\n",
    "#     ToTensorV2(),\n",
    "# ])\n",
    "# trn_transform_rotate90 = A.Compose([\n",
    "#     A.Resize(height=img_size, width=img_size),\n",
    "#     A.Normalize(mean=[0.485, 0.456, 0.406], std=[0.229, 0.224, 0.225]), \n",
    "#     A.Rotate(limit=(90, 90), border_mode=cv2.BORDER_CONSTANT,value=[255, 255, 255], p=1),\n",
    "#     ToTensorV2(),\n",
    "# ])\n",
    "# trn_transform_rotate135 = A.Compose([\n",
    "#     A.Resize(height=img_size, width=img_size),\n",
    "#     A.Normalize(mean=[0.485, 0.456, 0.406], std=[0.229, 0.224, 0.225]),\n",
    "#     A.Rotate(limit=(135, 135), border_mode=cv2.BORDER_CONSTANT,value=[255, 255, 255], p=1),\n",
    "#     ToTensorV2(),\n",
    "# ])\n",
    "# trn_transform_rotate180 = A.Compose([\n",
    "#     A.Resize(height=img_size, width=img_size),\n",
    "#     A.Normalize(mean=[0.485, 0.456, 0.406], std=[0.229, 0.224, 0.225]),\n",
    "#     A.Rotate(limit=(180, 180), border_mode=cv2.BORDER_CONSTANT,value=[255, 255, 255], p=1),\n",
    "#     ToTensorV2(),\n",
    "# ])\n",
    "# trn_transform_rotate225 = A.Compose([\n",
    "#     A.Resize(height=img_size, width=img_size),\n",
    "#     A.Normalize(mean=[0.485, 0.456, 0.406], std=[0.229, 0.224, 0.225]),\n",
    "#     A.Rotate(limit=(225, 225), border_mode=cv2.BORDER_CONSTANT,value=[255, 255, 255], p=1.0),\n",
    "#     ToTensorV2(),\n",
    "# ])\n",
    "# trn_transform_rotate270 = A.Compose([\n",
    "#     A.Resize(height=img_size, width=img_size),\n",
    "#     A.Normalize(mean=[0.485, 0.456, 0.406], std=[0.229, 0.224, 0.225]),\n",
    "#     A.Rotate(limit=(270, 270), border_mode=cv2.BORDER_CONSTANT,value=[255, 255, 255], p=1.0),\n",
    "#     ToTensorV2(),\n",
    "# ])\n",
    "# trn_transform_rotate315 = A.Compose([\n",
    "#     A.Resize(height=img_size, width=img_size),\n",
    "#     A.Normalize(mean=[0.485, 0.456, 0.406], std=[0.229, 0.224, 0.225]),\n",
    "#     A.Rotate(limit=(315, 315), border_mode=cv2.BORDER_CONSTANT,value=[255, 255, 255], p=1.0),\n",
    "#     ToTensorV2(),\n",
    "# ])\n",
    "# trn_transform_verticalflip = A.Compose([\n",
    "#     A.Resize(height=img_size, width=img_size),\n",
    "#     A.Normalize(mean=[0.485, 0.456, 0.406], std=[0.229, 0.224, 0.225]),\n",
    "#     A.VerticalFlip(always_apply=False, p=1.0),\n",
    "#     ToTensorV2(),\n",
    "# ])\n",
    "# trn_transform_horizontalflip = A.Compose([\n",
    "#     A.Resize(height=img_size, width=img_size),\n",
    "#     A.Normalize(mean=[0.485, 0.456, 0.406], std=[0.229, 0.224, 0.225]),\n",
    "#     A.HorizontalFlip(always_apply=False, p=1.0),\n",
    "#     ToTensorV2(),\n",
    "# ])\n",
    "# trn_transform_blur = A.Compose([\n",
    "#     A.Resize(height=img_size, width=img_size),\n",
    "#     A.Normalize(mean=[0.485, 0.456, 0.406], std=[0.229, 0.224, 0.225]),\n",
    "#     A.Blur(always_apply=True, p=1.0, blur_limit=(3, 3)),\n",
    "#     ToTensorV2(),\n",
    "# ])\n",
    "# trn_transform_gaussnoise = A.Compose([\n",
    "#     A.Resize(height=img_size, width=img_size),\n",
    "#     A.Normalize(mean=[0.485, 0.456, 0.406], std=[0.229, 0.224, 0.225]),\n",
    "#     A.GaussNoise(always_apply=False, p=1.0, var_limit=(500.0, 500.0)),\n",
    "#     ToTensorV2(),\n",
    "# ])\n",
    "# trn_transform_downscale = A.Compose([\n",
    "#     A.Resize(height=img_size, width=img_size),\n",
    "#     A.Normalize(mean=[0.485, 0.456, 0.406], std=[0.229, 0.224, 0.225]),\n",
    "#     A.Downscale(always_apply=False, p=1.0, scale_min=0.5, scale_max=0.5, interpolation=0),\n",
    "#     ToTensorV2(),\n",
    "# ])\n",
    "# transform_list = [trn_transform, trn_transform_coarseDropout, trn_transform_rotate45, trn_transform_rotate90, trn_transform_rotate135, trn_transform_rotate180, trn_transform_rotate225,\n",
    "#                   trn_transform_rotate270, trn_transform_rotate315, trn_transform_verticalflip, trn_transform_horizontalflip, trn_transform_blur, trn_transform_gaussnoise,\n",
    "#                   trn_transform_downscale]\n",
    "\n",
    "# # # test image 변환을 위한 transform 코드\n",
    "# # tst_transform = A.Compose([\n",
    "# #     A.Resize(height=img_size, width=img_size),\n",
    "# #     A.Normalize(mean=[0.485, 0.456, 0.406], std=[0.229, 0.224, 0.225]),\n",
    "# #     ToTensorV2(),\n",
    "# # ])"
   ]
  },
  {
   "cell_type": "code",
   "execution_count": 18,
   "metadata": {},
   "outputs": [],
   "source": [
    "trn_transform = A.Compose([\n",
    "    A.Resize(height=img_size, width=img_size),\n",
    "    A.Normalize(mean=[0.485, 0.456, 0.406], std=[0.229, 0.224, 0.225]),\n",
    "    # A.CenterCrop( 224 , 224 , always_apply = False , p = 1.0 ),\n",
    "    # A.PadIfNeeded(min_height=256, min_width=256, border_mode=cv2.BORDER_CONSTANT, value=0),\n",
    "    ToTensorV2()\n",
    "])\n",
    "transform_list = [A.CoarseDropout(max_holes=30, max_height=16, max_width=16, min_holes=10, min_height=16, min_width=16, p=1),\n",
    "                  # A.Rotate(limit=(45, 45), border_mode=cv2.BORDER_CONSTANT,value=[255, 255, 255], p=1),\n",
    "                  # A.Rotate(limit=(90, 90), border_mode=cv2.BORDER_CONSTANT,value=[255, 255, 255], p=1),\n",
    "                  # A.Rotate(limit=(135, 135), border_mode=cv2.BORDER_CONSTANT,value=[255, 255, 255], p=1),\n",
    "                  # A.Rotate(limit=(180, 180), border_mode=cv2.BORDER_CONSTANT,value=[255, 255, 255], p=1),\n",
    "                  # A.Rotate(limit=(225, 225), border_mode=cv2.BORDER_CONSTANT,value=[255, 255, 255], p=1),\n",
    "                  # A.Rotate(limit=(270, 270), border_mode=cv2.BORDER_CONSTANT,value=[255, 255, 255], p=1),\n",
    "                  # A.Rotate(limit=(315, 315), border_mode=cv2.BORDER_CONSTANT,value=[255, 255, 255], p=1),\n",
    "                  A.Rotate(limit=(0, 360), border_mode=cv2.BORDER_CONSTANT,value=[255, 255, 255], p=1),\n",
    "                  A.VerticalFlip(always_apply=False, p=1),\n",
    "                  A.HorizontalFlip(always_apply=False, p=1),\n",
    "                #   A.Blur(always_apply=True, p=1, blur_limit=(3, 3)),\n",
    "                  A.GaussNoise(always_apply=False, p=1, var_limit=(0.2, 0.2)),\n",
    "                  A.Downscale(always_apply=False, p=1, scale_min=0.5, scale_max=0.5, interpolation=0),\n",
    "                  A.GaussianBlur(blur_limit=(3, 7), p=1.0),\n",
    "                  A.RandomGridShuffle( grid = (3 , 3) , always_apply = False , p = 1 ),\n",
    "                  A.RandomBrightnessContrast( brightness_limit=(-0.2, 0.2), contrast_limit=(-0.2, 0.2), brightness_by_max=True, always_apply=None, p=1 ),\n",
    "                  # A.GaussianBlur( blur_limit = (3,7) , always_apply = False , p = 1 ),\n",
    "                  A.ToGray( always_apply = False , p = 1 ),\n",
    "                #   A.CenterCrop( 224 , 224 , always_apply = False , p = 1.0 ),\n",
    "                #   A.RandomCrop(224, 224, always_apply=False, p=1.0)\n",
    "                  ]\n",
    "\n",
    "tst_transform = A.Compose([ \n",
    "    A.Resize(height=img_size, width=img_size),\n",
    "    A.Normalize(mean=[0.485, 0.456, 0.406], std=[0.229, 0.224, 0.225]),\n",
    "    # A.PadIfNeeded(min_height=256, min_width=256, border_mode=cv2.BORDER_CONSTANT, value=0),\n",
    "    ToTensorV2()\n",
    "])"
   ]
  },
  {
   "cell_type": "code",
   "execution_count": 19,
   "metadata": {},
   "outputs": [],
   "source": [
    "# transform_list에서 2개 조합으로 데이터 증강\n",
    "# for i in combinations(transform_list, 2):\n",
    "#     print(i, end=\"\\n\")"
   ]
  },
  {
   "cell_type": "code",
   "execution_count": 20,
   "metadata": {},
   "outputs": [],
   "source": [
    "# Dataset 정의를 위한 함수\n",
    "def make_dataset(transform_list, csv, path):\n",
    "    trn_dataset = ImageDataset(\n",
    "        csv,\n",
    "        path,\n",
    "        # transform=transform_list[0]\n",
    "        transform = trn_transform\n",
    "    )\n",
    "    for transform in transform_list:\n",
    "        trn_dataset2 = ImageDataset(\n",
    "            csv,\n",
    "            path,\n",
    "            transform=A.Compose([\n",
    "                A.Resize(height=img_size, width=img_size),\n",
    "                A.Normalize(mean=[0.485, 0.456, 0.406], std=[0.229, 0.224, 0.225]),\n",
    "                transform,\n",
    "                # A.RandomCrop(224, 224, always_apply=False, p=1.0),\n",
    "                # A.Normalize(mean=[0.485, 0.456, 0.406], std=[0.229, 0.224, 0.225]),\n",
    "                # A.PadIfNeeded(min_height=256, min_width=256, border_mode=cv2.BORDER_CONSTANT, value=0),\n",
    "                ToTensorV2()\n",
    "            ])\n",
    "        )\n",
    "        trn_dataset = ConcatDataset([trn_dataset, trn_dataset2])\n",
    "\n",
    "    for transform1, transform2 in combinations(transform_list, 2):\n",
    "        trn_dataset2 = ImageDataset(\n",
    "            csv,\n",
    "            path,\n",
    "            transform=A.Compose([\n",
    "                A.Resize(height=img_size, width=img_size),\n",
    "                A.Normalize(mean=[0.485, 0.456, 0.406], std=[0.229, 0.224, 0.225]),\n",
    "                transform1,\n",
    "                transform2,\n",
    "                # A.RandomCrop(224, 224, always_apply=False, p=1.0),\n",
    "                # A.Normalize(mean=[0.485, 0.456, 0.406], std=[0.229, 0.224, 0.225]),\n",
    "                # A.PadIfNeeded(min_height=256, min_width=256, border_mode=cv2.BORDER_CONSTANT, value=0),\n",
    "                ToTensorV2()\n",
    "            ])\n",
    "        )\n",
    "        trn_dataset = ConcatDataset([trn_dataset, trn_dataset2])\n",
    "\n",
    "\n",
    "    return trn_dataset"
   ]
  },
  {
   "cell_type": "code",
   "execution_count": 21,
   "metadata": {},
   "outputs": [],
   "source": [
    "# # vaildation set 정의\n",
    "# def make_vaild_dataset(transform_list, csv, path):\n",
    "#     trn_dataset = ImageDataset(\n",
    "#         csv,\n",
    "#         path,\n",
    "#         transform=transform_list[0]\n",
    "#     )\n",
    "#     for transform in transform_list[1:]:\n",
    "#         trn_dataset2 = ImageDataset(\n",
    "#             csv,\n",
    "#             path,\n",
    "#             transform=transform\n",
    "#         )\n",
    "#         trn_dataset = ConcatDataset([trn_dataset, trn_dataset2])\n",
    "\n",
    "#     return trn_dataset"
   ]
  },
  {
   "cell_type": "code",
   "execution_count": 22,
   "metadata": {},
   "outputs": [
    {
     "name": "stdout",
     "output_type": "stream",
     "text": [
      "70336 8792 157\n"
     ]
    }
   ],
   "source": [
    "trn_dataset = make_dataset(transform_list, \"../datasets_fin/divided_train.csv\", \"../datasets_fin/train/\")\n",
    "vaild_dataset = make_dataset(transform_list, \"../datasets_fin/vaild.csv\", \"../datasets_fin/train/\",)\n",
    "tst_dataset = ImageDataset(\n",
    "    \"../datasets_fin/test.csv\",\n",
    "    \"../datasets_fin/train/\",\n",
    "    transform=tst_transform\n",
    ")\n",
    "print(len(trn_dataset), len(vaild_dataset), len(tst_dataset))"
   ]
  },
  {
   "cell_type": "code",
   "execution_count": 23,
   "metadata": {},
   "outputs": [],
   "source": [
    "# # Dataset 정의를 위한 함수\n",
    "# trn_dataset = ImageDataset(\n",
    "#     \"../datasets_fin/divided_train.csv\",\n",
    "#     \"../datasets_fin/train/\",\n",
    "#     transform=trn_transform\n",
    "# )\n",
    "# vaild_dataset = make_vaild_dataset(transform_list, \"../datasets_fin/vaild.csv\", \"../datasets_fin/train/\")\n",
    "# tst_dataset = ImageDataset(\n",
    "#     \"../datasets_fin/test.csv\",\n",
    "#     \"../datasets_fin/train/\",\n",
    "#     transform=tst_transform\n",
    "# )\n",
    "# print(len(trn_dataset), len(vaild_dataset), len(tst_dataset))"
   ]
  },
  {
   "cell_type": "code",
   "execution_count": 24,
   "metadata": {},
   "outputs": [],
   "source": [
    "# DataLoader 정의\n",
    "trn_loader = DataLoader(\n",
    "    trn_dataset,\n",
    "    batch_size=BATCH_SIZE,\n",
    "    shuffle=True,\n",
    "    # shuffle=True,\n",
    "    num_workers=num_workers,\n",
    "    pin_memory=True,\n",
    "    drop_last=False\n",
    ")\n",
    "vaild_loader = DataLoader(\n",
    "    vaild_dataset,\n",
    "    batch_size=BATCH_SIZE,\n",
    "    shuffle=True,\n",
    "    # shuffle=True,\n",
    "    num_workers=num_workers,\n",
    "    pin_memory=True,\n",
    "    drop_last=False\n",
    ")\n",
    "tst_loader = DataLoader(\n",
    "    tst_dataset,\n",
    "    batch_size=BATCH_SIZE,\n",
    "    shuffle=False,\n",
    "    num_workers=0,\n",
    "    pin_memory=True\n",
    ")"
   ]
  },
  {
   "cell_type": "code",
   "execution_count": 25,
   "metadata": {},
   "outputs": [],
   "source": [
    "import math\n",
    "from torch.optim.lr_scheduler import _LRScheduler\n",
    "\n",
    "class CosineAnnealingWarmUpRestarts(_LRScheduler):\n",
    "    def __init__(self, optimizer, T_0, T_mult=1, eta_max=0.1, T_up=0, gamma=1., last_epoch=-1):\n",
    "        if T_0 <= 0 or not isinstance(T_0, int):\n",
    "            raise ValueError(\"Expected positive integer T_0, but got {}\".format(T_0))\n",
    "        if T_mult < 1 or not isinstance(T_mult, int):\n",
    "            raise ValueError(\"Expected integer T_mult >= 1, but got {}\".format(T_mult))\n",
    "        if T_up < 0 or not isinstance(T_up, int):\n",
    "            raise ValueError(\"Expected positive integer T_up, but got {}\".format(T_up))\n",
    "        self.T_0 = T_0\n",
    "        self.T_mult = T_mult\n",
    "        self.base_eta_max = eta_max\n",
    "        self.eta_max = eta_max\n",
    "        self.T_up = T_up\n",
    "        self.T_i = T_0\n",
    "        self.gamma = gamma\n",
    "        self.cycle = 0\n",
    "        self.T_cur = last_epoch\n",
    "        super(CosineAnnealingWarmUpRestarts, self).__init__(optimizer, last_epoch)\n",
    "    \n",
    "    def get_lr(self):\n",
    "        if self.T_cur == -1:\n",
    "            return self.base_lrs\n",
    "        elif self.T_cur < self.T_up:\n",
    "            return [(self.eta_max - base_lr)*self.T_cur / self.T_up + base_lr for base_lr in self.base_lrs]\n",
    "        else:\n",
    "            return [base_lr + (self.eta_max - base_lr) * (1 + math.cos(math.pi * (self.T_cur-self.T_up) / (self.T_i - self.T_up))) / 2\n",
    "                    for base_lr in self.base_lrs]\n",
    "\n",
    "    def step(self, epoch=None):\n",
    "        if epoch is None:\n",
    "            epoch = self.last_epoch + 1\n",
    "            self.T_cur = self.T_cur + 1\n",
    "            if self.T_cur >= self.T_i:\n",
    "                self.cycle += 1\n",
    "                self.T_cur = self.T_cur - self.T_i\n",
    "                self.T_i = (self.T_i - self.T_up) * self.T_mult + self.T_up\n",
    "        else:\n",
    "            if epoch >= self.T_0:\n",
    "                if self.T_mult == 1:\n",
    "                    self.T_cur = epoch % self.T_0\n",
    "                    self.cycle = epoch // self.T_0\n",
    "                else:\n",
    "                    n = int(math.log((epoch / self.T_0 * (self.T_mult - 1) + 1), self.T_mult))\n",
    "                    self.cycle = n\n",
    "                    self.T_cur = epoch - self.T_0 * (self.T_mult ** n - 1) / (self.T_mult - 1)\n",
    "                    self.T_i = self.T_0 * self.T_mult ** (n)\n",
    "            else:\n",
    "                self.T_i = self.T_0\n",
    "                self.T_cur = epoch\n",
    "                \n",
    "        self.eta_max = self.base_eta_max * (self.gamma**self.cycle)\n",
    "        self.last_epoch = math.floor(epoch)\n",
    "        for param_group, lr in zip(self.optimizer.param_groups, self.get_lr()):\n",
    "            param_group['lr'] = lr"
   ]
  },
  {
   "cell_type": "code",
   "execution_count": 26,
   "metadata": {},
   "outputs": [],
   "source": [
    "# load model\n",
    "model = timm.create_model(\n",
    "    model_name,\n",
    "    pretrained=True,\n",
    "    num_classes=17\n",
    ").to(device)\n",
    "loss_fn = nn.CrossEntropyLoss()\n",
    "optimizer = Adam(model.parameters(), lr=0)\n",
    "scheduler = CosineAnnealingWarmUpRestarts(optimizer, T_0=150, T_mult=1, eta_max=0.1,  T_up=10, gamma=0.5)"
   ]
  },
  {
   "cell_type": "code",
   "execution_count": 27,
   "metadata": {},
   "outputs": [
    {
     "name": "stderr",
     "output_type": "stream",
     "text": [
      "Loss: 3.9394: 100%|██████████| 4396/4396 [37:12<00:00,  1.97it/s]\n",
      "100%|██████████| 550/550 [02:53<00:00,  3.18it/s]\n"
     ]
    },
    {
     "name": "stdout",
     "output_type": "stream",
     "text": [
      "0\n",
      "train_loss: 3.8670\n",
      "train_acc: 0.0572\n",
      "train_f1: 0.0398\n",
      "vaild_acc: 0.0630\n",
      "vaild_f1: 0.0419\n",
      "epoch: 0.0000\n",
      "\n"
     ]
    },
    {
     "name": "stderr",
     "output_type": "stream",
     "text": [
      "Loss: 0.2406: 100%|██████████| 4396/4396 [37:58<00:00,  1.93it/s]\n",
      "100%|██████████| 550/550 [03:06<00:00,  2.95it/s]\n"
     ]
    },
    {
     "name": "stdout",
     "output_type": "stream",
     "text": [
      "0\n",
      "train_loss: 0.4869\n",
      "train_acc: 0.8372\n",
      "train_f1: 0.8292\n",
      "vaild_acc: 0.7323\n",
      "vaild_f1: 0.7139\n",
      "epoch: 1.0000\n",
      "\n"
     ]
    },
    {
     "name": "stderr",
     "output_type": "stream",
     "text": [
      "Loss: 0.0825:  91%|█████████ | 4001/4396 [40:09<04:09,  1.58it/s] "
     ]
    }
   ],
   "source": [
    "early_stop = 0\n",
    "best_model = model\n",
    "best_epoch = 0\n",
    "best_vaild_f1 = 0\n",
    "resent_model = model\n",
    "resent_epoch = 0\n",
    "before_vaild_f1 = 0\n",
    "for epoch in range(EPOCHS):\n",
    "   \n",
    "   ret = train_one_epoch(trn_loader, vaild_loader, model, optimizer, loss_fn, device=device, scheduler=scheduler)\n",
    "   ret['epoch'] = epoch\n",
    "   if before_vaild_f1 < ret['vaild_f1']:\n",
    "      if best_vaild_f1 < ret['vaild_f1']:\n",
    "         best_vaild_f1 = ret['vaild_f1']\n",
    "         best_model = model\n",
    "         best_epoch = epoch+1\n",
    "      resent_model = model\n",
    "      resent_epoch = epoch+1\n",
    "      early_stop = 0\n",
    "   else:\n",
    "      early_stop += 1\n",
    "   before_vaild_f1 = ret['vaild_f1']\n",
    "\n",
    "   print(early_stop)\n",
    "\n",
    "   log = \"\"\n",
    "   for k, v in ret.items():\n",
    "      log += f\"{k}: {v:.4f}\\n\"\n",
    "   print(log)\n",
    "\n",
    "   if early_stop >= 3: # earlystop없이 모든 애폭을 사용하여 학습, 단 best model을 따로 저장\n",
    "      torch.save(best_model, '../model/best_'+project_name+'_'+str(img_size)+'_'+str(best_epoch)+'.pt')\n",
    "      break"
   ]
  },
  {
   "cell_type": "code",
   "execution_count": 22,
   "metadata": {},
   "outputs": [],
   "source": [
    "# 베스트 모델 저장\n",
    "torch.save(best_model, '../model/best_'+project_name+'_'+str(img_size)+'_'+str(best_epoch)+'.pt')"
   ]
  },
  {
   "cell_type": "code",
   "execution_count": 21,
   "metadata": {},
   "outputs": [],
   "source": [
    "# 그냥 모델 저장\n",
    "torch.save(resent_model, '../model/'+project_name+'_'+str(img_size)+'_'+str(resent_epoch)+'.pt')"
   ]
  },
  {
   "cell_type": "code",
   "execution_count": 16,
   "metadata": {},
   "outputs": [],
   "source": [
    "# for epoch in range(20):\n",
    "#     ret = train_one_epoch(trn_loader, vaild_loader, model, optimizer, loss_fn, device=device)\n",
    "#     ret['epoch'] = epoch\n",
    "\n",
    "#     log = \"\"\n",
    "#     for k, v in ret.items():\n",
    "#       log += f\"{k}: {v:.4f}\\n\"\n",
    "#     print(log)"
   ]
  },
  {
   "cell_type": "markdown",
   "metadata": {},
   "source": [
    "마지막 학습한 모델의 데이터셋 확인 및 실제 데이터 추측"
   ]
  },
  {
   "cell_type": "code",
   "execution_count": 22,
   "metadata": {},
   "outputs": [
    {
     "name": "stderr",
     "output_type": "stream",
     "text": [
      "100%|██████████| 3/3 [00:01<00:00,  2.14it/s]\n"
     ]
    },
    {
     "data": {
      "text/plain": [
       "(0.9299363057324841, 0.9213352007469655)"
      ]
     },
     "execution_count": 22,
     "metadata": {},
     "output_type": "execute_result"
    }
   ],
   "source": [
    "# test 데이터 확인\n",
    "tst_preds_list = []\n",
    "tst_target_list = []\n",
    "\n",
    "resent_model.eval()\n",
    "for image, target in tqdm(tst_loader):\n",
    "    image = image.float().to(device)\n",
    "\n",
    "    with torch.no_grad():\n",
    "        preds = resent_model(image)\n",
    "    tst_preds_list.extend(preds.argmax(dim=1).detach().cpu().numpy())\n",
    "    tst_target_list.extend(target.detach().cpu().numpy())\n",
    "tst_acc = accuracy_score(tst_target_list, tst_preds_list)\n",
    "tst_f1 = f1_score(tst_target_list, tst_preds_list, average='macro')\n",
    "\n",
    "tst_acc, tst_f1"
   ]
  },
  {
   "cell_type": "code",
   "execution_count": 23,
   "metadata": {},
   "outputs": [],
   "source": [
    "# 실제 test데이터\n",
    "test_dataset = ImageDataset(\n",
    "    \"../datasets_fin/sample_submission.csv\",\n",
    "    \"../datasets_fin/test/\",\n",
    "    transform=tst_transform\n",
    ")\n",
    "test_loader = DataLoader(\n",
    "    test_dataset,\n",
    "    batch_size=BATCH_SIZE,\n",
    "    shuffle=False,\n",
    "    num_workers=0,\n",
    "    pin_memory=True\n",
    ")"
   ]
  },
  {
   "cell_type": "code",
   "execution_count": 24,
   "metadata": {},
   "outputs": [
    {
     "name": "stderr",
     "output_type": "stream",
     "text": [
      "100%|██████████| 50/50 [00:24<00:00,  2.04it/s]\n"
     ]
    }
   ],
   "source": [
    "preds_list = []\n",
    "\n",
    "model.eval()\n",
    "for image, _ in tqdm(test_loader):\n",
    "    image = image.to(device)\n",
    "\n",
    "    with torch.no_grad():\n",
    "        preds = model(image)\n",
    "    preds_list.extend(preds.argmax(dim=1).detach().cpu().numpy())"
   ]
  },
  {
   "cell_type": "code",
   "execution_count": 25,
   "metadata": {},
   "outputs": [
    {
     "name": "stdout",
     "output_type": "stream",
     "text": [
      "tensor([[ -4.7237,  -3.8012,  -1.2854,  -2.0549,  -0.8342,  -6.1283,   1.5724,\n",
      "          -3.2187,  -6.1553,  -0.4188,  17.6581,   8.3682,   0.8751,  -0.6447,\n",
      "          -2.5534,  -3.0621,  -1.1540],\n",
      "        [ -7.6005,  -1.6406,  -2.1377,  -6.8178,  -3.0764,   7.2980,  -7.7273,\n",
      "         -12.1123,  43.7224,   2.8393,  -5.7889,  -5.6602,  -7.3457,  -6.0085,\n",
      "          -8.3476,   6.5276,  -6.6517],\n",
      "        [ 37.2508,  -2.6565,  -0.7524,   1.7238, -11.1059,  -3.7907,  -7.7608,\n",
      "          -1.7515,   3.4095,  -2.4244,  -7.8041,   1.5142,  -3.6037,  -3.6270,\n",
      "          -3.4911,  -1.0467,  -7.5266],\n",
      "        [-13.8534,  -6.3171, -14.3435,  -0.6380,  -0.4032,  -3.1147,  -5.2600,\n",
      "          -1.2284,   0.4910, -12.4169, -12.6829,  -1.6761,  32.1323,   9.9482,\n",
      "          -9.1643,   6.5064,  -7.8104]], device='cuda:0')\n"
     ]
    }
   ],
   "source": [
    "print(preds)"
   ]
  },
  {
   "cell_type": "code",
   "execution_count": 26,
   "metadata": {},
   "outputs": [],
   "source": [
    "pred_df = pd.DataFrame(test_dataset.df, columns=['ID', 'target'])\n",
    "pred_df['target'] = preds_list"
   ]
  },
  {
   "cell_type": "code",
   "execution_count": 27,
   "metadata": {},
   "outputs": [],
   "source": [
    "sample_submission_df = pd.read_csv(\"../datasets_fin/sample_submission.csv\")\n",
    "assert (sample_submission_df['ID'] == pred_df['ID']).all()"
   ]
  },
  {
   "cell_type": "code",
   "execution_count": 28,
   "metadata": {},
   "outputs": [],
   "source": [
    "pred_df.to_csv(\"../output/\"+project_name+\"_lastmodel_pred_\"+str(img_size)+\"_\"+str(resent_epoch)+\".csv\", index=False)"
   ]
  },
  {
   "cell_type": "code",
   "execution_count": 29,
   "metadata": {},
   "outputs": [
    {
     "data": {
      "text/html": [
       "<div>\n",
       "<style scoped>\n",
       "    .dataframe tbody tr th:only-of-type {\n",
       "        vertical-align: middle;\n",
       "    }\n",
       "\n",
       "    .dataframe tbody tr th {\n",
       "        vertical-align: top;\n",
       "    }\n",
       "\n",
       "    .dataframe thead th {\n",
       "        text-align: right;\n",
       "    }\n",
       "</style>\n",
       "<table border=\"1\" class=\"dataframe\">\n",
       "  <thead>\n",
       "    <tr style=\"text-align: right;\">\n",
       "      <th></th>\n",
       "      <th>ID</th>\n",
       "      <th>target</th>\n",
       "    </tr>\n",
       "  </thead>\n",
       "  <tbody>\n",
       "    <tr>\n",
       "      <th>0</th>\n",
       "      <td>0008fdb22ddce0ce.jpg</td>\n",
       "      <td>2</td>\n",
       "    </tr>\n",
       "    <tr>\n",
       "      <th>1</th>\n",
       "      <td>00091bffdffd83de.jpg</td>\n",
       "      <td>12</td>\n",
       "    </tr>\n",
       "    <tr>\n",
       "      <th>2</th>\n",
       "      <td>00396fbc1f6cc21d.jpg</td>\n",
       "      <td>5</td>\n",
       "    </tr>\n",
       "    <tr>\n",
       "      <th>3</th>\n",
       "      <td>00471f8038d9c4b6.jpg</td>\n",
       "      <td>13</td>\n",
       "    </tr>\n",
       "    <tr>\n",
       "      <th>4</th>\n",
       "      <td>00901f504008d884.jpg</td>\n",
       "      <td>2</td>\n",
       "    </tr>\n",
       "  </tbody>\n",
       "</table>\n",
       "</div>"
      ],
      "text/plain": [
       "                     ID  target\n",
       "0  0008fdb22ddce0ce.jpg       2\n",
       "1  00091bffdffd83de.jpg      12\n",
       "2  00396fbc1f6cc21d.jpg       5\n",
       "3  00471f8038d9c4b6.jpg      13\n",
       "4  00901f504008d884.jpg       2"
      ]
     },
     "execution_count": 29,
     "metadata": {},
     "output_type": "execute_result"
    }
   ],
   "source": [
    "pred_df.head()"
   ]
  },
  {
   "cell_type": "markdown",
   "metadata": {},
   "source": [
    "best case의 test set확인 및 실제 데이터 추측"
   ]
  },
  {
   "cell_type": "code",
   "execution_count": 82,
   "metadata": {},
   "outputs": [],
   "source": [
    "# 저장한 베스트 모델 로드\n",
    "model = torch.load('../model/best_'+project_name+'_'+str(img_size)+'_'+str(best_epoch)+'.pt')"
   ]
  },
  {
   "cell_type": "code",
   "execution_count": 104,
   "metadata": {},
   "outputs": [
    {
     "name": "stderr",
     "output_type": "stream",
     "text": [
      "100%|██████████| 10/10 [00:01<00:00,  5.27it/s]\n"
     ]
    },
    {
     "data": {
      "text/plain": [
       "(0.9554140127388535, 0.9469719307180606)"
      ]
     },
     "execution_count": 104,
     "metadata": {},
     "output_type": "execute_result"
    }
   ],
   "source": [
    "# test 데이터 확인\n",
    "tst_preds_list = []\n",
    "tst_target_list = []\n",
    "\n",
    "model.eval()\n",
    "for image, target in tqdm(tst_loader):\n",
    "    image = image.float().to(device)\n",
    "\n",
    "    with torch.no_grad():\n",
    "        preds = model(image)\n",
    "    tst_preds_list.extend(preds.argmax(dim=1).detach().cpu().numpy())\n",
    "    tst_target_list.extend(target.detach().cpu().numpy())\n",
    "tst_acc = accuracy_score(tst_target_list, tst_preds_list)\n",
    "tst_f1 = f1_score(tst_target_list, tst_preds_list, average='macro')\n",
    "\n",
    "tst_acc, tst_f1"
   ]
  },
  {
   "cell_type": "code",
   "execution_count": 106,
   "metadata": {},
   "outputs": [],
   "source": [
    "# 실제 test데이터\n",
    "test_dataset = ImageDataset(\n",
    "    \"../datasets_fin/sample_submission.csv\",\n",
    "    \"../datasets_fin/test/\",\n",
    "    transform=tst_transform\n",
    ")\n",
    "test_loader = DataLoader(\n",
    "    test_dataset,\n",
    "    batch_size=BATCH_SIZE,\n",
    "    shuffle=False,\n",
    "    num_workers=0,\n",
    "    pin_memory=True\n",
    ")"
   ]
  },
  {
   "cell_type": "code",
   "execution_count": 107,
   "metadata": {},
   "outputs": [
    {
     "name": "stderr",
     "output_type": "stream",
     "text": [
      "100%|██████████| 197/197 [00:40<00:00,  4.85it/s]\n"
     ]
    }
   ],
   "source": [
    "preds_list = []\n",
    "\n",
    "model.eval()\n",
    "for image, _ in tqdm(test_loader):\n",
    "    image = image.to(device)\n",
    "\n",
    "    with torch.no_grad():\n",
    "        preds = model(image)\n",
    "    preds_list.extend(preds.argmax(dim=1).detach().cpu().numpy())"
   ]
  },
  {
   "cell_type": "code",
   "execution_count": 108,
   "metadata": {},
   "outputs": [],
   "source": [
    "pred_df = pd.DataFrame(test_dataset.df, columns=['ID', 'target'])\n",
    "pred_df['target'] = preds_list"
   ]
  },
  {
   "cell_type": "code",
   "execution_count": 109,
   "metadata": {},
   "outputs": [],
   "source": [
    "sample_submission_df = pd.read_csv(\"../datasets_fin/sample_submission.csv\")\n",
    "assert (sample_submission_df['ID'] == pred_df['ID']).all()"
   ]
  },
  {
   "cell_type": "code",
   "execution_count": 115,
   "metadata": {},
   "outputs": [],
   "source": [
    "pred_df.to_csv(\"../output/\"+project_name+\"_pred_\"+str(img_size)+\"_\"+str(best_epoch)+\".csv\", index=False)"
   ]
  },
  {
   "cell_type": "code",
   "execution_count": 111,
   "metadata": {},
   "outputs": [
    {
     "data": {
      "text/html": [
       "<div>\n",
       "<style scoped>\n",
       "    .dataframe tbody tr th:only-of-type {\n",
       "        vertical-align: middle;\n",
       "    }\n",
       "\n",
       "    .dataframe tbody tr th {\n",
       "        vertical-align: top;\n",
       "    }\n",
       "\n",
       "    .dataframe thead th {\n",
       "        text-align: right;\n",
       "    }\n",
       "</style>\n",
       "<table border=\"1\" class=\"dataframe\">\n",
       "  <thead>\n",
       "    <tr style=\"text-align: right;\">\n",
       "      <th></th>\n",
       "      <th>ID</th>\n",
       "      <th>target</th>\n",
       "    </tr>\n",
       "  </thead>\n",
       "  <tbody>\n",
       "    <tr>\n",
       "      <th>0</th>\n",
       "      <td>0008fdb22ddce0ce.jpg</td>\n",
       "      <td>2</td>\n",
       "    </tr>\n",
       "    <tr>\n",
       "      <th>1</th>\n",
       "      <td>00091bffdffd83de.jpg</td>\n",
       "      <td>12</td>\n",
       "    </tr>\n",
       "    <tr>\n",
       "      <th>2</th>\n",
       "      <td>00396fbc1f6cc21d.jpg</td>\n",
       "      <td>5</td>\n",
       "    </tr>\n",
       "    <tr>\n",
       "      <th>3</th>\n",
       "      <td>00471f8038d9c4b6.jpg</td>\n",
       "      <td>7</td>\n",
       "    </tr>\n",
       "    <tr>\n",
       "      <th>4</th>\n",
       "      <td>00901f504008d884.jpg</td>\n",
       "      <td>2</td>\n",
       "    </tr>\n",
       "  </tbody>\n",
       "</table>\n",
       "</div>"
      ],
      "text/plain": [
       "                     ID  target\n",
       "0  0008fdb22ddce0ce.jpg       2\n",
       "1  00091bffdffd83de.jpg      12\n",
       "2  00396fbc1f6cc21d.jpg       5\n",
       "3  00471f8038d9c4b6.jpg       7\n",
       "4  00901f504008d884.jpg       2"
      ]
     },
     "execution_count": 111,
     "metadata": {},
     "output_type": "execute_result"
    }
   ],
   "source": [
    "pred_df.head()"
   ]
  },
  {
   "cell_type": "markdown",
   "metadata": {},
   "source": [
    "최선 경우와 마지막 경우가 같은 예측을 함"
   ]
  },
  {
   "cell_type": "code",
   "execution_count": 39,
   "metadata": {},
   "outputs": [],
   "source": [
    "a = pd.read_csv(\"../output/\"+project_name+\"_pred_\"+str(img_size)+\"_\"+str(best_epoch)+\".csv\")\n",
    "b = pd.read_csv(\"../output/\"+project_name+\"_lastmodel_pred_\"+str(img_size)+\"_\"+str(resent_epoch)+\".csv\")"
   ]
  },
  {
   "cell_type": "code",
   "execution_count": 40,
   "metadata": {},
   "outputs": [
    {
     "data": {
      "text/plain": [
       "3140"
      ]
     },
     "execution_count": 40,
     "metadata": {},
     "output_type": "execute_result"
    }
   ],
   "source": [
    "sum(a['target'] == b['target'])"
   ]
  },
  {
   "cell_type": "code",
   "execution_count": 41,
   "metadata": {},
   "outputs": [
    {
     "data": {
      "text/plain": [
       "3140"
      ]
     },
     "execution_count": 41,
     "metadata": {},
     "output_type": "execute_result"
    }
   ],
   "source": [
    "len(a['target'])"
   ]
  },
  {
   "cell_type": "markdown",
   "metadata": {},
   "source": [
    "best case의 경우 tst set을 다양한 증강을 더해 검증"
   ]
  },
  {
   "cell_type": "code",
   "execution_count": 47,
   "metadata": {},
   "outputs": [],
   "source": [
    "# 저장한 베스트 모델 로드\n",
    "model = torch.load('../model/best_'+project_name+'_'+str(img_size)+'_'+str(best_epoch)+'.pt')"
   ]
  },
  {
   "cell_type": "code",
   "execution_count": 90,
   "metadata": {},
   "outputs": [
    {
     "name": "stdout",
     "output_type": "stream",
     "text": [
      "8792\n"
     ]
    }
   ],
   "source": [
    "tst_dataset2 = make_dataset(transform_list, \"../datasets_fin/test.csv\", \"../datasets_fin/train/\",)\n",
    "\n",
    "print(len(tst_dataset2))"
   ]
  },
  {
   "cell_type": "code",
   "execution_count": 91,
   "metadata": {},
   "outputs": [],
   "source": [
    "tst_loader2 = DataLoader(\n",
    "    tst_dataset2,\n",
    "    batch_size=BATCH_SIZE,\n",
    "    shuffle=False,\n",
    "    num_workers=0,\n",
    "    pin_memory=True\n",
    ")"
   ]
  },
  {
   "cell_type": "code",
   "execution_count": 92,
   "metadata": {},
   "outputs": [
    {
     "name": "stderr",
     "output_type": "stream",
     "text": [
      "100%|██████████| 550/550 [02:56<00:00,  3.11it/s]\n"
     ]
    },
    {
     "data": {
      "text/plain": [
       "(0.9369881710646042, 0.9301356555741587)"
      ]
     },
     "execution_count": 92,
     "metadata": {},
     "output_type": "execute_result"
    }
   ],
   "source": [
    "# test 데이터 확인\n",
    "tst_preds_list = []\n",
    "tst_target_list = []\n",
    "# tst_img = []\n",
    "\n",
    "model.eval()\n",
    "for image, target in tqdm(tst_loader2):\n",
    "    # tst_img.extend(image.permute(1, 2, 0).detach().cpu().numpy())\n",
    "    image = image.float().to(device)\n",
    "\n",
    "    with torch.no_grad():\n",
    "        preds = model(image)\n",
    "    tst_preds_list.extend(preds.argmax(dim=1).detach().cpu().numpy())\n",
    "    tst_target_list.extend(target.detach().cpu().numpy())\n",
    "tst_acc = accuracy_score(tst_target_list, tst_preds_list)\n",
    "tst_f1 = f1_score(tst_target_list, tst_preds_list, average='macro')\n",
    "\n",
    "tst_acc, tst_f1"
   ]
  },
  {
   "cell_type": "code",
   "execution_count": null,
   "metadata": {},
   "outputs": [],
   "source": [
    "# 예측에 사용된 이미지 추출하여 리스트에 저장\n",
    "tst_img = []\n",
    "for idx in range(tst_dataset2.__len__()):\n",
    "# for idx in range(1):\n",
    "    img, target = tst_dataset2.__getitem__(idx)\n",
    "    tst_img.append(img.permute(1, 2, 0).numpy())"
   ]
  },
  {
   "cell_type": "code",
   "execution_count": 63,
   "metadata": {},
   "outputs": [
    {
     "name": "stderr",
     "output_type": "stream",
     "text": [
      "Clipping input data to the valid range for imshow with RGB data ([0..1] for floats or [0..255] for integers).\n"
     ]
    },
    {
     "data": {
      "image/png": "[encoded data removed]",
      "text/plain": [
       "<Figure size 640x480 with 1 Axes>"
      ]
     },
     "metadata": {},
     "output_type": "display_data"
    }
   ],
   "source": [
    "# 저장한 이미지 확인\n",
    "plt.imshow(tst_img[10])\n",
    "plt.show()"
   ]
  },
  {
   "cell_type": "code",
   "execution_count": 93,
   "metadata": {},
   "outputs": [],
   "source": [
    "tst_df = pd.DataFrame({\n",
    "    # 'img' : tst_img,\n",
    "    'target' : tst_target_list,\n",
    "    'predict' : tst_preds_list\n",
    "})"
   ]
  },
  {
   "cell_type": "code",
   "execution_count": 94,
   "metadata": {},
   "outputs": [
    {
     "data": {
      "text/plain": [
       "8792"
      ]
     },
     "execution_count": 94,
     "metadata": {},
     "output_type": "execute_result"
    }
   ],
   "source": [
    "len(tst_df['target'])"
   ]
  },
  {
   "cell_type": "code",
   "execution_count": 95,
   "metadata": {},
   "outputs": [
    {
     "data": {
      "text/plain": [
       "8238"
      ]
     },
     "execution_count": 95,
     "metadata": {},
     "output_type": "execute_result"
    }
   ],
   "source": [
    "# 맞춘 개수\n",
    "(tst_df['predict'] == tst_df['target']).sum()"
   ]
  },
  {
   "cell_type": "code",
   "execution_count": 96,
   "metadata": {},
   "outputs": [
    {
     "data": {
      "text/plain": [
       "554"
      ]
     },
     "execution_count": 96,
     "metadata": {},
     "output_type": "execute_result"
    }
   ],
   "source": [
    "# 틀린 개수\n",
    "(~(tst_df['predict'] == tst_df['target'])).sum()"
   ]
  },
  {
   "cell_type": "code",
   "execution_count": 97,
   "metadata": {},
   "outputs": [
    {
     "data": {
      "text/plain": [
       "0.9369881710646042"
      ]
     },
     "execution_count": 97,
     "metadata": {},
     "output_type": "execute_result"
    }
   ],
   "source": [
    "(~(tst_df['predict'] != tst_df['target'])).sum()/((tst_df['predict'] == tst_df['target']).sum()+(~(tst_df['predict'] == tst_df['target'])).sum())"
   ]
  },
  {
   "cell_type": "code",
   "execution_count": 98,
   "metadata": {},
   "outputs": [
    {
     "data": {
      "text/html": [
       "<div>\n",
       "<style scoped>\n",
       "    .dataframe tbody tr th:only-of-type {\n",
       "        vertical-align: middle;\n",
       "    }\n",
       "\n",
       "    .dataframe tbody tr th {\n",
       "        vertical-align: top;\n",
       "    }\n",
       "\n",
       "    .dataframe thead th {\n",
       "        text-align: right;\n",
       "    }\n",
       "</style>\n",
       "<table border=\"1\" class=\"dataframe\">\n",
       "  <thead>\n",
       "    <tr style=\"text-align: right;\">\n",
       "      <th></th>\n",
       "      <th>target</th>\n",
       "      <th>predict</th>\n",
       "    </tr>\n",
       "  </thead>\n",
       "  <tbody>\n",
       "    <tr>\n",
       "      <th>23</th>\n",
       "      <td>7</td>\n",
       "      <td>3</td>\n",
       "    </tr>\n",
       "    <tr>\n",
       "      <th>29</th>\n",
       "      <td>3</td>\n",
       "      <td>7</td>\n",
       "    </tr>\n",
       "    <tr>\n",
       "      <th>43</th>\n",
       "      <td>11</td>\n",
       "      <td>10</td>\n",
       "    </tr>\n",
       "    <tr>\n",
       "      <th>68</th>\n",
       "      <td>7</td>\n",
       "      <td>3</td>\n",
       "    </tr>\n",
       "    <tr>\n",
       "      <th>97</th>\n",
       "      <td>14</td>\n",
       "      <td>4</td>\n",
       "    </tr>\n",
       "    <tr>\n",
       "      <th>...</th>\n",
       "      <td>...</td>\n",
       "      <td>...</td>\n",
       "    </tr>\n",
       "    <tr>\n",
       "      <th>8733</th>\n",
       "      <td>14</td>\n",
       "      <td>3</td>\n",
       "    </tr>\n",
       "    <tr>\n",
       "      <th>8734</th>\n",
       "      <td>7</td>\n",
       "      <td>12</td>\n",
       "    </tr>\n",
       "    <tr>\n",
       "      <th>8735</th>\n",
       "      <td>7</td>\n",
       "      <td>3</td>\n",
       "    </tr>\n",
       "    <tr>\n",
       "      <th>8763</th>\n",
       "      <td>3</td>\n",
       "      <td>14</td>\n",
       "    </tr>\n",
       "    <tr>\n",
       "      <th>8771</th>\n",
       "      <td>3</td>\n",
       "      <td>14</td>\n",
       "    </tr>\n",
       "  </tbody>\n",
       "</table>\n",
       "<p>554 rows × 2 columns</p>\n",
       "</div>"
      ],
      "text/plain": [
       "      target  predict\n",
       "23         7        3\n",
       "29         3        7\n",
       "43        11       10\n",
       "68         7        3\n",
       "97        14        4\n",
       "...      ...      ...\n",
       "8733      14        3\n",
       "8734       7       12\n",
       "8735       7        3\n",
       "8763       3       14\n",
       "8771       3       14\n",
       "\n",
       "[554 rows x 2 columns]"
      ]
     },
     "execution_count": 98,
     "metadata": {},
     "output_type": "execute_result"
    }
   ],
   "source": [
    "tst_df[~(tst_df['predict'] == tst_df['target'])]"
   ]
  },
  {
   "cell_type": "code",
   "execution_count": null,
   "metadata": {},
   "outputs": [],
   "source": [
    "i = pd.read_csv('../datasets_fin/test.csv')\n",
    "i"
   ]
  },
  {
   "cell_type": "code",
   "execution_count": null,
   "metadata": {},
   "outputs": [],
   "source": [
    "# 각 예측의 이미지 id 추가\n",
    "tst_df['ID'] = list(i['ID']) * 67"
   ]
  },
  {
   "cell_type": "code",
   "execution_count": null,
   "metadata": {},
   "outputs": [],
   "source": [
    "def get_item(idx):\n",
    "    image, target, predict, name = tst_df.loc[idx,]\n",
    "    img = np.array(Image.open(os.path.join(\"../datasets_fin/train/\", name)))\n",
    "\n",
    "    # img = trn_transform(image=img)['image']\n",
    "    return img, target, name, predict, image"
   ]
  },
  {
   "cell_type": "code",
   "execution_count": 99,
   "metadata": {},
   "outputs": [
    {
     "data": {
      "text/plain": [
       "target\n",
       "3     179\n",
       "7     145\n",
       "14     80\n",
       "11     60\n",
       "4      37\n",
       "6      14\n",
       "12     11\n",
       "8       8\n",
       "0       7\n",
       "9       5\n",
       "2       4\n",
       "15      2\n",
       "5       1\n",
       "10      1\n",
       "dtype: int64"
      ]
     },
     "execution_count": 99,
     "metadata": {},
     "output_type": "execute_result"
    }
   ],
   "source": [
    "tst_df[(tst_df['predict'] != tst_df['target'])].value_counts('target')"
   ]
  },
  {
   "cell_type": "code",
   "execution_count": 100,
   "metadata": {},
   "outputs": [
    {
     "data": {
      "text/plain": [
       "predict\n",
       "7     154\n",
       "3      83\n",
       "10     73\n",
       "14     71\n",
       "4      58\n",
       "1      51\n",
       "12     37\n",
       "13     13\n",
       "16      5\n",
       "11      4\n",
       "5       2\n",
       "9       2\n",
       "6       1\n",
       "dtype: int64"
      ]
     },
     "execution_count": 100,
     "metadata": {},
     "output_type": "execute_result"
    }
   ],
   "source": [
    "tst_df[(tst_df['predict'] != tst_df['target'])].value_counts('predict')"
   ]
  },
  {
   "cell_type": "code",
   "execution_count": 102,
   "metadata": {},
   "outputs": [
    {
     "data": {
      "text/html": [
       "<div>\n",
       "<style scoped>\n",
       "    .dataframe tbody tr th:only-of-type {\n",
       "        vertical-align: middle;\n",
       "    }\n",
       "\n",
       "    .dataframe tbody tr th {\n",
       "        vertical-align: top;\n",
       "    }\n",
       "\n",
       "    .dataframe thead th {\n",
       "        text-align: right;\n",
       "    }\n",
       "</style>\n",
       "<table border=\"1\" class=\"dataframe\">\n",
       "  <thead>\n",
       "    <tr style=\"text-align: right;\">\n",
       "      <th></th>\n",
       "      <th>target</th>\n",
       "      <th>predict</th>\n",
       "    </tr>\n",
       "  </thead>\n",
       "  <tbody>\n",
       "    <tr>\n",
       "      <th>23</th>\n",
       "      <td>7</td>\n",
       "      <td>3</td>\n",
       "    </tr>\n",
       "    <tr>\n",
       "      <th>68</th>\n",
       "      <td>7</td>\n",
       "      <td>3</td>\n",
       "    </tr>\n",
       "    <tr>\n",
       "      <th>99</th>\n",
       "      <td>7</td>\n",
       "      <td>12</td>\n",
       "    </tr>\n",
       "    <tr>\n",
       "      <th>180</th>\n",
       "      <td>7</td>\n",
       "      <td>3</td>\n",
       "    </tr>\n",
       "    <tr>\n",
       "      <th>225</th>\n",
       "      <td>7</td>\n",
       "      <td>3</td>\n",
       "    </tr>\n",
       "    <tr>\n",
       "      <th>...</th>\n",
       "      <td>...</td>\n",
       "      <td>...</td>\n",
       "    </tr>\n",
       "    <tr>\n",
       "      <th>8546</th>\n",
       "      <td>7</td>\n",
       "      <td>3</td>\n",
       "    </tr>\n",
       "    <tr>\n",
       "      <th>8577</th>\n",
       "      <td>7</td>\n",
       "      <td>10</td>\n",
       "    </tr>\n",
       "    <tr>\n",
       "      <th>8658</th>\n",
       "      <td>7</td>\n",
       "      <td>3</td>\n",
       "    </tr>\n",
       "    <tr>\n",
       "      <th>8734</th>\n",
       "      <td>7</td>\n",
       "      <td>12</td>\n",
       "    </tr>\n",
       "    <tr>\n",
       "      <th>8735</th>\n",
       "      <td>7</td>\n",
       "      <td>3</td>\n",
       "    </tr>\n",
       "  </tbody>\n",
       "</table>\n",
       "<p>145 rows × 2 columns</p>\n",
       "</div>"
      ],
      "text/plain": [
       "      target  predict\n",
       "23         7        3\n",
       "68         7        3\n",
       "99         7       12\n",
       "180        7        3\n",
       "225        7        3\n",
       "...      ...      ...\n",
       "8546       7        3\n",
       "8577       7       10\n",
       "8658       7        3\n",
       "8734       7       12\n",
       "8735       7        3\n",
       "\n",
       "[145 rows x 2 columns]"
      ]
     },
     "execution_count": 102,
     "metadata": {},
     "output_type": "execute_result"
    }
   ],
   "source": [
    "qw = tst_df[(tst_df['predict'] != tst_df['target'])&(tst_df['target'] == 7)]\n",
    "qw"
   ]
  },
  {
   "cell_type": "code",
   "execution_count": 103,
   "metadata": {},
   "outputs": [
    {
     "data": {
      "text/plain": [
       "target  predict\n",
       "7       3          80\n",
       "        12         34\n",
       "        1          16\n",
       "        14         10\n",
       "        4           2\n",
       "        10          2\n",
       "        6           1\n",
       "dtype: int64"
      ]
     },
     "execution_count": 103,
     "metadata": {},
     "output_type": "execute_result"
    }
   ],
   "source": [
    "qw.value_counts()"
   ]
  },
  {
   "cell_type": "code",
   "execution_count": null,
   "metadata": {},
   "outputs": [],
   "source": [
    "# # target과 predict가 일치하지 않는 이미지 시각화, target별로 확인\n",
    "# check_target = 7\n",
    "# for idx in tst_df[(tst_df['predict'] != tst_df['target'])&(tst_df['target'] == check_target)].index:\n",
    "#     img, target, name, predict, image = get_item(idx)\n",
    "#     print(img.shape, name, target, predict)\n",
    "#     # plt.imshow(img) #원본 이미지\n",
    "#     # plt.show()\n",
    "#     plt.imshow(image) #학습에 사용된 이미지\n",
    "#     plt.show()\n",
    "#     # print(idx)"
   ]
  },
  {
   "cell_type": "code",
   "execution_count": null,
   "metadata": {},
   "outputs": [],
   "source": [
    "qw = tst_df[tst_df['target'] == 13]\n",
    "qw"
   ]
  },
  {
   "cell_type": "code",
   "execution_count": null,
   "metadata": {},
   "outputs": [],
   "source": [
    "(qw['predict'] != qw['target']).sum()"
   ]
  }
 ],
 "metadata": {
  "kernelspec": {
   "display_name": "base",
   "language": "python",
   "name": "python3"
  },
  "language_info": {
   "codemirror_mode": {
    "name": "ipython",
    "version": 3
   },
   "file_extension": ".py",
   "mimetype": "text/x-python",
   "name": "python",
   "nbconvert_exporter": "python",
   "pygments_lexer": "ipython3",
   "version": "3.11.7"
  }
 },
 "nbformat": 4,
 "nbformat_minor": 2
}
