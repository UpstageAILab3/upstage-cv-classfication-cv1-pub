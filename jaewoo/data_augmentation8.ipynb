{
 "cells": [
  {
   "cell_type": "markdown",
   "metadata": {},
   "source": [
    "# augmentation을 적용한 함수 dl모델을 제작"
   ]
  },
  {
   "cell_type": "markdown",
   "metadata": {},
   "source": [
    "데이터 증강 함수\n",
    "- A.Resize(height=256, width=256) : 사이즈 변경\n",
    "- A.Normalize(mean=[0.485, 0.456, 0.406], std=[0.229, 0.224, 0.225]) : 이미지 픽셀 정규화\n",
    "- A.CoarseDropout(max_holes=16, max_height=16, max_width=16, min_holes=1, min_height=16, min_width=16) : 픽셀 드롭아웃(구멍뚫기)\n",
    "- A.Rotate(limit=(115, 115), border_mode=cv2.BORDER_CONSTANT,value=[255, 255, 255], p=1.0) : 비율 유지하여 회전, 빈공간 흰색\n",
    "- A.VerticalFlip(always_apply=False, p=0.5) : 좌우반전\n",
    "- A.HorizontalFlip(always_apply=False, p=1.0) : 상하반전\n",
    "- A.Blur(always_apply=True, p=1.0, blur_limit=(3, 7)) : 블러\n",
    "- A.GaussNoise(always_apply=False, p=1.0, var_limit=(10.0, 50.0)) : 가우시안, 되는지 의문\n",
    "- A.Downscale(always_apply=False, p=1.0, scale_min=0.35, scale_max=0.35, interpolation=0) : 픽셀다운, 모자이크\n",
    "- 믹스 추가필요"
   ]
  },
  {
   "cell_type": "code",
   "execution_count": 7,
   "metadata": {},
   "outputs": [],
   "source": [
    "# wandb 연결\n",
    "import wandb"
   ]
  },
  {
   "cell_type": "code",
   "execution_count": 8,
   "metadata": {},
   "outputs": [
    {
     "name": "stderr",
     "output_type": "stream",
     "text": [
      "Failed to detect the name of this notebook, you can set it manually with the WANDB_NOTEBOOK_NAME environment variable to enable code saving.\n",
      "\u001b[34m\u001b[1mwandb\u001b[0m: Currently logged in as: \u001b[33mwpdn0134\u001b[0m (\u001b[33mje_\u001b[0m). Use \u001b[1m`wandb login --relogin`\u001b[0m to force relogin\n"
     ]
    },
    {
     "data": {
      "text/plain": [
       "True"
      ]
     },
     "execution_count": 8,
     "metadata": {},
     "output_type": "execute_result"
    }
   ],
   "source": [
    "wandb.login()"
   ]
  },
  {
   "cell_type": "code",
   "execution_count": 1,
   "metadata": {},
   "outputs": [],
   "source": [
    "import os\n",
    "import time\n",
    "import random\n",
    "\n",
    "import timm\n",
    "import torch\n",
    "import albumentations as A\n",
    "import pandas as pd\n",
    "import numpy as np\n",
    "import torch.nn as nn\n",
    "from albumentations.pytorch import ToTensorV2\n",
    "from torch.optim import Adam\n",
    "from torchvision import transforms\n",
    "from torch.utils.data import Dataset, DataLoader, ConcatDataset\n",
    "from PIL import Image\n",
    "from tqdm import tqdm\n",
    "from sklearn.metrics import accuracy_score, f1_score\n",
    "\n",
    "import cv2\n",
    "import matplotlib.pyplot as plt\n",
    "\n",
    "from itertools import combinations"
   ]
  },
  {
   "cell_type": "code",
   "execution_count": 2,
   "metadata": {},
   "outputs": [],
   "source": [
    "# 시드를 고정합니다.\n",
    "SEED = 42\n",
    "os.environ['PYTHONHASHSEED'] = str(SEED)\n",
    "random.seed(SEED)\n",
    "np.random.seed(SEED)\n",
    "torch.manual_seed(SEED)\n",
    "torch.cuda.manual_seed(SEED)\n",
    "torch.cuda.manual_seed_all(SEED)\n",
    "torch.backends.cudnn.benchmark = True"
   ]
  },
  {
   "cell_type": "code",
   "execution_count": 3,
   "metadata": {},
   "outputs": [],
   "source": [
    "# 데이터셋 클래스를 정의합니다.\n",
    "class ImageDataset(Dataset):\n",
    "    def __init__(self, csv, path, transform=None):\n",
    "        self.df = pd.read_csv(csv).values\n",
    "        self.path = path\n",
    "        self.transform = transform\n",
    "\n",
    "    def __len__(self):\n",
    "        return len(self.df)\n",
    "\n",
    "    def __getitem__(self, idx):\n",
    "        name, target = self.df[idx]\n",
    "        img = np.array(Image.open(os.path.join(self.path, name)))\n",
    "        if self.transform:\n",
    "            img = self.transform(image=img)['image']\n",
    "        return img, target\n",
    "    "
   ]
  },
  {
   "cell_type": "code",
   "execution_count": 4,
   "metadata": {},
   "outputs": [],
   "source": [
    "# one epoch 학습을 위한 함수입니다.\n",
    "def train_one_epoch(loader, vaild_loader, model, optimizer, loss_fn, device):\n",
    "    model.train()\n",
    "    train_loss = 0\n",
    "    preds_list = []\n",
    "    targets_list = []\n",
    "    vaild_preds_list = []\n",
    "    vaild_target_list = []\n",
    "\n",
    "    pbar = tqdm(loader)\n",
    "    for image, targets in pbar:\n",
    "        image = image.float().to(device)\n",
    "        targets = targets.to(device)\n",
    "\n",
    "        model.zero_grad(set_to_none=True)\n",
    "\n",
    "        preds = model(image)\n",
    "        loss = loss_fn(preds, targets)\n",
    "        loss.backward()\n",
    "        optimizer.step()\n",
    "\n",
    "        train_loss += loss.item()\n",
    "        preds_list.extend(preds.argmax(dim=1).detach().cpu().numpy())\n",
    "        targets_list.extend(targets.detach().cpu().numpy())\n",
    "\n",
    "        pbar.set_description(f\"Loss: {loss.item():.4f}\")\n",
    "\n",
    "    train_loss /= len(loader)\n",
    "    train_acc = accuracy_score(targets_list, preds_list)\n",
    "    train_f1 = f1_score(targets_list, preds_list, average='macro')\n",
    "\n",
    "    # vaildation set predict\n",
    "    model.eval()\n",
    "    for image, target in tqdm(vaild_loader):\n",
    "        image = image.float().to(device)\n",
    "\n",
    "        with torch.no_grad():\n",
    "            preds = model(image)\n",
    "        vaild_preds_list.extend(preds.argmax(dim=1).detach().cpu().numpy())\n",
    "        vaild_target_list.extend(target.detach().cpu().numpy())\n",
    "    vaild_acc = accuracy_score(vaild_target_list, vaild_preds_list)\n",
    "    vaild_f1 = f1_score(vaild_target_list, vaild_preds_list, average='macro')\n",
    "\n",
    "    ret = {\n",
    "        \"train_loss\": train_loss,\n",
    "        \"train_acc\": train_acc,\n",
    "        \"train_f1\": train_f1,\n",
    "        \"vaild_acc\": vaild_acc,\n",
    "        \"vaild_f1\": vaild_f1,\n",
    "    }\n",
    "\n",
    "    return ret"
   ]
  },
  {
   "cell_type": "code",
   "execution_count": 5,
   "metadata": {},
   "outputs": [],
   "source": [
    "# vaild_preds_list = []\n",
    "# vaild_target_list = []\n",
    "\n",
    "# model.eval()\n",
    "# for image, target in tqdm(vaild_loader):\n",
    "#     image = image.float().to(device)\n",
    "\n",
    "#     with torch.no_grad():\n",
    "#         preds = model(image)\n",
    "#     vaild_preds_list.extend(preds.argmax(dim=1).detach().cpu().numpy())\n",
    "#     vaild_target_list.extend(target.detach().cpu().numpy())\n",
    "# vaild_acc = accuracy_score(vaild_target_list, preds_list)\n",
    "# vaild_f1 = f1_score(vaild_target_list, preds_list, average='macro')"
   ]
  },
  {
   "cell_type": "code",
   "execution_count": 5,
   "metadata": {},
   "outputs": [],
   "source": [
    "# device\n",
    "device = torch.device('cuda' if torch.cuda.is_available() else 'cpu')\n",
    "\n",
    "# data config\n",
    "data_path = '../datasets_fin/'\n",
    "\n",
    "# model config\n",
    "model_name = 'resnet34' # 'resnet50' 'efficientnet-b0', ...\n",
    "\n",
    "# training config\n",
    "img_size = 256\n",
    "LR = 1e-3\n",
    "EPOCHS = 100\n",
    "BATCH_SIZE = 32\n",
    "num_workers = 0"
   ]
  },
  {
   "cell_type": "markdown",
   "metadata": {},
   "source": [
    "- 일단 단일 augmentation들로 확인\n",
    "- 성능향상시 다양한 데이터증강을 조합하여 추가학습"
   ]
  },
  {
   "cell_type": "code",
   "execution_count": 7,
   "metadata": {},
   "outputs": [],
   "source": [
    "# # augmentation을 위한 transform 코드\n",
    "# trn_transform = A.Compose([\n",
    "#     A.Resize(height=img_size, width=img_size),\n",
    "#     A.Normalize(mean=[0.485, 0.456, 0.406], std=[0.229, 0.224, 0.225]),\n",
    "#     ToTensorV2(),\n",
    "# ])\n",
    "# trn_transform_coarseDropout = A.Compose([\n",
    "#     A.Resize(height=img_size, width=img_size),\n",
    "#     A.Normalize(mean=[0.485, 0.456, 0.406], std=[0.229, 0.224, 0.225]),\n",
    "#     A.CoarseDropout(max_holes=30, max_height=16, max_width=16, min_holes=10, min_height=16, min_width=16, p=1),\n",
    "#     ToTensorV2(),\n",
    "# ])\n",
    "# trn_transform_rotate45 = A.Compose([\n",
    "#     A.Resize(height=img_size, width=img_size),\n",
    "#     A.Normalize(mean=[0.485, 0.456, 0.406], std=[0.229, 0.224, 0.225]),\n",
    "#     A.Rotate(limit=(45, 45), border_mode=cv2.BORDER_CONSTANT,value=[255, 255, 255], p=1),\n",
    "#     ToTensorV2(),\n",
    "# ])\n",
    "# trn_transform_rotate90 = A.Compose([\n",
    "#     A.Resize(height=img_size, width=img_size),\n",
    "#     A.Normalize(mean=[0.485, 0.456, 0.406], std=[0.229, 0.224, 0.225]), \n",
    "#     A.Rotate(limit=(90, 90), border_mode=cv2.BORDER_CONSTANT,value=[255, 255, 255], p=1),\n",
    "#     ToTensorV2(),\n",
    "# ])\n",
    "# trn_transform_rotate135 = A.Compose([\n",
    "#     A.Resize(height=img_size, width=img_size),\n",
    "#     A.Normalize(mean=[0.485, 0.456, 0.406], std=[0.229, 0.224, 0.225]),\n",
    "#     A.Rotate(limit=(135, 135), border_mode=cv2.BORDER_CONSTANT,value=[255, 255, 255], p=1),\n",
    "#     ToTensorV2(),\n",
    "# ])\n",
    "# trn_transform_rotate180 = A.Compose([\n",
    "#     A.Resize(height=img_size, width=img_size),\n",
    "#     A.Normalize(mean=[0.485, 0.456, 0.406], std=[0.229, 0.224, 0.225]),\n",
    "#     A.Rotate(limit=(180, 180), border_mode=cv2.BORDER_CONSTANT,value=[255, 255, 255], p=1),\n",
    "#     ToTensorV2(),\n",
    "# ])\n",
    "# trn_transform_rotate225 = A.Compose([\n",
    "#     A.Resize(height=img_size, width=img_size),\n",
    "#     A.Normalize(mean=[0.485, 0.456, 0.406], std=[0.229, 0.224, 0.225]),\n",
    "#     A.Rotate(limit=(225, 225), border_mode=cv2.BORDER_CONSTANT,value=[255, 255, 255], p=1.0),\n",
    "#     ToTensorV2(),\n",
    "# ])\n",
    "# trn_transform_rotate270 = A.Compose([\n",
    "#     A.Resize(height=img_size, width=img_size),\n",
    "#     A.Normalize(mean=[0.485, 0.456, 0.406], std=[0.229, 0.224, 0.225]),\n",
    "#     A.Rotate(limit=(270, 270), border_mode=cv2.BORDER_CONSTANT,value=[255, 255, 255], p=1.0),\n",
    "#     ToTensorV2(),\n",
    "# ])\n",
    "# trn_transform_rotate315 = A.Compose([\n",
    "#     A.Resize(height=img_size, width=img_size),\n",
    "#     A.Normalize(mean=[0.485, 0.456, 0.406], std=[0.229, 0.224, 0.225]),\n",
    "#     A.Rotate(limit=(315, 315), border_mode=cv2.BORDER_CONSTANT,value=[255, 255, 255], p=1.0),\n",
    "#     ToTensorV2(),\n",
    "# ])\n",
    "# trn_transform_verticalflip = A.Compose([\n",
    "#     A.Resize(height=img_size, width=img_size),\n",
    "#     A.Normalize(mean=[0.485, 0.456, 0.406], std=[0.229, 0.224, 0.225]),\n",
    "#     A.VerticalFlip(always_apply=False, p=1.0),\n",
    "#     ToTensorV2(),\n",
    "# ])\n",
    "# trn_transform_horizontalflip = A.Compose([\n",
    "#     A.Resize(height=img_size, width=img_size),\n",
    "#     A.Normalize(mean=[0.485, 0.456, 0.406], std=[0.229, 0.224, 0.225]),\n",
    "#     A.HorizontalFlip(always_apply=False, p=1.0),\n",
    "#     ToTensorV2(),\n",
    "# ])\n",
    "# trn_transform_blur = A.Compose([\n",
    "#     A.Resize(height=img_size, width=img_size),\n",
    "#     A.Normalize(mean=[0.485, 0.456, 0.406], std=[0.229, 0.224, 0.225]),\n",
    "#     A.Blur(always_apply=True, p=1.0, blur_limit=(3, 3)),\n",
    "#     ToTensorV2(),\n",
    "# ])\n",
    "# trn_transform_gaussnoise = A.Compose([\n",
    "#     A.Resize(height=img_size, width=img_size),\n",
    "#     A.Normalize(mean=[0.485, 0.456, 0.406], std=[0.229, 0.224, 0.225]),\n",
    "#     A.GaussNoise(always_apply=False, p=1.0, var_limit=(500.0, 500.0)),\n",
    "#     ToTensorV2(),\n",
    "# ])\n",
    "# trn_transform_downscale = A.Compose([\n",
    "#     A.Resize(height=img_size, width=img_size),\n",
    "#     A.Normalize(mean=[0.485, 0.456, 0.406], std=[0.229, 0.224, 0.225]),\n",
    "#     A.Downscale(always_apply=False, p=1.0, scale_min=0.5, scale_max=0.5, interpolation=0),\n",
    "#     ToTensorV2(),\n",
    "# ])\n",
    "# transform_list = [trn_transform, trn_transform_coarseDropout, trn_transform_rotate45, trn_transform_rotate90, trn_transform_rotate135, trn_transform_rotate180, trn_transform_rotate225,\n",
    "#                   trn_transform_rotate270, trn_transform_rotate315, trn_transform_verticalflip, trn_transform_horizontalflip, trn_transform_blur, trn_transform_gaussnoise,\n",
    "#                   trn_transform_downscale]\n",
    "\n",
    "# # test image 변환을 위한 transform 코드\n",
    "# tst_transform = A.Compose([\n",
    "#     A.Resize(height=img_size, width=img_size),\n",
    "#     A.Normalize(mean=[0.485, 0.456, 0.406], std=[0.229, 0.224, 0.225]),\n",
    "#     ToTensorV2(),\n",
    "# ])"
   ]
  },
  {
   "cell_type": "code",
   "execution_count": 6,
   "metadata": {},
   "outputs": [],
   "source": [
    "trn_transform = A.Compose([\n",
    "    A.Resize(height=img_size, width=img_size),\n",
    "    A.Normalize(mean=[0.485, 0.456, 0.406], std=[0.229, 0.224, 0.225]),\n",
    "    ToTensorV2()\n",
    "])\n",
    "transform_list = [A.CoarseDropout(max_holes=30, max_height=16, max_width=16, min_holes=10, min_height=16, min_width=16, p=1),\n",
    "                  A.Rotate(limit=(45, 45), border_mode=cv2.BORDER_CONSTANT,value=[255, 255, 255], p=1),\n",
    "                  A.Rotate(limit=(90, 90), border_mode=cv2.BORDER_CONSTANT,value=[255, 255, 255], p=1),\n",
    "                  A.Rotate(limit=(135, 135), border_mode=cv2.BORDER_CONSTANT,value=[255, 255, 255], p=1),\n",
    "                  A.Rotate(limit=(180, 180), border_mode=cv2.BORDER_CONSTANT,value=[255, 255, 255], p=1),\n",
    "                  A.Rotate(limit=(225, 225), border_mode=cv2.BORDER_CONSTANT,value=[255, 255, 255], p=1),\n",
    "                  A.Rotate(limit=(270, 270), border_mode=cv2.BORDER_CONSTANT,value=[255, 255, 255], p=1),\n",
    "                  A.Rotate(limit=(315, 315), border_mode=cv2.BORDER_CONSTANT,value=[255, 255, 255], p=1),\n",
    "                  # A.Rotate(limit=(0, 360), border_mode=cv2.BORDER_CONSTANT,value=[255, 255, 255], p=1),\n",
    "                  A.VerticalFlip(always_apply=False, p=1),\n",
    "                  A.HorizontalFlip(always_apply=False, p=1),\n",
    "                  A.Blur(always_apply=True, p=1, blur_limit=(3, 3)),\n",
    "                  A.GaussNoise(always_apply=False, p=1, var_limit=(0.2, 0.2)),\n",
    "                  A.Downscale(always_apply=False, p=1, scale_min=0.5, scale_max=0.5, interpolation=0),]\n",
    "\n",
    "tst_transform = A.Compose([ \n",
    "    A.Resize(height=img_size, width=img_size),\n",
    "    A.Normalize(mean=[0.485, 0.456, 0.406], std=[0.229, 0.224, 0.225]),\n",
    "    ToTensorV2()\n",
    "])"
   ]
  },
  {
   "cell_type": "code",
   "execution_count": 25,
   "metadata": {},
   "outputs": [
    {
     "name": "stdout",
     "output_type": "stream",
     "text": [
      "CoarseDropout(always_apply=False, p=1, max_holes=30, max_height=16, max_width=16, min_holes=10, min_height=16, min_width=16, fill_value=0, mask_fill_value=None) Rotate(always_apply=False, p=1, limit=(45, 45), interpolation=1, border_mode=0, value=[255, 255, 255], mask_value=None, rotate_method='largest_box', crop_border=False)\n",
      "CoarseDropout(always_apply=False, p=1, max_holes=30, max_height=16, max_width=16, min_holes=10, min_height=16, min_width=16, fill_value=0, mask_fill_value=None) Rotate(always_apply=False, p=1, limit=(90, 90), interpolation=1, border_mode=0, value=[255, 255, 255], mask_value=None, rotate_method='largest_box', crop_border=False)\n",
      "CoarseDropout(always_apply=False, p=1, max_holes=30, max_height=16, max_width=16, min_holes=10, min_height=16, min_width=16, fill_value=0, mask_fill_value=None) Rotate(always_apply=False, p=1, limit=(135, 135), interpolation=1, border_mode=0, value=[255, 255, 255], mask_value=None, rotate_method='largest_box', crop_border=False)\n",
      "CoarseDropout(always_apply=False, p=1, max_holes=30, max_height=16, max_width=16, min_holes=10, min_height=16, min_width=16, fill_value=0, mask_fill_value=None) Rotate(always_apply=False, p=1, limit=(180, 180), interpolation=1, border_mode=0, value=[255, 255, 255], mask_value=None, rotate_method='largest_box', crop_border=False)\n",
      "CoarseDropout(always_apply=False, p=1, max_holes=30, max_height=16, max_width=16, min_holes=10, min_height=16, min_width=16, fill_value=0, mask_fill_value=None) Rotate(always_apply=False, p=1, limit=(225, 225), interpolation=1, border_mode=0, value=[255, 255, 255], mask_value=None, rotate_method='largest_box', crop_border=False)\n",
      "CoarseDropout(always_apply=False, p=1, max_holes=30, max_height=16, max_width=16, min_holes=10, min_height=16, min_width=16, fill_value=0, mask_fill_value=None) Rotate(always_apply=False, p=1, limit=(270, 270), interpolation=1, border_mode=0, value=[255, 255, 255], mask_value=None, rotate_method='largest_box', crop_border=False)\n",
      "CoarseDropout(always_apply=False, p=1, max_holes=30, max_height=16, max_width=16, min_holes=10, min_height=16, min_width=16, fill_value=0, mask_fill_value=None) Rotate(always_apply=False, p=1, limit=(315, 315), interpolation=1, border_mode=0, value=[255, 255, 255], mask_value=None, rotate_method='largest_box', crop_border=False)\n",
      "CoarseDropout(always_apply=False, p=1, max_holes=30, max_height=16, max_width=16, min_holes=10, min_height=16, min_width=16, fill_value=0, mask_fill_value=None) VerticalFlip(always_apply=False, p=1)\n",
      "CoarseDropout(always_apply=False, p=1, max_holes=30, max_height=16, max_width=16, min_holes=10, min_height=16, min_width=16, fill_value=0, mask_fill_value=None) HorizontalFlip(always_apply=False, p=1)\n",
      "CoarseDropout(always_apply=False, p=1, max_holes=30, max_height=16, max_width=16, min_holes=10, min_height=16, min_width=16, fill_value=0, mask_fill_value=None) Blur(always_apply=True, p=1, blur_limit=(3, 3))\n",
      "CoarseDropout(always_apply=False, p=1, max_holes=30, max_height=16, max_width=16, min_holes=10, min_height=16, min_width=16, fill_value=0, mask_fill_value=None) GaussNoise(always_apply=False, p=1, var_limit=(0.5, 0.5), per_channel=True, mean=0)\n",
      "CoarseDropout(always_apply=False, p=1, max_holes=30, max_height=16, max_width=16, min_holes=10, min_height=16, min_width=16, fill_value=0, mask_fill_value=None) Downscale(always_apply=False, p=1, scale_min=0.5, scale_max=0.5)\n",
      "Rotate(always_apply=False, p=1, limit=(45, 45), interpolation=1, border_mode=0, value=[255, 255, 255], mask_value=None, rotate_method='largest_box', crop_border=False) Rotate(always_apply=False, p=1, limit=(90, 90), interpolation=1, border_mode=0, value=[255, 255, 255], mask_value=None, rotate_method='largest_box', crop_border=False)\n",
      "Rotate(always_apply=False, p=1, limit=(45, 45), interpolation=1, border_mode=0, value=[255, 255, 255], mask_value=None, rotate_method='largest_box', crop_border=False) Rotate(always_apply=False, p=1, limit=(135, 135), interpolation=1, border_mode=0, value=[255, 255, 255], mask_value=None, rotate_method='largest_box', crop_border=False)\n",
      "Rotate(always_apply=False, p=1, limit=(45, 45), interpolation=1, border_mode=0, value=[255, 255, 255], mask_value=None, rotate_method='largest_box', crop_border=False) Rotate(always_apply=False, p=1, limit=(180, 180), interpolation=1, border_mode=0, value=[255, 255, 255], mask_value=None, rotate_method='largest_box', crop_border=False)\n",
      "Rotate(always_apply=False, p=1, limit=(45, 45), interpolation=1, border_mode=0, value=[255, 255, 255], mask_value=None, rotate_method='largest_box', crop_border=False) Rotate(always_apply=False, p=1, limit=(225, 225), interpolation=1, border_mode=0, value=[255, 255, 255], mask_value=None, rotate_method='largest_box', crop_border=False)\n",
      "Rotate(always_apply=False, p=1, limit=(45, 45), interpolation=1, border_mode=0, value=[255, 255, 255], mask_value=None, rotate_method='largest_box', crop_border=False) Rotate(always_apply=False, p=1, limit=(270, 270), interpolation=1, border_mode=0, value=[255, 255, 255], mask_value=None, rotate_method='largest_box', crop_border=False)\n",
      "Rotate(always_apply=False, p=1, limit=(45, 45), interpolation=1, border_mode=0, value=[255, 255, 255], mask_value=None, rotate_method='largest_box', crop_border=False) Rotate(always_apply=False, p=1, limit=(315, 315), interpolation=1, border_mode=0, value=[255, 255, 255], mask_value=None, rotate_method='largest_box', crop_border=False)\n",
      "Rotate(always_apply=False, p=1, limit=(45, 45), interpolation=1, border_mode=0, value=[255, 255, 255], mask_value=None, rotate_method='largest_box', crop_border=False) VerticalFlip(always_apply=False, p=1)\n",
      "Rotate(always_apply=False, p=1, limit=(45, 45), interpolation=1, border_mode=0, value=[255, 255, 255], mask_value=None, rotate_method='largest_box', crop_border=False) HorizontalFlip(always_apply=False, p=1)\n",
      "Rotate(always_apply=False, p=1, limit=(45, 45), interpolation=1, border_mode=0, value=[255, 255, 255], mask_value=None, rotate_method='largest_box', crop_border=False) Blur(always_apply=True, p=1, blur_limit=(3, 3))\n",
      "Rotate(always_apply=False, p=1, limit=(45, 45), interpolation=1, border_mode=0, value=[255, 255, 255], mask_value=None, rotate_method='largest_box', crop_border=False) GaussNoise(always_apply=False, p=1, var_limit=(0.5, 0.5), per_channel=True, mean=0)\n",
      "Rotate(always_apply=False, p=1, limit=(45, 45), interpolation=1, border_mode=0, value=[255, 255, 255], mask_value=None, rotate_method='largest_box', crop_border=False) Downscale(always_apply=False, p=1, scale_min=0.5, scale_max=0.5)\n",
      "Rotate(always_apply=False, p=1, limit=(90, 90), interpolation=1, border_mode=0, value=[255, 255, 255], mask_value=None, rotate_method='largest_box', crop_border=False) Rotate(always_apply=False, p=1, limit=(135, 135), interpolation=1, border_mode=0, value=[255, 255, 255], mask_value=None, rotate_method='largest_box', crop_border=False)\n",
      "Rotate(always_apply=False, p=1, limit=(90, 90), interpolation=1, border_mode=0, value=[255, 255, 255], mask_value=None, rotate_method='largest_box', crop_border=False) Rotate(always_apply=False, p=1, limit=(180, 180), interpolation=1, border_mode=0, value=[255, 255, 255], mask_value=None, rotate_method='largest_box', crop_border=False)\n",
      "Rotate(always_apply=False, p=1, limit=(90, 90), interpolation=1, border_mode=0, value=[255, 255, 255], mask_value=None, rotate_method='largest_box', crop_border=False) Rotate(always_apply=False, p=1, limit=(225, 225), interpolation=1, border_mode=0, value=[255, 255, 255], mask_value=None, rotate_method='largest_box', crop_border=False)\n",
      "Rotate(always_apply=False, p=1, limit=(90, 90), interpolation=1, border_mode=0, value=[255, 255, 255], mask_value=None, rotate_method='largest_box', crop_border=False) Rotate(always_apply=False, p=1, limit=(270, 270), interpolation=1, border_mode=0, value=[255, 255, 255], mask_value=None, rotate_method='largest_box', crop_border=False)\n",
      "Rotate(always_apply=False, p=1, limit=(90, 90), interpolation=1, border_mode=0, value=[255, 255, 255], mask_value=None, rotate_method='largest_box', crop_border=False) Rotate(always_apply=False, p=1, limit=(315, 315), interpolation=1, border_mode=0, value=[255, 255, 255], mask_value=None, rotate_method='largest_box', crop_border=False)\n",
      "Rotate(always_apply=False, p=1, limit=(90, 90), interpolation=1, border_mode=0, value=[255, 255, 255], mask_value=None, rotate_method='largest_box', crop_border=False) VerticalFlip(always_apply=False, p=1)\n",
      "Rotate(always_apply=False, p=1, limit=(90, 90), interpolation=1, border_mode=0, value=[255, 255, 255], mask_value=None, rotate_method='largest_box', crop_border=False) HorizontalFlip(always_apply=False, p=1)\n",
      "Rotate(always_apply=False, p=1, limit=(90, 90), interpolation=1, border_mode=0, value=[255, 255, 255], mask_value=None, rotate_method='largest_box', crop_border=False) Blur(always_apply=True, p=1, blur_limit=(3, 3))\n",
      "Rotate(always_apply=False, p=1, limit=(90, 90), interpolation=1, border_mode=0, value=[255, 255, 255], mask_value=None, rotate_method='largest_box', crop_border=False) GaussNoise(always_apply=False, p=1, var_limit=(0.5, 0.5), per_channel=True, mean=0)\n",
      "Rotate(always_apply=False, p=1, limit=(90, 90), interpolation=1, border_mode=0, value=[255, 255, 255], mask_value=None, rotate_method='largest_box', crop_border=False) Downscale(always_apply=False, p=1, scale_min=0.5, scale_max=0.5)\n",
      "Rotate(always_apply=False, p=1, limit=(135, 135), interpolation=1, border_mode=0, value=[255, 255, 255], mask_value=None, rotate_method='largest_box', crop_border=False) Rotate(always_apply=False, p=1, limit=(180, 180), interpolation=1, border_mode=0, value=[255, 255, 255], mask_value=None, rotate_method='largest_box', crop_border=False)\n",
      "Rotate(always_apply=False, p=1, limit=(135, 135), interpolation=1, border_mode=0, value=[255, 255, 255], mask_value=None, rotate_method='largest_box', crop_border=False) Rotate(always_apply=False, p=1, limit=(225, 225), interpolation=1, border_mode=0, value=[255, 255, 255], mask_value=None, rotate_method='largest_box', crop_border=False)\n",
      "Rotate(always_apply=False, p=1, limit=(135, 135), interpolation=1, border_mode=0, value=[255, 255, 255], mask_value=None, rotate_method='largest_box', crop_border=False) Rotate(always_apply=False, p=1, limit=(270, 270), interpolation=1, border_mode=0, value=[255, 255, 255], mask_value=None, rotate_method='largest_box', crop_border=False)\n",
      "Rotate(always_apply=False, p=1, limit=(135, 135), interpolation=1, border_mode=0, value=[255, 255, 255], mask_value=None, rotate_method='largest_box', crop_border=False) Rotate(always_apply=False, p=1, limit=(315, 315), interpolation=1, border_mode=0, value=[255, 255, 255], mask_value=None, rotate_method='largest_box', crop_border=False)\n",
      "Rotate(always_apply=False, p=1, limit=(135, 135), interpolation=1, border_mode=0, value=[255, 255, 255], mask_value=None, rotate_method='largest_box', crop_border=False) VerticalFlip(always_apply=False, p=1)\n",
      "Rotate(always_apply=False, p=1, limit=(135, 135), interpolation=1, border_mode=0, value=[255, 255, 255], mask_value=None, rotate_method='largest_box', crop_border=False) HorizontalFlip(always_apply=False, p=1)\n",
      "Rotate(always_apply=False, p=1, limit=(135, 135), interpolation=1, border_mode=0, value=[255, 255, 255], mask_value=None, rotate_method='largest_box', crop_border=False) Blur(always_apply=True, p=1, blur_limit=(3, 3))\n",
      "Rotate(always_apply=False, p=1, limit=(135, 135), interpolation=1, border_mode=0, value=[255, 255, 255], mask_value=None, rotate_method='largest_box', crop_border=False) GaussNoise(always_apply=False, p=1, var_limit=(0.5, 0.5), per_channel=True, mean=0)\n",
      "Rotate(always_apply=False, p=1, limit=(135, 135), interpolation=1, border_mode=0, value=[255, 255, 255], mask_value=None, rotate_method='largest_box', crop_border=False) Downscale(always_apply=False, p=1, scale_min=0.5, scale_max=0.5)\n",
      "Rotate(always_apply=False, p=1, limit=(180, 180), interpolation=1, border_mode=0, value=[255, 255, 255], mask_value=None, rotate_method='largest_box', crop_border=False) Rotate(always_apply=False, p=1, limit=(225, 225), interpolation=1, border_mode=0, value=[255, 255, 255], mask_value=None, rotate_method='largest_box', crop_border=False)\n",
      "Rotate(always_apply=False, p=1, limit=(180, 180), interpolation=1, border_mode=0, value=[255, 255, 255], mask_value=None, rotate_method='largest_box', crop_border=False) Rotate(always_apply=False, p=1, limit=(270, 270), interpolation=1, border_mode=0, value=[255, 255, 255], mask_value=None, rotate_method='largest_box', crop_border=False)\n",
      "Rotate(always_apply=False, p=1, limit=(180, 180), interpolation=1, border_mode=0, value=[255, 255, 255], mask_value=None, rotate_method='largest_box', crop_border=False) Rotate(always_apply=False, p=1, limit=(315, 315), interpolation=1, border_mode=0, value=[255, 255, 255], mask_value=None, rotate_method='largest_box', crop_border=False)\n",
      "Rotate(always_apply=False, p=1, limit=(180, 180), interpolation=1, border_mode=0, value=[255, 255, 255], mask_value=None, rotate_method='largest_box', crop_border=False) VerticalFlip(always_apply=False, p=1)\n",
      "Rotate(always_apply=False, p=1, limit=(180, 180), interpolation=1, border_mode=0, value=[255, 255, 255], mask_value=None, rotate_method='largest_box', crop_border=False) HorizontalFlip(always_apply=False, p=1)\n",
      "Rotate(always_apply=False, p=1, limit=(180, 180), interpolation=1, border_mode=0, value=[255, 255, 255], mask_value=None, rotate_method='largest_box', crop_border=False) Blur(always_apply=True, p=1, blur_limit=(3, 3))\n",
      "Rotate(always_apply=False, p=1, limit=(180, 180), interpolation=1, border_mode=0, value=[255, 255, 255], mask_value=None, rotate_method='largest_box', crop_border=False) GaussNoise(always_apply=False, p=1, var_limit=(0.5, 0.5), per_channel=True, mean=0)\n",
      "Rotate(always_apply=False, p=1, limit=(180, 180), interpolation=1, border_mode=0, value=[255, 255, 255], mask_value=None, rotate_method='largest_box', crop_border=False) Downscale(always_apply=False, p=1, scale_min=0.5, scale_max=0.5)\n",
      "Rotate(always_apply=False, p=1, limit=(225, 225), interpolation=1, border_mode=0, value=[255, 255, 255], mask_value=None, rotate_method='largest_box', crop_border=False) Rotate(always_apply=False, p=1, limit=(270, 270), interpolation=1, border_mode=0, value=[255, 255, 255], mask_value=None, rotate_method='largest_box', crop_border=False)\n",
      "Rotate(always_apply=False, p=1, limit=(225, 225), interpolation=1, border_mode=0, value=[255, 255, 255], mask_value=None, rotate_method='largest_box', crop_border=False) Rotate(always_apply=False, p=1, limit=(315, 315), interpolation=1, border_mode=0, value=[255, 255, 255], mask_value=None, rotate_method='largest_box', crop_border=False)\n",
      "Rotate(always_apply=False, p=1, limit=(225, 225), interpolation=1, border_mode=0, value=[255, 255, 255], mask_value=None, rotate_method='largest_box', crop_border=False) VerticalFlip(always_apply=False, p=1)\n",
      "Rotate(always_apply=False, p=1, limit=(225, 225), interpolation=1, border_mode=0, value=[255, 255, 255], mask_value=None, rotate_method='largest_box', crop_border=False) HorizontalFlip(always_apply=False, p=1)\n",
      "Rotate(always_apply=False, p=1, limit=(225, 225), interpolation=1, border_mode=0, value=[255, 255, 255], mask_value=None, rotate_method='largest_box', crop_border=False) Blur(always_apply=True, p=1, blur_limit=(3, 3))\n",
      "Rotate(always_apply=False, p=1, limit=(225, 225), interpolation=1, border_mode=0, value=[255, 255, 255], mask_value=None, rotate_method='largest_box', crop_border=False) GaussNoise(always_apply=False, p=1, var_limit=(0.5, 0.5), per_channel=True, mean=0)\n",
      "Rotate(always_apply=False, p=1, limit=(225, 225), interpolation=1, border_mode=0, value=[255, 255, 255], mask_value=None, rotate_method='largest_box', crop_border=False) Downscale(always_apply=False, p=1, scale_min=0.5, scale_max=0.5)\n",
      "Rotate(always_apply=False, p=1, limit=(270, 270), interpolation=1, border_mode=0, value=[255, 255, 255], mask_value=None, rotate_method='largest_box', crop_border=False) Rotate(always_apply=False, p=1, limit=(315, 315), interpolation=1, border_mode=0, value=[255, 255, 255], mask_value=None, rotate_method='largest_box', crop_border=False)\n",
      "Rotate(always_apply=False, p=1, limit=(270, 270), interpolation=1, border_mode=0, value=[255, 255, 255], mask_value=None, rotate_method='largest_box', crop_border=False) VerticalFlip(always_apply=False, p=1)\n",
      "Rotate(always_apply=False, p=1, limit=(270, 270), interpolation=1, border_mode=0, value=[255, 255, 255], mask_value=None, rotate_method='largest_box', crop_border=False) HorizontalFlip(always_apply=False, p=1)\n",
      "Rotate(always_apply=False, p=1, limit=(270, 270), interpolation=1, border_mode=0, value=[255, 255, 255], mask_value=None, rotate_method='largest_box', crop_border=False) Blur(always_apply=True, p=1, blur_limit=(3, 3))\n",
      "Rotate(always_apply=False, p=1, limit=(270, 270), interpolation=1, border_mode=0, value=[255, 255, 255], mask_value=None, rotate_method='largest_box', crop_border=False) GaussNoise(always_apply=False, p=1, var_limit=(0.5, 0.5), per_channel=True, mean=0)\n",
      "Rotate(always_apply=False, p=1, limit=(270, 270), interpolation=1, border_mode=0, value=[255, 255, 255], mask_value=None, rotate_method='largest_box', crop_border=False) Downscale(always_apply=False, p=1, scale_min=0.5, scale_max=0.5)\n",
      "Rotate(always_apply=False, p=1, limit=(315, 315), interpolation=1, border_mode=0, value=[255, 255, 255], mask_value=None, rotate_method='largest_box', crop_border=False) VerticalFlip(always_apply=False, p=1)\n",
      "Rotate(always_apply=False, p=1, limit=(315, 315), interpolation=1, border_mode=0, value=[255, 255, 255], mask_value=None, rotate_method='largest_box', crop_border=False) HorizontalFlip(always_apply=False, p=1)\n",
      "Rotate(always_apply=False, p=1, limit=(315, 315), interpolation=1, border_mode=0, value=[255, 255, 255], mask_value=None, rotate_method='largest_box', crop_border=False) Blur(always_apply=True, p=1, blur_limit=(3, 3))\n",
      "Rotate(always_apply=False, p=1, limit=(315, 315), interpolation=1, border_mode=0, value=[255, 255, 255], mask_value=None, rotate_method='largest_box', crop_border=False) GaussNoise(always_apply=False, p=1, var_limit=(0.5, 0.5), per_channel=True, mean=0)\n",
      "Rotate(always_apply=False, p=1, limit=(315, 315), interpolation=1, border_mode=0, value=[255, 255, 255], mask_value=None, rotate_method='largest_box', crop_border=False) Downscale(always_apply=False, p=1, scale_min=0.5, scale_max=0.5)\n",
      "VerticalFlip(always_apply=False, p=1) HorizontalFlip(always_apply=False, p=1)\n",
      "VerticalFlip(always_apply=False, p=1) Blur(always_apply=True, p=1, blur_limit=(3, 3))\n",
      "VerticalFlip(always_apply=False, p=1) GaussNoise(always_apply=False, p=1, var_limit=(0.5, 0.5), per_channel=True, mean=0)\n",
      "VerticalFlip(always_apply=False, p=1) Downscale(always_apply=False, p=1, scale_min=0.5, scale_max=0.5)\n",
      "HorizontalFlip(always_apply=False, p=1) Blur(always_apply=True, p=1, blur_limit=(3, 3))\n",
      "HorizontalFlip(always_apply=False, p=1) GaussNoise(always_apply=False, p=1, var_limit=(0.5, 0.5), per_channel=True, mean=0)\n",
      "HorizontalFlip(always_apply=False, p=1) Downscale(always_apply=False, p=1, scale_min=0.5, scale_max=0.5)\n",
      "Blur(always_apply=True, p=1, blur_limit=(3, 3)) GaussNoise(always_apply=False, p=1, var_limit=(0.5, 0.5), per_channel=True, mean=0)\n",
      "Blur(always_apply=True, p=1, blur_limit=(3, 3)) Downscale(always_apply=False, p=1, scale_min=0.5, scale_max=0.5)\n",
      "GaussNoise(always_apply=False, p=1, var_limit=(0.5, 0.5), per_channel=True, mean=0) Downscale(always_apply=False, p=1, scale_min=0.5, scale_max=0.5)\n"
     ]
    }
   ],
   "source": [
    "# transform_list에서 2개 조합으로 데이터 증강\n",
    "for a, b in combinations(transform_list, 2):\n",
    "    print(a, b, end=\"\\n\")"
   ]
  },
  {
   "cell_type": "code",
   "execution_count": 9,
   "metadata": {},
   "outputs": [],
   "source": [
    "# Dataset 정의를 위한 함수\n",
    "def make_dataset(transform_list, csv, path):\n",
    "    trn_dataset = ImageDataset(\n",
    "        csv,\n",
    "        path,\n",
    "        # transform=transform_list[0]\n",
    "        transform = trn_transform\n",
    "    )\n",
    "    for transform in transform_list:\n",
    "        trn_dataset2 = ImageDataset(\n",
    "            csv,\n",
    "            path,\n",
    "            transform=A.Compose([\n",
    "                A.Resize(height=img_size, width=img_size),\n",
    "                A.Normalize(mean=[0.485, 0.456, 0.406], std=[0.229, 0.224, 0.225]),\n",
    "                transform,\n",
    "                ToTensorV2()\n",
    "            ])\n",
    "        )\n",
    "        trn_dataset = ConcatDataset([trn_dataset, trn_dataset2])\n",
    "\n",
    "    for transform1, transform2 in combinations(transform_list, 2):\n",
    "        trn_dataset2 = ImageDataset(\n",
    "            csv,\n",
    "            path,\n",
    "            transform=A.Compose([\n",
    "                A.Resize(height=img_size, width=img_size),\n",
    "                A.Normalize(mean=[0.485, 0.456, 0.406], std=[0.229, 0.224, 0.225]),\n",
    "                transform1,\n",
    "                transform2,\n",
    "                ToTensorV2()\n",
    "            ])\n",
    "        )\n",
    "        trn_dataset = ConcatDataset([trn_dataset, trn_dataset2])\n",
    "\n",
    "\n",
    "    return trn_dataset"
   ]
  },
  {
   "cell_type": "code",
   "execution_count": 12,
   "metadata": {},
   "outputs": [],
   "source": [
    "# # vaildation set 정의\n",
    "# def make_vaild_dataset(transform_list, csv, path):\n",
    "#     trn_dataset = ImageDataset(\n",
    "#         csv,\n",
    "#         path,\n",
    "#         transform=transform_list[0]\n",
    "#     )\n",
    "#     for transform in transform_list[1:]:\n",
    "#         trn_dataset2 = ImageDataset(\n",
    "#             csv,\n",
    "#             path,\n",
    "#             transform=A.Compose([\n",
    "#                 A.Resize(height=img_size, width=img_size),\n",
    "#                 A.Normalize(mean=[0.485, 0.456, 0.406], std=[0.229, 0.224, 0.225]),\n",
    "#                 transform_list[0],\n",
    "#                 ToTensorV2()\n",
    "#             ])\n",
    "#         )\n",
    "#         trn_dataset = ConcatDataset([trn_dataset, trn_dataset2])\n",
    "    \n",
    "#     for transform in transform_list[1:]:\n",
    "#         trn_dataset2 = ImageDataset(\n",
    "#             csv,\n",
    "#             path,\n",
    "#             transform=A.Compose([\n",
    "#                 A.Resize(height=img_size, width=img_size),\n",
    "#                 A.Normalize(mean=[0.485, 0.456, 0.406], std=[0.229, 0.224, 0.225]),\n",
    "#                 transform,\n",
    "#                 ToTensorV2()\n",
    "#             ])\n",
    "#         )\n",
    "#         trn_dataset = ConcatDataset([trn_dataset, trn_dataset2])\n",
    "\n",
    "#     for transform1, transform2 in combinations(transform_list, 2):\n",
    "#         trn_dataset2 = ImageDataset(\n",
    "#             csv,\n",
    "#             path,\n",
    "#             transform=A.Compose([\n",
    "#                 A.Resize(height=img_size, width=img_size),\n",
    "#                 A.Normalize(mean=[0.485, 0.456, 0.406], std=[0.229, 0.224, 0.225]),\n",
    "#                 transform1,\n",
    "#                 transform2,\n",
    "#                 ToTensorV2()\n",
    "#             ])\n",
    "#         )\n",
    "\n",
    "#     return trn_dataset"
   ]
  },
  {
   "cell_type": "code",
   "execution_count": 10,
   "metadata": {},
   "outputs": [
    {
     "name": "stdout",
     "output_type": "stream",
     "text": [
      "115552 14444 157\n"
     ]
    }
   ],
   "source": [
    "trn_dataset = make_dataset(transform_list, \"../datasets_fin/divided_train.csv\", \"../datasets_fin/train/\")\n",
    "vaild_dataset = make_dataset(transform_list, \"../datasets_fin/vaild.csv\", \"../datasets_fin/train/\",)\n",
    "tst_dataset = ImageDataset(\n",
    "    \"../datasets_fin/test.csv\",\n",
    "    \"../datasets_fin/train/\",\n",
    "    transform=tst_transform\n",
    ")\n",
    "print(len(trn_dataset), len(vaild_dataset), len(tst_dataset))"
   ]
  },
  {
   "cell_type": "code",
   "execution_count": 28,
   "metadata": {},
   "outputs": [
    {
     "name": "stdout",
     "output_type": "stream",
     "text": [
      "115552 14444 157\n"
     ]
    }
   ],
   "source": [
    "# Dataset 정의를 위한 함수\n",
    "# trn_dataset = ImageDataset(\n",
    "#     \"../datasets_fin/divided_train.csv\",\n",
    "#     \"../datasets_fin/train/\",\n",
    "#     transform=trn_transform\n",
    "# )\n",
    "# vaild_dataset = make_vaild_dataset(transform_list, \"../datasets_fin/vaild.csv\", \"../datasets_fin/train/\")\n",
    "# tst_dataset = ImageDataset(\n",
    "#     \"../datasets_fin/test.csv\",\n",
    "#     \"../datasets_fin/train/\",\n",
    "#     transform=tst_transform\n",
    "# )\n",
    "# print(len(trn_dataset), len(vaild_dataset), len(tst_dataset))"
   ]
  },
  {
   "cell_type": "code",
   "execution_count": 11,
   "metadata": {},
   "outputs": [],
   "source": [
    "# DataLoader 정의\n",
    "trn_loader = DataLoader(\n",
    "    trn_dataset,\n",
    "    batch_size=BATCH_SIZE,\n",
    "    shuffle=True,\n",
    "    # shuffle=True,\n",
    "    num_workers=num_workers,\n",
    "    pin_memory=True,\n",
    "    drop_last=False\n",
    ")\n",
    "vaild_loader = DataLoader(\n",
    "    vaild_dataset,\n",
    "    batch_size=BATCH_SIZE,\n",
    "    shuffle=False,\n",
    "    # shuffle=True,\n",
    "    num_workers=num_workers,\n",
    "    pin_memory=True,\n",
    "    # drop_last=False\n",
    ")\n",
    "tst_loader = DataLoader(\n",
    "    tst_dataset,\n",
    "    batch_size=BATCH_SIZE,\n",
    "    shuffle=False,\n",
    "    num_workers=0,\n",
    "    pin_memory=True\n",
    ")"
   ]
  },
  {
   "cell_type": "code",
   "execution_count": 17,
   "metadata": {},
   "outputs": [],
   "source": [
    "# load model\n",
    "model = timm.create_model(\n",
    "    model_name,\n",
    "    pretrained=True,\n",
    "    num_classes=17\n",
    ").to(device)\n",
    "loss_fn = nn.CrossEntropyLoss()\n",
    "optimizer = Adam(model.parameters(), lr=LR)"
   ]
  },
  {
   "cell_type": "code",
   "execution_count": 18,
   "metadata": {},
   "outputs": [
    {
     "name": "stderr",
     "output_type": "stream",
     "text": [
      "Loss: 0.0213: 100%|██████████| 3611/3611 [13:03<00:00,  4.61it/s]\n",
      "100%|██████████| 452/452 [01:20<00:00,  5.60it/s]\n"
     ]
    },
    {
     "name": "stdout",
     "output_type": "stream",
     "text": [
      "0\n",
      "train_loss: 0.2559\n",
      "train_acc: 0.9096\n",
      "train_f1: 0.9050\n",
      "vaild_acc: 0.7700\n",
      "vaild_f1: 0.7448\n",
      "epoch: 0.0000\n",
      "\n"
     ]
    },
    {
     "name": "stderr",
     "output_type": "stream",
     "text": [
      "Loss: 0.0425: 100%|██████████| 3611/3611 [12:59<00:00,  4.63it/s]\n",
      "100%|██████████| 452/452 [01:20<00:00,  5.64it/s]\n"
     ]
    },
    {
     "name": "stdout",
     "output_type": "stream",
     "text": [
      "0\n",
      "train_loss: 0.0441\n",
      "train_acc: 0.9851\n",
      "train_f1: 0.9845\n",
      "vaild_acc: 0.8741\n",
      "vaild_f1: 0.8668\n",
      "epoch: 1.0000\n",
      "\n"
     ]
    },
    {
     "name": "stderr",
     "output_type": "stream",
     "text": [
      "Loss: 0.0381: 100%|██████████| 3611/3611 [13:00<00:00,  4.63it/s]\n",
      "100%|██████████| 452/452 [01:20<00:00,  5.62it/s]\n"
     ]
    },
    {
     "name": "stdout",
     "output_type": "stream",
     "text": [
      "1\n",
      "train_loss: 0.0292\n",
      "train_acc: 0.9904\n",
      "train_f1: 0.9901\n",
      "vaild_acc: 0.8578\n",
      "vaild_f1: 0.8443\n",
      "epoch: 2.0000\n",
      "\n"
     ]
    },
    {
     "name": "stderr",
     "output_type": "stream",
     "text": [
      "Loss: 0.0045: 100%|██████████| 3611/3611 [13:00<00:00,  4.63it/s]\n",
      "100%|██████████| 452/452 [01:20<00:00,  5.61it/s]\n"
     ]
    },
    {
     "name": "stdout",
     "output_type": "stream",
     "text": [
      "0\n",
      "train_loss: 0.0199\n",
      "train_acc: 0.9935\n",
      "train_f1: 0.9932\n",
      "vaild_acc: 0.8926\n",
      "vaild_f1: 0.8876\n",
      "epoch: 3.0000\n",
      "\n"
     ]
    },
    {
     "name": "stderr",
     "output_type": "stream",
     "text": [
      "Loss: 0.0402: 100%|██████████| 3611/3611 [13:00<00:00,  4.63it/s]\n",
      "100%|██████████| 452/452 [01:20<00:00,  5.63it/s]\n"
     ]
    },
    {
     "name": "stdout",
     "output_type": "stream",
     "text": [
      "1\n",
      "train_loss: 0.0172\n",
      "train_acc: 0.9945\n",
      "train_f1: 0.9943\n",
      "vaild_acc: 0.8701\n",
      "vaild_f1: 0.8610\n",
      "epoch: 4.0000\n",
      "\n"
     ]
    },
    {
     "name": "stderr",
     "output_type": "stream",
     "text": [
      "Loss: 0.0017: 100%|██████████| 3611/3611 [13:00<00:00,  4.63it/s]\n",
      "100%|██████████| 452/452 [01:20<00:00,  5.62it/s]\n"
     ]
    },
    {
     "name": "stdout",
     "output_type": "stream",
     "text": [
      "0\n",
      "train_loss: 0.0129\n",
      "train_acc: 0.9960\n",
      "train_f1: 0.9958\n",
      "vaild_acc: 0.8855\n",
      "vaild_f1: 0.8724\n",
      "epoch: 5.0000\n",
      "\n"
     ]
    },
    {
     "name": "stderr",
     "output_type": "stream",
     "text": [
      "Loss: 0.0009: 100%|██████████| 3611/3611 [13:00<00:00,  4.63it/s]\n",
      "100%|██████████| 452/452 [01:20<00:00,  5.59it/s]\n"
     ]
    },
    {
     "name": "stdout",
     "output_type": "stream",
     "text": [
      "1\n",
      "train_loss: 0.0109\n",
      "train_acc: 0.9966\n",
      "train_f1: 0.9965\n",
      "vaild_acc: 0.8703\n",
      "vaild_f1: 0.8611\n",
      "epoch: 6.0000\n",
      "\n"
     ]
    },
    {
     "name": "stderr",
     "output_type": "stream",
     "text": [
      "Loss: 0.1077: 100%|██████████| 3611/3611 [12:59<00:00,  4.63it/s]\n",
      "100%|██████████| 452/452 [01:20<00:00,  5.61it/s]\n"
     ]
    },
    {
     "name": "stdout",
     "output_type": "stream",
     "text": [
      "0\n",
      "train_loss: 0.0108\n",
      "train_acc: 0.9968\n",
      "train_f1: 0.9967\n",
      "vaild_acc: 0.9035\n",
      "vaild_f1: 0.8964\n",
      "epoch: 7.0000\n",
      "\n"
     ]
    },
    {
     "name": "stderr",
     "output_type": "stream",
     "text": [
      "Loss: 0.0019: 100%|██████████| 3611/3611 [13:00<00:00,  4.63it/s]\n",
      "100%|██████████| 452/452 [01:20<00:00,  5.62it/s]\n"
     ]
    },
    {
     "name": "stdout",
     "output_type": "stream",
     "text": [
      "0\n",
      "train_loss: 0.0087\n",
      "train_acc: 0.9972\n",
      "train_f1: 0.9971\n",
      "vaild_acc: 0.9000\n",
      "vaild_f1: 0.8965\n",
      "epoch: 8.0000\n",
      "\n"
     ]
    },
    {
     "name": "stderr",
     "output_type": "stream",
     "text": [
      "Loss: 0.0002: 100%|██████████| 3611/3611 [13:00<00:00,  4.63it/s]\n",
      "100%|██████████| 452/452 [01:20<00:00,  5.60it/s]\n"
     ]
    },
    {
     "name": "stdout",
     "output_type": "stream",
     "text": [
      "1\n",
      "train_loss: 0.0076\n",
      "train_acc: 0.9975\n",
      "train_f1: 0.9975\n",
      "vaild_acc: 0.8965\n",
      "vaild_f1: 0.8912\n",
      "epoch: 9.0000\n",
      "\n"
     ]
    },
    {
     "name": "stderr",
     "output_type": "stream",
     "text": [
      "Loss: 0.0001: 100%|██████████| 3611/3611 [12:59<00:00,  4.63it/s]\n",
      "100%|██████████| 452/452 [01:20<00:00,  5.60it/s]\n"
     ]
    },
    {
     "name": "stdout",
     "output_type": "stream",
     "text": [
      "0\n",
      "train_loss: 0.0068\n",
      "train_acc: 0.9979\n",
      "train_f1: 0.9978\n",
      "vaild_acc: 0.9031\n",
      "vaild_f1: 0.8998\n",
      "epoch: 10.0000\n",
      "\n"
     ]
    },
    {
     "name": "stderr",
     "output_type": "stream",
     "text": [
      "Loss: 0.0001: 100%|██████████| 3611/3611 [13:00<00:00,  4.63it/s]\n",
      "100%|██████████| 452/452 [01:20<00:00,  5.62it/s]\n"
     ]
    },
    {
     "name": "stdout",
     "output_type": "stream",
     "text": [
      "0\n",
      "train_loss: 0.0063\n",
      "train_acc: 0.9981\n",
      "train_f1: 0.9979\n",
      "vaild_acc: 0.9088\n",
      "vaild_f1: 0.9070\n",
      "epoch: 11.0000\n",
      "\n"
     ]
    },
    {
     "name": "stderr",
     "output_type": "stream",
     "text": [
      "Loss: 0.0014: 100%|██████████| 3611/3611 [12:59<00:00,  4.63it/s]\n",
      "100%|██████████| 452/452 [01:20<00:00,  5.60it/s]\n"
     ]
    },
    {
     "name": "stdout",
     "output_type": "stream",
     "text": [
      "1\n",
      "train_loss: 0.0052\n",
      "train_acc: 0.9984\n",
      "train_f1: 0.9984\n",
      "vaild_acc: 0.8664\n",
      "vaild_f1: 0.8590\n",
      "epoch: 12.0000\n",
      "\n"
     ]
    },
    {
     "name": "stderr",
     "output_type": "stream",
     "text": [
      "Loss: 0.0004: 100%|██████████| 3611/3611 [13:00<00:00,  4.63it/s]\n",
      "100%|██████████| 452/452 [01:20<00:00,  5.61it/s]\n"
     ]
    },
    {
     "name": "stdout",
     "output_type": "stream",
     "text": [
      "0\n",
      "train_loss: 0.0061\n",
      "train_acc: 0.9983\n",
      "train_f1: 0.9982\n",
      "vaild_acc: 0.9020\n",
      "vaild_f1: 0.9004\n",
      "epoch: 13.0000\n",
      "\n"
     ]
    },
    {
     "name": "stderr",
     "output_type": "stream",
     "text": [
      "Loss: 0.0013: 100%|██████████| 3611/3611 [13:00<00:00,  4.62it/s]\n",
      "100%|██████████| 452/452 [01:20<00:00,  5.61it/s]\n"
     ]
    },
    {
     "name": "stdout",
     "output_type": "stream",
     "text": [
      "1\n",
      "train_loss: 0.0052\n",
      "train_acc: 0.9984\n",
      "train_f1: 0.9984\n",
      "vaild_acc: 0.9065\n",
      "vaild_f1: 0.8990\n",
      "epoch: 14.0000\n",
      "\n"
     ]
    },
    {
     "name": "stderr",
     "output_type": "stream",
     "text": [
      "Loss: 0.0000: 100%|██████████| 3611/3611 [12:59<00:00,  4.63it/s]\n",
      "100%|██████████| 452/452 [01:20<00:00,  5.58it/s]\n"
     ]
    },
    {
     "name": "stdout",
     "output_type": "stream",
     "text": [
      "2\n",
      "train_loss: 0.0054\n",
      "train_acc: 0.9985\n",
      "train_f1: 0.9984\n",
      "vaild_acc: 0.8986\n",
      "vaild_f1: 0.8923\n",
      "epoch: 15.0000\n",
      "\n"
     ]
    },
    {
     "name": "stderr",
     "output_type": "stream",
     "text": [
      "Loss: 0.0034: 100%|██████████| 3611/3611 [13:00<00:00,  4.63it/s]\n",
      "100%|██████████| 452/452 [01:20<00:00,  5.62it/s]\n"
     ]
    },
    {
     "name": "stdout",
     "output_type": "stream",
     "text": [
      "3\n",
      "train_loss: 0.0050\n",
      "train_acc: 0.9984\n",
      "train_f1: 0.9982\n",
      "vaild_acc: 0.7809\n",
      "vaild_f1: 0.7868\n",
      "epoch: 16.0000\n",
      "\n"
     ]
    }
   ],
   "source": [
    "early_stop = 0\n",
    "best_model = model\n",
    "best_epoch = 0\n",
    "best_vaild_f1 = 0\n",
    "resent_model = model\n",
    "before_vaild_f1 = 0\n",
    "for epoch in range(EPOCHS):\n",
    "   \n",
    "   ret = train_one_epoch(trn_loader, vaild_loader, model, optimizer, loss_fn, device=device)\n",
    "   ret['epoch'] = epoch\n",
    "   if before_vaild_f1 < ret['vaild_f1']:\n",
    "      if best_vaild_f1 < ret['vaild_f1']:\n",
    "         best_vaild_f1 = ret['vaild_f1']\n",
    "         best_model = model\n",
    "         best_epoch = epoch+1\n",
    "      resent_model = model\n",
    "      early_stop = 0\n",
    "   else:\n",
    "      early_stop += 1\n",
    "   before_vaild_f1 = ret['vaild_f1']\n",
    "\n",
    "   print(early_stop)\n",
    "\n",
    "   log = \"\"\n",
    "   for k, v in ret.items():\n",
    "      log += f\"{k}: {v:.4f}\\n\"\n",
    "   print(log)\n",
    "\n",
    "   if early_stop > 2: # earlystop없이 모든 애폭을 사용하여 학습, 단 best model을 따로 저장\n",
    "      torch.save(best_model, '../model/best_augmentation8_'+str(img_size)+'_'+str(best_epoch)+'.pt')\n",
    "      break"
   ]
  },
  {
   "cell_type": "code",
   "execution_count": 40,
   "metadata": {},
   "outputs": [],
   "source": [
    "# 베스트 모델 저장\n",
    "torch.save(best_model, '../model/best_augmentation6_'+str(img_size)+'_'+str(best_epoch)+'.pt')"
   ]
  },
  {
   "cell_type": "code",
   "execution_count": 38,
   "metadata": {},
   "outputs": [],
   "source": [
    "# 마지막 모델 저장\n",
    "torch.save(model, '../model/augmentation6_'+str(img_size)+'_'+str(epoch+1)+'.pt')"
   ]
  },
  {
   "cell_type": "code",
   "execution_count": 16,
   "metadata": {},
   "outputs": [],
   "source": [
    "# for epoch in range(20):\n",
    "#     ret = train_one_epoch(trn_loader, vaild_loader, model, optimizer, loss_fn, device=device)\n",
    "#     ret['epoch'] = epoch\n",
    "\n",
    "#     log = \"\"\n",
    "#     for k, v in ret.items():\n",
    "#       log += f\"{k}: {v:.4f}\\n\"\n",
    "#     print(log)"
   ]
  },
  {
   "cell_type": "markdown",
   "metadata": {},
   "source": [
    "마지막 학습한 모델의 데이터셋 확인 및 실제 데이터 추측"
   ]
  },
  {
   "cell_type": "code",
   "execution_count": 39,
   "metadata": {},
   "outputs": [
    {
     "name": "stderr",
     "output_type": "stream",
     "text": [
      "100%|██████████| 5/5 [00:00<00:00,  5.54it/s]\n"
     ]
    },
    {
     "data": {
      "text/plain": [
       "(0.910828025477707, 0.9061289587605378)"
      ]
     },
     "execution_count": 39,
     "metadata": {},
     "output_type": "execute_result"
    }
   ],
   "source": [
    "# test 데이터 확인\n",
    "tst_preds_list = []\n",
    "tst_target_list = []\n",
    "\n",
    "model.eval()\n",
    "for image, target in tqdm(tst_loader):\n",
    "    image = image.float().to(device)\n",
    "\n",
    "    with torch.no_grad():\n",
    "        preds = model(image)\n",
    "    tst_preds_list.extend(preds.argmax(dim=1).detach().cpu().numpy())\n",
    "    tst_target_list.extend(target.detach().cpu().numpy())\n",
    "tst_acc = accuracy_score(tst_target_list, tst_preds_list)\n",
    "tst_f1 = f1_score(tst_target_list, tst_preds_list, average='macro')\n",
    "\n",
    "tst_acc, tst_f1"
   ]
  },
  {
   "cell_type": "code",
   "execution_count": 40,
   "metadata": {},
   "outputs": [],
   "source": [
    "# 실제 test데이터\n",
    "test_dataset = ImageDataset(\n",
    "    \"../datasets_fin/sample_submission.csv\",\n",
    "    \"../datasets_fin/test/\",\n",
    "    transform=tst_transform\n",
    ")\n",
    "test_loader = DataLoader(\n",
    "    test_dataset,\n",
    "    batch_size=BATCH_SIZE,\n",
    "    shuffle=False,\n",
    "    num_workers=0,\n",
    "    pin_memory=True\n",
    ")"
   ]
  },
  {
   "cell_type": "code",
   "execution_count": 41,
   "metadata": {},
   "outputs": [
    {
     "name": "stderr",
     "output_type": "stream",
     "text": [
      "100%|██████████| 99/99 [00:15<00:00,  6.42it/s]\n"
     ]
    }
   ],
   "source": [
    "preds_list = []\n",
    "\n",
    "model.eval()\n",
    "for image, _ in tqdm(test_loader):\n",
    "    image = image.to(device)\n",
    "\n",
    "    with torch.no_grad():\n",
    "        preds = model(image)\n",
    "    preds_list.extend(preds.argmax(dim=1).detach().cpu().numpy())"
   ]
  },
  {
   "cell_type": "code",
   "execution_count": 42,
   "metadata": {},
   "outputs": [],
   "source": [
    "pred_df = pd.DataFrame(test_dataset.df, columns=['ID', 'target'])\n",
    "pred_df['target'] = preds_list"
   ]
  },
  {
   "cell_type": "code",
   "execution_count": 43,
   "metadata": {},
   "outputs": [],
   "source": [
    "sample_submission_df = pd.read_csv(\"../datasets_fin/sample_submission.csv\")\n",
    "assert (sample_submission_df['ID'] == pred_df['ID']).all()"
   ]
  },
  {
   "cell_type": "code",
   "execution_count": 44,
   "metadata": {},
   "outputs": [],
   "source": [
    "pred_df.to_csv(\"../output/augmentation6_lastmodel_pred_256_\"+str(epoch+1)+\".csv\", index=False)"
   ]
  },
  {
   "cell_type": "code",
   "execution_count": 45,
   "metadata": {},
   "outputs": [
    {
     "data": {
      "text/html": [
       "<div>\n",
       "<style scoped>\n",
       "    .dataframe tbody tr th:only-of-type {\n",
       "        vertical-align: middle;\n",
       "    }\n",
       "\n",
       "    .dataframe tbody tr th {\n",
       "        vertical-align: top;\n",
       "    }\n",
       "\n",
       "    .dataframe thead th {\n",
       "        text-align: right;\n",
       "    }\n",
       "</style>\n",
       "<table border=\"1\" class=\"dataframe\">\n",
       "  <thead>\n",
       "    <tr style=\"text-align: right;\">\n",
       "      <th></th>\n",
       "      <th>ID</th>\n",
       "      <th>target</th>\n",
       "    </tr>\n",
       "  </thead>\n",
       "  <tbody>\n",
       "    <tr>\n",
       "      <th>0</th>\n",
       "      <td>0008fdb22ddce0ce.jpg</td>\n",
       "      <td>2</td>\n",
       "    </tr>\n",
       "    <tr>\n",
       "      <th>1</th>\n",
       "      <td>00091bffdffd83de.jpg</td>\n",
       "      <td>12</td>\n",
       "    </tr>\n",
       "    <tr>\n",
       "      <th>2</th>\n",
       "      <td>00396fbc1f6cc21d.jpg</td>\n",
       "      <td>5</td>\n",
       "    </tr>\n",
       "    <tr>\n",
       "      <th>3</th>\n",
       "      <td>00471f8038d9c4b6.jpg</td>\n",
       "      <td>7</td>\n",
       "    </tr>\n",
       "    <tr>\n",
       "      <th>4</th>\n",
       "      <td>00901f504008d884.jpg</td>\n",
       "      <td>2</td>\n",
       "    </tr>\n",
       "  </tbody>\n",
       "</table>\n",
       "</div>"
      ],
      "text/plain": [
       "                     ID  target\n",
       "0  0008fdb22ddce0ce.jpg       2\n",
       "1  00091bffdffd83de.jpg      12\n",
       "2  00396fbc1f6cc21d.jpg       5\n",
       "3  00471f8038d9c4b6.jpg       7\n",
       "4  00901f504008d884.jpg       2"
      ]
     },
     "execution_count": 45,
     "metadata": {},
     "output_type": "execute_result"
    }
   ],
   "source": [
    "pred_df.head()"
   ]
  },
  {
   "cell_type": "markdown",
   "metadata": {},
   "source": [
    "best case의 test set확인 및 실제 데이터 추측"
   ]
  },
  {
   "cell_type": "code",
   "execution_count": 19,
   "metadata": {},
   "outputs": [],
   "source": [
    "# 저장한 베스트 모델 로드\n",
    "model = torch.load('../model/best_augmentation8_'+str(img_size)+'_'+str(best_epoch)+'.pt')"
   ]
  },
  {
   "cell_type": "code",
   "execution_count": 20,
   "metadata": {},
   "outputs": [
    {
     "name": "stderr",
     "output_type": "stream",
     "text": [
      "100%|██████████| 5/5 [00:00<00:00,  5.73it/s]\n"
     ]
    },
    {
     "data": {
      "text/plain": [
       "(0.9235668789808917, 0.9134611930896761)"
      ]
     },
     "execution_count": 20,
     "metadata": {},
     "output_type": "execute_result"
    }
   ],
   "source": [
    "# test 데이터 확인\n",
    "tst_preds_list = []\n",
    "tst_target_list = []\n",
    "\n",
    "model.eval()\n",
    "for image, target in tqdm(tst_loader):\n",
    "    image = image.float().to(device)\n",
    "\n",
    "    with torch.no_grad():\n",
    "        preds = model(image)\n",
    "    tst_preds_list.extend(preds.argmax(dim=1).detach().cpu().numpy())\n",
    "    tst_target_list.extend(target.detach().cpu().numpy())\n",
    "tst_acc = accuracy_score(tst_target_list, tst_preds_list)\n",
    "tst_f1 = f1_score(tst_target_list, tst_preds_list, average='macro')\n",
    "\n",
    "tst_acc, tst_f1"
   ]
  },
  {
   "cell_type": "code",
   "execution_count": 21,
   "metadata": {},
   "outputs": [],
   "source": [
    "# 실제 test데이터\n",
    "test_dataset = ImageDataset(\n",
    "    \"../datasets_fin/sample_submission.csv\",\n",
    "    \"../datasets_fin/test/\",\n",
    "    transform=tst_transform\n",
    ")\n",
    "test_loader = DataLoader(\n",
    "    test_dataset,\n",
    "    batch_size=BATCH_SIZE,\n",
    "    shuffle=False,\n",
    "    num_workers=0,\n",
    "    pin_memory=True\n",
    ")"
   ]
  },
  {
   "cell_type": "code",
   "execution_count": 22,
   "metadata": {},
   "outputs": [
    {
     "name": "stderr",
     "output_type": "stream",
     "text": [
      "100%|██████████| 99/99 [00:14<00:00,  7.01it/s]\n"
     ]
    }
   ],
   "source": [
    "preds_list = []\n",
    "\n",
    "model.eval()\n",
    "for image, _ in tqdm(test_loader):\n",
    "    image = image.to(device)\n",
    "\n",
    "    with torch.no_grad():\n",
    "        preds = model(image)\n",
    "    preds_list.extend(preds.argmax(dim=1).detach().cpu().numpy())"
   ]
  },
  {
   "cell_type": "code",
   "execution_count": 23,
   "metadata": {},
   "outputs": [],
   "source": [
    "pred_df = pd.DataFrame(test_dataset.df, columns=['ID', 'target'])\n",
    "pred_df['target'] = preds_list"
   ]
  },
  {
   "cell_type": "code",
   "execution_count": 24,
   "metadata": {},
   "outputs": [],
   "source": [
    "sample_submission_df = pd.read_csv(\"../datasets_fin/sample_submission.csv\")\n",
    "assert (sample_submission_df['ID'] == pred_df['ID']).all()"
   ]
  },
  {
   "cell_type": "code",
   "execution_count": 28,
   "metadata": {},
   "outputs": [],
   "source": [
    "pred_df.to_csv(\"../output/augmentation8_pred_256_\"+str(best_epoch)+\".csv\", index=False)"
   ]
  },
  {
   "cell_type": "code",
   "execution_count": 26,
   "metadata": {},
   "outputs": [
    {
     "data": {
      "text/html": [
       "<div>\n",
       "<style scoped>\n",
       "    .dataframe tbody tr th:only-of-type {\n",
       "        vertical-align: middle;\n",
       "    }\n",
       "\n",
       "    .dataframe tbody tr th {\n",
       "        vertical-align: top;\n",
       "    }\n",
       "\n",
       "    .dataframe thead th {\n",
       "        text-align: right;\n",
       "    }\n",
       "</style>\n",
       "<table border=\"1\" class=\"dataframe\">\n",
       "  <thead>\n",
       "    <tr style=\"text-align: right;\">\n",
       "      <th></th>\n",
       "      <th>ID</th>\n",
       "      <th>target</th>\n",
       "    </tr>\n",
       "  </thead>\n",
       "  <tbody>\n",
       "    <tr>\n",
       "      <th>0</th>\n",
       "      <td>0008fdb22ddce0ce.jpg</td>\n",
       "      <td>2</td>\n",
       "    </tr>\n",
       "    <tr>\n",
       "      <th>1</th>\n",
       "      <td>00091bffdffd83de.jpg</td>\n",
       "      <td>1</td>\n",
       "    </tr>\n",
       "    <tr>\n",
       "      <th>2</th>\n",
       "      <td>00396fbc1f6cc21d.jpg</td>\n",
       "      <td>5</td>\n",
       "    </tr>\n",
       "    <tr>\n",
       "      <th>3</th>\n",
       "      <td>00471f8038d9c4b6.jpg</td>\n",
       "      <td>10</td>\n",
       "    </tr>\n",
       "    <tr>\n",
       "      <th>4</th>\n",
       "      <td>00901f504008d884.jpg</td>\n",
       "      <td>2</td>\n",
       "    </tr>\n",
       "  </tbody>\n",
       "</table>\n",
       "</div>"
      ],
      "text/plain": [
       "                     ID  target\n",
       "0  0008fdb22ddce0ce.jpg       2\n",
       "1  00091bffdffd83de.jpg       1\n",
       "2  00396fbc1f6cc21d.jpg       5\n",
       "3  00471f8038d9c4b6.jpg      10\n",
       "4  00901f504008d884.jpg       2"
      ]
     },
     "execution_count": 26,
     "metadata": {},
     "output_type": "execute_result"
    }
   ],
   "source": [
    "pred_df.head()"
   ]
  },
  {
   "cell_type": "markdown",
   "metadata": {},
   "source": [
    "최선 경우와 마지막 경우가 같은 예측을 함"
   ]
  },
  {
   "cell_type": "code",
   "execution_count": 55,
   "metadata": {},
   "outputs": [],
   "source": [
    "a = pd.read_csv(\"../output/augmentation6_pred_256_\"+str(best_epoch)+\".csv\")\n",
    "b = pd.read_csv(\"../output/augmentation6_lastmodel_pred_256_\"+str(epoch+1)+\".csv\")"
   ]
  },
  {
   "cell_type": "code",
   "execution_count": 59,
   "metadata": {},
   "outputs": [
    {
     "data": {
      "text/plain": [
       "3140"
      ]
     },
     "execution_count": 59,
     "metadata": {},
     "output_type": "execute_result"
    }
   ],
   "source": [
    "sum(a['target'] == b['target'])"
   ]
  },
  {
   "cell_type": "code",
   "execution_count": 61,
   "metadata": {},
   "outputs": [
    {
     "data": {
      "text/plain": [
       "3140"
      ]
     },
     "execution_count": 61,
     "metadata": {},
     "output_type": "execute_result"
    }
   ],
   "source": [
    "len(a['target'])"
   ]
  },
  {
   "cell_type": "markdown",
   "metadata": {},
   "source": [
    "best case의 경우 tst set을 다양한 증강을 더해 검증"
   ]
  },
  {
   "cell_type": "code",
   "execution_count": 29,
   "metadata": {},
   "outputs": [],
   "source": [
    "# 저장한 베스트 모델 로드\n",
    "model = torch.load('../model/best_augmentation8_'+str(img_size)+'_'+str(best_epoch)+'.pt')"
   ]
  },
  {
   "cell_type": "code",
   "execution_count": 30,
   "metadata": {},
   "outputs": [
    {
     "name": "stdout",
     "output_type": "stream",
     "text": [
      "14444\n"
     ]
    }
   ],
   "source": [
    "tst_dataset2 = make_dataset(transform_list, \"../datasets_fin/test.csv\", \"../datasets_fin/train/\",)\n",
    "\n",
    "print(len(tst_dataset2))"
   ]
  },
  {
   "cell_type": "code",
   "execution_count": 16,
   "metadata": {},
   "outputs": [
    {
     "data": {
      "text/plain": [
       "(tensor([[[-1.8782, -1.8097, -1.8439,  ...,  1.2557,  1.2385,  1.2214],\n",
       "          [-1.7754, -1.8268, -1.8439,  ...,  1.2728,  1.2557,  1.2557],\n",
       "          [-1.8097, -1.8097, -1.7754,  ...,  1.3070,  1.2899,  1.2728],\n",
       "          ...,\n",
       "          [-1.8610, -1.8268, -1.8268,  ..., -1.8439, -1.8268, -1.8439],\n",
       "          [-1.8610, -1.8610, -1.8782,  ..., -1.8782, -1.8097, -1.8439],\n",
       "          [-1.8782, -1.8782, -1.8953,  ..., -1.8782, -1.8610, -1.8610]],\n",
       " \n",
       "         [[-1.8256, -1.7906, -1.8256,  ...,  1.4132,  1.3957,  1.3782],\n",
       "          [-1.7381, -1.8081, -1.8256,  ...,  1.4307,  1.4132,  1.4132],\n",
       "          [-1.7556, -1.7906, -1.7731,  ...,  1.4657,  1.4482,  1.4307],\n",
       "          ...,\n",
       "          [-1.8081, -1.7731, -1.7556,  ..., -1.8256, -1.8081, -1.8256],\n",
       "          [-1.8081, -1.7731, -1.7731,  ..., -1.8081, -1.7906, -1.8256],\n",
       "          [-1.8081, -1.7906, -1.7906,  ..., -1.8081, -1.8081, -1.8256]],\n",
       " \n",
       "         [[-1.5779, -1.5430, -1.5779,  ...,  1.6291,  1.6117,  1.5942],\n",
       "          [-1.4907, -1.5604, -1.5779,  ...,  1.6465,  1.6291,  1.6291],\n",
       "          [-1.5081, -1.5430, -1.5256,  ...,  1.6814,  1.6640,  1.6465],\n",
       "          ...,\n",
       "          [-1.5256, -1.4907, -1.4384,  ..., -1.6127, -1.5953, -1.6127],\n",
       "          [-1.5430, -1.5081, -1.4733,  ..., -1.6127, -1.5779, -1.6127],\n",
       "          [-1.5779, -1.5256, -1.5256,  ..., -1.6127, -1.5953, -1.6127]]]),\n",
       " 15)"
      ]
     },
     "execution_count": 16,
     "metadata": {},
     "output_type": "execute_result"
    }
   ],
   "source": [
    "i1, i2 = tst_dataset2.__getitem__(0)\n",
    "i1, i2"
   ]
  },
  {
   "cell_type": "code",
   "execution_count": 31,
   "metadata": {},
   "outputs": [],
   "source": [
    "tst_loader2 = DataLoader(\n",
    "    tst_dataset2,\n",
    "    batch_size=BATCH_SIZE,\n",
    "    shuffle=False,\n",
    "    num_workers=0,\n",
    "    pin_memory=True\n",
    ")"
   ]
  },
  {
   "cell_type": "code",
   "execution_count": 32,
   "metadata": {},
   "outputs": [
    {
     "name": "stderr",
     "output_type": "stream",
     "text": [
      "100%|██████████| 452/452 [01:21<00:00,  5.57it/s]\n"
     ]
    },
    {
     "data": {
      "text/plain": [
       "(0.7973553032400997, 0.7932611356474142)"
      ]
     },
     "execution_count": 32,
     "metadata": {},
     "output_type": "execute_result"
    }
   ],
   "source": [
    "# test 데이터 확인\n",
    "tst_preds_list = []\n",
    "tst_target_list = []\n",
    "# tst_img = []\n",
    "\n",
    "model.eval()\n",
    "for image, target in tqdm(tst_loader2):\n",
    "    # tst_img.extend(image.permute(1, 2, 0).detach().cpu().numpy())\n",
    "    image = image.float().to(device)\n",
    "\n",
    "    with torch.no_grad():\n",
    "        preds = model(image)\n",
    "    tst_preds_list.extend(preds.argmax(dim=1).detach().cpu().numpy())\n",
    "    tst_target_list.extend(target.detach().cpu().numpy())\n",
    "tst_acc = accuracy_score(tst_target_list, tst_preds_list)\n",
    "tst_f1 = f1_score(tst_target_list, tst_preds_list, average='macro')\n",
    "\n",
    "tst_acc, tst_f1"
   ]
  },
  {
   "cell_type": "code",
   "execution_count": 33,
   "metadata": {},
   "outputs": [],
   "source": [
    "# 예측에 사용된 이미지 추출하여 리스트에 저장\n",
    "tst_img = []\n",
    "for idx in range(tst_dataset2.__len__()):\n",
    "# for idx in range(1):\n",
    "    img, target = tst_dataset2.__getitem__(idx)\n",
    "    tst_img.append(img.permute(1, 2, 0).numpy())"
   ]
  },
  {
   "cell_type": "code",
   "execution_count": 34,
   "metadata": {},
   "outputs": [
    {
     "name": "stderr",
     "output_type": "stream",
     "text": [
      "Clipping input data to the valid range for imshow with RGB data ([0..1] for floats or [0..255] for integers). Got range [-2.117904..255.0].\n"
     ]
    },
    {
     "data": {
      "image/png": "[encoded data removed]",
      "text/plain": [
       "<Figure size 640x480 with 1 Axes>"
      ]
     },
     "metadata": {},
     "output_type": "display_data"
    }
   ],
   "source": [
    "# 저장한 이미지 확인\n",
    "plt.imshow(tst_img[12345])\n",
    "plt.show()"
   ]
  },
  {
   "cell_type": "code",
   "execution_count": 35,
   "metadata": {},
   "outputs": [],
   "source": [
    "tst_df = pd.DataFrame({\n",
    "    'img' : tst_img,\n",
    "    'target' : tst_target_list,\n",
    "    'predict' : tst_preds_list\n",
    "})"
   ]
  },
  {
   "cell_type": "code",
   "execution_count": 36,
   "metadata": {},
   "outputs": [
    {
     "data": {
      "text/plain": [
       "11517"
      ]
     },
     "execution_count": 36,
     "metadata": {},
     "output_type": "execute_result"
    }
   ],
   "source": [
    "# 맞춘 개수\n",
    "(tst_df['predict'] == tst_df['target']).sum()"
   ]
  },
  {
   "cell_type": "code",
   "execution_count": 37,
   "metadata": {},
   "outputs": [
    {
     "data": {
      "text/plain": [
       "2927"
      ]
     },
     "execution_count": 37,
     "metadata": {},
     "output_type": "execute_result"
    }
   ],
   "source": [
    "# 틀린 개수\n",
    "(~(tst_df['predict'] == tst_df['target'])).sum()"
   ]
  },
  {
   "cell_type": "code",
   "execution_count": 38,
   "metadata": {},
   "outputs": [
    {
     "data": {
      "text/html": [
       "<div>\n",
       "<style scoped>\n",
       "    .dataframe tbody tr th:only-of-type {\n",
       "        vertical-align: middle;\n",
       "    }\n",
       "\n",
       "    .dataframe tbody tr th {\n",
       "        vertical-align: top;\n",
       "    }\n",
       "\n",
       "    .dataframe thead th {\n",
       "        text-align: right;\n",
       "    }\n",
       "</style>\n",
       "<table border=\"1\" class=\"dataframe\">\n",
       "  <thead>\n",
       "    <tr style=\"text-align: right;\">\n",
       "      <th></th>\n",
       "      <th>img</th>\n",
       "      <th>target</th>\n",
       "      <th>predict</th>\n",
       "    </tr>\n",
       "  </thead>\n",
       "  <tbody>\n",
       "    <tr>\n",
       "      <th>29</th>\n",
       "      <td>[[[0.67343086, 0.8879551, 1.1236601], [0.67343...</td>\n",
       "      <td>3</td>\n",
       "      <td>7</td>\n",
       "    </tr>\n",
       "    <tr>\n",
       "      <th>36</th>\n",
       "      <td>[[[1.4611695, 1.6757703, 1.9776906], [1.444044...</td>\n",
       "      <td>7</td>\n",
       "      <td>3</td>\n",
       "    </tr>\n",
       "    <tr>\n",
       "      <th>43</th>\n",
       "      <td>[[[0.5535576, 0.8179271, 1.2108061], [0.724805...</td>\n",
       "      <td>11</td>\n",
       "      <td>10</td>\n",
       "    </tr>\n",
       "    <tr>\n",
       "      <th>68</th>\n",
       "      <td>[[[0.6220566, 1.0630251, 1.5942483], [0.604931...</td>\n",
       "      <td>7</td>\n",
       "      <td>3</td>\n",
       "    </tr>\n",
       "    <tr>\n",
       "      <th>70</th>\n",
       "      <td>[[[-0.6622999, -0.26750696, 0.23477125], [-0.6...</td>\n",
       "      <td>7</td>\n",
       "      <td>3</td>\n",
       "    </tr>\n",
       "    <tr>\n",
       "      <th>...</th>\n",
       "      <td>...</td>\n",
       "      <td>...</td>\n",
       "      <td>...</td>\n",
       "    </tr>\n",
       "    <tr>\n",
       "      <th>14437</th>\n",
       "      <td>[[[0.2589247, 1.0, 1.0], [0.2589247, 1.0, 1.0]...</td>\n",
       "      <td>11</td>\n",
       "      <td>16</td>\n",
       "    </tr>\n",
       "    <tr>\n",
       "      <th>14438</th>\n",
       "      <td>[[[0.0, 0.0, 0.0], [0.0, 0.0, 0.0], [0.0, 0.0,...</td>\n",
       "      <td>5</td>\n",
       "      <td>16</td>\n",
       "    </tr>\n",
       "    <tr>\n",
       "      <th>14440</th>\n",
       "      <td>[[[0.0, 0.0, 0.5441721], [0.0, 0.0, 0.5441721]...</td>\n",
       "      <td>4</td>\n",
       "      <td>3</td>\n",
       "    </tr>\n",
       "    <tr>\n",
       "      <th>14441</th>\n",
       "      <td>[[[0.0, 0.0, 0.0], [0.0, 0.0, 0.0], [0.0, 0.0,...</td>\n",
       "      <td>9</td>\n",
       "      <td>16</td>\n",
       "    </tr>\n",
       "    <tr>\n",
       "      <th>14442</th>\n",
       "      <td>[[[0.92098033, 1.0, 1.0], [0.92098033, 1.0, 1....</td>\n",
       "      <td>8</td>\n",
       "      <td>2</td>\n",
       "    </tr>\n",
       "  </tbody>\n",
       "</table>\n",
       "<p>2927 rows × 3 columns</p>\n",
       "</div>"
      ],
      "text/plain": [
       "                                                     img  target  predict\n",
       "29     [[[0.67343086, 0.8879551, 1.1236601], [0.67343...       3        7\n",
       "36     [[[1.4611695, 1.6757703, 1.9776906], [1.444044...       7        3\n",
       "43     [[[0.5535576, 0.8179271, 1.2108061], [0.724805...      11       10\n",
       "68     [[[0.6220566, 1.0630251, 1.5942483], [0.604931...       7        3\n",
       "70     [[[-0.6622999, -0.26750696, 0.23477125], [-0.6...       7        3\n",
       "...                                                  ...     ...      ...\n",
       "14437  [[[0.2589247, 1.0, 1.0], [0.2589247, 1.0, 1.0]...      11       16\n",
       "14438  [[[0.0, 0.0, 0.0], [0.0, 0.0, 0.0], [0.0, 0.0,...       5       16\n",
       "14440  [[[0.0, 0.0, 0.5441721], [0.0, 0.0, 0.5441721]...       4        3\n",
       "14441  [[[0.0, 0.0, 0.0], [0.0, 0.0, 0.0], [0.0, 0.0,...       9       16\n",
       "14442  [[[0.92098033, 1.0, 1.0], [0.92098033, 1.0, 1....       8        2\n",
       "\n",
       "[2927 rows x 3 columns]"
      ]
     },
     "execution_count": 38,
     "metadata": {},
     "output_type": "execute_result"
    }
   ],
   "source": [
    "tst_df[~(tst_df['predict'] == tst_df['target'])]"
   ]
  },
  {
   "cell_type": "code",
   "execution_count": 39,
   "metadata": {},
   "outputs": [
    {
     "data": {
      "text/html": [
       "<div>\n",
       "<style scoped>\n",
       "    .dataframe tbody tr th:only-of-type {\n",
       "        vertical-align: middle;\n",
       "    }\n",
       "\n",
       "    .dataframe tbody tr th {\n",
       "        vertical-align: top;\n",
       "    }\n",
       "\n",
       "    .dataframe thead th {\n",
       "        text-align: right;\n",
       "    }\n",
       "</style>\n",
       "<table border=\"1\" class=\"dataframe\">\n",
       "  <thead>\n",
       "    <tr style=\"text-align: right;\">\n",
       "      <th></th>\n",
       "      <th>ID</th>\n",
       "      <th>target</th>\n",
       "    </tr>\n",
       "  </thead>\n",
       "  <tbody>\n",
       "    <tr>\n",
       "      <th>0</th>\n",
       "      <td>02d404271e4965fa.jpg</td>\n",
       "      <td>15</td>\n",
       "    </tr>\n",
       "    <tr>\n",
       "      <th>1</th>\n",
       "      <td>03648b6855b9f8c1.jpg</td>\n",
       "      <td>10</td>\n",
       "    </tr>\n",
       "    <tr>\n",
       "      <th>2</th>\n",
       "      <td>0482c84f6e50fc44.jpg</td>\n",
       "      <td>5</td>\n",
       "    </tr>\n",
       "    <tr>\n",
       "      <th>3</th>\n",
       "      <td>05c521f2659c0711.jpg</td>\n",
       "      <td>16</td>\n",
       "    </tr>\n",
       "    <tr>\n",
       "      <th>4</th>\n",
       "      <td>0664699c12c8162c.jpg</td>\n",
       "      <td>11</td>\n",
       "    </tr>\n",
       "    <tr>\n",
       "      <th>...</th>\n",
       "      <td>...</td>\n",
       "      <td>...</td>\n",
       "    </tr>\n",
       "    <tr>\n",
       "      <th>152</th>\n",
       "      <td>e8e8dd06a96f2586.jpg</td>\n",
       "      <td>16</td>\n",
       "    </tr>\n",
       "    <tr>\n",
       "      <th>153</th>\n",
       "      <td>e985d6cb79c79810.jpg</td>\n",
       "      <td>4</td>\n",
       "    </tr>\n",
       "    <tr>\n",
       "      <th>154</th>\n",
       "      <td>ea379b41d59cec36.jpg</td>\n",
       "      <td>9</td>\n",
       "    </tr>\n",
       "    <tr>\n",
       "      <th>155</th>\n",
       "      <td>ebdb6f14d9876caa.jpg</td>\n",
       "      <td>8</td>\n",
       "    </tr>\n",
       "    <tr>\n",
       "      <th>156</th>\n",
       "      <td>f9bfe5eae7d723ce.jpg</td>\n",
       "      <td>7</td>\n",
       "    </tr>\n",
       "  </tbody>\n",
       "</table>\n",
       "<p>157 rows × 2 columns</p>\n",
       "</div>"
      ],
      "text/plain": [
       "                       ID  target\n",
       "0    02d404271e4965fa.jpg      15\n",
       "1    03648b6855b9f8c1.jpg      10\n",
       "2    0482c84f6e50fc44.jpg       5\n",
       "3    05c521f2659c0711.jpg      16\n",
       "4    0664699c12c8162c.jpg      11\n",
       "..                    ...     ...\n",
       "152  e8e8dd06a96f2586.jpg      16\n",
       "153  e985d6cb79c79810.jpg       4\n",
       "154  ea379b41d59cec36.jpg       9\n",
       "155  ebdb6f14d9876caa.jpg       8\n",
       "156  f9bfe5eae7d723ce.jpg       7\n",
       "\n",
       "[157 rows x 2 columns]"
      ]
     },
     "execution_count": 39,
     "metadata": {},
     "output_type": "execute_result"
    }
   ],
   "source": [
    "i = pd.read_csv('../datasets_fin/test.csv')\n",
    "i"
   ]
  },
  {
   "cell_type": "code",
   "execution_count": 40,
   "metadata": {},
   "outputs": [],
   "source": [
    "# 각 예측의 이미지 id 추가\n",
    "tst_df['ID'] = list(i['ID']) * 92"
   ]
  },
  {
   "cell_type": "code",
   "execution_count": 41,
   "metadata": {},
   "outputs": [
    {
     "data": {
      "text/html": [
       "<div>\n",
       "<style scoped>\n",
       "    .dataframe tbody tr th:only-of-type {\n",
       "        vertical-align: middle;\n",
       "    }\n",
       "\n",
       "    .dataframe tbody tr th {\n",
       "        vertical-align: top;\n",
       "    }\n",
       "\n",
       "    .dataframe thead th {\n",
       "        text-align: right;\n",
       "    }\n",
       "</style>\n",
       "<table border=\"1\" class=\"dataframe\">\n",
       "  <thead>\n",
       "    <tr style=\"text-align: right;\">\n",
       "      <th></th>\n",
       "      <th>img</th>\n",
       "      <th>target</th>\n",
       "      <th>predict</th>\n",
       "      <th>ID</th>\n",
       "    </tr>\n",
       "  </thead>\n",
       "  <tbody>\n",
       "    <tr>\n",
       "      <th>0</th>\n",
       "      <td>[[[-1.8781574, -1.8256301, -1.5778649], [-1.80...</td>\n",
       "      <td>15</td>\n",
       "      <td>15</td>\n",
       "      <td>02d404271e4965fa.jpg</td>\n",
       "    </tr>\n",
       "    <tr>\n",
       "      <th>1</th>\n",
       "      <td>[[[0.89605266, 1.1855742, 1.4373856], [0.89605...</td>\n",
       "      <td>10</td>\n",
       "      <td>10</td>\n",
       "      <td>03648b6855b9f8c1.jpg</td>\n",
       "    </tr>\n",
       "    <tr>\n",
       "      <th>2</th>\n",
       "      <td>[[[-0.38830385, 0.047619067, 0.47877997], [-0....</td>\n",
       "      <td>5</td>\n",
       "      <td>5</td>\n",
       "      <td>0482c84f6e50fc44.jpg</td>\n",
       "    </tr>\n",
       "    <tr>\n",
       "      <th>3</th>\n",
       "      <td>[[[0.17681302, 0.4327731, 0.844793], [0.142563...</td>\n",
       "      <td>16</td>\n",
       "      <td>16</td>\n",
       "      <td>05c521f2659c0711.jpg</td>\n",
       "    </tr>\n",
       "    <tr>\n",
       "      <th>4</th>\n",
       "      <td>[[[0.57068235, 0.3977591, 0.21734206], [0.7076...</td>\n",
       "      <td>11</td>\n",
       "      <td>11</td>\n",
       "      <td>0664699c12c8162c.jpg</td>\n",
       "    </tr>\n",
       "    <tr>\n",
       "      <th>...</th>\n",
       "      <td>...</td>\n",
       "      <td>...</td>\n",
       "      <td>...</td>\n",
       "      <td>...</td>\n",
       "    </tr>\n",
       "    <tr>\n",
       "      <th>14439</th>\n",
       "      <td>[[[0.0, 0.0, 0.0], [0.0, 0.0, 0.0], [0.0, 0.0,...</td>\n",
       "      <td>16</td>\n",
       "      <td>16</td>\n",
       "      <td>e8e8dd06a96f2586.jpg</td>\n",
       "    </tr>\n",
       "    <tr>\n",
       "      <th>14440</th>\n",
       "      <td>[[[0.0, 0.0, 0.5441721], [0.0, 0.0, 0.5441721]...</td>\n",
       "      <td>4</td>\n",
       "      <td>3</td>\n",
       "      <td>e985d6cb79c79810.jpg</td>\n",
       "    </tr>\n",
       "    <tr>\n",
       "      <th>14441</th>\n",
       "      <td>[[[0.0, 0.0, 0.0], [0.0, 0.0, 0.0], [0.0, 0.0,...</td>\n",
       "      <td>9</td>\n",
       "      <td>16</td>\n",
       "      <td>ea379b41d59cec36.jpg</td>\n",
       "    </tr>\n",
       "    <tr>\n",
       "      <th>14442</th>\n",
       "      <td>[[[0.92098033, 1.0, 1.0], [0.92098033, 1.0, 1....</td>\n",
       "      <td>8</td>\n",
       "      <td>2</td>\n",
       "      <td>ebdb6f14d9876caa.jpg</td>\n",
       "    </tr>\n",
       "    <tr>\n",
       "      <th>14443</th>\n",
       "      <td>[[[0.90037936, 1.0, 0.43984473], [0.90037936, ...</td>\n",
       "      <td>7</td>\n",
       "      <td>7</td>\n",
       "      <td>f9bfe5eae7d723ce.jpg</td>\n",
       "    </tr>\n",
       "  </tbody>\n",
       "</table>\n",
       "<p>14444 rows × 4 columns</p>\n",
       "</div>"
      ],
      "text/plain": [
       "                                                     img  target  predict  \\\n",
       "0      [[[-1.8781574, -1.8256301, -1.5778649], [-1.80...      15       15   \n",
       "1      [[[0.89605266, 1.1855742, 1.4373856], [0.89605...      10       10   \n",
       "2      [[[-0.38830385, 0.047619067, 0.47877997], [-0....       5        5   \n",
       "3      [[[0.17681302, 0.4327731, 0.844793], [0.142563...      16       16   \n",
       "4      [[[0.57068235, 0.3977591, 0.21734206], [0.7076...      11       11   \n",
       "...                                                  ...     ...      ...   \n",
       "14439  [[[0.0, 0.0, 0.0], [0.0, 0.0, 0.0], [0.0, 0.0,...      16       16   \n",
       "14440  [[[0.0, 0.0, 0.5441721], [0.0, 0.0, 0.5441721]...       4        3   \n",
       "14441  [[[0.0, 0.0, 0.0], [0.0, 0.0, 0.0], [0.0, 0.0,...       9       16   \n",
       "14442  [[[0.92098033, 1.0, 1.0], [0.92098033, 1.0, 1....       8        2   \n",
       "14443  [[[0.90037936, 1.0, 0.43984473], [0.90037936, ...       7        7   \n",
       "\n",
       "                         ID  \n",
       "0      02d404271e4965fa.jpg  \n",
       "1      03648b6855b9f8c1.jpg  \n",
       "2      0482c84f6e50fc44.jpg  \n",
       "3      05c521f2659c0711.jpg  \n",
       "4      0664699c12c8162c.jpg  \n",
       "...                     ...  \n",
       "14439  e8e8dd06a96f2586.jpg  \n",
       "14440  e985d6cb79c79810.jpg  \n",
       "14441  ea379b41d59cec36.jpg  \n",
       "14442  ebdb6f14d9876caa.jpg  \n",
       "14443  f9bfe5eae7d723ce.jpg  \n",
       "\n",
       "[14444 rows x 4 columns]"
      ]
     },
     "execution_count": 41,
     "metadata": {},
     "output_type": "execute_result"
    }
   ],
   "source": [
    "tst_df"
   ]
  },
  {
   "cell_type": "code",
   "execution_count": 42,
   "metadata": {},
   "outputs": [],
   "source": [
    "def get_item(idx):\n",
    "    image, target, predict, name = tst_df.loc[idx,]\n",
    "    img = np.array(Image.open(os.path.join(\"../datasets_fin/train/\", name)))\n",
    "\n",
    "    # img = trn_transform(image=img)['image']\n",
    "    return img, target, name, predict, image"
   ]
  },
  {
   "cell_type": "code",
   "execution_count": 43,
   "metadata": {},
   "outputs": [
    {
     "data": {
      "text/plain": [
       "target\n",
       "7     472\n",
       "4     466\n",
       "3     370\n",
       "14    290\n",
       "11    267\n",
       "12    251\n",
       "6     214\n",
       "10    106\n",
       "9     102\n",
       "8      95\n",
       "5      84\n",
       "13     74\n",
       "15     71\n",
       "1      58\n",
       "2       3\n",
       "0       2\n",
       "16      2\n",
       "Name: count, dtype: int64"
      ]
     },
     "execution_count": 43,
     "metadata": {},
     "output_type": "execute_result"
    }
   ],
   "source": [
    "tst_df[(tst_df['predict'] != tst_df['target'])].value_counts('target')"
   ]
  },
  {
   "cell_type": "code",
   "execution_count": 44,
   "metadata": {},
   "outputs": [
    {
     "data": {
      "text/plain": [
       "predict\n",
       "7     881\n",
       "3     616\n",
       "16    392\n",
       "10    306\n",
       "2     172\n",
       "1     162\n",
       "4     139\n",
       "14    104\n",
       "13     98\n",
       "0      25\n",
       "6       8\n",
       "12      8\n",
       "11      6\n",
       "15      5\n",
       "5       4\n",
       "9       1\n",
       "Name: count, dtype: int64"
      ]
     },
     "execution_count": 44,
     "metadata": {},
     "output_type": "execute_result"
    }
   ],
   "source": [
    "tst_df[(tst_df['predict'] != tst_df['target'])].value_counts('predict')"
   ]
  },
  {
   "cell_type": "code",
   "execution_count": 47,
   "metadata": {},
   "outputs": [
    {
     "data": {
      "text/html": [
       "<div>\n",
       "<style scoped>\n",
       "    .dataframe tbody tr th:only-of-type {\n",
       "        vertical-align: middle;\n",
       "    }\n",
       "\n",
       "    .dataframe tbody tr th {\n",
       "        vertical-align: top;\n",
       "    }\n",
       "\n",
       "    .dataframe thead th {\n",
       "        text-align: right;\n",
       "    }\n",
       "</style>\n",
       "<table border=\"1\" class=\"dataframe\">\n",
       "  <thead>\n",
       "    <tr style=\"text-align: right;\">\n",
       "      <th></th>\n",
       "      <th>img</th>\n",
       "      <th>target</th>\n",
       "      <th>predict</th>\n",
       "      <th>ID</th>\n",
       "    </tr>\n",
       "  </thead>\n",
       "  <tbody>\n",
       "    <tr>\n",
       "      <th>36</th>\n",
       "      <td>[[[1.4611695, 1.6757703, 1.9776906], [1.444044...</td>\n",
       "      <td>7</td>\n",
       "      <td>3</td>\n",
       "      <td>2e939381a84d19cf.jpg</td>\n",
       "    </tr>\n",
       "    <tr>\n",
       "      <th>68</th>\n",
       "      <td>[[[0.6220566, 1.0630251, 1.5942483], [0.604931...</td>\n",
       "      <td>7</td>\n",
       "      <td>3</td>\n",
       "      <td>4e5848a4ad483009.jpg</td>\n",
       "    </tr>\n",
       "    <tr>\n",
       "      <th>70</th>\n",
       "      <td>[[[-0.6622999, -0.26750696, 0.23477125], [-0.6...</td>\n",
       "      <td>7</td>\n",
       "      <td>3</td>\n",
       "      <td>4f1a0debe89c7641.jpg</td>\n",
       "    </tr>\n",
       "    <tr>\n",
       "      <th>99</th>\n",
       "      <td>[[[-0.54242665, 0.10014007, 0.844793], [-0.730...</td>\n",
       "      <td>7</td>\n",
       "      <td>3</td>\n",
       "      <td>a376fbdb67bc4a92.jpg</td>\n",
       "    </tr>\n",
       "    <tr>\n",
       "      <th>100</th>\n",
       "      <td>[[[0.9303022, 1.1330532, 1.4373856], [0.998801...</td>\n",
       "      <td>7</td>\n",
       "      <td>4</td>\n",
       "      <td>aac6d02aa2f222af.jpg</td>\n",
       "    </tr>\n",
       "    <tr>\n",
       "      <th>...</th>\n",
       "      <td>...</td>\n",
       "      <td>...</td>\n",
       "      <td>...</td>\n",
       "      <td>...</td>\n",
       "    </tr>\n",
       "    <tr>\n",
       "      <th>14286</th>\n",
       "      <td>[[[1.0102177, 1.1972455, 1.3967174], [1.010217...</td>\n",
       "      <td>7</td>\n",
       "      <td>3</td>\n",
       "      <td>f9bfe5eae7d723ce.jpg</td>\n",
       "    </tr>\n",
       "    <tr>\n",
       "      <th>14310</th>\n",
       "      <td>[[[0.0, 0.0, 0.094373226], [0.0, 0.0, 0.094373...</td>\n",
       "      <td>7</td>\n",
       "      <td>3</td>\n",
       "      <td>1e5bf6fe5e8686d6.jpg</td>\n",
       "    </tr>\n",
       "    <tr>\n",
       "      <th>14323</th>\n",
       "      <td>[[[0.7984081, 1.0, 1.0], [0.7984081, 1.0, 1.0]...</td>\n",
       "      <td>7</td>\n",
       "      <td>3</td>\n",
       "      <td>2e939381a84d19cf.jpg</td>\n",
       "    </tr>\n",
       "    <tr>\n",
       "      <th>14355</th>\n",
       "      <td>[[[1.0, 1.0, 1.0], [1.0, 1.0, 1.0], [0.4450237...</td>\n",
       "      <td>7</td>\n",
       "      <td>3</td>\n",
       "      <td>4e5848a4ad483009.jpg</td>\n",
       "    </tr>\n",
       "    <tr>\n",
       "      <th>14421</th>\n",
       "      <td>[[[0.42428628, 0.6197083, 0.94972825], [0.4242...</td>\n",
       "      <td>7</td>\n",
       "      <td>3</td>\n",
       "      <td>c8cd1751b80440c2.jpg</td>\n",
       "    </tr>\n",
       "  </tbody>\n",
       "</table>\n",
       "<p>472 rows × 4 columns</p>\n",
       "</div>"
      ],
      "text/plain": [
       "                                                     img  target  predict  \\\n",
       "36     [[[1.4611695, 1.6757703, 1.9776906], [1.444044...       7        3   \n",
       "68     [[[0.6220566, 1.0630251, 1.5942483], [0.604931...       7        3   \n",
       "70     [[[-0.6622999, -0.26750696, 0.23477125], [-0.6...       7        3   \n",
       "99     [[[-0.54242665, 0.10014007, 0.844793], [-0.730...       7        3   \n",
       "100    [[[0.9303022, 1.1330532, 1.4373856], [0.998801...       7        4   \n",
       "...                                                  ...     ...      ...   \n",
       "14286  [[[1.0102177, 1.1972455, 1.3967174], [1.010217...       7        3   \n",
       "14310  [[[0.0, 0.0, 0.094373226], [0.0, 0.0, 0.094373...       7        3   \n",
       "14323  [[[0.7984081, 1.0, 1.0], [0.7984081, 1.0, 1.0]...       7        3   \n",
       "14355  [[[1.0, 1.0, 1.0], [1.0, 1.0, 1.0], [0.4450237...       7        3   \n",
       "14421  [[[0.42428628, 0.6197083, 0.94972825], [0.4242...       7        3   \n",
       "\n",
       "                         ID  \n",
       "36     2e939381a84d19cf.jpg  \n",
       "68     4e5848a4ad483009.jpg  \n",
       "70     4f1a0debe89c7641.jpg  \n",
       "99     a376fbdb67bc4a92.jpg  \n",
       "100    aac6d02aa2f222af.jpg  \n",
       "...                     ...  \n",
       "14286  f9bfe5eae7d723ce.jpg  \n",
       "14310  1e5bf6fe5e8686d6.jpg  \n",
       "14323  2e939381a84d19cf.jpg  \n",
       "14355  4e5848a4ad483009.jpg  \n",
       "14421  c8cd1751b80440c2.jpg  \n",
       "\n",
       "[472 rows x 4 columns]"
      ]
     },
     "execution_count": 47,
     "metadata": {},
     "output_type": "execute_result"
    }
   ],
   "source": [
    "qw = tst_df[(tst_df['predict'] != tst_df['target'])&(tst_df['target'] == 7)]\n",
    "qw"
   ]
  },
  {
   "cell_type": "code",
   "execution_count": 48,
   "metadata": {},
   "outputs": [
    {
     "data": {
      "text/plain": [
       "predict\n",
       "3     362\n",
       "4      41\n",
       "2      22\n",
       "13     18\n",
       "10      7\n",
       "12      6\n",
       "14      6\n",
       "16      5\n",
       "1       4\n",
       "15      1\n",
       "Name: count, dtype: int64"
      ]
     },
     "execution_count": 48,
     "metadata": {},
     "output_type": "execute_result"
    }
   ],
   "source": [
    "qw.value_counts('predict')"
   ]
  },
  {
   "cell_type": "code",
   "execution_count": 1,
   "metadata": {},
   "outputs": [],
   "source": [
    "# # target과 predict가 일치하지 않는 이미지 시각화, target별로 확인\n",
    "# check_target = 7\n",
    "# for idx in tst_df[(tst_df['predict'] != tst_df['target'])&(tst_df['target'] == check_target)].index:\n",
    "#     img, target, name, predict, image = get_item(idx)\n",
    "#     print(img.shape, name, target, predict)\n",
    "#     # plt.imshow(img) #원본 이미지\n",
    "#     # plt.show()\n",
    "#     plt.imshow(image) #학습에 사용된 이미지\n",
    "#     plt.show()\n",
    "#     # print(idx)"
   ]
  },
  {
   "cell_type": "code",
   "execution_count": 112,
   "metadata": {},
   "outputs": [
    {
     "data": {
      "text/html": [
       "<div>\n",
       "<style scoped>\n",
       "    .dataframe tbody tr th:only-of-type {\n",
       "        vertical-align: middle;\n",
       "    }\n",
       "\n",
       "    .dataframe tbody tr th {\n",
       "        vertical-align: top;\n",
       "    }\n",
       "\n",
       "    .dataframe thead th {\n",
       "        text-align: right;\n",
       "    }\n",
       "</style>\n",
       "<table border=\"1\" class=\"dataframe\">\n",
       "  <thead>\n",
       "    <tr style=\"text-align: right;\">\n",
       "      <th></th>\n",
       "      <th>img</th>\n",
       "      <th>target</th>\n",
       "      <th>predict</th>\n",
       "      <th>ID</th>\n",
       "    </tr>\n",
       "  </thead>\n",
       "  <tbody>\n",
       "    <tr>\n",
       "      <th>17</th>\n",
       "      <td>[[[-1.6555356, -1.545518, -1.4035729], [-1.724...</td>\n",
       "      <td>13</td>\n",
       "      <td>13</td>\n",
       "      <td>149c8444ae80d630.jpg</td>\n",
       "    </tr>\n",
       "    <tr>\n",
       "      <th>28</th>\n",
       "      <td>[[[1.7522904, 1.9558823, 2.1519825], [1.735165...</td>\n",
       "      <td>13</td>\n",
       "      <td>13</td>\n",
       "      <td>233685659ef1ed84.jpg</td>\n",
       "    </tr>\n",
       "    <tr>\n",
       "      <th>81</th>\n",
       "      <td>[[[0.108314015, 0.3452381, 0.56592596], [0.142...</td>\n",
       "      <td>13</td>\n",
       "      <td>13</td>\n",
       "      <td>590a4befbe2db3cc.jpg</td>\n",
       "    </tr>\n",
       "    <tr>\n",
       "      <th>83</th>\n",
       "      <td>[[[0.36518532, 0.80042017, 1.1585186], [0.3823...</td>\n",
       "      <td>13</td>\n",
       "      <td>13</td>\n",
       "      <td>5be46f4d1470b120.jpg</td>\n",
       "    </tr>\n",
       "    <tr>\n",
       "      <th>96</th>\n",
       "      <td>[[[0.8618032, 1.1330532, 1.4896731], [0.878927...</td>\n",
       "      <td>13</td>\n",
       "      <td>13</td>\n",
       "      <td>81e5282c3c19a13b.jpg</td>\n",
       "    </tr>\n",
       "    <tr>\n",
       "      <th>...</th>\n",
       "      <td>...</td>\n",
       "      <td>...</td>\n",
       "      <td>...</td>\n",
       "      <td>...</td>\n",
       "    </tr>\n",
       "    <tr>\n",
       "      <th>14368</th>\n",
       "      <td>[[[0.0, 0.80398476, 0.7526777], [0.0, 0.803984...</td>\n",
       "      <td>13</td>\n",
       "      <td>7</td>\n",
       "      <td>590a4befbe2db3cc.jpg</td>\n",
       "    </tr>\n",
       "    <tr>\n",
       "      <th>14370</th>\n",
       "      <td>[[[0.0, 0.0, 1.0], [0.0, 0.0, 1.0], [0.1174487...</td>\n",
       "      <td>13</td>\n",
       "      <td>12</td>\n",
       "      <td>5be46f4d1470b120.jpg</td>\n",
       "    </tr>\n",
       "    <tr>\n",
       "      <th>14383</th>\n",
       "      <td>[[[1.0, 1.0, 1.0], [1.0, 1.0, 1.0], [0.5157264...</td>\n",
       "      <td>13</td>\n",
       "      <td>13</td>\n",
       "      <td>81e5282c3c19a13b.jpg</td>\n",
       "    </tr>\n",
       "    <tr>\n",
       "      <th>14392</th>\n",
       "      <td>[[[0.0, 0.0, 0.0], [0.0, 0.0, 0.0], [0.0, 0.0,...</td>\n",
       "      <td>13</td>\n",
       "      <td>7</td>\n",
       "      <td>b0ab48967aaabefe.jpg</td>\n",
       "    </tr>\n",
       "    <tr>\n",
       "      <th>14429</th>\n",
       "      <td>[[[0.0, 0.0, 0.0], [0.0, 0.0, 0.0], [0.0, 0.0,...</td>\n",
       "      <td>13</td>\n",
       "      <td>13</td>\n",
       "      <td>d26e9455cfbf6083.jpg</td>\n",
       "    </tr>\n",
       "  </tbody>\n",
       "</table>\n",
       "<p>644 rows × 4 columns</p>\n",
       "</div>"
      ],
      "text/plain": [
       "                                                     img  target  predict  \\\n",
       "17     [[[-1.6555356, -1.545518, -1.4035729], [-1.724...      13       13   \n",
       "28     [[[1.7522904, 1.9558823, 2.1519825], [1.735165...      13       13   \n",
       "81     [[[0.108314015, 0.3452381, 0.56592596], [0.142...      13       13   \n",
       "83     [[[0.36518532, 0.80042017, 1.1585186], [0.3823...      13       13   \n",
       "96     [[[0.8618032, 1.1330532, 1.4896731], [0.878927...      13       13   \n",
       "...                                                  ...     ...      ...   \n",
       "14368  [[[0.0, 0.80398476, 0.7526777], [0.0, 0.803984...      13        7   \n",
       "14370  [[[0.0, 0.0, 1.0], [0.0, 0.0, 1.0], [0.1174487...      13       12   \n",
       "14383  [[[1.0, 1.0, 1.0], [1.0, 1.0, 1.0], [0.5157264...      13       13   \n",
       "14392  [[[0.0, 0.0, 0.0], [0.0, 0.0, 0.0], [0.0, 0.0,...      13        7   \n",
       "14429  [[[0.0, 0.0, 0.0], [0.0, 0.0, 0.0], [0.0, 0.0,...      13       13   \n",
       "\n",
       "                         ID  \n",
       "17     149c8444ae80d630.jpg  \n",
       "28     233685659ef1ed84.jpg  \n",
       "81     590a4befbe2db3cc.jpg  \n",
       "83     5be46f4d1470b120.jpg  \n",
       "96     81e5282c3c19a13b.jpg  \n",
       "...                     ...  \n",
       "14368  590a4befbe2db3cc.jpg  \n",
       "14370  5be46f4d1470b120.jpg  \n",
       "14383  81e5282c3c19a13b.jpg  \n",
       "14392  b0ab48967aaabefe.jpg  \n",
       "14429  d26e9455cfbf6083.jpg  \n",
       "\n",
       "[644 rows x 4 columns]"
      ]
     },
     "execution_count": 112,
     "metadata": {},
     "output_type": "execute_result"
    }
   ],
   "source": [
    "qw = tst_df[tst_df['target'] == 13]\n",
    "qw"
   ]
  },
  {
   "cell_type": "code",
   "execution_count": 111,
   "metadata": {},
   "outputs": [
    {
     "data": {
      "text/plain": [
       "126"
      ]
     },
     "execution_count": 111,
     "metadata": {},
     "output_type": "execute_result"
    }
   ],
   "source": [
    "(qw['predict'] != qw['target']).sum()"
   ]
  }
 ],
 "metadata": {
  "kernelspec": {
   "display_name": "base",
   "language": "python",
   "name": "python3"
  },
  "language_info": {
   "codemirror_mode": {
    "name": "ipython",
    "version": 3
   },
   "file_extension": ".py",
   "mimetype": "text/x-python",
   "name": "python",
   "nbconvert_exporter": "python",
   "pygments_lexer": "ipython3",
   "version": "3.10.13"
  }
 },
 "nbformat": 4,
 "nbformat_minor": 2
}
